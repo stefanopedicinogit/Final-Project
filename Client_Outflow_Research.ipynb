{
 "cells": [
  {
   "cell_type": "code",
   "execution_count": null,
   "metadata": {},
   "outputs": [],
   "source": [
    "pip install seaborn -U"
   ]
  },
  {
   "cell_type": "markdown",
   "metadata": {},
   "source": [
    "## DATA PREPROCESSING"
   ]
  },
  {
   "cell_type": "code",
   "execution_count": 1,
   "metadata": {},
   "outputs": [],
   "source": [
    "import pandas as pd\n",
    "import numpy as np\n",
    "import seaborn as sns\n",
    "from matplotlib import pyplot as plt\n",
    "%matplotlib inline \n",
    "\n",
    "contract = pd.read_csv('/datasets/final_provider/contract.csv')\n",
    "clients = pd.read_csv('/datasets/final_provider/personal.csv')\n",
    "internet = pd.read_csv('/datasets/final_provider/internet.csv')\n",
    "phone = pd.read_csv('/datasets/final_provider/phone.csv')"
   ]
  },
  {
   "cell_type": "markdown",
   "metadata": {},
   "source": [
    "### Contract df Preprocessing"
   ]
  },
  {
   "cell_type": "code",
   "execution_count": 2,
   "metadata": {},
   "outputs": [
    {
     "data": {
      "text/html": [
       "<div>\n",
       "<style scoped>\n",
       "    .dataframe tbody tr th:only-of-type {\n",
       "        vertical-align: middle;\n",
       "    }\n",
       "\n",
       "    .dataframe tbody tr th {\n",
       "        vertical-align: top;\n",
       "    }\n",
       "\n",
       "    .dataframe thead th {\n",
       "        text-align: right;\n",
       "    }\n",
       "</style>\n",
       "<table border=\"1\" class=\"dataframe\">\n",
       "  <thead>\n",
       "    <tr style=\"text-align: right;\">\n",
       "      <th></th>\n",
       "      <th>customerID</th>\n",
       "      <th>BeginDate</th>\n",
       "      <th>EndDate</th>\n",
       "      <th>Type</th>\n",
       "      <th>PaperlessBilling</th>\n",
       "      <th>PaymentMethod</th>\n",
       "      <th>MonthlyCharges</th>\n",
       "      <th>TotalCharges</th>\n",
       "    </tr>\n",
       "  </thead>\n",
       "  <tbody>\n",
       "    <tr>\n",
       "      <td>0</td>\n",
       "      <td>7590-VHVEG</td>\n",
       "      <td>2020-01-01</td>\n",
       "      <td>No</td>\n",
       "      <td>Month-to-month</td>\n",
       "      <td>Yes</td>\n",
       "      <td>Electronic check</td>\n",
       "      <td>29.85</td>\n",
       "      <td>29.85</td>\n",
       "    </tr>\n",
       "    <tr>\n",
       "      <td>1</td>\n",
       "      <td>5575-GNVDE</td>\n",
       "      <td>2017-04-01</td>\n",
       "      <td>No</td>\n",
       "      <td>One year</td>\n",
       "      <td>No</td>\n",
       "      <td>Mailed check</td>\n",
       "      <td>56.95</td>\n",
       "      <td>1889.5</td>\n",
       "    </tr>\n",
       "    <tr>\n",
       "      <td>2</td>\n",
       "      <td>3668-QPYBK</td>\n",
       "      <td>2019-10-01</td>\n",
       "      <td>2019-12-01 00:00:00</td>\n",
       "      <td>Month-to-month</td>\n",
       "      <td>Yes</td>\n",
       "      <td>Mailed check</td>\n",
       "      <td>53.85</td>\n",
       "      <td>108.15</td>\n",
       "    </tr>\n",
       "    <tr>\n",
       "      <td>3</td>\n",
       "      <td>7795-CFOCW</td>\n",
       "      <td>2016-05-01</td>\n",
       "      <td>No</td>\n",
       "      <td>One year</td>\n",
       "      <td>No</td>\n",
       "      <td>Bank transfer (automatic)</td>\n",
       "      <td>42.30</td>\n",
       "      <td>1840.75</td>\n",
       "    </tr>\n",
       "    <tr>\n",
       "      <td>4</td>\n",
       "      <td>9237-HQITU</td>\n",
       "      <td>2019-09-01</td>\n",
       "      <td>2019-11-01 00:00:00</td>\n",
       "      <td>Month-to-month</td>\n",
       "      <td>Yes</td>\n",
       "      <td>Electronic check</td>\n",
       "      <td>70.70</td>\n",
       "      <td>151.65</td>\n",
       "    </tr>\n",
       "    <tr>\n",
       "      <td>...</td>\n",
       "      <td>...</td>\n",
       "      <td>...</td>\n",
       "      <td>...</td>\n",
       "      <td>...</td>\n",
       "      <td>...</td>\n",
       "      <td>...</td>\n",
       "      <td>...</td>\n",
       "      <td>...</td>\n",
       "    </tr>\n",
       "    <tr>\n",
       "      <td>7038</td>\n",
       "      <td>6840-RESVB</td>\n",
       "      <td>2018-02-01</td>\n",
       "      <td>No</td>\n",
       "      <td>One year</td>\n",
       "      <td>Yes</td>\n",
       "      <td>Mailed check</td>\n",
       "      <td>84.80</td>\n",
       "      <td>1990.5</td>\n",
       "    </tr>\n",
       "    <tr>\n",
       "      <td>7039</td>\n",
       "      <td>2234-XADUH</td>\n",
       "      <td>2014-02-01</td>\n",
       "      <td>No</td>\n",
       "      <td>One year</td>\n",
       "      <td>Yes</td>\n",
       "      <td>Credit card (automatic)</td>\n",
       "      <td>103.20</td>\n",
       "      <td>7362.9</td>\n",
       "    </tr>\n",
       "    <tr>\n",
       "      <td>7040</td>\n",
       "      <td>4801-JZAZL</td>\n",
       "      <td>2019-03-01</td>\n",
       "      <td>No</td>\n",
       "      <td>Month-to-month</td>\n",
       "      <td>Yes</td>\n",
       "      <td>Electronic check</td>\n",
       "      <td>29.60</td>\n",
       "      <td>346.45</td>\n",
       "    </tr>\n",
       "    <tr>\n",
       "      <td>7041</td>\n",
       "      <td>8361-LTMKD</td>\n",
       "      <td>2019-07-01</td>\n",
       "      <td>2019-11-01 00:00:00</td>\n",
       "      <td>Month-to-month</td>\n",
       "      <td>Yes</td>\n",
       "      <td>Mailed check</td>\n",
       "      <td>74.40</td>\n",
       "      <td>306.6</td>\n",
       "    </tr>\n",
       "    <tr>\n",
       "      <td>7042</td>\n",
       "      <td>3186-AJIEK</td>\n",
       "      <td>2014-08-01</td>\n",
       "      <td>No</td>\n",
       "      <td>Two year</td>\n",
       "      <td>Yes</td>\n",
       "      <td>Bank transfer (automatic)</td>\n",
       "      <td>105.65</td>\n",
       "      <td>6844.5</td>\n",
       "    </tr>\n",
       "  </tbody>\n",
       "</table>\n",
       "<p>7043 rows × 8 columns</p>\n",
       "</div>"
      ],
      "text/plain": [
       "      customerID   BeginDate              EndDate            Type  \\\n",
       "0     7590-VHVEG  2020-01-01                   No  Month-to-month   \n",
       "1     5575-GNVDE  2017-04-01                   No        One year   \n",
       "2     3668-QPYBK  2019-10-01  2019-12-01 00:00:00  Month-to-month   \n",
       "3     7795-CFOCW  2016-05-01                   No        One year   \n",
       "4     9237-HQITU  2019-09-01  2019-11-01 00:00:00  Month-to-month   \n",
       "...          ...         ...                  ...             ...   \n",
       "7038  6840-RESVB  2018-02-01                   No        One year   \n",
       "7039  2234-XADUH  2014-02-01                   No        One year   \n",
       "7040  4801-JZAZL  2019-03-01                   No  Month-to-month   \n",
       "7041  8361-LTMKD  2019-07-01  2019-11-01 00:00:00  Month-to-month   \n",
       "7042  3186-AJIEK  2014-08-01                   No        Two year   \n",
       "\n",
       "     PaperlessBilling              PaymentMethod  MonthlyCharges TotalCharges  \n",
       "0                 Yes           Electronic check           29.85        29.85  \n",
       "1                  No               Mailed check           56.95       1889.5  \n",
       "2                 Yes               Mailed check           53.85       108.15  \n",
       "3                  No  Bank transfer (automatic)           42.30      1840.75  \n",
       "4                 Yes           Electronic check           70.70       151.65  \n",
       "...               ...                        ...             ...          ...  \n",
       "7038              Yes               Mailed check           84.80       1990.5  \n",
       "7039              Yes    Credit card (automatic)          103.20       7362.9  \n",
       "7040              Yes           Electronic check           29.60       346.45  \n",
       "7041              Yes               Mailed check           74.40        306.6  \n",
       "7042              Yes  Bank transfer (automatic)          105.65       6844.5  \n",
       "\n",
       "[7043 rows x 8 columns]"
      ]
     },
     "metadata": {},
     "output_type": "display_data"
    }
   ],
   "source": [
    "display(contract)"
   ]
  },
  {
   "cell_type": "code",
   "execution_count": 3,
   "metadata": {},
   "outputs": [
    {
     "name": "stdout",
     "output_type": "stream",
     "text": [
      "<class 'pandas.core.frame.DataFrame'>\n",
      "RangeIndex: 7043 entries, 0 to 7042\n",
      "Data columns (total 8 columns):\n",
      "customer_id          7043 non-null object\n",
      "begin_date           7043 non-null object\n",
      "end_date             7043 non-null object\n",
      "type                 7043 non-null object\n",
      "paperless_billing    7043 non-null object\n",
      "payment_method       7043 non-null object\n",
      "monthly_charges      7043 non-null float64\n",
      "total_charges        7043 non-null object\n",
      "dtypes: float64(1), object(7)\n",
      "memory usage: 440.3+ KB\n"
     ]
    }
   ],
   "source": [
    "contract.rename(columns={\"customerID\": \"customer_id\", \"BeginDate\": \"begin_date\", \"EndDate\": \"end_date\",\\\n",
    "                         \"Type\":\"type\", \"PaperlessBilling\":\"paperless_billing\", \"PaymentMethod\":\"paperless_billing\",\\\n",
    "                        \"PaymentMethod\":\"payment_method\",\"MonthlyCharges\":\"monthly_charges\",\"TotalCharges\":\"total_charges\"},\\\n",
    "               inplace=True)\n",
    "\n",
    "contract.info()"
   ]
  },
  {
   "cell_type": "code",
   "execution_count": 4,
   "metadata": {},
   "outputs": [
    {
     "name": "stdout",
     "output_type": "stream",
     "text": [
      "contract NaNs: 0\n",
      "contract duplicates: 0\n"
     ]
    }
   ],
   "source": [
    "#Checking for NaNs in contract.\n",
    "print('contract NaNs:', contract.isna().sum().sum())\n",
    "#Checking for duplicates in contract.\n",
    "print('contract duplicates:', contract.duplicated().sum())"
   ]
  },
  {
   "cell_type": "code",
   "execution_count": 5,
   "metadata": {},
   "outputs": [
    {
     "name": "stdout",
     "output_type": "stream",
     "text": [
      "The columns in the dataset contract.csv are: Index(['customer_id', 'begin_date', 'end_date', 'type', 'paperless_billing',\n",
      "       'payment_method', 'monthly_charges', 'total_charges'],\n",
      "      dtype='object')\n",
      "\n",
      "The types of the columns in the dataset contract.csv are:\n",
      "customer_id           object\n",
      "begin_date            object\n",
      "end_date              object\n",
      "type                  object\n",
      "paperless_billing     object\n",
      "payment_method        object\n",
      "monthly_charges      float64\n",
      "total_charges         object\n",
      "dtype: object\n",
      "\n",
      "The describe method of the dataset contract.csv is:\n",
      "\n",
      "       monthly_charges\n",
      "count      7043.000000\n",
      "mean         64.761692\n",
      "std          30.090047\n",
      "min          18.250000\n",
      "25%          35.500000\n",
      "50%          70.350000\n",
      "75%          89.850000\n",
      "max         118.750000\n"
     ]
    }
   ],
   "source": [
    "# Further information on contract df\n",
    "print('The columns in the dataset contract.csv are:', contract.columns)\n",
    "print('')\n",
    "print('The types of the columns in the dataset contract.csv are:')\n",
    "print(contract.dtypes)\n",
    "print('')\n",
    "print('The describe method of the dataset contract.csv is:')\n",
    "print('')\n",
    "print(contract.describe())"
   ]
  },
  {
   "cell_type": "code",
   "execution_count": 6,
   "metadata": {},
   "outputs": [],
   "source": [
    "#Changing begin_date type.\n",
    "contract.begin_date = pd.to_datetime(contract.begin_date)"
   ]
  },
  {
   "cell_type": "code",
   "execution_count": 7,
   "metadata": {},
   "outputs": [],
   "source": [
    "#Transforming in total_charges column all the empty values (\" \") to zeros.\n",
    "contract.loc[contract.total_charges == \" \" , 'total_charges'] = 0.00"
   ]
  },
  {
   "cell_type": "code",
   "execution_count": 8,
   "metadata": {},
   "outputs": [],
   "source": [
    "#Changing total_charges type to floating points.\n",
    "contract.total_charges = pd.to_numeric(contract.total_charges, downcast='float')\n",
    "contract.monthly_charges = contract.monthly_charges.astype('float32')"
   ]
  },
  {
   "cell_type": "code",
   "execution_count": 9,
   "metadata": {},
   "outputs": [
    {
     "name": "stdout",
     "output_type": "stream",
     "text": [
      "total_charges mean 2279.7344\n",
      "total_charges median 1394.55\n"
     ]
    }
   ],
   "source": [
    "print('total_charges mean', contract.total_charges.mean())\n",
    "print('total_charges median', contract.total_charges.median())"
   ]
  },
  {
   "cell_type": "markdown",
   "metadata": {},
   "source": [
    "### Clients df Preprocessing"
   ]
  },
  {
   "cell_type": "code",
   "execution_count": 10,
   "metadata": {},
   "outputs": [
    {
     "data": {
      "text/html": [
       "<div>\n",
       "<style scoped>\n",
       "    .dataframe tbody tr th:only-of-type {\n",
       "        vertical-align: middle;\n",
       "    }\n",
       "\n",
       "    .dataframe tbody tr th {\n",
       "        vertical-align: top;\n",
       "    }\n",
       "\n",
       "    .dataframe thead th {\n",
       "        text-align: right;\n",
       "    }\n",
       "</style>\n",
       "<table border=\"1\" class=\"dataframe\">\n",
       "  <thead>\n",
       "    <tr style=\"text-align: right;\">\n",
       "      <th></th>\n",
       "      <th>customerID</th>\n",
       "      <th>gender</th>\n",
       "      <th>SeniorCitizen</th>\n",
       "      <th>Partner</th>\n",
       "      <th>Dependents</th>\n",
       "    </tr>\n",
       "  </thead>\n",
       "  <tbody>\n",
       "    <tr>\n",
       "      <td>0</td>\n",
       "      <td>7590-VHVEG</td>\n",
       "      <td>Female</td>\n",
       "      <td>0</td>\n",
       "      <td>Yes</td>\n",
       "      <td>No</td>\n",
       "    </tr>\n",
       "    <tr>\n",
       "      <td>1</td>\n",
       "      <td>5575-GNVDE</td>\n",
       "      <td>Male</td>\n",
       "      <td>0</td>\n",
       "      <td>No</td>\n",
       "      <td>No</td>\n",
       "    </tr>\n",
       "    <tr>\n",
       "      <td>2</td>\n",
       "      <td>3668-QPYBK</td>\n",
       "      <td>Male</td>\n",
       "      <td>0</td>\n",
       "      <td>No</td>\n",
       "      <td>No</td>\n",
       "    </tr>\n",
       "    <tr>\n",
       "      <td>3</td>\n",
       "      <td>7795-CFOCW</td>\n",
       "      <td>Male</td>\n",
       "      <td>0</td>\n",
       "      <td>No</td>\n",
       "      <td>No</td>\n",
       "    </tr>\n",
       "    <tr>\n",
       "      <td>4</td>\n",
       "      <td>9237-HQITU</td>\n",
       "      <td>Female</td>\n",
       "      <td>0</td>\n",
       "      <td>No</td>\n",
       "      <td>No</td>\n",
       "    </tr>\n",
       "    <tr>\n",
       "      <td>...</td>\n",
       "      <td>...</td>\n",
       "      <td>...</td>\n",
       "      <td>...</td>\n",
       "      <td>...</td>\n",
       "      <td>...</td>\n",
       "    </tr>\n",
       "    <tr>\n",
       "      <td>7038</td>\n",
       "      <td>6840-RESVB</td>\n",
       "      <td>Male</td>\n",
       "      <td>0</td>\n",
       "      <td>Yes</td>\n",
       "      <td>Yes</td>\n",
       "    </tr>\n",
       "    <tr>\n",
       "      <td>7039</td>\n",
       "      <td>2234-XADUH</td>\n",
       "      <td>Female</td>\n",
       "      <td>0</td>\n",
       "      <td>Yes</td>\n",
       "      <td>Yes</td>\n",
       "    </tr>\n",
       "    <tr>\n",
       "      <td>7040</td>\n",
       "      <td>4801-JZAZL</td>\n",
       "      <td>Female</td>\n",
       "      <td>0</td>\n",
       "      <td>Yes</td>\n",
       "      <td>Yes</td>\n",
       "    </tr>\n",
       "    <tr>\n",
       "      <td>7041</td>\n",
       "      <td>8361-LTMKD</td>\n",
       "      <td>Male</td>\n",
       "      <td>1</td>\n",
       "      <td>Yes</td>\n",
       "      <td>No</td>\n",
       "    </tr>\n",
       "    <tr>\n",
       "      <td>7042</td>\n",
       "      <td>3186-AJIEK</td>\n",
       "      <td>Male</td>\n",
       "      <td>0</td>\n",
       "      <td>No</td>\n",
       "      <td>No</td>\n",
       "    </tr>\n",
       "  </tbody>\n",
       "</table>\n",
       "<p>7043 rows × 5 columns</p>\n",
       "</div>"
      ],
      "text/plain": [
       "      customerID  gender  SeniorCitizen Partner Dependents\n",
       "0     7590-VHVEG  Female              0     Yes         No\n",
       "1     5575-GNVDE    Male              0      No         No\n",
       "2     3668-QPYBK    Male              0      No         No\n",
       "3     7795-CFOCW    Male              0      No         No\n",
       "4     9237-HQITU  Female              0      No         No\n",
       "...          ...     ...            ...     ...        ...\n",
       "7038  6840-RESVB    Male              0     Yes        Yes\n",
       "7039  2234-XADUH  Female              0     Yes        Yes\n",
       "7040  4801-JZAZL  Female              0     Yes        Yes\n",
       "7041  8361-LTMKD    Male              1     Yes         No\n",
       "7042  3186-AJIEK    Male              0      No         No\n",
       "\n",
       "[7043 rows x 5 columns]"
      ]
     },
     "metadata": {},
     "output_type": "display_data"
    }
   ],
   "source": [
    "display(clients)"
   ]
  },
  {
   "cell_type": "code",
   "execution_count": 11,
   "metadata": {},
   "outputs": [
    {
     "name": "stdout",
     "output_type": "stream",
     "text": [
      "<class 'pandas.core.frame.DataFrame'>\n",
      "RangeIndex: 7043 entries, 0 to 7042\n",
      "Data columns (total 5 columns):\n",
      "customer_id       7043 non-null object\n",
      "gender            7043 non-null object\n",
      "senior_citizen    7043 non-null int64\n",
      "partner           7043 non-null object\n",
      "dependents        7043 non-null object\n",
      "dtypes: int64(1), object(4)\n",
      "memory usage: 275.2+ KB\n"
     ]
    }
   ],
   "source": [
    "clients.rename(columns={\"customerID\": \"customer_id\",\"SeniorCitizen\":\"senior_citizen\", \"Partner\":\"partner\",\\\n",
    "                       \"Dependents\":\"dependents\"}, inplace=True)\n",
    "clients.info()"
   ]
  },
  {
   "cell_type": "code",
   "execution_count": 12,
   "metadata": {},
   "outputs": [
    {
     "name": "stdout",
     "output_type": "stream",
     "text": [
      "clients NaNs: 0\n",
      "clients duplicates: 0\n"
     ]
    }
   ],
   "source": [
    "#Checking for NaNs in clients.\n",
    "print('clients NaNs:', clients.isna().sum().sum())\n",
    "#Checking for duplicates in clients.\n",
    "print('clients duplicates:', clients.duplicated().sum())"
   ]
  },
  {
   "cell_type": "code",
   "execution_count": 13,
   "metadata": {},
   "outputs": [
    {
     "name": "stdout",
     "output_type": "stream",
     "text": [
      "Male      3555\n",
      "Female    3488\n",
      "Name: gender, dtype: int64\n",
      "\n",
      "Male      0.504756\n",
      "Female    0.495244\n",
      "Name: gender, dtype: float64\n"
     ]
    }
   ],
   "source": [
    "#Analyzing gender column.\n",
    "print(clients.gender.value_counts())\n",
    "print()\n",
    "print(clients.gender.value_counts(normalize=True))"
   ]
  },
  {
   "cell_type": "code",
   "execution_count": 14,
   "metadata": {},
   "outputs": [
    {
     "name": "stdout",
     "output_type": "stream",
     "text": [
      "0    5901\n",
      "1    1142\n",
      "Name: senior_citizen, dtype: int64\n",
      "\n",
      "0    0.837853\n",
      "1    0.162147\n",
      "Name: senior_citizen, dtype: float64\n"
     ]
    }
   ],
   "source": [
    "#Analyzing senior_citizen column.\n",
    "print(clients.senior_citizen.value_counts())\n",
    "print()\n",
    "print(clients.senior_citizen.value_counts(normalize=True))"
   ]
  },
  {
   "cell_type": "code",
   "execution_count": 15,
   "metadata": {},
   "outputs": [
    {
     "name": "stdout",
     "output_type": "stream",
     "text": [
      "No     3641\n",
      "Yes    3402\n",
      "Name: partner, dtype: int64\n",
      "\n",
      "No     0.516967\n",
      "Yes    0.483033\n",
      "Name: partner, dtype: float64\n"
     ]
    }
   ],
   "source": [
    "#Analyzing partner column.\n",
    "print(clients.partner.value_counts())\n",
    "print()\n",
    "print(clients.partner.value_counts(normalize=True))"
   ]
  },
  {
   "cell_type": "code",
   "execution_count": 16,
   "metadata": {},
   "outputs": [
    {
     "name": "stdout",
     "output_type": "stream",
     "text": [
      "No     4933\n",
      "Yes    2110\n",
      "Name: dependents, dtype: int64\n",
      "\n",
      "No     0.700412\n",
      "Yes    0.299588\n",
      "Name: dependents, dtype: float64\n"
     ]
    }
   ],
   "source": [
    "#Analyzing dependents column.\n",
    "print(clients.dependents.value_counts())\n",
    "print()\n",
    "print(clients.dependents.value_counts(normalize=True))"
   ]
  },
  {
   "cell_type": "markdown",
   "metadata": {},
   "source": [
    "### Internet df preprocessing"
   ]
  },
  {
   "cell_type": "code",
   "execution_count": 17,
   "metadata": {},
   "outputs": [
    {
     "data": {
      "text/html": [
       "<div>\n",
       "<style scoped>\n",
       "    .dataframe tbody tr th:only-of-type {\n",
       "        vertical-align: middle;\n",
       "    }\n",
       "\n",
       "    .dataframe tbody tr th {\n",
       "        vertical-align: top;\n",
       "    }\n",
       "\n",
       "    .dataframe thead th {\n",
       "        text-align: right;\n",
       "    }\n",
       "</style>\n",
       "<table border=\"1\" class=\"dataframe\">\n",
       "  <thead>\n",
       "    <tr style=\"text-align: right;\">\n",
       "      <th></th>\n",
       "      <th>customerID</th>\n",
       "      <th>InternetService</th>\n",
       "      <th>OnlineSecurity</th>\n",
       "      <th>OnlineBackup</th>\n",
       "      <th>DeviceProtection</th>\n",
       "      <th>TechSupport</th>\n",
       "      <th>StreamingTV</th>\n",
       "      <th>StreamingMovies</th>\n",
       "    </tr>\n",
       "  </thead>\n",
       "  <tbody>\n",
       "    <tr>\n",
       "      <td>0</td>\n",
       "      <td>7590-VHVEG</td>\n",
       "      <td>DSL</td>\n",
       "      <td>No</td>\n",
       "      <td>Yes</td>\n",
       "      <td>No</td>\n",
       "      <td>No</td>\n",
       "      <td>No</td>\n",
       "      <td>No</td>\n",
       "    </tr>\n",
       "    <tr>\n",
       "      <td>1</td>\n",
       "      <td>5575-GNVDE</td>\n",
       "      <td>DSL</td>\n",
       "      <td>Yes</td>\n",
       "      <td>No</td>\n",
       "      <td>Yes</td>\n",
       "      <td>No</td>\n",
       "      <td>No</td>\n",
       "      <td>No</td>\n",
       "    </tr>\n",
       "    <tr>\n",
       "      <td>2</td>\n",
       "      <td>3668-QPYBK</td>\n",
       "      <td>DSL</td>\n",
       "      <td>Yes</td>\n",
       "      <td>Yes</td>\n",
       "      <td>No</td>\n",
       "      <td>No</td>\n",
       "      <td>No</td>\n",
       "      <td>No</td>\n",
       "    </tr>\n",
       "    <tr>\n",
       "      <td>3</td>\n",
       "      <td>7795-CFOCW</td>\n",
       "      <td>DSL</td>\n",
       "      <td>Yes</td>\n",
       "      <td>No</td>\n",
       "      <td>Yes</td>\n",
       "      <td>Yes</td>\n",
       "      <td>No</td>\n",
       "      <td>No</td>\n",
       "    </tr>\n",
       "    <tr>\n",
       "      <td>4</td>\n",
       "      <td>9237-HQITU</td>\n",
       "      <td>Fiber optic</td>\n",
       "      <td>No</td>\n",
       "      <td>No</td>\n",
       "      <td>No</td>\n",
       "      <td>No</td>\n",
       "      <td>No</td>\n",
       "      <td>No</td>\n",
       "    </tr>\n",
       "    <tr>\n",
       "      <td>...</td>\n",
       "      <td>...</td>\n",
       "      <td>...</td>\n",
       "      <td>...</td>\n",
       "      <td>...</td>\n",
       "      <td>...</td>\n",
       "      <td>...</td>\n",
       "      <td>...</td>\n",
       "      <td>...</td>\n",
       "    </tr>\n",
       "    <tr>\n",
       "      <td>5512</td>\n",
       "      <td>6840-RESVB</td>\n",
       "      <td>DSL</td>\n",
       "      <td>Yes</td>\n",
       "      <td>No</td>\n",
       "      <td>Yes</td>\n",
       "      <td>Yes</td>\n",
       "      <td>Yes</td>\n",
       "      <td>Yes</td>\n",
       "    </tr>\n",
       "    <tr>\n",
       "      <td>5513</td>\n",
       "      <td>2234-XADUH</td>\n",
       "      <td>Fiber optic</td>\n",
       "      <td>No</td>\n",
       "      <td>Yes</td>\n",
       "      <td>Yes</td>\n",
       "      <td>No</td>\n",
       "      <td>Yes</td>\n",
       "      <td>Yes</td>\n",
       "    </tr>\n",
       "    <tr>\n",
       "      <td>5514</td>\n",
       "      <td>4801-JZAZL</td>\n",
       "      <td>DSL</td>\n",
       "      <td>Yes</td>\n",
       "      <td>No</td>\n",
       "      <td>No</td>\n",
       "      <td>No</td>\n",
       "      <td>No</td>\n",
       "      <td>No</td>\n",
       "    </tr>\n",
       "    <tr>\n",
       "      <td>5515</td>\n",
       "      <td>8361-LTMKD</td>\n",
       "      <td>Fiber optic</td>\n",
       "      <td>No</td>\n",
       "      <td>No</td>\n",
       "      <td>No</td>\n",
       "      <td>No</td>\n",
       "      <td>No</td>\n",
       "      <td>No</td>\n",
       "    </tr>\n",
       "    <tr>\n",
       "      <td>5516</td>\n",
       "      <td>3186-AJIEK</td>\n",
       "      <td>Fiber optic</td>\n",
       "      <td>Yes</td>\n",
       "      <td>No</td>\n",
       "      <td>Yes</td>\n",
       "      <td>Yes</td>\n",
       "      <td>Yes</td>\n",
       "      <td>Yes</td>\n",
       "    </tr>\n",
       "  </tbody>\n",
       "</table>\n",
       "<p>5517 rows × 8 columns</p>\n",
       "</div>"
      ],
      "text/plain": [
       "      customerID InternetService OnlineSecurity OnlineBackup DeviceProtection  \\\n",
       "0     7590-VHVEG             DSL             No          Yes               No   \n",
       "1     5575-GNVDE             DSL            Yes           No              Yes   \n",
       "2     3668-QPYBK             DSL            Yes          Yes               No   \n",
       "3     7795-CFOCW             DSL            Yes           No              Yes   \n",
       "4     9237-HQITU     Fiber optic             No           No               No   \n",
       "...          ...             ...            ...          ...              ...   \n",
       "5512  6840-RESVB             DSL            Yes           No              Yes   \n",
       "5513  2234-XADUH     Fiber optic             No          Yes              Yes   \n",
       "5514  4801-JZAZL             DSL            Yes           No               No   \n",
       "5515  8361-LTMKD     Fiber optic             No           No               No   \n",
       "5516  3186-AJIEK     Fiber optic            Yes           No              Yes   \n",
       "\n",
       "     TechSupport StreamingTV StreamingMovies  \n",
       "0             No          No              No  \n",
       "1             No          No              No  \n",
       "2             No          No              No  \n",
       "3            Yes          No              No  \n",
       "4             No          No              No  \n",
       "...          ...         ...             ...  \n",
       "5512         Yes         Yes             Yes  \n",
       "5513          No         Yes             Yes  \n",
       "5514          No          No              No  \n",
       "5515          No          No              No  \n",
       "5516         Yes         Yes             Yes  \n",
       "\n",
       "[5517 rows x 8 columns]"
      ]
     },
     "metadata": {},
     "output_type": "display_data"
    }
   ],
   "source": [
    "display(internet)"
   ]
  },
  {
   "cell_type": "code",
   "execution_count": 18,
   "metadata": {},
   "outputs": [
    {
     "name": "stdout",
     "output_type": "stream",
     "text": [
      "<class 'pandas.core.frame.DataFrame'>\n",
      "RangeIndex: 5517 entries, 0 to 5516\n",
      "Data columns (total 8 columns):\n",
      "customer_id          5517 non-null object\n",
      "internet_service     5517 non-null object\n",
      "online_security      5517 non-null object\n",
      "online_backup        5517 non-null object\n",
      "device_protection    5517 non-null object\n",
      "tech_support         5517 non-null object\n",
      "streaming_tv         5517 non-null object\n",
      "streaming_movies     5517 non-null object\n",
      "dtypes: object(8)\n",
      "memory usage: 344.9+ KB\n"
     ]
    }
   ],
   "source": [
    "internet.rename(columns={\"customerID\": \"customer_id\", \"InternetService\":\"internet_service\",\"OnlineSecurity\":\"online_security\",\\\n",
    "                        \"OnlineBackup\":\"online_backup\",\"DeviceProtection\":\"device_protection\",\"TechSupport\":\"tech_support\",\\\n",
    "                        \"StreamingTV\":\"streaming_tv\",\"StreamingMovies\":\"streaming_movies\"}, inplace=True)\n",
    "internet.info()"
   ]
  },
  {
   "cell_type": "code",
   "execution_count": 19,
   "metadata": {},
   "outputs": [
    {
     "name": "stdout",
     "output_type": "stream",
     "text": [
      "internet NaNs: 0\n",
      "internet duplicates: 0\n"
     ]
    }
   ],
   "source": [
    "#Checking for NaNs in internet.\n",
    "print('internet NaNs:', internet.isna().sum().sum())\n",
    "#Checking for duplicates in internet.\n",
    "print('internet duplicates:', internet.duplicated().sum())"
   ]
  },
  {
   "cell_type": "code",
   "execution_count": 20,
   "metadata": {},
   "outputs": [
    {
     "name": "stdout",
     "output_type": "stream",
     "text": [
      "Fiber optic    3096\n",
      "DSL            2421\n",
      "Name: internet_service, dtype: int64\n",
      "\n",
      "Fiber optic    0.561175\n",
      "DSL            0.438825\n",
      "Name: internet_service, dtype: float64\n"
     ]
    }
   ],
   "source": [
    "#Analyzing internet_service column.\n",
    "print(internet.internet_service.value_counts())\n",
    "print()\n",
    "print(internet.internet_service.value_counts(normalize=True))"
   ]
  },
  {
   "cell_type": "code",
   "execution_count": 21,
   "metadata": {},
   "outputs": [
    {
     "name": "stdout",
     "output_type": "stream",
     "text": [
      "No     3498\n",
      "Yes    2019\n",
      "Name: online_security, dtype: int64\n",
      "\n",
      "No     0.63404\n",
      "Yes    0.36596\n",
      "Name: online_security, dtype: float64\n"
     ]
    }
   ],
   "source": [
    "#Analyzing online_security column.\n",
    "print(internet.online_security.value_counts())\n",
    "print()\n",
    "print(internet.online_security.value_counts(normalize=True))"
   ]
  },
  {
   "cell_type": "code",
   "execution_count": 22,
   "metadata": {},
   "outputs": [
    {
     "name": "stdout",
     "output_type": "stream",
     "text": [
      "No     3088\n",
      "Yes    2429\n",
      "Name: online_backup, dtype: int64\n",
      "\n",
      "No     0.559724\n",
      "Yes    0.440276\n",
      "Name: online_backup, dtype: float64\n"
     ]
    }
   ],
   "source": [
    "#Analyzing online_backup column.\n",
    "print(internet.online_backup.value_counts())\n",
    "print()\n",
    "print(internet.online_backup.value_counts(normalize=True))"
   ]
  },
  {
   "cell_type": "code",
   "execution_count": 23,
   "metadata": {},
   "outputs": [
    {
     "name": "stdout",
     "output_type": "stream",
     "text": [
      "No     3095\n",
      "Yes    2422\n",
      "Name: device_protection, dtype: int64\n",
      "\n",
      "No     0.560993\n",
      "Yes    0.439007\n",
      "Name: device_protection, dtype: float64\n"
     ]
    }
   ],
   "source": [
    "#Analyzing device_protection column.\n",
    "print(internet.device_protection.value_counts())\n",
    "print()\n",
    "print(internet.device_protection.value_counts(normalize=True))"
   ]
  },
  {
   "cell_type": "code",
   "execution_count": 24,
   "metadata": {},
   "outputs": [
    {
     "name": "stdout",
     "output_type": "stream",
     "text": [
      "No     3473\n",
      "Yes    2044\n",
      "Name: tech_support, dtype: int64\n",
      "\n",
      "No     0.629509\n",
      "Yes    0.370491\n",
      "Name: tech_support, dtype: float64\n"
     ]
    }
   ],
   "source": [
    "#Analyzing tech_support column.\n",
    "print(internet.tech_support.value_counts())\n",
    "print()\n",
    "print(internet.tech_support.value_counts(normalize=True))"
   ]
  },
  {
   "cell_type": "code",
   "execution_count": 25,
   "metadata": {},
   "outputs": [
    {
     "name": "stdout",
     "output_type": "stream",
     "text": [
      "No     2810\n",
      "Yes    2707\n",
      "Name: streaming_tv, dtype: int64\n",
      "\n",
      "No     0.509335\n",
      "Yes    0.490665\n",
      "Name: streaming_tv, dtype: float64\n"
     ]
    }
   ],
   "source": [
    "#Analyzing streaming_tv column.\n",
    "print(internet.streaming_tv.value_counts())\n",
    "print()\n",
    "print(internet.streaming_tv.value_counts(normalize=True))"
   ]
  },
  {
   "cell_type": "code",
   "execution_count": 26,
   "metadata": {},
   "outputs": [
    {
     "name": "stdout",
     "output_type": "stream",
     "text": [
      "No     2785\n",
      "Yes    2732\n",
      "Name: streaming_movies, dtype: int64\n",
      "\n",
      "No     0.504803\n",
      "Yes    0.495197\n",
      "Name: streaming_movies, dtype: float64\n"
     ]
    }
   ],
   "source": [
    "#Analyzing streaming_movies column.\n",
    "print(internet.streaming_movies.value_counts())\n",
    "print()\n",
    "print(internet.streaming_movies.value_counts(normalize=True))"
   ]
  },
  {
   "cell_type": "markdown",
   "metadata": {},
   "source": [
    "### Phone df preprocessing"
   ]
  },
  {
   "cell_type": "code",
   "execution_count": 27,
   "metadata": {},
   "outputs": [
    {
     "data": {
      "text/html": [
       "<div>\n",
       "<style scoped>\n",
       "    .dataframe tbody tr th:only-of-type {\n",
       "        vertical-align: middle;\n",
       "    }\n",
       "\n",
       "    .dataframe tbody tr th {\n",
       "        vertical-align: top;\n",
       "    }\n",
       "\n",
       "    .dataframe thead th {\n",
       "        text-align: right;\n",
       "    }\n",
       "</style>\n",
       "<table border=\"1\" class=\"dataframe\">\n",
       "  <thead>\n",
       "    <tr style=\"text-align: right;\">\n",
       "      <th></th>\n",
       "      <th>customerID</th>\n",
       "      <th>MultipleLines</th>\n",
       "    </tr>\n",
       "  </thead>\n",
       "  <tbody>\n",
       "    <tr>\n",
       "      <td>0</td>\n",
       "      <td>5575-GNVDE</td>\n",
       "      <td>No</td>\n",
       "    </tr>\n",
       "    <tr>\n",
       "      <td>1</td>\n",
       "      <td>3668-QPYBK</td>\n",
       "      <td>No</td>\n",
       "    </tr>\n",
       "    <tr>\n",
       "      <td>2</td>\n",
       "      <td>9237-HQITU</td>\n",
       "      <td>No</td>\n",
       "    </tr>\n",
       "    <tr>\n",
       "      <td>3</td>\n",
       "      <td>9305-CDSKC</td>\n",
       "      <td>Yes</td>\n",
       "    </tr>\n",
       "    <tr>\n",
       "      <td>4</td>\n",
       "      <td>1452-KIOVK</td>\n",
       "      <td>Yes</td>\n",
       "    </tr>\n",
       "    <tr>\n",
       "      <td>...</td>\n",
       "      <td>...</td>\n",
       "      <td>...</td>\n",
       "    </tr>\n",
       "    <tr>\n",
       "      <td>6356</td>\n",
       "      <td>2569-WGERO</td>\n",
       "      <td>No</td>\n",
       "    </tr>\n",
       "    <tr>\n",
       "      <td>6357</td>\n",
       "      <td>6840-RESVB</td>\n",
       "      <td>Yes</td>\n",
       "    </tr>\n",
       "    <tr>\n",
       "      <td>6358</td>\n",
       "      <td>2234-XADUH</td>\n",
       "      <td>Yes</td>\n",
       "    </tr>\n",
       "    <tr>\n",
       "      <td>6359</td>\n",
       "      <td>8361-LTMKD</td>\n",
       "      <td>Yes</td>\n",
       "    </tr>\n",
       "    <tr>\n",
       "      <td>6360</td>\n",
       "      <td>3186-AJIEK</td>\n",
       "      <td>No</td>\n",
       "    </tr>\n",
       "  </tbody>\n",
       "</table>\n",
       "<p>6361 rows × 2 columns</p>\n",
       "</div>"
      ],
      "text/plain": [
       "      customerID MultipleLines\n",
       "0     5575-GNVDE            No\n",
       "1     3668-QPYBK            No\n",
       "2     9237-HQITU            No\n",
       "3     9305-CDSKC           Yes\n",
       "4     1452-KIOVK           Yes\n",
       "...          ...           ...\n",
       "6356  2569-WGERO            No\n",
       "6357  6840-RESVB           Yes\n",
       "6358  2234-XADUH           Yes\n",
       "6359  8361-LTMKD           Yes\n",
       "6360  3186-AJIEK            No\n",
       "\n",
       "[6361 rows x 2 columns]"
      ]
     },
     "metadata": {},
     "output_type": "display_data"
    }
   ],
   "source": [
    "display(phone)"
   ]
  },
  {
   "cell_type": "code",
   "execution_count": 28,
   "metadata": {},
   "outputs": [
    {
     "name": "stdout",
     "output_type": "stream",
     "text": [
      "<class 'pandas.core.frame.DataFrame'>\n",
      "RangeIndex: 6361 entries, 0 to 6360\n",
      "Data columns (total 2 columns):\n",
      "customer_id       6361 non-null object\n",
      "multiple_lines    6361 non-null object\n",
      "dtypes: object(2)\n",
      "memory usage: 99.5+ KB\n"
     ]
    }
   ],
   "source": [
    "phone.rename(columns={\"customerID\": \"customer_id\", \"MultipleLines\":\"multiple_lines\"}, inplace=True)\n",
    "\n",
    "phone.info()"
   ]
  },
  {
   "cell_type": "code",
   "execution_count": 29,
   "metadata": {},
   "outputs": [
    {
     "name": "stdout",
     "output_type": "stream",
     "text": [
      "phone NaNs: 0\n",
      "phone duplicates: 0\n"
     ]
    }
   ],
   "source": [
    "#Checking for NaNs in phone.\n",
    "print('phone NaNs:', phone.isna().sum().sum())\n",
    "#Checking for duplicates in internet.\n",
    "print('phone duplicates:', phone.duplicated().sum())"
   ]
  },
  {
   "cell_type": "code",
   "execution_count": 30,
   "metadata": {},
   "outputs": [
    {
     "name": "stdout",
     "output_type": "stream",
     "text": [
      "No     3390\n",
      "Yes    2971\n",
      "Name: multiple_lines, dtype: int64\n",
      "\n",
      "No     0.532935\n",
      "Yes    0.467065\n",
      "Name: multiple_lines, dtype: float64\n"
     ]
    }
   ],
   "source": [
    "#Analyzing multiple_lines column.\n",
    "print(phone.multiple_lines.value_counts())\n",
    "print()\n",
    "print(phone.multiple_lines.value_counts(normalize=True))"
   ]
  },
  {
   "cell_type": "markdown",
   "metadata": {},
   "source": [
    "### Target preprocessing"
   ]
  },
  {
   "cell_type": "code",
   "execution_count": 31,
   "metadata": {},
   "outputs": [
    {
     "name": "stdout",
     "output_type": "stream",
     "text": [
      "No                     5174\n",
      "2019-11-01 00:00:00     485\n",
      "2019-12-01 00:00:00     466\n",
      "2020-01-01 00:00:00     460\n",
      "2019-10-01 00:00:00     458\n",
      "Name: end_date, dtype: int64\n"
     ]
    }
   ],
   "source": [
    "#Target analysis.\n",
    "print(contract.end_date.value_counts())"
   ]
  },
  {
   "cell_type": "code",
   "execution_count": 32,
   "metadata": {},
   "outputs": [
    {
     "name": "stdout",
     "output_type": "stream",
     "text": [
      "No                     0.734630\n",
      "2019-11-01 00:00:00    0.068863\n",
      "2019-12-01 00:00:00    0.066165\n",
      "2020-01-01 00:00:00    0.065313\n",
      "2019-10-01 00:00:00    0.065029\n",
      "Name: end_date, dtype: float64\n"
     ]
    }
   ],
   "source": [
    "#Target analysis.\n",
    "print(contract.end_date.value_counts(normalize=True))"
   ]
  },
  {
   "cell_type": "code",
   "execution_count": 33,
   "metadata": {},
   "outputs": [],
   "source": [
    "contract['end_date'] = np.where((contract['end_date'] != 'No'), 'Yes', contract['end_date'])"
   ]
  },
  {
   "cell_type": "markdown",
   "metadata": {},
   "source": [
    "## DATA VISUALIZATION"
   ]
  },
  {
   "cell_type": "code",
   "execution_count": 34,
   "metadata": {},
   "outputs": [],
   "source": [
    "sns.set_style('darkgrid')"
   ]
  },
  {
   "cell_type": "code",
   "execution_count": 35,
   "metadata": {},
   "outputs": [
    {
     "data": {
      "image/png": "[encoded data removed]",
      "text/plain": [
       "<Figure size 864x576 with 1 Axes>"
      ]
     },
     "metadata": {},
     "output_type": "display_data"
    }
   ],
   "source": [
    "# Monthly Charges visualization.\n",
    "plt.figure(figsize=(12,8))\n",
    "sns.histplot(x='monthly_charges', data=contract, kde=True, hue='end_date')\n",
    "plt.xlabel('Monthly Charges')\n",
    "plt.title('monthly_charges Count Histogram.')\n",
    "plt.show()"
   ]
  },
  {
   "cell_type": "code",
   "execution_count": 36,
   "metadata": {},
   "outputs": [
    {
     "data": {
      "image/png": "[encoded data removed]",
      "text/plain": [
       "<Figure size 864x576 with 1 Axes>"
      ]
     },
     "metadata": {},
     "output_type": "display_data"
    }
   ],
   "source": [
    "# Monthly Charges visualization.\n",
    "plt.figure(figsize=(12,8))\n",
    "sns.histplot(x='monthly_charges', data=contract, kde=True, hue='end_date', element='poly')\n",
    "plt.xlabel('Monthly Charges')\n",
    "plt.title('monthly_charges Polygonal Count Histogram')\n",
    "plt.show()"
   ]
  },
  {
   "cell_type": "code",
   "execution_count": 37,
   "metadata": {},
   "outputs": [
    {
     "data": {
      "image/png": "[encoded data removed]",
      "text/plain": [
       "<Figure size 864x576 with 1 Axes>"
      ]
     },
     "metadata": {},
     "output_type": "display_data"
    }
   ],
   "source": [
    "# Total Charges Visualization\n",
    "plt.figure(figsize=(12,8))\n",
    "sns.histplot(x='total_charges', data=contract, kde=True, hue='end_date')\n",
    "plt.xlabel('Total Charges')\n",
    "plt.title('Total Charges Histogram')\n",
    "plt.show()"
   ]
  },
  {
   "cell_type": "code",
   "execution_count": 38,
   "metadata": {},
   "outputs": [
    {
     "data": {
      "image/png": "[encoded data removed]",
      "text/plain": [
       "<Figure size 2160x432 with 3 Axes>"
      ]
     },
     "metadata": {},
     "output_type": "display_data"
    }
   ],
   "source": [
    "#Dividing the total_charges column in total_charges < 200, btw 200 and 2000 and > 2000 to get a better visualization of graphs.\n",
    "total_charges_200 = contract.query('total_charges < 200')\n",
    "total_charges_2000 = contract.query('total_charges > 200 and total_charges < 2000') \n",
    "total_charges_over = contract.query('total_charges > 2000')\n",
    "\n",
    "#Clicking on the subplots expand them.\n",
    "plt.figure(figsize=(30,6)) # specifying figure size\n",
    "ax1 = plt.subplot(1,3,1)\n",
    "sns.histplot(data=total_charges_200, x='total_charges', ax = ax1)\n",
    "plt.xlabel('Total Charges')\n",
    "ax2 = plt.subplot(1,3,2)\n",
    "sns.histplot(data=total_charges_2000, x='total_charges',color = 'purple', ax = ax2, alpha=0.7)\n",
    "plt.xlabel('Total Charges')\n",
    "ax3 = plt.subplot(1,3,3)\n",
    "sns.histplot(data=total_charges_over, x='total_charges', color = 'red', ax = ax3, alpha=0.7)\n",
    "plt.xlabel('Total Charges')\n",
    "plt.suptitle('total_charges Subplots (0/200), (200/2000), (2000, ++)')\n",
    "plt.show()"
   ]
  },
  {
   "cell_type": "code",
   "execution_count": 39,
   "metadata": {},
   "outputs": [
    {
     "data": {
      "image/png": "[encoded data removed]",
      "text/plain": [
       "<Figure size 288x288 with 1 Axes>"
      ]
     },
     "metadata": {},
     "output_type": "display_data"
    },
    {
     "name": "stdout",
     "output_type": "stream",
     "text": [
      "\n",
      "No     0.73463\n",
      "Yes    0.26537\n",
      "Name: end_date, dtype: float64\n"
     ]
    }
   ],
   "source": [
    "#Visualizing our Target.\n",
    "plt.figure(figsize=(4,4))\n",
    "sns.histplot(x='end_date', data=contract, color='green', alpha=.5)\n",
    "plt.xlabel('Target')\n",
    "plt.title('Target normalized')\n",
    "plt.show()\n",
    "print()\n",
    "print(contract.end_date.value_counts(normalize=True))"
   ]
  },
  {
   "cell_type": "markdown",
   "metadata": {},
   "source": [
    "## Client Outflow Research\n"
   ]
  },
  {
   "cell_type": "markdown",
   "metadata": {},
   "source": [
    "### While a model for predicting the churn of clientele is in the process of being created, Interconnect's marketing department has started figuring out different ways of retaining clients. You'll need to collect the necessary information to assist them.\n",
    "\n",
    "- Compare the monthly payment distribution (MonthlyCharges) of all active clients with the clients who have left. Calculate the following statistics for each group: the average, minimum and maximum values, the median, and the values of the 25% and 75% percentiles. Build distribution histograms based on your findings.\n",
    "\n"
   ]
  },
  {
   "cell_type": "code",
   "execution_count": 40,
   "metadata": {},
   "outputs": [
    {
     "name": "stdout",
     "output_type": "stream",
     "text": [
      "monthly_charges mean: 64.761696\n",
      "\n",
      "monthly_charges mean grouped by: end_date\n",
      "No     61.265125\n",
      "Yes    74.441330\n",
      "Name: monthly_charges, dtype: float32\n"
     ]
    }
   ],
   "source": [
    "#Calculating averages.\n",
    "print('monthly_charges mean:', contract.monthly_charges.mean())\n",
    "print()\n",
    "print('monthly_charges mean grouped by:', contract.groupby('end_date').monthly_charges.mean())"
   ]
  },
  {
   "cell_type": "code",
   "execution_count": 41,
   "metadata": {},
   "outputs": [
    {
     "name": "stdout",
     "output_type": "stream",
     "text": [
      "monthly_charges median: 70.35\n",
      "\n",
      "monthly_charges median grouped by: end_date\n",
      "No     64.425003\n",
      "Yes    79.650002\n",
      "Name: monthly_charges, dtype: float32\n"
     ]
    }
   ],
   "source": [
    "#Calculating medians.\n",
    "print('monthly_charges median:', contract.monthly_charges.median())\n",
    "print()\n",
    "print('monthly_charges median grouped by:', contract.groupby('end_date').monthly_charges.median())"
   ]
  },
  {
   "cell_type": "code",
   "execution_count": 42,
   "metadata": {},
   "outputs": [
    {
     "name": "stdout",
     "output_type": "stream",
     "text": [
      "monthly_charges mean: 118.75\n",
      "\n",
      "monthly_charges mean grouped by: end_date\n",
      "No     118.750000\n",
      "Yes    118.349998\n",
      "Name: monthly_charges, dtype: float32\n"
     ]
    }
   ],
   "source": [
    "#Calculating max values.\n",
    "print('monthly_charges mean:', contract.monthly_charges.max())\n",
    "print()\n",
    "print('monthly_charges mean grouped by:', contract.groupby('end_date').monthly_charges.max())"
   ]
  },
  {
   "cell_type": "code",
   "execution_count": 43,
   "metadata": {},
   "outputs": [
    {
     "name": "stdout",
     "output_type": "stream",
     "text": [
      "monthly_charges mean: 18.25\n",
      "\n",
      "monthly_charges mean grouped by: end_date\n",
      "No     18.25\n",
      "Yes    18.85\n",
      "Name: monthly_charges, dtype: float32\n"
     ]
    }
   ],
   "source": [
    "#Calculating min values.\n",
    "print('monthly_charges mean:', contract.monthly_charges.min())\n",
    "print()\n",
    "print('monthly_charges mean grouped by:', contract.groupby('end_date').monthly_charges.min())"
   ]
  },
  {
   "cell_type": "code",
   "execution_count": 44,
   "metadata": {},
   "outputs": [
    {
     "name": "stdout",
     "output_type": "stream",
     "text": [
      "monthly_charges 25% percentile: 35.5\n",
      "\n",
      "monthly_charges 25% percentile of \"Yes\" 56.150001525878906\n",
      "monthly_charges 25% percentile of \"No\" 25.100000381469727\n"
     ]
    }
   ],
   "source": [
    "#Calculating 25% percentile.\n",
    "print('monthly_charges 25% percentile:', np.percentile(contract.monthly_charges, 25)) # return 25% percentile\n",
    "print()\n",
    "print('monthly_charges 25% percentile of \"Yes\"', np.percentile(contract[contract.end_date == 'Yes'].monthly_charges, 25))\n",
    "print('monthly_charges 25% percentile of \"No\"', np.percentile(contract[contract.end_date == 'No'].monthly_charges, 25))"
   ]
  },
  {
   "cell_type": "code",
   "execution_count": 45,
   "metadata": {},
   "outputs": [
    {
     "name": "stdout",
     "output_type": "stream",
     "text": [
      "monthly_charges 25% percentile: 89.8499984741211\n",
      "\n",
      "monthly_charges 25% percentile of \"Yes\" 94.19999694824219\n",
      "monthly_charges 25% percentile of \"No\" 88.4000015258789\n"
     ]
    }
   ],
   "source": [
    "#Calculating 75% percentile.\n",
    "print('monthly_charges 25% percentile:', np.percentile(contract.monthly_charges, 75)) # return 75% percentile\n",
    "print()\n",
    "print('monthly_charges 25% percentile of \"Yes\"', np.percentile(contract[contract.end_date == 'Yes'].monthly_charges, 75))\n",
    "print('monthly_charges 25% percentile of \"No\"', np.percentile(contract[contract.end_date == 'No'].monthly_charges, 75))"
   ]
  },
  {
   "cell_type": "code",
   "execution_count": 46,
   "metadata": {},
   "outputs": [
    {
     "name": "stdout",
     "output_type": "stream",
     "text": [
      "count    7043.000000\n",
      "mean       64.761696\n",
      "std        30.090048\n",
      "min        18.250000\n",
      "25%        35.500000\n",
      "50%        70.349998\n",
      "75%        89.849998\n",
      "max       118.750000\n",
      "Name: monthly_charges, dtype: float64\n"
     ]
    }
   ],
   "source": [
    "#Checking obtained values\n",
    "print(contract.monthly_charges.describe())"
   ]
  },
  {
   "cell_type": "code",
   "execution_count": 47,
   "metadata": {},
   "outputs": [],
   "source": [
    "contract_yes = pd.DataFrame()\n",
    "contract_no = pd.DataFrame()\n",
    "contract_yes = contract.query('end_date == \"Yes\"')\n",
    "contract_no = contract.query('end_date == \"No\"')"
   ]
  },
  {
   "cell_type": "code",
   "execution_count": 61,
   "metadata": {},
   "outputs": [
    {
     "data": {
      "image/png": "[encoded data removed]",
      "text/plain": [
       "<Figure size 864x576 with 1 Axes>"
      ]
     },
     "metadata": {},
     "output_type": "display_data"
    }
   ],
   "source": [
    "# Monthly Charges visualization for the clients red for 'YES' and blue for 'No'\n",
    "plt.figure(figsize=(12,8))\n",
    "sns.histplot(x='monthly_charges', data=contract_yes, kde=True, color='red')\n",
    "sns.histplot(x='monthly_charges', data=contract_no, kde=True, color = 'blue')\n",
    "plt.xlabel('Monthly Charges')\n",
    "plt.title('Monthly Charges visualization for the clients where end_date = \"Yes\"')\n",
    "plt.show()"
   ]
  },
  {
   "cell_type": "markdown",
   "metadata": {},
   "source": [
    "### Compare the behavior of the clients from the two groups below. For each group, build any two graphs which display: the share of telephone users, the share of Internet users."
   ]
  },
  {
   "cell_type": "code",
   "execution_count": 50,
   "metadata": {},
   "outputs": [
    {
     "data": {
      "text/html": [
       "<div>\n",
       "<style scoped>\n",
       "    .dataframe tbody tr th:only-of-type {\n",
       "        vertical-align: middle;\n",
       "    }\n",
       "\n",
       "    .dataframe tbody tr th {\n",
       "        vertical-align: top;\n",
       "    }\n",
       "\n",
       "    .dataframe thead th {\n",
       "        text-align: right;\n",
       "    }\n",
       "</style>\n",
       "<table border=\"1\" class=\"dataframe\">\n",
       "  <thead>\n",
       "    <tr style=\"text-align: right;\">\n",
       "      <th></th>\n",
       "      <th>customer_id</th>\n",
       "      <th>end_date</th>\n",
       "    </tr>\n",
       "  </thead>\n",
       "  <tbody>\n",
       "    <tr>\n",
       "      <td>0</td>\n",
       "      <td>7590-VHVEG</td>\n",
       "      <td>No</td>\n",
       "    </tr>\n",
       "    <tr>\n",
       "      <td>1</td>\n",
       "      <td>5575-GNVDE</td>\n",
       "      <td>No</td>\n",
       "    </tr>\n",
       "    <tr>\n",
       "      <td>2</td>\n",
       "      <td>3668-QPYBK</td>\n",
       "      <td>Yes</td>\n",
       "    </tr>\n",
       "    <tr>\n",
       "      <td>3</td>\n",
       "      <td>7795-CFOCW</td>\n",
       "      <td>No</td>\n",
       "    </tr>\n",
       "    <tr>\n",
       "      <td>4</td>\n",
       "      <td>9237-HQITU</td>\n",
       "      <td>Yes</td>\n",
       "    </tr>\n",
       "    <tr>\n",
       "      <td>...</td>\n",
       "      <td>...</td>\n",
       "      <td>...</td>\n",
       "    </tr>\n",
       "    <tr>\n",
       "      <td>7038</td>\n",
       "      <td>6840-RESVB</td>\n",
       "      <td>No</td>\n",
       "    </tr>\n",
       "    <tr>\n",
       "      <td>7039</td>\n",
       "      <td>2234-XADUH</td>\n",
       "      <td>No</td>\n",
       "    </tr>\n",
       "    <tr>\n",
       "      <td>7040</td>\n",
       "      <td>4801-JZAZL</td>\n",
       "      <td>No</td>\n",
       "    </tr>\n",
       "    <tr>\n",
       "      <td>7041</td>\n",
       "      <td>8361-LTMKD</td>\n",
       "      <td>Yes</td>\n",
       "    </tr>\n",
       "    <tr>\n",
       "      <td>7042</td>\n",
       "      <td>3186-AJIEK</td>\n",
       "      <td>No</td>\n",
       "    </tr>\n",
       "  </tbody>\n",
       "</table>\n",
       "<p>7043 rows × 2 columns</p>\n",
       "</div>"
      ],
      "text/plain": [
       "     customer_id end_date\n",
       "0     7590-VHVEG       No\n",
       "1     5575-GNVDE       No\n",
       "2     3668-QPYBK      Yes\n",
       "3     7795-CFOCW       No\n",
       "4     9237-HQITU      Yes\n",
       "...          ...      ...\n",
       "7038  6840-RESVB       No\n",
       "7039  2234-XADUH       No\n",
       "7040  4801-JZAZL       No\n",
       "7041  8361-LTMKD      Yes\n",
       "7042  3186-AJIEK       No\n",
       "\n",
       "[7043 rows x 2 columns]"
      ]
     },
     "metadata": {},
     "output_type": "display_data"
    }
   ],
   "source": [
    "shares_df = pd.DataFrame()\n",
    "shares_df['customer_id'] = contract['customer_id']\n",
    "shares_df['end_date'] = contract['end_date']\n",
    "display(shares_df)"
   ]
  },
  {
   "cell_type": "code",
   "execution_count": 51,
   "metadata": {},
   "outputs": [
    {
     "data": {
      "text/html": [
       "<div>\n",
       "<style scoped>\n",
       "    .dataframe tbody tr th:only-of-type {\n",
       "        vertical-align: middle;\n",
       "    }\n",
       "\n",
       "    .dataframe tbody tr th {\n",
       "        vertical-align: top;\n",
       "    }\n",
       "\n",
       "    .dataframe thead th {\n",
       "        text-align: right;\n",
       "    }\n",
       "</style>\n",
       "<table border=\"1\" class=\"dataframe\">\n",
       "  <thead>\n",
       "    <tr style=\"text-align: right;\">\n",
       "      <th></th>\n",
       "      <th>customer_id</th>\n",
       "      <th>end_date</th>\n",
       "      <th>multiple_lines</th>\n",
       "      <th>internet_service</th>\n",
       "      <th>online_security</th>\n",
       "      <th>online_backup</th>\n",
       "      <th>device_protection</th>\n",
       "      <th>tech_support</th>\n",
       "      <th>streaming_tv</th>\n",
       "      <th>streaming_movies</th>\n",
       "    </tr>\n",
       "  </thead>\n",
       "  <tbody>\n",
       "    <tr>\n",
       "      <td>0</td>\n",
       "      <td>7590-VHVEG</td>\n",
       "      <td>No</td>\n",
       "      <td>NaN</td>\n",
       "      <td>DSL</td>\n",
       "      <td>No</td>\n",
       "      <td>Yes</td>\n",
       "      <td>No</td>\n",
       "      <td>No</td>\n",
       "      <td>No</td>\n",
       "      <td>No</td>\n",
       "    </tr>\n",
       "    <tr>\n",
       "      <td>1</td>\n",
       "      <td>5575-GNVDE</td>\n",
       "      <td>No</td>\n",
       "      <td>No</td>\n",
       "      <td>DSL</td>\n",
       "      <td>Yes</td>\n",
       "      <td>No</td>\n",
       "      <td>Yes</td>\n",
       "      <td>No</td>\n",
       "      <td>No</td>\n",
       "      <td>No</td>\n",
       "    </tr>\n",
       "    <tr>\n",
       "      <td>2</td>\n",
       "      <td>3668-QPYBK</td>\n",
       "      <td>Yes</td>\n",
       "      <td>No</td>\n",
       "      <td>DSL</td>\n",
       "      <td>Yes</td>\n",
       "      <td>Yes</td>\n",
       "      <td>No</td>\n",
       "      <td>No</td>\n",
       "      <td>No</td>\n",
       "      <td>No</td>\n",
       "    </tr>\n",
       "    <tr>\n",
       "      <td>3</td>\n",
       "      <td>7795-CFOCW</td>\n",
       "      <td>No</td>\n",
       "      <td>NaN</td>\n",
       "      <td>DSL</td>\n",
       "      <td>Yes</td>\n",
       "      <td>No</td>\n",
       "      <td>Yes</td>\n",
       "      <td>Yes</td>\n",
       "      <td>No</td>\n",
       "      <td>No</td>\n",
       "    </tr>\n",
       "    <tr>\n",
       "      <td>4</td>\n",
       "      <td>9237-HQITU</td>\n",
       "      <td>Yes</td>\n",
       "      <td>No</td>\n",
       "      <td>Fiber optic</td>\n",
       "      <td>No</td>\n",
       "      <td>No</td>\n",
       "      <td>No</td>\n",
       "      <td>No</td>\n",
       "      <td>No</td>\n",
       "      <td>No</td>\n",
       "    </tr>\n",
       "    <tr>\n",
       "      <td>...</td>\n",
       "      <td>...</td>\n",
       "      <td>...</td>\n",
       "      <td>...</td>\n",
       "      <td>...</td>\n",
       "      <td>...</td>\n",
       "      <td>...</td>\n",
       "      <td>...</td>\n",
       "      <td>...</td>\n",
       "      <td>...</td>\n",
       "      <td>...</td>\n",
       "    </tr>\n",
       "    <tr>\n",
       "      <td>7038</td>\n",
       "      <td>6840-RESVB</td>\n",
       "      <td>No</td>\n",
       "      <td>Yes</td>\n",
       "      <td>DSL</td>\n",
       "      <td>Yes</td>\n",
       "      <td>No</td>\n",
       "      <td>Yes</td>\n",
       "      <td>Yes</td>\n",
       "      <td>Yes</td>\n",
       "      <td>Yes</td>\n",
       "    </tr>\n",
       "    <tr>\n",
       "      <td>7039</td>\n",
       "      <td>2234-XADUH</td>\n",
       "      <td>No</td>\n",
       "      <td>Yes</td>\n",
       "      <td>Fiber optic</td>\n",
       "      <td>No</td>\n",
       "      <td>Yes</td>\n",
       "      <td>Yes</td>\n",
       "      <td>No</td>\n",
       "      <td>Yes</td>\n",
       "      <td>Yes</td>\n",
       "    </tr>\n",
       "    <tr>\n",
       "      <td>7040</td>\n",
       "      <td>4801-JZAZL</td>\n",
       "      <td>No</td>\n",
       "      <td>NaN</td>\n",
       "      <td>DSL</td>\n",
       "      <td>Yes</td>\n",
       "      <td>No</td>\n",
       "      <td>No</td>\n",
       "      <td>No</td>\n",
       "      <td>No</td>\n",
       "      <td>No</td>\n",
       "    </tr>\n",
       "    <tr>\n",
       "      <td>7041</td>\n",
       "      <td>8361-LTMKD</td>\n",
       "      <td>Yes</td>\n",
       "      <td>Yes</td>\n",
       "      <td>Fiber optic</td>\n",
       "      <td>No</td>\n",
       "      <td>No</td>\n",
       "      <td>No</td>\n",
       "      <td>No</td>\n",
       "      <td>No</td>\n",
       "      <td>No</td>\n",
       "    </tr>\n",
       "    <tr>\n",
       "      <td>7042</td>\n",
       "      <td>3186-AJIEK</td>\n",
       "      <td>No</td>\n",
       "      <td>No</td>\n",
       "      <td>Fiber optic</td>\n",
       "      <td>Yes</td>\n",
       "      <td>No</td>\n",
       "      <td>Yes</td>\n",
       "      <td>Yes</td>\n",
       "      <td>Yes</td>\n",
       "      <td>Yes</td>\n",
       "    </tr>\n",
       "  </tbody>\n",
       "</table>\n",
       "<p>7043 rows × 10 columns</p>\n",
       "</div>"
      ],
      "text/plain": [
       "     customer_id end_date multiple_lines internet_service online_security  \\\n",
       "0     7590-VHVEG       No            NaN              DSL              No   \n",
       "1     5575-GNVDE       No             No              DSL             Yes   \n",
       "2     3668-QPYBK      Yes             No              DSL             Yes   \n",
       "3     7795-CFOCW       No            NaN              DSL             Yes   \n",
       "4     9237-HQITU      Yes             No      Fiber optic              No   \n",
       "...          ...      ...            ...              ...             ...   \n",
       "7038  6840-RESVB       No            Yes              DSL             Yes   \n",
       "7039  2234-XADUH       No            Yes      Fiber optic              No   \n",
       "7040  4801-JZAZL       No            NaN              DSL             Yes   \n",
       "7041  8361-LTMKD      Yes            Yes      Fiber optic              No   \n",
       "7042  3186-AJIEK       No             No      Fiber optic             Yes   \n",
       "\n",
       "     online_backup device_protection tech_support streaming_tv  \\\n",
       "0              Yes                No           No           No   \n",
       "1               No               Yes           No           No   \n",
       "2              Yes                No           No           No   \n",
       "3               No               Yes          Yes           No   \n",
       "4               No                No           No           No   \n",
       "...            ...               ...          ...          ...   \n",
       "7038            No               Yes          Yes          Yes   \n",
       "7039           Yes               Yes           No          Yes   \n",
       "7040            No                No           No           No   \n",
       "7041            No                No           No           No   \n",
       "7042            No               Yes          Yes          Yes   \n",
       "\n",
       "     streaming_movies  \n",
       "0                  No  \n",
       "1                  No  \n",
       "2                  No  \n",
       "3                  No  \n",
       "4                  No  \n",
       "...               ...  \n",
       "7038              Yes  \n",
       "7039              Yes  \n",
       "7040               No  \n",
       "7041               No  \n",
       "7042              Yes  \n",
       "\n",
       "[7043 rows x 10 columns]"
      ]
     },
     "metadata": {},
     "output_type": "display_data"
    }
   ],
   "source": [
    "shares_df = shares_df.merge(phone, on='customer_id', how='outer')\n",
    "shares_df = shares_df.merge(internet, on='customer_id', how='outer')\n",
    "display(shares_df)"
   ]
  },
  {
   "cell_type": "code",
   "execution_count": 52,
   "metadata": {},
   "outputs": [],
   "source": [
    "shares_df_yes = shares_df.query('end_date == \"Yes\"')\n",
    "shares_df_no = shares_df.query('end_date == \"No\"')"
   ]
  },
  {
   "cell_type": "code",
   "execution_count": 53,
   "metadata": {},
   "outputs": [
    {
     "data": {
      "image/png": "[encoded data removed]",
      "text/plain": [
       "<Figure size 576x288 with 2 Axes>"
      ]
     },
     "metadata": {},
     "output_type": "display_data"
    }
   ],
   "source": [
    "#Plotting percentage of internet/phone use. All records.\n",
    "fig, (ax1,ax2) = plt.subplots(1,2,figsize=(8,4)) #ax1,ax2 refer to your two pies\n",
    "slices = [len(shares_df) - shares_df.internet_service.isna().sum(), shares_df.internet_service.isna().sum()]\n",
    "labels = ['Yes', 'No']\n",
    "ax1.pie(slices, labels=labels, wedgeprops = {'edgecolor': 'white'}, autopct='%1.1f%%')\n",
    "slices = [len(shares_df) - shares_df.multiple_lines.isna().sum(), shares_df.multiple_lines.isna().sum()]\n",
    "labels = ['Yes', 'No']\n",
    "ax2.pie(slices, labels=labels, wedgeprops = {'edgecolor': 'white'}, autopct='%1.1f%%')\n",
    "plt.title(\"PIE CHART TITLE: LEFT (USAGE OF INTERNET), RIGHT(USAGE OF PHONE)\", fontdict={'horizontalalignment': 'right'})\n",
    "plt.show()"
   ]
  },
  {
   "cell_type": "code",
   "execution_count": 54,
   "metadata": {},
   "outputs": [
    {
     "data": {
      "image/png": "[encoded data removed]",
      "text/plain": [
       "<Figure size 576x288 with 2 Axes>"
      ]
     },
     "metadata": {},
     "output_type": "display_data"
    }
   ],
   "source": [
    "#Plotting percentage of internet/phone use. end_date == YES.\n",
    "fig, (ax1,ax2) = plt.subplots(1,2,figsize=(8,4)) #ax1,ax2 refer to your two pies\n",
    "slices = [len(shares_df_yes) - shares_df_yes.internet_service.isna().sum(), shares_df_yes.internet_service.isna().sum()]\n",
    "labels = ['Yes', 'No']\n",
    "ax1.pie(slices, labels=labels, wedgeprops = {'edgecolor': 'white'}, autopct='%1.1f%%')\n",
    "slices = [len(shares_df_yes) - shares_df_yes.multiple_lines.isna().sum(), shares_df_yes.multiple_lines.isna().sum()]\n",
    "labels = ['Yes', 'No']\n",
    "ax2.pie(slices, labels=labels, wedgeprops = {'edgecolor': 'white'}, autopct='%1.1f%%')\n",
    "plt.title(\"PIE CHART TITLE: LEFT (USAGE OF INTERNET), RIGHT (USAGE OF PHONE)\", fontdict={'horizontalalignment': 'right'})\n",
    "plt.show()"
   ]
  },
  {
   "cell_type": "code",
   "execution_count": 55,
   "metadata": {},
   "outputs": [
    {
     "data": {
      "image/png": "[encoded data removed]",
      "text/plain": [
       "<Figure size 576x288 with 2 Axes>"
      ]
     },
     "metadata": {},
     "output_type": "display_data"
    }
   ],
   "source": [
    "#Plotting percentage of internet/phone use. end_date == NO.\n",
    "fig, (ax1,ax2) = plt.subplots(1,2,figsize=(8,4)) #ax1,ax2 refer to your two pies\n",
    "slices = [len(shares_df_no) - shares_df_no.internet_service.isna().sum(), shares_df_no.internet_service.isna().sum()]\n",
    "labels = ['Yes', 'No']\n",
    "ax1.pie(slices, labels=labels, wedgeprops = {'edgecolor': 'white'}, autopct='%1.1f%%')\n",
    "slices = [len(shares_df_no) - shares_df_no.multiple_lines.isna().sum(), shares_df_no.multiple_lines.isna().sum()]\n",
    "labels = ['Yes', 'No']\n",
    "ax2.pie(slices, labels=labels, wedgeprops = {'edgecolor': 'white'}, autopct='%1.1f%%')\n",
    "plt.title(\"PIE CHART TITLE: LEFT (USAGE OF INTERNET), RIGHT (USAGE OF PHONE)\", fontdict={'horizontalalignment': 'right'})\n",
    "plt.show()"
   ]
  }
 ],
 "metadata": {
  "ExecuteTimeLog": [
   {
    "duration": 1651,
    "start_time": "2021-08-03T11:26:58.616Z"
   },
   {
    "duration": 27,
    "start_time": "2021-08-03T11:27:13.056Z"
   },
   {
    "duration": 655,
    "start_time": "2021-08-03T11:27:22.034Z"
   },
   {
    "duration": 28,
    "start_time": "2021-08-03T11:27:30.425Z"
   },
   {
    "duration": 27,
    "start_time": "2021-08-03T11:27:38.399Z"
   },
   {
    "duration": 12,
    "start_time": "2021-08-03T11:27:43.685Z"
   },
   {
    "duration": 476,
    "start_time": "2021-08-03T11:30:37.831Z"
   },
   {
    "duration": 23,
    "start_time": "2021-08-03T11:30:57.697Z"
   },
   {
    "duration": 20,
    "start_time": "2021-08-03T11:31:31.114Z"
   },
   {
    "duration": 12,
    "start_time": "2021-08-03T11:33:43.059Z"
   },
   {
    "duration": 9,
    "start_time": "2021-08-03T11:37:59.456Z"
   },
   {
    "duration": 11,
    "start_time": "2021-08-03T11:38:11.386Z"
   },
   {
    "duration": 8,
    "start_time": "2021-08-03T11:38:23.970Z"
   },
   {
    "duration": 116,
    "start_time": "2021-08-03T11:52:35.241Z"
   },
   {
    "duration": 29,
    "start_time": "2021-08-03T11:53:45.419Z"
   },
   {
    "duration": 14,
    "start_time": "2021-08-03T11:54:07.748Z"
   },
   {
    "duration": 15,
    "start_time": "2021-08-03T11:54:18.439Z"
   },
   {
    "duration": 14,
    "start_time": "2021-08-03T11:54:58.344Z"
   },
   {
    "duration": 118,
    "start_time": "2021-08-03T11:55:02.534Z"
   },
   {
    "duration": 23,
    "start_time": "2021-08-03T11:55:03.024Z"
   },
   {
    "duration": 16,
    "start_time": "2021-08-03T11:55:04.192Z"
   },
   {
    "duration": 5,
    "start_time": "2021-08-03T11:56:48.932Z"
   },
   {
    "duration": 10,
    "start_time": "2021-08-03T11:56:49.668Z"
   },
   {
    "duration": 12,
    "start_time": "2021-08-03T11:56:59.134Z"
   },
   {
    "duration": 6,
    "start_time": "2021-08-03T11:59:37.931Z"
   },
   {
    "duration": 12,
    "start_time": "2021-08-03T11:59:45.174Z"
   },
   {
    "duration": 131,
    "start_time": "2021-08-03T12:00:56.728Z"
   },
   {
    "duration": 9,
    "start_time": "2021-08-03T12:01:05.976Z"
   },
   {
    "duration": 406,
    "start_time": "2021-08-03T12:03:38.123Z"
   },
   {
    "duration": 393,
    "start_time": "2021-08-03T12:03:39.923Z"
   },
   {
    "duration": 8,
    "start_time": "2021-08-03T12:03:46.278Z"
   },
   {
    "duration": 9,
    "start_time": "2021-08-03T12:03:53.142Z"
   },
   {
    "duration": 444,
    "start_time": "2021-08-03T12:11:51.954Z"
   },
   {
    "duration": 383,
    "start_time": "2021-08-03T12:12:03.586Z"
   },
   {
    "duration": 543,
    "start_time": "2021-08-03T12:12:12.481Z"
   },
   {
    "duration": 28,
    "start_time": "2021-08-03T12:12:37.125Z"
   },
   {
    "duration": 18,
    "start_time": "2021-08-03T12:12:44.846Z"
   },
   {
    "duration": 35,
    "start_time": "2021-08-03T12:13:00.399Z"
   },
   {
    "duration": 25,
    "start_time": "2021-08-03T12:13:37.722Z"
   },
   {
    "duration": 33,
    "start_time": "2021-08-03T12:14:26.612Z"
   },
   {
    "duration": 381,
    "start_time": "2021-08-03T12:15:29.841Z"
   },
   {
    "duration": 30,
    "start_time": "2021-08-03T12:15:40.396Z"
   },
   {
    "duration": 2718,
    "start_time": "2021-08-03T13:16:44.073Z"
   },
   {
    "duration": 6,
    "start_time": "2021-08-03T13:17:23.765Z"
   },
   {
    "duration": 645,
    "start_time": "2021-08-03T13:17:47.756Z"
   },
   {
    "duration": 605,
    "start_time": "2021-08-03T13:18:25.928Z"
   },
   {
    "duration": 235,
    "start_time": "2021-08-03T13:22:21.845Z"
   },
   {
    "duration": 127,
    "start_time": "2021-08-03T13:22:25.662Z"
   },
   {
    "duration": 659,
    "start_time": "2021-08-03T13:22:29.727Z"
   },
   {
    "duration": 20,
    "start_time": "2021-08-03T13:23:27.486Z"
   },
   {
    "duration": 370,
    "start_time": "2021-08-03T13:23:58.972Z"
   },
   {
    "duration": 346,
    "start_time": "2021-08-03T13:24:10.533Z"
   },
   {
    "duration": 107,
    "start_time": "2021-08-03T13:24:18.031Z"
   },
   {
    "duration": 21,
    "start_time": "2021-08-03T13:24:18.567Z"
   },
   {
    "duration": 14,
    "start_time": "2021-08-03T13:24:18.751Z"
   },
   {
    "duration": 18,
    "start_time": "2021-08-03T13:24:19.487Z"
   },
   {
    "duration": 20,
    "start_time": "2021-08-03T13:24:20.200Z"
   },
   {
    "duration": 7,
    "start_time": "2021-08-03T13:24:20.647Z"
   },
   {
    "duration": 9,
    "start_time": "2021-08-03T13:24:21.528Z"
   },
   {
    "duration": 5,
    "start_time": "2021-08-03T13:25:08.405Z"
   },
   {
    "duration": 33,
    "start_time": "2021-08-03T13:26:14.481Z"
   },
   {
    "duration": 8,
    "start_time": "2021-08-03T13:26:46.134Z"
   },
   {
    "duration": 6,
    "start_time": "2021-08-03T13:27:01.135Z"
   },
   {
    "duration": 6,
    "start_time": "2021-08-03T13:27:22.863Z"
   },
   {
    "duration": 6,
    "start_time": "2021-08-03T13:28:00.578Z"
   },
   {
    "duration": 3,
    "start_time": "2021-08-03T13:29:28.524Z"
   },
   {
    "duration": 8,
    "start_time": "2021-08-03T13:30:28.385Z"
   },
   {
    "duration": 12,
    "start_time": "2021-08-03T13:30:28.444Z"
   },
   {
    "duration": 1772,
    "start_time": "2021-08-03T13:30:42.248Z"
   },
   {
    "duration": 29,
    "start_time": "2021-08-03T13:30:44.023Z"
   },
   {
    "duration": 14,
    "start_time": "2021-08-03T13:30:44.056Z"
   },
   {
    "duration": 48,
    "start_time": "2021-08-03T13:30:44.073Z"
   },
   {
    "duration": 30,
    "start_time": "2021-08-03T13:30:44.124Z"
   },
   {
    "duration": 10,
    "start_time": "2021-08-03T13:30:44.157Z"
   },
   {
    "duration": 38,
    "start_time": "2021-08-03T13:30:44.169Z"
   },
   {
    "duration": 36,
    "start_time": "2021-08-03T13:30:44.211Z"
   },
   {
    "duration": 25,
    "start_time": "2021-08-03T13:30:44.251Z"
   },
   {
    "duration": 22,
    "start_time": "2021-08-03T13:30:44.367Z"
   },
   {
    "duration": 30,
    "start_time": "2021-08-03T13:30:51.784Z"
   },
   {
    "duration": 547,
    "start_time": "2021-08-03T13:31:57.630Z"
   },
   {
    "duration": 10194,
    "start_time": "2021-08-03T13:32:13.972Z"
   },
   {
    "duration": 11228,
    "start_time": "2021-08-03T13:32:37.971Z"
   },
   {
    "duration": 1708,
    "start_time": "2021-08-03T13:33:13.292Z"
   },
   {
    "duration": 28,
    "start_time": "2021-08-03T13:33:15.003Z"
   },
   {
    "duration": 20,
    "start_time": "2021-08-03T13:33:15.034Z"
   },
   {
    "duration": 56,
    "start_time": "2021-08-03T13:33:15.057Z"
   },
   {
    "duration": 37,
    "start_time": "2021-08-03T13:33:15.117Z"
   },
   {
    "duration": 46,
    "start_time": "2021-08-03T13:33:15.158Z"
   },
   {
    "duration": 13,
    "start_time": "2021-08-03T13:33:15.208Z"
   },
   {
    "duration": 16,
    "start_time": "2021-08-03T13:33:15.301Z"
   },
   {
    "duration": 10,
    "start_time": "2021-08-03T13:33:15.836Z"
   },
   {
    "duration": 30,
    "start_time": "2021-08-03T13:33:21.796Z"
   },
   {
    "duration": 1631,
    "start_time": "2021-08-03T13:40:51.012Z"
   },
   {
    "duration": 27,
    "start_time": "2021-08-03T13:40:52.646Z"
   },
   {
    "duration": 17,
    "start_time": "2021-08-03T13:40:52.676Z"
   },
   {
    "duration": 18,
    "start_time": "2021-08-03T13:40:53.770Z"
   },
   {
    "duration": 30,
    "start_time": "2021-08-03T13:40:55.154Z"
   },
   {
    "duration": 11,
    "start_time": "2021-08-03T13:40:56.218Z"
   },
   {
    "duration": 13,
    "start_time": "2021-08-03T13:40:56.817Z"
   },
   {
    "duration": 12,
    "start_time": "2021-08-03T13:40:58.291Z"
   },
   {
    "duration": 7,
    "start_time": "2021-08-03T13:41:01.042Z"
   },
   {
    "duration": 28,
    "start_time": "2021-08-03T13:41:06.291Z"
   },
   {
    "duration": 13,
    "start_time": "2021-08-03T13:41:14.362Z"
   },
   {
    "duration": 16,
    "start_time": "2021-08-03T13:42:17.291Z"
   },
   {
    "duration": 16,
    "start_time": "2021-08-03T13:42:27.586Z"
   },
   {
    "duration": 512,
    "start_time": "2021-08-03T13:43:03.644Z"
   },
   {
    "duration": 11,
    "start_time": "2021-08-03T13:43:08.590Z"
   },
   {
    "duration": 11,
    "start_time": "2021-08-03T13:43:17.725Z"
   },
   {
    "duration": 10,
    "start_time": "2021-08-03T13:44:31.673Z"
   },
   {
    "duration": 11,
    "start_time": "2021-08-03T13:45:08.889Z"
   },
   {
    "duration": 11,
    "start_time": "2021-08-03T13:45:42.841Z"
   },
   {
    "duration": 22,
    "start_time": "2021-08-03T13:46:16.958Z"
   },
   {
    "duration": 14,
    "start_time": "2021-08-03T13:46:22.850Z"
   },
   {
    "duration": 14,
    "start_time": "2021-08-03T13:47:14.892Z"
   },
   {
    "duration": 17,
    "start_time": "2021-08-03T13:47:46.652Z"
   },
   {
    "duration": 15,
    "start_time": "2021-08-03T13:48:17.812Z"
   },
   {
    "duration": 11,
    "start_time": "2021-08-03T13:49:28.887Z"
   },
   {
    "duration": 11,
    "start_time": "2021-08-03T13:49:29.262Z"
   },
   {
    "duration": 11,
    "start_time": "2021-08-03T13:49:29.475Z"
   },
   {
    "duration": 19,
    "start_time": "2021-08-03T13:49:29.706Z"
   },
   {
    "duration": 17,
    "start_time": "2021-08-03T13:49:31.514Z"
   },
   {
    "duration": 21,
    "start_time": "2021-08-03T13:50:00.608Z"
   },
   {
    "duration": 11,
    "start_time": "2021-08-03T13:50:01.454Z"
   },
   {
    "duration": 10,
    "start_time": "2021-08-03T13:50:11.673Z"
   },
   {
    "duration": 15,
    "start_time": "2021-08-03T13:50:11.906Z"
   },
   {
    "duration": 10,
    "start_time": "2021-08-03T13:50:42.553Z"
   },
   {
    "duration": 10,
    "start_time": "2021-08-03T13:51:04.898Z"
   },
   {
    "duration": 11,
    "start_time": "2021-08-03T13:51:05.081Z"
   },
   {
    "duration": 18,
    "start_time": "2021-08-03T13:51:36.693Z"
   },
   {
    "duration": 11,
    "start_time": "2021-08-03T13:52:49.473Z"
   },
   {
    "duration": 131,
    "start_time": "2021-08-03T15:55:11.845Z"
   },
   {
    "duration": 168,
    "start_time": "2021-08-03T15:55:16.181Z"
   },
   {
    "duration": 11,
    "start_time": "2021-08-03T15:55:23.260Z"
   },
   {
    "duration": 1672,
    "start_time": "2021-08-03T16:02:59.493Z"
   },
   {
    "duration": 1616,
    "start_time": "2021-08-03T16:03:16.372Z"
   },
   {
    "duration": 125,
    "start_time": "2021-08-03T16:04:06.493Z"
   },
   {
    "duration": 5320,
    "start_time": "2021-08-03T16:04:32.416Z"
   },
   {
    "duration": 1636,
    "start_time": "2021-08-03T16:04:47.359Z"
   },
   {
    "duration": 36,
    "start_time": "2021-08-03T16:04:48.997Z"
   },
   {
    "duration": 14,
    "start_time": "2021-08-03T16:04:49.036Z"
   },
   {
    "duration": 47,
    "start_time": "2021-08-03T16:04:49.053Z"
   },
   {
    "duration": 32,
    "start_time": "2021-08-03T16:04:49.103Z"
   },
   {
    "duration": 9,
    "start_time": "2021-08-03T16:04:49.138Z"
   },
   {
    "duration": 12,
    "start_time": "2021-08-03T16:04:49.149Z"
   },
   {
    "duration": 40,
    "start_time": "2021-08-03T16:04:49.164Z"
   },
   {
    "duration": 10,
    "start_time": "2021-08-03T16:04:49.207Z"
   },
   {
    "duration": 27,
    "start_time": "2021-08-03T16:04:49.221Z"
   },
   {
    "duration": 11,
    "start_time": "2021-08-03T16:04:49.250Z"
   },
   {
    "duration": 14,
    "start_time": "2021-08-03T16:04:49.321Z"
   },
   {
    "duration": 13,
    "start_time": "2021-08-03T16:04:49.458Z"
   },
   {
    "duration": 31,
    "start_time": "2021-08-03T16:04:49.602Z"
   },
   {
    "duration": 9,
    "start_time": "2021-08-03T16:04:49.754Z"
   },
   {
    "duration": 15,
    "start_time": "2021-08-03T16:04:49.889Z"
   },
   {
    "duration": 11,
    "start_time": "2021-08-03T16:04:50.034Z"
   },
   {
    "duration": 22,
    "start_time": "2021-08-03T16:04:50.329Z"
   },
   {
    "duration": 19,
    "start_time": "2021-08-03T16:04:50.490Z"
   },
   {
    "duration": 15,
    "start_time": "2021-08-03T16:04:51.073Z"
   },
   {
    "duration": 15,
    "start_time": "2021-08-03T16:04:51.210Z"
   },
   {
    "duration": 11,
    "start_time": "2021-08-03T16:04:51.345Z"
   },
   {
    "duration": 11,
    "start_time": "2021-08-03T16:04:51.474Z"
   },
   {
    "duration": 17,
    "start_time": "2021-08-03T16:04:51.595Z"
   },
   {
    "duration": 11,
    "start_time": "2021-08-03T16:04:51.737Z"
   },
   {
    "duration": 10,
    "start_time": "2021-08-03T16:04:51.883Z"
   },
   {
    "duration": 12,
    "start_time": "2021-08-03T16:04:52.056Z"
   },
   {
    "duration": 21,
    "start_time": "2021-08-03T16:04:52.314Z"
   },
   {
    "duration": 14,
    "start_time": "2021-08-03T16:04:52.505Z"
   },
   {
    "duration": 11,
    "start_time": "2021-08-03T16:04:52.676Z"
   },
   {
    "duration": 14,
    "start_time": "2021-08-03T16:04:53.218Z"
   },
   {
    "duration": 8,
    "start_time": "2021-08-03T16:04:53.529Z"
   },
   {
    "duration": 9,
    "start_time": "2021-08-03T16:04:53.848Z"
   },
   {
    "duration": 4,
    "start_time": "2021-08-03T16:05:58.848Z"
   },
   {
    "duration": 610,
    "start_time": "2021-08-03T16:06:32.241Z"
   },
   {
    "duration": 686,
    "start_time": "2021-08-03T16:07:06.468Z"
   },
   {
    "duration": 720,
    "start_time": "2021-08-03T16:07:12.437Z"
   },
   {
    "duration": 665,
    "start_time": "2021-08-03T16:07:21.524Z"
   },
   {
    "duration": 641,
    "start_time": "2021-08-03T16:08:10.813Z"
   },
   {
    "duration": 784,
    "start_time": "2021-08-03T16:08:20.712Z"
   },
   {
    "duration": 517,
    "start_time": "2021-08-03T16:09:33.510Z"
   },
   {
    "duration": 417,
    "start_time": "2021-08-03T16:09:50.425Z"
   },
   {
    "duration": 410,
    "start_time": "2021-08-03T16:10:30.697Z"
   },
   {
    "duration": 1188,
    "start_time": "2021-08-03T16:10:42.990Z"
   },
   {
    "duration": 937,
    "start_time": "2021-08-03T16:11:20.739Z"
   },
   {
    "duration": 965,
    "start_time": "2021-08-03T16:35:00.761Z"
   },
   {
    "duration": 1000,
    "start_time": "2021-08-03T16:35:42.970Z"
   },
   {
    "duration": 1078,
    "start_time": "2021-08-03T16:36:30.522Z"
   },
   {
    "duration": 786,
    "start_time": "2021-08-03T16:44:13.841Z"
   },
   {
    "duration": 1086,
    "start_time": "2021-08-03T16:44:22.888Z"
   },
   {
    "duration": 788,
    "start_time": "2021-08-03T16:44:42.653Z"
   },
   {
    "duration": 638,
    "start_time": "2021-08-03T16:45:03.416Z"
   },
   {
    "duration": 776,
    "start_time": "2021-08-03T16:45:13.234Z"
   },
   {
    "duration": 1193,
    "start_time": "2021-08-03T16:46:50.364Z"
   },
   {
    "duration": 1338,
    "start_time": "2021-08-03T16:46:56.087Z"
   },
   {
    "duration": 1074,
    "start_time": "2021-08-03T16:47:02.349Z"
   },
   {
    "duration": 1167,
    "start_time": "2021-08-03T16:47:12.616Z"
   },
   {
    "duration": 1052,
    "start_time": "2021-08-03T16:47:58.763Z"
   },
   {
    "duration": 1329,
    "start_time": "2021-08-03T16:48:04.211Z"
   },
   {
    "duration": 1299,
    "start_time": "2021-08-03T16:48:12.317Z"
   },
   {
    "duration": 1186,
    "start_time": "2021-08-03T16:48:30.625Z"
   },
   {
    "duration": 1291,
    "start_time": "2021-08-03T16:48:42.569Z"
   },
   {
    "duration": 1101,
    "start_time": "2021-08-03T16:48:48.691Z"
   },
   {
    "duration": 1118,
    "start_time": "2021-08-03T16:48:54.364Z"
   },
   {
    "duration": 1162,
    "start_time": "2021-08-03T16:49:16.223Z"
   },
   {
    "duration": 1110,
    "start_time": "2021-08-03T16:49:38.128Z"
   },
   {
    "duration": 1252,
    "start_time": "2021-08-03T16:50:00.122Z"
   },
   {
    "duration": 1173,
    "start_time": "2021-08-03T16:50:57.401Z"
   },
   {
    "duration": 1718,
    "start_time": "2021-08-03T16:53:06.183Z"
   },
   {
    "duration": 1774,
    "start_time": "2021-08-03T16:53:30.867Z"
   },
   {
    "duration": 1664,
    "start_time": "2021-08-03T16:53:34.863Z"
   },
   {
    "duration": 1795,
    "start_time": "2021-08-03T16:54:02.563Z"
   },
   {
    "duration": 1739,
    "start_time": "2021-08-03T16:54:11.968Z"
   },
   {
    "duration": 1702,
    "start_time": "2021-08-03T16:54:20.566Z"
   },
   {
    "duration": 1745,
    "start_time": "2021-08-03T16:54:24.872Z"
   },
   {
    "duration": 2078,
    "start_time": "2021-08-03T16:54:56.347Z"
   },
   {
    "duration": 1663,
    "start_time": "2021-08-03T16:55:01.965Z"
   },
   {
    "duration": 1635,
    "start_time": "2021-08-03T16:55:42.357Z"
   },
   {
    "duration": 1805,
    "start_time": "2021-08-03T16:55:49.833Z"
   },
   {
    "duration": 1747,
    "start_time": "2021-08-03T16:55:56.710Z"
   },
   {
    "duration": 1642,
    "start_time": "2021-08-03T16:56:04.051Z"
   },
   {
    "duration": 1678,
    "start_time": "2021-08-03T16:56:23.501Z"
   },
   {
    "duration": 1727,
    "start_time": "2021-08-03T16:56:33.268Z"
   },
   {
    "duration": 1597,
    "start_time": "2021-08-03T16:57:16.610Z"
   },
   {
    "duration": 1802,
    "start_time": "2021-08-03T16:57:29.714Z"
   },
   {
    "duration": 2083,
    "start_time": "2021-08-03T16:58:11.155Z"
   },
   {
    "duration": 1688,
    "start_time": "2021-08-03T16:58:38.034Z"
   },
   {
    "duration": 7,
    "start_time": "2021-08-03T17:11:03.847Z"
   },
   {
    "duration": 9,
    "start_time": "2021-08-03T17:11:07.827Z"
   },
   {
    "duration": 10,
    "start_time": "2021-08-03T17:11:10.676Z"
   },
   {
    "duration": 8,
    "start_time": "2021-08-03T17:11:15.524Z"
   },
   {
    "duration": 8,
    "start_time": "2021-08-03T17:11:18.922Z"
   },
   {
    "duration": 9,
    "start_time": "2021-08-03T17:11:20.122Z"
   },
   {
    "duration": 1582,
    "start_time": "2021-08-03T17:11:31.286Z"
   },
   {
    "duration": 28,
    "start_time": "2021-08-03T17:11:32.871Z"
   },
   {
    "duration": 16,
    "start_time": "2021-08-03T17:11:32.903Z"
   },
   {
    "duration": 19,
    "start_time": "2021-08-03T17:11:32.923Z"
   },
   {
    "duration": 61,
    "start_time": "2021-08-03T17:11:32.945Z"
   },
   {
    "duration": 8,
    "start_time": "2021-08-03T17:11:33.009Z"
   },
   {
    "duration": 11,
    "start_time": "2021-08-03T17:11:33.020Z"
   },
   {
    "duration": 15,
    "start_time": "2021-08-03T17:11:33.034Z"
   },
   {
    "duration": 13,
    "start_time": "2021-08-03T17:11:33.051Z"
   },
   {
    "duration": 40,
    "start_time": "2021-08-03T17:11:33.066Z"
   },
   {
    "duration": 18,
    "start_time": "2021-08-03T17:11:33.110Z"
   },
   {
    "duration": 13,
    "start_time": "2021-08-03T17:11:33.247Z"
   },
   {
    "duration": 14,
    "start_time": "2021-08-03T17:11:33.349Z"
   },
   {
    "duration": 18,
    "start_time": "2021-08-03T17:11:33.504Z"
   },
   {
    "duration": 11,
    "start_time": "2021-08-03T17:11:33.674Z"
   },
   {
    "duration": 11,
    "start_time": "2021-08-03T17:11:33.830Z"
   },
   {
    "duration": 11,
    "start_time": "2021-08-03T17:11:34.031Z"
   },
   {
    "duration": 21,
    "start_time": "2021-08-03T17:11:34.261Z"
   },
   {
    "duration": 14,
    "start_time": "2021-08-03T17:11:34.422Z"
   },
   {
    "duration": 15,
    "start_time": "2021-08-03T17:11:34.581Z"
   },
   {
    "duration": 11,
    "start_time": "2021-08-03T17:11:34.734Z"
   },
   {
    "duration": 11,
    "start_time": "2021-08-03T17:11:34.878Z"
   },
   {
    "duration": 12,
    "start_time": "2021-08-03T17:11:35.031Z"
   },
   {
    "duration": 11,
    "start_time": "2021-08-03T17:11:35.176Z"
   },
   {
    "duration": 11,
    "start_time": "2021-08-03T17:11:35.326Z"
   },
   {
    "duration": 10,
    "start_time": "2021-08-03T17:11:35.479Z"
   },
   {
    "duration": 12,
    "start_time": "2021-08-03T17:11:35.638Z"
   },
   {
    "duration": 14,
    "start_time": "2021-08-03T17:11:35.941Z"
   },
   {
    "duration": 10,
    "start_time": "2021-08-03T17:11:36.103Z"
   },
   {
    "duration": 12,
    "start_time": "2021-08-03T17:11:36.255Z"
   },
   {
    "duration": 11,
    "start_time": "2021-08-03T17:11:36.414Z"
   },
   {
    "duration": 7,
    "start_time": "2021-08-03T17:11:36.718Z"
   },
   {
    "duration": 8,
    "start_time": "2021-08-03T17:11:36.863Z"
   },
   {
    "duration": 5,
    "start_time": "2021-08-03T17:11:37.000Z"
   },
   {
    "duration": 4,
    "start_time": "2021-08-03T17:11:37.301Z"
   },
   {
    "duration": 876,
    "start_time": "2021-08-03T17:11:37.446Z"
   },
   {
    "duration": 684,
    "start_time": "2021-08-03T17:11:38.325Z"
   },
   {
    "duration": 917,
    "start_time": "2021-08-03T17:11:39.013Z"
   },
   {
    "duration": 1718,
    "start_time": "2021-08-03T17:11:39.933Z"
   },
   {
    "duration": 361,
    "start_time": "2021-08-03T17:12:42.685Z"
   },
   {
    "duration": 237,
    "start_time": "2021-08-03T17:12:51.966Z"
   },
   {
    "duration": 219,
    "start_time": "2021-08-03T17:13:13.460Z"
   },
   {
    "duration": 240,
    "start_time": "2021-08-03T17:13:30.302Z"
   },
   {
    "duration": 230,
    "start_time": "2021-08-03T17:13:33.474Z"
   },
   {
    "duration": 220,
    "start_time": "2021-08-03T17:14:08.472Z"
   },
   {
    "duration": 228,
    "start_time": "2021-08-03T17:17:56.774Z"
   },
   {
    "duration": 235,
    "start_time": "2021-08-03T17:18:31.028Z"
   },
   {
    "duration": 1626,
    "start_time": "2021-08-03T17:18:42.847Z"
   },
   {
    "duration": 1884,
    "start_time": "2021-08-03T17:18:51.466Z"
   },
   {
    "duration": 1586,
    "start_time": "2021-08-03T17:18:59.583Z"
   },
   {
    "duration": 1716,
    "start_time": "2021-08-03T17:19:05.450Z"
   },
   {
    "duration": 1687,
    "start_time": "2021-08-03T17:19:16.034Z"
   },
   {
    "duration": 1637,
    "start_time": "2021-08-03T17:19:25.248Z"
   },
   {
    "duration": 1636,
    "start_time": "2021-08-03T17:19:34.507Z"
   },
   {
    "duration": 1613,
    "start_time": "2021-08-03T17:19:53.890Z"
   },
   {
    "duration": 1825,
    "start_time": "2021-08-03T17:20:00.885Z"
   },
   {
    "duration": 3822,
    "start_time": "2021-08-03T17:47:05.674Z"
   },
   {
    "duration": 1603,
    "start_time": "2021-08-03T17:47:13.333Z"
   },
   {
    "duration": 27,
    "start_time": "2021-08-03T17:47:15.051Z"
   },
   {
    "duration": 15,
    "start_time": "2021-08-03T17:47:15.199Z"
   },
   {
    "duration": 17,
    "start_time": "2021-08-03T17:47:15.359Z"
   },
   {
    "duration": 22,
    "start_time": "2021-08-03T17:47:15.483Z"
   },
   {
    "duration": 8,
    "start_time": "2021-08-03T17:47:15.630Z"
   },
   {
    "duration": 8,
    "start_time": "2021-08-03T17:47:15.778Z"
   },
   {
    "duration": 10,
    "start_time": "2021-08-03T17:47:15.939Z"
   },
   {
    "duration": 7,
    "start_time": "2021-08-03T17:47:16.091Z"
   },
   {
    "duration": 18,
    "start_time": "2021-08-03T17:47:16.394Z"
   },
   {
    "duration": 11,
    "start_time": "2021-08-03T17:47:16.536Z"
   },
   {
    "duration": 12,
    "start_time": "2021-08-03T17:47:16.669Z"
   },
   {
    "duration": 13,
    "start_time": "2021-08-03T17:47:16.820Z"
   },
   {
    "duration": 17,
    "start_time": "2021-08-03T17:47:16.964Z"
   },
   {
    "duration": 11,
    "start_time": "2021-08-03T17:47:17.115Z"
   },
   {
    "duration": 10,
    "start_time": "2021-08-03T17:47:17.260Z"
   },
   {
    "duration": 12,
    "start_time": "2021-08-03T17:47:17.410Z"
   },
   {
    "duration": 20,
    "start_time": "2021-08-03T17:47:17.714Z"
   },
   {
    "duration": 13,
    "start_time": "2021-08-03T17:47:17.864Z"
   },
   {
    "duration": 15,
    "start_time": "2021-08-03T17:47:18.018Z"
   },
   {
    "duration": 11,
    "start_time": "2021-08-03T17:47:18.178Z"
   },
   {
    "duration": 11,
    "start_time": "2021-08-03T17:47:18.330Z"
   },
   {
    "duration": 11,
    "start_time": "2021-08-03T17:47:18.490Z"
   },
   {
    "duration": 10,
    "start_time": "2021-08-03T17:47:18.650Z"
   },
   {
    "duration": 11,
    "start_time": "2021-08-03T17:47:18.826Z"
   },
   {
    "duration": 11,
    "start_time": "2021-08-03T17:47:19.124Z"
   },
   {
    "duration": 10,
    "start_time": "2021-08-03T17:47:19.290Z"
   },
   {
    "duration": 13,
    "start_time": "2021-08-03T17:47:19.610Z"
   },
   {
    "duration": 9,
    "start_time": "2021-08-03T17:47:19.787Z"
   },
   {
    "duration": 10,
    "start_time": "2021-08-03T17:47:20.139Z"
   },
   {
    "duration": 11,
    "start_time": "2021-08-03T17:47:20.306Z"
   },
   {
    "duration": 8,
    "start_time": "2021-08-03T17:47:20.634Z"
   },
   {
    "duration": 8,
    "start_time": "2021-08-03T17:47:20.819Z"
   },
   {
    "duration": 6,
    "start_time": "2021-08-03T17:47:21.027Z"
   },
   {
    "duration": 4,
    "start_time": "2021-08-03T17:47:21.618Z"
   },
   {
    "duration": 901,
    "start_time": "2021-08-03T17:47:21.786Z"
   },
   {
    "duration": 701,
    "start_time": "2021-08-03T17:47:22.690Z"
   },
   {
    "duration": 914,
    "start_time": "2021-08-03T17:47:23.402Z"
   },
   {
    "duration": 1694,
    "start_time": "2021-08-03T17:47:24.318Z"
   },
   {
    "duration": 250,
    "start_time": "2021-08-03T17:47:26.014Z"
   },
   {
    "duration": 524,
    "start_time": "2021-08-03T17:50:11.959Z"
   },
   {
    "duration": 7,
    "start_time": "2021-08-03T17:50:18.580Z"
   },
   {
    "duration": 4,
    "start_time": "2021-08-03T17:50:35.071Z"
   },
   {
    "duration": 5,
    "start_time": "2021-08-03T17:50:43.225Z"
   },
   {
    "duration": 5,
    "start_time": "2021-08-03T17:51:06.274Z"
   },
   {
    "duration": 5,
    "start_time": "2021-08-03T17:51:27.224Z"
   },
   {
    "duration": 835,
    "start_time": "2021-08-03T17:52:00.856Z"
   },
   {
    "duration": 117,
    "start_time": "2021-08-03T17:52:12.029Z"
   },
   {
    "duration": 8,
    "start_time": "2021-08-03T17:52:16.656Z"
   },
   {
    "duration": 7,
    "start_time": "2021-08-03T17:54:16.710Z"
   },
   {
    "duration": 11,
    "start_time": "2021-08-03T17:55:39.585Z"
   },
   {
    "duration": 9,
    "start_time": "2021-08-03T17:55:49.483Z"
   },
   {
    "duration": 130,
    "start_time": "2021-08-03T17:56:09.583Z"
   },
   {
    "duration": 10,
    "start_time": "2021-08-03T17:56:21.255Z"
   },
   {
    "duration": 9,
    "start_time": "2021-08-03T17:56:54.268Z"
   },
   {
    "duration": 10,
    "start_time": "2021-08-03T17:57:00.644Z"
   },
   {
    "duration": 10,
    "start_time": "2021-08-03T17:57:48.838Z"
   },
   {
    "duration": 9,
    "start_time": "2021-08-03T17:58:42.976Z"
   },
   {
    "duration": 10,
    "start_time": "2021-08-03T17:58:46.767Z"
   },
   {
    "duration": 10,
    "start_time": "2021-08-03T17:59:07.189Z"
   },
   {
    "duration": 10,
    "start_time": "2021-08-03T17:59:12.564Z"
   },
   {
    "duration": 366,
    "start_time": "2021-08-03T18:03:18.903Z"
   },
   {
    "duration": 632,
    "start_time": "2021-08-03T18:03:46.804Z"
   },
   {
    "duration": 370,
    "start_time": "2021-08-03T18:04:17.144Z"
   },
   {
    "duration": 600,
    "start_time": "2021-08-03T18:04:33.234Z"
   },
   {
    "duration": 632,
    "start_time": "2021-08-03T18:04:54.582Z"
   },
   {
    "duration": 5,
    "start_time": "2021-08-03T18:08:29.872Z"
   },
   {
    "duration": 5,
    "start_time": "2021-08-03T18:08:37.788Z"
   },
   {
    "duration": 12,
    "start_time": "2021-08-03T18:10:04.974Z"
   },
   {
    "duration": 15,
    "start_time": "2021-08-03T18:10:51.603Z"
   },
   {
    "duration": 13,
    "start_time": "2021-08-03T18:11:21.973Z"
   },
   {
    "duration": 12,
    "start_time": "2021-08-03T18:11:37.264Z"
   },
   {
    "duration": 10,
    "start_time": "2021-08-03T18:12:08.022Z"
   },
   {
    "duration": 378,
    "start_time": "2021-08-03T18:24:59.140Z"
   },
   {
    "duration": 8801,
    "start_time": "2021-08-03T18:25:37.850Z"
   },
   {
    "duration": 10186,
    "start_time": "2021-08-03T18:26:02.343Z"
   },
   {
    "duration": 419,
    "start_time": "2021-08-03T18:26:30.165Z"
   },
   {
    "duration": 855,
    "start_time": "2021-08-03T18:27:01.786Z"
   },
   {
    "duration": 13,
    "start_time": "2021-08-03T18:27:12.645Z"
   },
   {
    "duration": 21,
    "start_time": "2021-08-03T18:27:35.447Z"
   },
   {
    "duration": 370,
    "start_time": "2021-08-03T18:27:42.122Z"
   },
   {
    "duration": 31,
    "start_time": "2021-08-03T18:27:47.770Z"
   },
   {
    "duration": 415,
    "start_time": "2021-08-03T18:28:07.788Z"
   },
   {
    "duration": 31,
    "start_time": "2021-08-03T18:29:01.004Z"
   },
   {
    "duration": 356,
    "start_time": "2021-08-03T18:29:47.614Z"
   },
   {
    "duration": 17,
    "start_time": "2021-08-03T18:29:51.690Z"
   },
   {
    "duration": 36,
    "start_time": "2021-08-03T18:30:00.848Z"
   },
   {
    "duration": 24,
    "start_time": "2021-08-03T18:30:32.005Z"
   },
   {
    "duration": 387,
    "start_time": "2021-08-03T18:31:41.561Z"
   },
   {
    "duration": 14,
    "start_time": "2021-08-03T18:31:56.516Z"
   },
   {
    "duration": 14,
    "start_time": "2021-08-03T18:32:15.712Z"
   },
   {
    "duration": 14,
    "start_time": "2021-08-03T18:32:39.331Z"
   },
   {
    "duration": 13,
    "start_time": "2021-08-03T18:33:07.701Z"
   },
   {
    "duration": 14,
    "start_time": "2021-08-03T18:33:18.301Z"
   },
   {
    "duration": 12,
    "start_time": "2021-08-03T18:33:30.479Z"
   },
   {
    "duration": 35,
    "start_time": "2021-08-03T18:34:20.293Z"
   },
   {
    "duration": 31,
    "start_time": "2021-08-03T18:34:46.732Z"
   },
   {
    "duration": 1572,
    "start_time": "2021-08-03T18:36:21.500Z"
   },
   {
    "duration": 26,
    "start_time": "2021-08-03T18:36:23.074Z"
   },
   {
    "duration": 17,
    "start_time": "2021-08-03T18:36:23.111Z"
   },
   {
    "duration": 18,
    "start_time": "2021-08-03T18:36:23.131Z"
   },
   {
    "duration": 19,
    "start_time": "2021-08-03T18:36:23.151Z"
   },
   {
    "duration": 13,
    "start_time": "2021-08-03T18:36:23.206Z"
   },
   {
    "duration": 7,
    "start_time": "2021-08-03T18:36:23.222Z"
   },
   {
    "duration": 15,
    "start_time": "2021-08-03T18:36:23.232Z"
   },
   {
    "duration": 7,
    "start_time": "2021-08-03T18:36:23.249Z"
   },
   {
    "duration": 54,
    "start_time": "2021-08-03T18:36:23.258Z"
   },
   {
    "duration": 11,
    "start_time": "2021-08-03T18:36:23.316Z"
   },
   {
    "duration": 20,
    "start_time": "2021-08-03T18:36:23.329Z"
   },
   {
    "duration": 13,
    "start_time": "2021-08-03T18:36:23.469Z"
   },
   {
    "duration": 12,
    "start_time": "2021-08-03T18:36:23.607Z"
   },
   {
    "duration": 19,
    "start_time": "2021-08-03T18:36:23.861Z"
   },
   {
    "duration": 23,
    "start_time": "2021-08-03T18:36:24.021Z"
   },
   {
    "duration": 20,
    "start_time": "2021-08-03T18:36:24.316Z"
   },
   {
    "duration": 13,
    "start_time": "2021-08-03T18:36:24.464Z"
   },
   {
    "duration": 22,
    "start_time": "2021-08-03T18:36:24.598Z"
   },
   {
    "duration": 12,
    "start_time": "2021-08-03T18:36:24.743Z"
   },
   {
    "duration": 20,
    "start_time": "2021-08-03T18:36:24.895Z"
   },
   {
    "duration": 11,
    "start_time": "2021-08-03T18:36:25.045Z"
   },
   {
    "duration": 16,
    "start_time": "2021-08-03T18:36:25.205Z"
   },
   {
    "duration": 11,
    "start_time": "2021-08-03T18:36:25.365Z"
   },
   {
    "duration": 12,
    "start_time": "2021-08-03T18:36:25.511Z"
   },
   {
    "duration": 11,
    "start_time": "2021-08-03T18:36:25.662Z"
   },
   {
    "duration": 12,
    "start_time": "2021-08-03T18:36:25.964Z"
   },
   {
    "duration": 10,
    "start_time": "2021-08-03T18:36:26.119Z"
   },
   {
    "duration": 10,
    "start_time": "2021-08-03T18:36:26.277Z"
   },
   {
    "duration": 12,
    "start_time": "2021-08-03T18:36:27.580Z"
   },
   {
    "duration": 9,
    "start_time": "2021-08-03T18:36:28.280Z"
   },
   {
    "duration": 9,
    "start_time": "2021-08-03T18:36:28.420Z"
   },
   {
    "duration": 8,
    "start_time": "2021-08-03T18:36:29.013Z"
   },
   {
    "duration": 4,
    "start_time": "2021-08-03T18:36:30.684Z"
   },
   {
    "duration": 934,
    "start_time": "2021-08-03T18:36:30.837Z"
   },
   {
    "duration": 750,
    "start_time": "2021-08-03T18:36:31.774Z"
   },
   {
    "duration": 985,
    "start_time": "2021-08-03T18:36:32.527Z"
   },
   {
    "duration": 1733,
    "start_time": "2021-08-03T18:36:33.515Z"
   },
   {
    "duration": 252,
    "start_time": "2021-08-03T18:36:35.250Z"
   },
   {
    "duration": 801,
    "start_time": "2021-08-03T18:36:48.408Z"
   },
   {
    "duration": 650,
    "start_time": "2021-08-03T18:36:57.405Z"
   },
   {
    "duration": 831,
    "start_time": "2021-08-03T18:37:01.208Z"
   },
   {
    "duration": 9,
    "start_time": "2021-08-03T18:37:17.222Z"
   },
   {
    "duration": 9,
    "start_time": "2021-08-03T18:37:17.374Z"
   },
   {
    "duration": 9,
    "start_time": "2021-08-03T18:37:17.520Z"
   },
   {
    "duration": 9,
    "start_time": "2021-08-03T18:37:17.656Z"
   },
   {
    "duration": 17,
    "start_time": "2021-08-03T18:37:17.803Z"
   },
   {
    "duration": 14,
    "start_time": "2021-08-03T18:37:17.954Z"
   },
   {
    "duration": 11,
    "start_time": "2021-08-03T18:37:18.105Z"
   },
   {
    "duration": 534,
    "start_time": "2021-08-03T18:37:18.417Z"
   },
   {
    "duration": 14,
    "start_time": "2021-08-03T18:37:19.390Z"
   },
   {
    "duration": 25,
    "start_time": "2021-08-03T18:37:19.941Z"
   },
   {
    "duration": 3,
    "start_time": "2021-08-03T18:37:27.118Z"
   },
   {
    "duration": 7,
    "start_time": "2021-08-03T18:37:37.634Z"
   },
   {
    "duration": 2949,
    "start_time": "2021-08-03T18:38:08.016Z"
   },
   {
    "duration": 2999,
    "start_time": "2021-08-03T18:38:17.947Z"
   },
   {
    "duration": 1556,
    "start_time": "2021-08-03T18:38:46.623Z"
   },
   {
    "duration": 33,
    "start_time": "2021-08-03T18:38:48.182Z"
   },
   {
    "duration": 15,
    "start_time": "2021-08-03T18:38:48.224Z"
   },
   {
    "duration": 20,
    "start_time": "2021-08-03T18:38:48.242Z"
   },
   {
    "duration": 51,
    "start_time": "2021-08-03T18:38:48.264Z"
   },
   {
    "duration": 9,
    "start_time": "2021-08-03T18:38:48.318Z"
   },
   {
    "duration": 8,
    "start_time": "2021-08-03T18:38:48.330Z"
   },
   {
    "duration": 10,
    "start_time": "2021-08-03T18:38:48.342Z"
   },
   {
    "duration": 55,
    "start_time": "2021-08-03T18:38:48.355Z"
   },
   {
    "duration": 24,
    "start_time": "2021-08-03T18:38:48.412Z"
   },
   {
    "duration": 13,
    "start_time": "2021-08-03T18:38:48.438Z"
   },
   {
    "duration": 22,
    "start_time": "2021-08-03T18:38:48.505Z"
   },
   {
    "duration": 31,
    "start_time": "2021-08-03T18:38:48.662Z"
   },
   {
    "duration": 11,
    "start_time": "2021-08-03T18:38:48.789Z"
   },
   {
    "duration": 11,
    "start_time": "2021-08-03T18:38:48.941Z"
   },
   {
    "duration": 13,
    "start_time": "2021-08-03T18:38:49.093Z"
   },
   {
    "duration": 25,
    "start_time": "2021-08-03T18:38:49.400Z"
   },
   {
    "duration": 13,
    "start_time": "2021-08-03T18:38:49.560Z"
   },
   {
    "duration": 17,
    "start_time": "2021-08-03T18:38:49.711Z"
   },
   {
    "duration": 11,
    "start_time": "2021-08-03T18:38:49.854Z"
   },
   {
    "duration": 20,
    "start_time": "2021-08-03T18:38:49.997Z"
   },
   {
    "duration": 10,
    "start_time": "2021-08-03T18:38:50.142Z"
   },
   {
    "duration": 11,
    "start_time": "2021-08-03T18:38:50.430Z"
   },
   {
    "duration": 11,
    "start_time": "2021-08-03T18:38:50.590Z"
   },
   {
    "duration": 11,
    "start_time": "2021-08-03T18:38:50.741Z"
   },
   {
    "duration": 13,
    "start_time": "2021-08-03T18:38:50.896Z"
   },
   {
    "duration": 14,
    "start_time": "2021-08-03T18:38:51.207Z"
   },
   {
    "duration": 10,
    "start_time": "2021-08-03T18:38:51.358Z"
   },
   {
    "duration": 11,
    "start_time": "2021-08-03T18:38:51.518Z"
   },
   {
    "duration": 12,
    "start_time": "2021-08-03T18:38:51.673Z"
   },
   {
    "duration": 7,
    "start_time": "2021-08-03T18:38:51.974Z"
   },
   {
    "duration": 8,
    "start_time": "2021-08-03T18:38:52.263Z"
   },
   {
    "duration": 6,
    "start_time": "2021-08-03T18:38:52.415Z"
   },
   {
    "duration": 5,
    "start_time": "2021-08-03T18:38:52.711Z"
   },
   {
    "duration": 815,
    "start_time": "2021-08-03T18:38:52.878Z"
   },
   {
    "duration": 683,
    "start_time": "2021-08-03T18:38:53.700Z"
   },
   {
    "duration": 861,
    "start_time": "2021-08-03T18:38:54.386Z"
   },
   {
    "duration": 2069,
    "start_time": "2021-08-03T18:38:55.251Z"
   },
   {
    "duration": 278,
    "start_time": "2021-08-03T18:38:57.322Z"
   },
   {
    "duration": 10,
    "start_time": "2021-08-03T18:38:57.603Z"
   },
   {
    "duration": 15,
    "start_time": "2021-08-03T18:38:57.616Z"
   },
   {
    "duration": 9,
    "start_time": "2021-08-03T18:38:57.636Z"
   },
   {
    "duration": 55,
    "start_time": "2021-08-03T18:38:57.648Z"
   },
   {
    "duration": 18,
    "start_time": "2021-08-03T18:38:57.705Z"
   },
   {
    "duration": 18,
    "start_time": "2021-08-03T18:38:57.726Z"
   },
   {
    "duration": 9,
    "start_time": "2021-08-03T18:38:57.747Z"
   },
   {
    "duration": 522,
    "start_time": "2021-08-03T18:38:57.759Z"
   },
   {
    "duration": 387,
    "start_time": "2021-08-03T18:38:57.897Z"
   },
   {
    "duration": 23,
    "start_time": "2021-08-03T18:38:58.934Z"
   },
   {
    "duration": 7,
    "start_time": "2021-08-03T18:38:59.126Z"
   },
   {
    "duration": 33,
    "start_time": "2021-08-03T18:38:59.550Z"
   },
   {
    "duration": 133,
    "start_time": "2021-08-03T18:38:59.952Z"
   },
   {
    "duration": 1585,
    "start_time": "2021-08-03T18:39:57.852Z"
   },
   {
    "duration": 29,
    "start_time": "2021-08-03T18:39:59.440Z"
   },
   {
    "duration": 15,
    "start_time": "2021-08-03T18:39:59.472Z"
   },
   {
    "duration": 31,
    "start_time": "2021-08-03T18:39:59.489Z"
   },
   {
    "duration": 20,
    "start_time": "2021-08-03T18:39:59.523Z"
   },
   {
    "duration": 8,
    "start_time": "2021-08-03T18:39:59.545Z"
   },
   {
    "duration": 7,
    "start_time": "2021-08-03T18:39:59.556Z"
   },
   {
    "duration": 14,
    "start_time": "2021-08-03T18:39:59.601Z"
   },
   {
    "duration": 8,
    "start_time": "2021-08-03T18:39:59.619Z"
   },
   {
    "duration": 16,
    "start_time": "2021-08-03T18:39:59.630Z"
   },
   {
    "duration": 12,
    "start_time": "2021-08-03T18:39:59.657Z"
   },
   {
    "duration": 20,
    "start_time": "2021-08-03T18:39:59.789Z"
   },
   {
    "duration": 32,
    "start_time": "2021-08-03T18:40:00.091Z"
   },
   {
    "duration": 9,
    "start_time": "2021-08-03T18:40:00.242Z"
   },
   {
    "duration": 16,
    "start_time": "2021-08-03T18:40:00.398Z"
   },
   {
    "duration": 11,
    "start_time": "2021-08-03T18:40:00.523Z"
   },
   {
    "duration": 19,
    "start_time": "2021-08-03T18:40:00.827Z"
   },
   {
    "duration": 12,
    "start_time": "2021-08-03T18:40:00.978Z"
   },
   {
    "duration": 16,
    "start_time": "2021-08-03T18:40:01.125Z"
   },
   {
    "duration": 10,
    "start_time": "2021-08-03T18:40:01.284Z"
   },
   {
    "duration": 14,
    "start_time": "2021-08-03T18:40:01.434Z"
   },
   {
    "duration": 15,
    "start_time": "2021-08-03T18:40:01.603Z"
   },
   {
    "duration": 10,
    "start_time": "2021-08-03T18:40:01.752Z"
   },
   {
    "duration": 14,
    "start_time": "2021-08-03T18:40:02.021Z"
   },
   {
    "duration": 12,
    "start_time": "2021-08-03T18:40:02.175Z"
   },
   {
    "duration": 11,
    "start_time": "2021-08-03T18:40:02.325Z"
   },
   {
    "duration": 12,
    "start_time": "2021-08-03T18:40:02.635Z"
   },
   {
    "duration": 11,
    "start_time": "2021-08-03T18:40:02.769Z"
   },
   {
    "duration": 15,
    "start_time": "2021-08-03T18:40:02.903Z"
   },
   {
    "duration": 10,
    "start_time": "2021-08-03T18:40:03.056Z"
   },
   {
    "duration": 8,
    "start_time": "2021-08-03T18:40:03.359Z"
   },
   {
    "duration": 9,
    "start_time": "2021-08-03T18:40:03.510Z"
   },
   {
    "duration": 6,
    "start_time": "2021-08-03T18:40:03.646Z"
   },
   {
    "duration": 4,
    "start_time": "2021-08-03T18:40:04.083Z"
   },
   {
    "duration": 806,
    "start_time": "2021-08-03T18:40:04.235Z"
   },
   {
    "duration": 684,
    "start_time": "2021-08-03T18:40:05.044Z"
   },
   {
    "duration": 858,
    "start_time": "2021-08-03T18:40:05.733Z"
   },
   {
    "duration": 1767,
    "start_time": "2021-08-03T18:40:06.602Z"
   },
   {
    "duration": 261,
    "start_time": "2021-08-03T18:40:08.372Z"
   },
   {
    "duration": 9,
    "start_time": "2021-08-03T18:40:08.635Z"
   },
   {
    "duration": 23,
    "start_time": "2021-08-03T18:40:08.646Z"
   },
   {
    "duration": 32,
    "start_time": "2021-08-03T18:40:08.672Z"
   },
   {
    "duration": 13,
    "start_time": "2021-08-03T18:40:08.707Z"
   },
   {
    "duration": 14,
    "start_time": "2021-08-03T18:40:08.723Z"
   },
   {
    "duration": 12,
    "start_time": "2021-08-03T18:40:08.740Z"
   },
   {
    "duration": 55,
    "start_time": "2021-08-03T18:40:08.755Z"
   },
   {
    "duration": 486,
    "start_time": "2021-08-03T18:40:08.813Z"
   },
   {
    "duration": 385,
    "start_time": "2021-08-03T18:40:08.916Z"
   },
   {
    "duration": 384,
    "start_time": "2021-08-03T18:40:08.919Z"
   },
   {
    "duration": 383,
    "start_time": "2021-08-03T18:40:08.921Z"
   },
   {
    "duration": 382,
    "start_time": "2021-08-03T18:40:08.925Z"
   },
   {
    "duration": 28,
    "start_time": "2021-08-03T18:40:15.083Z"
   },
   {
    "duration": 7,
    "start_time": "2021-08-03T18:40:15.269Z"
   },
   {
    "duration": 360,
    "start_time": "2021-08-03T18:40:15.398Z"
   },
   {
    "duration": 415,
    "start_time": "2021-08-03T18:41:37.489Z"
   },
   {
    "duration": 15,
    "start_time": "2021-08-03T18:41:42.606Z"
   },
   {
    "duration": 9,
    "start_time": "2021-08-03T18:41:46.572Z"
   },
   {
    "duration": 356,
    "start_time": "2021-08-03T18:42:30.011Z"
   },
   {
    "duration": 10,
    "start_time": "2021-08-03T18:42:48.013Z"
   },
   {
    "duration": 1688,
    "start_time": "2021-08-03T18:43:12.371Z"
   },
   {
    "duration": 26,
    "start_time": "2021-08-03T18:43:14.062Z"
   },
   {
    "duration": 20,
    "start_time": "2021-08-03T18:43:14.091Z"
   },
   {
    "duration": 25,
    "start_time": "2021-08-03T18:43:14.115Z"
   },
   {
    "duration": 21,
    "start_time": "2021-08-03T18:43:14.142Z"
   },
   {
    "duration": 42,
    "start_time": "2021-08-03T18:43:14.165Z"
   },
   {
    "duration": 10,
    "start_time": "2021-08-03T18:43:14.210Z"
   },
   {
    "duration": 14,
    "start_time": "2021-08-03T18:43:14.225Z"
   },
   {
    "duration": 16,
    "start_time": "2021-08-03T18:43:14.242Z"
   },
   {
    "duration": 61,
    "start_time": "2021-08-03T18:43:14.262Z"
   },
   {
    "duration": 13,
    "start_time": "2021-08-03T18:43:14.398Z"
   },
   {
    "duration": 13,
    "start_time": "2021-08-03T18:43:14.563Z"
   },
   {
    "duration": 21,
    "start_time": "2021-08-03T18:43:14.716Z"
   },
   {
    "duration": 10,
    "start_time": "2021-08-03T18:43:14.864Z"
   },
   {
    "duration": 15,
    "start_time": "2021-08-03T18:43:15.015Z"
   },
   {
    "duration": 11,
    "start_time": "2021-08-03T18:43:15.166Z"
   },
   {
    "duration": 38,
    "start_time": "2021-08-03T18:43:15.491Z"
   },
   {
    "duration": 25,
    "start_time": "2021-08-03T18:43:15.604Z"
   },
   {
    "duration": 16,
    "start_time": "2021-08-03T18:43:15.771Z"
   },
   {
    "duration": 10,
    "start_time": "2021-08-03T18:43:15.932Z"
   },
   {
    "duration": 14,
    "start_time": "2021-08-03T18:43:16.093Z"
   },
   {
    "duration": 14,
    "start_time": "2021-08-03T18:43:16.260Z"
   },
   {
    "duration": 15,
    "start_time": "2021-08-03T18:43:16.421Z"
   },
   {
    "duration": 17,
    "start_time": "2021-08-03T18:43:16.594Z"
   },
   {
    "duration": 11,
    "start_time": "2021-08-03T18:43:16.757Z"
   },
   {
    "duration": 15,
    "start_time": "2021-08-03T18:43:16.915Z"
   },
   {
    "duration": 13,
    "start_time": "2021-08-03T18:43:17.227Z"
   },
   {
    "duration": 20,
    "start_time": "2021-08-03T18:43:17.396Z"
   },
   {
    "duration": 10,
    "start_time": "2021-08-03T18:43:17.542Z"
   },
   {
    "duration": 25,
    "start_time": "2021-08-03T18:43:17.698Z"
   },
   {
    "duration": 11,
    "start_time": "2021-08-03T18:43:18.012Z"
   },
   {
    "duration": 8,
    "start_time": "2021-08-03T18:43:18.164Z"
   },
   {
    "duration": 6,
    "start_time": "2021-08-03T18:43:18.326Z"
   },
   {
    "duration": 4,
    "start_time": "2021-08-03T18:43:18.778Z"
   },
   {
    "duration": 952,
    "start_time": "2021-08-03T18:43:19.115Z"
   },
   {
    "duration": 723,
    "start_time": "2021-08-03T18:43:20.069Z"
   },
   {
    "duration": 877,
    "start_time": "2021-08-03T18:43:20.804Z"
   },
   {
    "duration": 1885,
    "start_time": "2021-08-03T18:43:21.684Z"
   },
   {
    "duration": 279,
    "start_time": "2021-08-03T18:43:23.572Z"
   },
   {
    "duration": 9,
    "start_time": "2021-08-03T18:43:23.853Z"
   },
   {
    "duration": 40,
    "start_time": "2021-08-03T18:43:23.864Z"
   },
   {
    "duration": 11,
    "start_time": "2021-08-03T18:43:23.909Z"
   },
   {
    "duration": 10,
    "start_time": "2021-08-03T18:43:23.923Z"
   },
   {
    "duration": 18,
    "start_time": "2021-08-03T18:43:23.936Z"
   },
   {
    "duration": 55,
    "start_time": "2021-08-03T18:43:23.957Z"
   },
   {
    "duration": 10,
    "start_time": "2021-08-03T18:43:24.015Z"
   },
   {
    "duration": 498,
    "start_time": "2021-08-03T18:43:24.028Z"
   },
   {
    "duration": 394,
    "start_time": "2021-08-03T18:43:24.135Z"
   },
   {
    "duration": 390,
    "start_time": "2021-08-03T18:43:24.141Z"
   },
   {
    "duration": 18,
    "start_time": "2021-08-03T18:43:24.923Z"
   },
   {
    "duration": 39,
    "start_time": "2021-08-03T18:43:34.644Z"
   },
   {
    "duration": 17,
    "start_time": "2021-08-03T18:43:43.635Z"
   },
   {
    "duration": 18,
    "start_time": "2021-08-03T18:43:46.172Z"
   },
   {
    "duration": 25,
    "start_time": "2021-08-03T18:44:12.830Z"
   },
   {
    "duration": 23,
    "start_time": "2021-08-03T18:44:25.716Z"
   },
   {
    "duration": 13,
    "start_time": "2021-08-03T18:44:41.769Z"
   },
   {
    "duration": 1554,
    "start_time": "2021-08-03T18:46:54.303Z"
   },
   {
    "duration": 1528,
    "start_time": "2021-08-03T18:48:11.731Z"
   },
   {
    "duration": 6,
    "start_time": "2021-08-03T18:48:26.487Z"
   },
   {
    "duration": 7,
    "start_time": "2021-08-03T18:48:32.723Z"
   },
   {
    "duration": 10,
    "start_time": "2021-08-03T18:48:39.736Z"
   },
   {
    "duration": 357,
    "start_time": "2021-08-03T18:48:53.565Z"
   },
   {
    "duration": 15,
    "start_time": "2021-08-03T18:48:57.915Z"
   },
   {
    "duration": 16,
    "start_time": "2021-08-03T18:49:33.150Z"
   },
   {
    "duration": 10,
    "start_time": "2021-08-03T18:49:37.668Z"
   },
   {
    "duration": 1182,
    "start_time": "2021-08-03T18:50:49.096Z"
   },
   {
    "duration": 15,
    "start_time": "2021-08-03T18:51:28.320Z"
   },
   {
    "duration": 7,
    "start_time": "2021-08-03T18:51:33.188Z"
   },
   {
    "duration": 158,
    "start_time": "2021-08-03T18:51:39.750Z"
   },
   {
    "duration": 18,
    "start_time": "2021-08-03T18:51:41.541Z"
   },
   {
    "duration": 390,
    "start_time": "2021-08-03T18:52:45.948Z"
   },
   {
    "duration": 125,
    "start_time": "2021-08-03T18:53:42.134Z"
   },
   {
    "duration": 128,
    "start_time": "2021-08-03T18:53:49.353Z"
   },
   {
    "duration": 369,
    "start_time": "2021-08-03T18:53:52.582Z"
   },
   {
    "duration": 371,
    "start_time": "2021-08-03T19:07:18.487Z"
   },
   {
    "duration": 377,
    "start_time": "2021-08-03T19:07:23.501Z"
   },
   {
    "duration": 8,
    "start_time": "2021-08-03T19:07:41.348Z"
   },
   {
    "duration": 22,
    "start_time": "2021-08-03T19:07:52.318Z"
   },
   {
    "duration": 11,
    "start_time": "2021-08-03T19:08:17.470Z"
   },
   {
    "duration": 463,
    "start_time": "2021-08-03T19:09:48.660Z"
   },
   {
    "duration": 358,
    "start_time": "2021-08-03T19:10:16.526Z"
   },
   {
    "duration": 293,
    "start_time": "2021-08-03T19:10:28.615Z"
   },
   {
    "duration": 199,
    "start_time": "2021-08-03T19:10:34.957Z"
   },
   {
    "duration": 224,
    "start_time": "2021-08-03T19:10:41.296Z"
   },
   {
    "duration": 482,
    "start_time": "2021-08-03T19:12:07.673Z"
   },
   {
    "duration": 5,
    "start_time": "2021-08-03T19:12:26.630Z"
   },
   {
    "duration": 5,
    "start_time": "2021-08-03T19:12:30.171Z"
   },
   {
    "duration": 12,
    "start_time": "2021-08-03T19:13:20.764Z"
   },
   {
    "duration": 32,
    "start_time": "2021-08-03T19:13:30.524Z"
   },
   {
    "duration": 39,
    "start_time": "2021-08-03T19:13:36.888Z"
   },
   {
    "duration": 13,
    "start_time": "2021-08-03T19:14:07.259Z"
   },
   {
    "duration": 743,
    "start_time": "2021-08-03T19:14:23.427Z"
   },
   {
    "duration": 766,
    "start_time": "2021-08-03T19:15:09.318Z"
   },
   {
    "duration": 708,
    "start_time": "2021-08-03T19:15:42.952Z"
   },
   {
    "duration": 1215,
    "start_time": "2021-08-03T19:16:31.549Z"
   },
   {
    "duration": 745,
    "start_time": "2021-08-03T19:16:47.641Z"
   },
   {
    "duration": 769,
    "start_time": "2021-08-03T19:16:54.336Z"
   },
   {
    "duration": 777,
    "start_time": "2021-08-03T19:17:11.454Z"
   },
   {
    "duration": 917,
    "start_time": "2021-08-03T19:17:36.666Z"
   },
   {
    "duration": 857,
    "start_time": "2021-08-03T19:17:48.332Z"
   },
   {
    "duration": 911,
    "start_time": "2021-08-03T19:18:14.826Z"
   },
   {
    "duration": 1828,
    "start_time": "2021-08-03T19:19:19.267Z"
   },
   {
    "duration": 1789,
    "start_time": "2021-08-03T19:19:30.096Z"
   },
   {
    "duration": 1877,
    "start_time": "2021-08-03T19:19:36.266Z"
   },
   {
    "duration": 1897,
    "start_time": "2021-08-03T19:20:22.485Z"
   },
   {
    "duration": 275,
    "start_time": "2021-08-03T19:20:48.520Z"
   },
   {
    "duration": 216,
    "start_time": "2021-08-03T19:21:36.536Z"
   },
   {
    "duration": 226,
    "start_time": "2021-08-03T19:21:36.806Z"
   },
   {
    "duration": 222,
    "start_time": "2021-08-03T19:21:37.035Z"
   },
   {
    "duration": 1717,
    "start_time": "2021-08-03T19:21:55.623Z"
   },
   {
    "duration": 26,
    "start_time": "2021-08-03T19:21:57.349Z"
   },
   {
    "duration": 41,
    "start_time": "2021-08-03T19:21:57.378Z"
   },
   {
    "duration": 29,
    "start_time": "2021-08-03T19:21:57.423Z"
   },
   {
    "duration": 19,
    "start_time": "2021-08-03T19:21:57.454Z"
   },
   {
    "duration": 30,
    "start_time": "2021-08-03T19:21:57.476Z"
   },
   {
    "duration": 23,
    "start_time": "2021-08-03T19:21:57.515Z"
   },
   {
    "duration": 15,
    "start_time": "2021-08-03T19:21:57.542Z"
   },
   {
    "duration": 15,
    "start_time": "2021-08-03T19:21:57.560Z"
   },
   {
    "duration": 31,
    "start_time": "2021-08-03T19:21:57.578Z"
   },
   {
    "duration": 16,
    "start_time": "2021-08-03T19:21:57.613Z"
   },
   {
    "duration": 19,
    "start_time": "2021-08-03T19:21:57.631Z"
   },
   {
    "duration": 12,
    "start_time": "2021-08-03T19:21:57.652Z"
   },
   {
    "duration": 49,
    "start_time": "2021-08-03T19:21:57.666Z"
   },
   {
    "duration": 16,
    "start_time": "2021-08-03T19:21:57.794Z"
   },
   {
    "duration": 44,
    "start_time": "2021-08-03T19:21:57.936Z"
   },
   {
    "duration": 26,
    "start_time": "2021-08-03T19:21:58.223Z"
   },
   {
    "duration": 14,
    "start_time": "2021-08-03T19:21:58.374Z"
   },
   {
    "duration": 21,
    "start_time": "2021-08-03T19:21:58.487Z"
   },
   {
    "duration": 11,
    "start_time": "2021-08-03T19:21:58.649Z"
   },
   {
    "duration": 10,
    "start_time": "2021-08-03T19:21:58.787Z"
   },
   {
    "duration": 15,
    "start_time": "2021-08-03T19:21:58.923Z"
   },
   {
    "duration": 11,
    "start_time": "2021-08-03T19:21:59.067Z"
   },
   {
    "duration": 15,
    "start_time": "2021-08-03T19:21:59.204Z"
   },
   {
    "duration": 11,
    "start_time": "2021-08-03T19:21:59.339Z"
   },
   {
    "duration": 11,
    "start_time": "2021-08-03T19:21:59.474Z"
   },
   {
    "duration": 13,
    "start_time": "2021-08-03T19:21:59.758Z"
   },
   {
    "duration": 15,
    "start_time": "2021-08-03T19:21:59.897Z"
   },
   {
    "duration": 17,
    "start_time": "2021-08-03T19:22:00.040Z"
   },
   {
    "duration": 11,
    "start_time": "2021-08-03T19:22:00.186Z"
   },
   {
    "duration": 7,
    "start_time": "2021-08-03T19:22:00.479Z"
   },
   {
    "duration": 11,
    "start_time": "2021-08-03T19:22:00.624Z"
   },
   {
    "duration": 7,
    "start_time": "2021-08-03T19:22:00.768Z"
   },
   {
    "duration": 4,
    "start_time": "2021-08-03T19:22:01.055Z"
   },
   {
    "duration": 921,
    "start_time": "2021-08-03T19:22:01.207Z"
   },
   {
    "duration": 757,
    "start_time": "2021-08-03T19:22:02.132Z"
   },
   {
    "duration": 929,
    "start_time": "2021-08-03T19:22:02.893Z"
   },
   {
    "duration": 1913,
    "start_time": "2021-08-03T19:22:03.826Z"
   },
   {
    "duration": 277,
    "start_time": "2021-08-03T19:22:05.742Z"
   },
   {
    "duration": 15,
    "start_time": "2021-08-03T19:22:06.026Z"
   },
   {
    "duration": 10,
    "start_time": "2021-08-03T19:22:06.043Z"
   },
   {
    "duration": 8,
    "start_time": "2021-08-03T19:22:06.057Z"
   },
   {
    "duration": 45,
    "start_time": "2021-08-03T19:22:06.068Z"
   },
   {
    "duration": 22,
    "start_time": "2021-08-03T19:22:06.116Z"
   },
   {
    "duration": 15,
    "start_time": "2021-08-03T19:22:06.142Z"
   },
   {
    "duration": 43,
    "start_time": "2021-08-03T19:22:06.160Z"
   },
   {
    "duration": 28,
    "start_time": "2021-08-03T19:22:06.206Z"
   },
   {
    "duration": 742,
    "start_time": "2021-08-03T19:22:06.239Z"
   },
   {
    "duration": 726,
    "start_time": "2021-08-03T19:22:06.985Z"
   },
   {
    "duration": 27,
    "start_time": "2021-08-03T19:22:07.715Z"
   },
   {
    "duration": 39,
    "start_time": "2021-08-03T19:22:07.744Z"
   },
   {
    "duration": 26,
    "start_time": "2021-08-03T19:22:07.800Z"
   },
   {
    "duration": 221,
    "start_time": "2021-08-03T19:22:07.828Z"
   },
   {
    "duration": 224,
    "start_time": "2021-08-03T19:22:08.052Z"
   },
   {
    "duration": 247,
    "start_time": "2021-08-03T19:22:08.278Z"
   },
   {
    "duration": 506,
    "start_time": "2021-08-04T11:47:03.856Z"
   },
   {
    "duration": 5666,
    "start_time": "2021-08-04T12:12:55.186Z"
   },
   {
    "duration": 1695,
    "start_time": "2021-08-04T12:13:00.855Z"
   },
   {
    "duration": 25,
    "start_time": "2021-08-04T12:13:02.553Z"
   },
   {
    "duration": 13,
    "start_time": "2021-08-04T12:13:02.581Z"
   },
   {
    "duration": 28,
    "start_time": "2021-08-04T12:13:02.597Z"
   },
   {
    "duration": 19,
    "start_time": "2021-08-04T12:13:02.627Z"
   },
   {
    "duration": 10,
    "start_time": "2021-08-04T12:13:02.648Z"
   },
   {
    "duration": 30,
    "start_time": "2021-08-04T12:13:02.662Z"
   },
   {
    "duration": 27,
    "start_time": "2021-08-04T12:13:02.695Z"
   },
   {
    "duration": 21,
    "start_time": "2021-08-04T12:13:02.725Z"
   },
   {
    "duration": 22,
    "start_time": "2021-08-04T12:13:02.749Z"
   },
   {
    "duration": 21,
    "start_time": "2021-08-04T12:13:02.773Z"
   },
   {
    "duration": 25,
    "start_time": "2021-08-04T12:13:02.796Z"
   },
   {
    "duration": 11,
    "start_time": "2021-08-04T12:13:02.824Z"
   },
   {
    "duration": 19,
    "start_time": "2021-08-04T12:13:02.838Z"
   },
   {
    "duration": 31,
    "start_time": "2021-08-04T12:13:02.859Z"
   },
   {
    "duration": 17,
    "start_time": "2021-08-04T12:13:02.892Z"
   },
   {
    "duration": 34,
    "start_time": "2021-08-04T12:13:02.911Z"
   },
   {
    "duration": 21,
    "start_time": "2021-08-04T12:13:02.947Z"
   },
   {
    "duration": 17,
    "start_time": "2021-08-04T12:13:02.986Z"
   },
   {
    "duration": 15,
    "start_time": "2021-08-04T12:13:03.005Z"
   },
   {
    "duration": 15,
    "start_time": "2021-08-04T12:13:03.023Z"
   },
   {
    "duration": 45,
    "start_time": "2021-08-04T12:13:03.044Z"
   },
   {
    "duration": 16,
    "start_time": "2021-08-04T12:13:03.093Z"
   },
   {
    "duration": 15,
    "start_time": "2021-08-04T12:13:03.111Z"
   },
   {
    "duration": 13,
    "start_time": "2021-08-04T12:13:03.129Z"
   },
   {
    "duration": 41,
    "start_time": "2021-08-04T12:13:03.145Z"
   },
   {
    "duration": 30,
    "start_time": "2021-08-04T12:13:03.188Z"
   },
   {
    "duration": 15,
    "start_time": "2021-08-04T12:13:03.221Z"
   },
   {
    "duration": 14,
    "start_time": "2021-08-04T12:13:03.239Z"
   },
   {
    "duration": 11,
    "start_time": "2021-08-04T12:13:03.255Z"
   },
   {
    "duration": 7,
    "start_time": "2021-08-04T12:13:03.286Z"
   },
   {
    "duration": 20,
    "start_time": "2021-08-04T12:13:03.296Z"
   },
   {
    "duration": 11,
    "start_time": "2021-08-04T12:13:03.318Z"
   },
   {
    "duration": 10,
    "start_time": "2021-08-04T12:13:03.332Z"
   },
   {
    "duration": 798,
    "start_time": "2021-08-04T12:13:03.345Z"
   },
   {
    "duration": 668,
    "start_time": "2021-08-04T12:13:04.146Z"
   },
   {
    "duration": 3771,
    "start_time": "2021-08-04T12:13:11.745Z"
   },
   {
    "duration": 1511,
    "start_time": "2021-08-04T12:13:15.519Z"
   },
   {
    "duration": 27,
    "start_time": "2021-08-04T12:13:17.033Z"
   },
   {
    "duration": 16,
    "start_time": "2021-08-04T12:13:17.063Z"
   },
   {
    "duration": 17,
    "start_time": "2021-08-04T12:13:17.081Z"
   },
   {
    "duration": 20,
    "start_time": "2021-08-04T12:13:17.101Z"
   },
   {
    "duration": 10,
    "start_time": "2021-08-04T12:13:17.125Z"
   },
   {
    "duration": 49,
    "start_time": "2021-08-04T12:13:17.140Z"
   },
   {
    "duration": 13,
    "start_time": "2021-08-04T12:13:17.193Z"
   },
   {
    "duration": 10,
    "start_time": "2021-08-04T12:13:17.209Z"
   },
   {
    "duration": 21,
    "start_time": "2021-08-04T12:13:17.221Z"
   },
   {
    "duration": 40,
    "start_time": "2021-08-04T12:13:17.245Z"
   },
   {
    "duration": 14,
    "start_time": "2021-08-04T12:13:17.287Z"
   },
   {
    "duration": 17,
    "start_time": "2021-08-04T12:13:17.303Z"
   },
   {
    "duration": 12,
    "start_time": "2021-08-04T12:13:17.323Z"
   },
   {
    "duration": 53,
    "start_time": "2021-08-04T12:13:17.338Z"
   },
   {
    "duration": 12,
    "start_time": "2021-08-04T12:13:17.394Z"
   },
   {
    "duration": 34,
    "start_time": "2021-08-04T12:13:17.408Z"
   },
   {
    "duration": 15,
    "start_time": "2021-08-04T12:13:17.445Z"
   },
   {
    "duration": 38,
    "start_time": "2021-08-04T12:13:17.463Z"
   },
   {
    "duration": 9,
    "start_time": "2021-08-04T12:13:17.504Z"
   },
   {
    "duration": 16,
    "start_time": "2021-08-04T12:13:17.516Z"
   },
   {
    "duration": 10,
    "start_time": "2021-08-04T12:13:17.538Z"
   },
   {
    "duration": 12,
    "start_time": "2021-08-04T12:13:17.586Z"
   },
   {
    "duration": 12,
    "start_time": "2021-08-04T12:13:17.600Z"
   },
   {
    "duration": 13,
    "start_time": "2021-08-04T12:13:17.614Z"
   },
   {
    "duration": 10,
    "start_time": "2021-08-04T12:13:17.630Z"
   },
   {
    "duration": 56,
    "start_time": "2021-08-04T12:13:17.643Z"
   },
   {
    "duration": 10,
    "start_time": "2021-08-04T12:13:17.701Z"
   },
   {
    "duration": 11,
    "start_time": "2021-08-04T12:13:17.714Z"
   },
   {
    "duration": 10,
    "start_time": "2021-08-04T12:13:17.727Z"
   },
   {
    "duration": 47,
    "start_time": "2021-08-04T12:13:17.740Z"
   },
   {
    "duration": 11,
    "start_time": "2021-08-04T12:13:17.790Z"
   },
   {
    "duration": 8,
    "start_time": "2021-08-04T12:13:17.804Z"
   },
   {
    "duration": 6,
    "start_time": "2021-08-04T12:13:17.814Z"
   },
   {
    "duration": 929,
    "start_time": "2021-08-04T12:13:17.823Z"
   },
   {
    "duration": 744,
    "start_time": "2021-08-04T12:13:18.755Z"
   },
   {
    "duration": 951,
    "start_time": "2021-08-04T12:13:19.501Z"
   },
   {
    "duration": 1762,
    "start_time": "2021-08-04T12:13:20.455Z"
   },
   {
    "duration": 477,
    "start_time": "2021-08-04T12:13:22.220Z"
   },
   {
    "duration": 13,
    "start_time": "2021-08-04T12:13:22.701Z"
   },
   {
    "duration": 21,
    "start_time": "2021-08-04T12:13:22.718Z"
   },
   {
    "duration": 44,
    "start_time": "2021-08-04T12:13:22.742Z"
   },
   {
    "duration": 14,
    "start_time": "2021-08-04T12:13:22.790Z"
   },
   {
    "duration": 15,
    "start_time": "2021-08-04T12:13:22.806Z"
   },
   {
    "duration": 16,
    "start_time": "2021-08-04T12:13:22.823Z"
   },
   {
    "duration": 44,
    "start_time": "2021-08-04T12:13:22.841Z"
   },
   {
    "duration": 12,
    "start_time": "2021-08-04T12:13:22.888Z"
   },
   {
    "duration": 705,
    "start_time": "2021-08-04T12:13:22.902Z"
   },
   {
    "duration": 680,
    "start_time": "2021-08-04T12:13:23.610Z"
   },
   {
    "duration": 19,
    "start_time": "2021-08-04T12:13:24.292Z"
   },
   {
    "duration": 73,
    "start_time": "2021-08-04T12:13:24.314Z"
   },
   {
    "duration": 12,
    "start_time": "2021-08-04T12:13:24.389Z"
   },
   {
    "duration": 227,
    "start_time": "2021-08-04T12:13:24.404Z"
   },
   {
    "duration": 217,
    "start_time": "2021-08-04T12:13:24.635Z"
   },
   {
    "duration": 230,
    "start_time": "2021-08-04T12:13:24.855Z"
   },
   {
    "duration": 455,
    "start_time": "2021-08-05T10:41:05.451Z"
   },
   {
    "duration": 1677,
    "start_time": "2021-08-05T10:41:14.519Z"
   },
   {
    "duration": 31,
    "start_time": "2021-08-05T10:41:16.199Z"
   },
   {
    "duration": 16,
    "start_time": "2021-08-05T10:41:16.233Z"
   },
   {
    "duration": 38,
    "start_time": "2021-08-05T10:41:16.253Z"
   },
   {
    "duration": 20,
    "start_time": "2021-08-05T10:41:16.293Z"
   },
   {
    "duration": 8,
    "start_time": "2021-08-05T10:41:16.315Z"
   },
   {
    "duration": 11,
    "start_time": "2021-08-05T10:41:16.326Z"
   },
   {
    "duration": 48,
    "start_time": "2021-08-05T10:41:16.340Z"
   },
   {
    "duration": 13,
    "start_time": "2021-08-05T10:41:16.391Z"
   },
   {
    "duration": 19,
    "start_time": "2021-08-05T10:41:16.407Z"
   },
   {
    "duration": 12,
    "start_time": "2021-08-05T10:41:16.428Z"
   },
   {
    "duration": 22,
    "start_time": "2021-08-05T10:41:16.474Z"
   },
   {
    "duration": 13,
    "start_time": "2021-08-05T10:41:16.613Z"
   },
   {
    "duration": 10,
    "start_time": "2021-08-05T10:41:16.782Z"
   },
   {
    "duration": 12,
    "start_time": "2021-08-05T10:41:16.929Z"
   },
   {
    "duration": 15,
    "start_time": "2021-08-05T10:41:17.087Z"
   },
   {
    "duration": 18,
    "start_time": "2021-08-05T10:41:17.702Z"
   },
   {
    "duration": 15,
    "start_time": "2021-08-05T10:41:17.863Z"
   },
   {
    "duration": 16,
    "start_time": "2021-08-05T10:41:18.032Z"
   },
   {
    "duration": 11,
    "start_time": "2021-08-05T10:41:18.190Z"
   },
   {
    "duration": 12,
    "start_time": "2021-08-05T10:41:18.366Z"
   },
   {
    "duration": 10,
    "start_time": "2021-08-05T10:41:18.513Z"
   },
   {
    "duration": 11,
    "start_time": "2021-08-05T10:41:18.806Z"
   },
   {
    "duration": 10,
    "start_time": "2021-08-05T10:41:18.975Z"
   },
   {
    "duration": 11,
    "start_time": "2021-08-05T10:41:19.134Z"
   },
   {
    "duration": 11,
    "start_time": "2021-08-05T10:41:19.294Z"
   },
   {
    "duration": 13,
    "start_time": "2021-08-05T10:41:19.622Z"
   },
   {
    "duration": 11,
    "start_time": "2021-08-05T10:41:19.791Z"
   },
   {
    "duration": 10,
    "start_time": "2021-08-05T10:41:20.006Z"
   },
   {
    "duration": 13,
    "start_time": "2021-08-05T10:41:20.272Z"
   },
   {
    "duration": 8,
    "start_time": "2021-08-05T10:41:20.614Z"
   },
   {
    "duration": 8,
    "start_time": "2021-08-05T10:41:20.766Z"
   },
   {
    "duration": 5,
    "start_time": "2021-08-05T10:41:20.958Z"
   },
   {
    "duration": 3,
    "start_time": "2021-08-05T10:41:21.294Z"
   },
   {
    "duration": 455,
    "start_time": "2021-08-05T10:41:21.471Z"
   },
   {
    "duration": 936,
    "start_time": "2021-08-05T10:41:20.992Z"
   },
   {
    "duration": 396,
    "start_time": "2021-08-05T10:41:22.247Z"
   },
   {
    "duration": 6748,
    "start_time": "2021-08-05T10:41:28.264Z"
   },
   {
    "duration": 1762,
    "start_time": "2021-08-05T10:41:43.416Z"
   },
   {
    "duration": 27,
    "start_time": "2021-08-05T10:41:45.180Z"
   },
   {
    "duration": 276,
    "start_time": "2021-08-05T10:41:45.211Z"
   },
   {
    "duration": 28,
    "start_time": "2021-08-05T10:41:45.491Z"
   },
   {
    "duration": 23,
    "start_time": "2021-08-05T10:41:45.522Z"
   },
   {
    "duration": 38,
    "start_time": "2021-08-05T10:41:45.548Z"
   },
   {
    "duration": 126,
    "start_time": "2021-08-05T10:41:45.589Z"
   },
   {
    "duration": 42,
    "start_time": "2021-08-05T10:41:45.720Z"
   },
   {
    "duration": 16,
    "start_time": "2021-08-05T10:41:45.764Z"
   },
   {
    "duration": 27,
    "start_time": "2021-08-05T10:41:45.783Z"
   },
   {
    "duration": 13,
    "start_time": "2021-08-05T10:41:45.812Z"
   },
   {
    "duration": 13,
    "start_time": "2021-08-05T10:41:45.828Z"
   },
   {
    "duration": 17,
    "start_time": "2021-08-05T10:41:45.844Z"
   },
   {
    "duration": 10,
    "start_time": "2021-08-05T10:41:45.888Z"
   },
   {
    "duration": 11,
    "start_time": "2021-08-05T10:41:46.028Z"
   },
   {
    "duration": 12,
    "start_time": "2021-08-05T10:41:46.191Z"
   },
   {
    "duration": 19,
    "start_time": "2021-08-05T10:41:46.522Z"
   },
   {
    "duration": 15,
    "start_time": "2021-08-05T10:41:46.667Z"
   },
   {
    "duration": 15,
    "start_time": "2021-08-05T10:41:46.816Z"
   },
   {
    "duration": 11,
    "start_time": "2021-08-05T10:41:46.946Z"
   },
   {
    "duration": 10,
    "start_time": "2021-08-05T10:41:47.090Z"
   },
   {
    "duration": 10,
    "start_time": "2021-08-05T10:41:47.240Z"
   },
   {
    "duration": 10,
    "start_time": "2021-08-05T10:41:47.416Z"
   },
   {
    "duration": 15,
    "start_time": "2021-08-05T10:41:47.547Z"
   },
   {
    "duration": 13,
    "start_time": "2021-08-05T10:41:47.704Z"
   },
   {
    "duration": 14,
    "start_time": "2021-08-05T10:41:47.850Z"
   },
   {
    "duration": 17,
    "start_time": "2021-08-05T10:41:48.128Z"
   },
   {
    "duration": 9,
    "start_time": "2021-08-05T10:41:48.275Z"
   },
   {
    "duration": 10,
    "start_time": "2021-08-05T10:41:48.432Z"
   },
   {
    "duration": 11,
    "start_time": "2021-08-05T10:41:48.563Z"
   },
   {
    "duration": 8,
    "start_time": "2021-08-05T10:41:48.863Z"
   },
   {
    "duration": 12,
    "start_time": "2021-08-05T10:41:49.004Z"
   },
   {
    "duration": 6,
    "start_time": "2021-08-05T10:41:49.149Z"
   },
   {
    "duration": 4,
    "start_time": "2021-08-05T10:41:49.439Z"
   },
   {
    "duration": 824,
    "start_time": "2021-08-05T10:41:49.584Z"
   },
   {
    "duration": 698,
    "start_time": "2021-08-05T10:41:50.411Z"
   },
   {
    "duration": 850,
    "start_time": "2021-08-05T10:41:51.112Z"
   },
   {
    "duration": 1764,
    "start_time": "2021-08-05T10:41:51.964Z"
   },
   {
    "duration": 281,
    "start_time": "2021-08-05T10:41:53.731Z"
   },
   {
    "duration": 10,
    "start_time": "2021-08-05T10:41:54.014Z"
   },
   {
    "duration": 12,
    "start_time": "2021-08-05T10:41:55.024Z"
   },
   {
    "duration": 9,
    "start_time": "2021-08-05T10:41:55.192Z"
   },
   {
    "duration": 10,
    "start_time": "2021-08-05T10:41:55.329Z"
   },
   {
    "duration": 13,
    "start_time": "2021-08-05T10:41:55.482Z"
   },
   {
    "duration": 14,
    "start_time": "2021-08-05T10:41:55.625Z"
   },
   {
    "duration": 10,
    "start_time": "2021-08-05T10:41:55.755Z"
   },
   {
    "duration": 13,
    "start_time": "2021-08-05T10:41:55.882Z"
   },
   {
    "duration": 744,
    "start_time": "2021-08-05T10:41:56.002Z"
   },
   {
    "duration": 529,
    "start_time": "2021-08-05T10:41:56.748Z"
   },
   {
    "duration": 17,
    "start_time": "2021-08-05T10:41:57.284Z"
   },
   {
    "duration": 46,
    "start_time": "2021-08-05T10:41:57.303Z"
   },
   {
    "duration": 34,
    "start_time": "2021-08-05T10:41:57.351Z"
   },
   {
    "duration": 212,
    "start_time": "2021-08-05T10:41:57.388Z"
   },
   {
    "duration": 206,
    "start_time": "2021-08-05T10:41:57.602Z"
   },
   {
    "duration": 218,
    "start_time": "2021-08-05T10:41:57.811Z"
   },
   {
    "duration": 748,
    "start_time": "2021-08-05T10:42:14.146Z"
   },
   {
    "duration": 748,
    "start_time": "2021-08-05T10:42:28.513Z"
   },
   {
    "duration": 1134,
    "start_time": "2021-08-05T10:42:41.283Z"
   },
   {
    "duration": 976,
    "start_time": "2021-08-05T10:43:14.051Z"
   },
   {
    "duration": 1113,
    "start_time": "2021-08-05T10:43:20.428Z"
   },
   {
    "duration": 892,
    "start_time": "2021-08-05T10:43:54.749Z"
   }
  ],
  "kernelspec": {
   "display_name": "Python 3",
   "language": "python",
   "name": "python3"
  },
  "language_info": {
   "codemirror_mode": {
    "name": "ipython",
    "version": 3
   },
   "file_extension": ".py",
   "mimetype": "text/x-python",
   "name": "python",
   "nbconvert_exporter": "python",
   "pygments_lexer": "ipython3",
   "version": "3.7.8"
  },
  "toc": {
   "base_numbering": 1,
   "nav_menu": {},
   "number_sections": true,
   "sideBar": true,
   "skip_h1_title": true,
   "title_cell": "Table of Contents",
   "title_sidebar": "Contents",
   "toc_cell": false,
   "toc_position": {},
   "toc_section_display": true,
   "toc_window_display": false
  }
 },
 "nbformat": 4,
 "nbformat_minor": 2
}
