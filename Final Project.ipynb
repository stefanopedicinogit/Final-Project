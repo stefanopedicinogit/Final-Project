{
 "cells": [
  {
   "cell_type": "code",
   "execution_count": 1,
   "metadata": {},
   "outputs": [
    {
     "name": "stdout",
     "output_type": "stream",
     "text": [
      "Defaulting to user installation because normal site-packages is not writeable\n",
      "Requirement already satisfied: imblearn in /home/jovyan/.local/lib/python3.7/site-packages (0.0)\n",
      "Requirement already satisfied: imbalanced-learn in /home/jovyan/.local/lib/python3.7/site-packages (from imblearn) (0.8.0)\n",
      "Requirement already satisfied: joblib>=0.11 in /opt/conda/lib/python3.7/site-packages (from imbalanced-learn->imblearn) (1.0.1)\n",
      "Requirement already satisfied: scikit-learn>=0.24 in /home/jovyan/.local/lib/python3.7/site-packages (from imbalanced-learn->imblearn) (0.24.1)\n",
      "Requirement already satisfied: numpy>=1.13.3 in /opt/conda/lib/python3.7/site-packages (from imbalanced-learn->imblearn) (1.19.5)\n",
      "Requirement already satisfied: scipy>=0.19.1 in /opt/conda/lib/python3.7/site-packages (from imbalanced-learn->imblearn) (1.4.1)\n",
      "Requirement already satisfied: threadpoolctl>=2.0.0 in /home/jovyan/.local/lib/python3.7/site-packages (from scikit-learn>=0.24->imbalanced-learn->imblearn) (2.2.0)\n",
      "Note: you may need to restart the kernel to use updated packages.\n"
     ]
    }
   ],
   "source": [
    "pip install imblearn"
   ]
  },
  {
   "cell_type": "code",
   "execution_count": 2,
   "metadata": {},
   "outputs": [
    {
     "name": "stdout",
     "output_type": "stream",
     "text": [
      "Defaulting to user installation because normal site-packages is not writeable\n",
      "Requirement already satisfied: scikit-learn==0.24.1 in /home/jovyan/.local/lib/python3.7/site-packages (0.24.1)\n",
      "Requirement already satisfied: joblib>=0.11 in /opt/conda/lib/python3.7/site-packages (from scikit-learn==0.24.1) (1.0.1)\n",
      "Requirement already satisfied: numpy>=1.13.3 in /opt/conda/lib/python3.7/site-packages (from scikit-learn==0.24.1) (1.19.5)\n",
      "Requirement already satisfied: scipy>=0.19.1 in /opt/conda/lib/python3.7/site-packages (from scikit-learn==0.24.1) (1.4.1)\n",
      "Requirement already satisfied: threadpoolctl>=2.0.0 in /home/jovyan/.local/lib/python3.7/site-packages (from scikit-learn==0.24.1) (2.2.0)\n",
      "Note: you may need to restart the kernel to use updated packages.\n"
     ]
    }
   ],
   "source": [
    "pip install scikit-learn==0.24.1"
   ]
  },
  {
   "cell_type": "code",
   "execution_count": 3,
   "metadata": {},
   "outputs": [
    {
     "name": "stdout",
     "output_type": "stream",
     "text": [
      "Defaulting to user installation because normal site-packages is not writeable\n",
      "Requirement already up-to-date: seaborn in /home/jovyan/.local/lib/python3.7/site-packages (0.11.1)\n",
      "Requirement already satisfied, skipping upgrade: pandas>=0.23 in /opt/conda/lib/python3.7/site-packages (from seaborn) (0.25.1)\n",
      "Requirement already satisfied, skipping upgrade: scipy>=1.0 in /opt/conda/lib/python3.7/site-packages (from seaborn) (1.4.1)\n",
      "Requirement already satisfied, skipping upgrade: matplotlib>=2.2 in /opt/conda/lib/python3.7/site-packages (from seaborn) (3.1.0)\n",
      "Requirement already satisfied, skipping upgrade: numpy>=1.15 in /opt/conda/lib/python3.7/site-packages (from seaborn) (1.19.5)\n",
      "Requirement already satisfied, skipping upgrade: pytz>=2017.2 in /opt/conda/lib/python3.7/site-packages (from pandas>=0.23->seaborn) (2021.1)\n",
      "Requirement already satisfied, skipping upgrade: python-dateutil>=2.6.1 in /opt/conda/lib/python3.7/site-packages (from pandas>=0.23->seaborn) (2.8.1)\n",
      "Requirement already satisfied, skipping upgrade: pyparsing!=2.0.4,!=2.1.2,!=2.1.6,>=2.0.1 in /opt/conda/lib/python3.7/site-packages (from matplotlib>=2.2->seaborn) (2.4.7)\n",
      "Requirement already satisfied, skipping upgrade: kiwisolver>=1.0.1 in /opt/conda/lib/python3.7/site-packages (from matplotlib>=2.2->seaborn) (1.3.1)\n",
      "Requirement already satisfied, skipping upgrade: cycler>=0.10 in /opt/conda/lib/python3.7/site-packages (from matplotlib>=2.2->seaborn) (0.10.0)\n",
      "Requirement already satisfied, skipping upgrade: six>=1.5 in /opt/conda/lib/python3.7/site-packages (from python-dateutil>=2.6.1->pandas>=0.23->seaborn) (1.15.0)\n",
      "Note: you may need to restart the kernel to use updated packages.\n"
     ]
    }
   ],
   "source": [
    "pip install seaborn -U"
   ]
  },
  {
   "cell_type": "code",
   "execution_count": 4,
   "metadata": {},
   "outputs": [
    {
     "name": "stdout",
     "output_type": "stream",
     "text": [
      "0.24.1\n"
     ]
    }
   ],
   "source": [
    "import sklearn\n",
    "print(sklearn.__version__) #should be 0.24.1"
   ]
  },
  {
   "cell_type": "markdown",
   "metadata": {},
   "source": [
    "## DATA PREPROCESSING"
   ]
  },
  {
   "cell_type": "code",
   "execution_count": 5,
   "metadata": {},
   "outputs": [],
   "source": [
    "import pandas as pd\n",
    "import numpy as np\n",
    "import seaborn as sns\n",
    "from matplotlib import pyplot as plt\n",
    "%matplotlib inline \n",
    "from random import shuffle\n",
    "\n",
    "from sklearn.preprocessing import StandardScaler \n",
    "from sklearn.preprocessing import LabelEncoder\n",
    "from sklearn.model_selection import cross_val_score\n",
    "from sklearn.model_selection import train_test_split\n",
    "from sklearn.model_selection import GridSearchCV\n",
    "from sklearn.ensemble import RandomForestClassifier\n",
    "from sklearn.linear_model import LogisticRegression\n",
    "from sklearn.metrics import roc_auc_score\n",
    "from sklearn.metrics import auc\n",
    "from sklearn.metrics import roc_curve\n",
    "from sklearn.metrics import confusion_matrix\n",
    "from sklearn.metrics import classification_report\n",
    "from sklearn.metrics import precision_recall_curve\n",
    "from sklearn.pipeline import Pipeline\n",
    "from sklearn.utils import shuffle\n",
    "from sklearn.impute import KNNImputer\n",
    "from imblearn.over_sampling import SMOTE\n",
    "from imblearn.pipeline import make_pipeline\n",
    "\n",
    "from catboost import CatBoostClassifier\n",
    "from lightgbm import LGBMClassifier"
   ]
  },
  {
   "cell_type": "code",
   "execution_count": 6,
   "metadata": {},
   "outputs": [],
   "source": [
    "contract = pd.read_csv('/datasets/final_provider/contract.csv')\n",
    "clients = pd.read_csv('/datasets/final_provider/personal.csv')\n",
    "internet = pd.read_csv('/datasets/final_provider/internet.csv')\n",
    "phone = pd.read_csv('/datasets/final_provider/phone.csv')"
   ]
  },
  {
   "cell_type": "markdown",
   "metadata": {},
   "source": [
    "### Contract df Preprocessing"
   ]
  },
  {
   "cell_type": "code",
   "execution_count": 7,
   "metadata": {},
   "outputs": [
    {
     "data": {
      "text/html": [
       "<div>\n",
       "<style scoped>\n",
       "    .dataframe tbody tr th:only-of-type {\n",
       "        vertical-align: middle;\n",
       "    }\n",
       "\n",
       "    .dataframe tbody tr th {\n",
       "        vertical-align: top;\n",
       "    }\n",
       "\n",
       "    .dataframe thead th {\n",
       "        text-align: right;\n",
       "    }\n",
       "</style>\n",
       "<table border=\"1\" class=\"dataframe\">\n",
       "  <thead>\n",
       "    <tr style=\"text-align: right;\">\n",
       "      <th></th>\n",
       "      <th>customerID</th>\n",
       "      <th>BeginDate</th>\n",
       "      <th>EndDate</th>\n",
       "      <th>Type</th>\n",
       "      <th>PaperlessBilling</th>\n",
       "      <th>PaymentMethod</th>\n",
       "      <th>MonthlyCharges</th>\n",
       "      <th>TotalCharges</th>\n",
       "    </tr>\n",
       "  </thead>\n",
       "  <tbody>\n",
       "    <tr>\n",
       "      <td>0</td>\n",
       "      <td>7590-VHVEG</td>\n",
       "      <td>2020-01-01</td>\n",
       "      <td>No</td>\n",
       "      <td>Month-to-month</td>\n",
       "      <td>Yes</td>\n",
       "      <td>Electronic check</td>\n",
       "      <td>29.85</td>\n",
       "      <td>29.85</td>\n",
       "    </tr>\n",
       "    <tr>\n",
       "      <td>1</td>\n",
       "      <td>5575-GNVDE</td>\n",
       "      <td>2017-04-01</td>\n",
       "      <td>No</td>\n",
       "      <td>One year</td>\n",
       "      <td>No</td>\n",
       "      <td>Mailed check</td>\n",
       "      <td>56.95</td>\n",
       "      <td>1889.5</td>\n",
       "    </tr>\n",
       "    <tr>\n",
       "      <td>2</td>\n",
       "      <td>3668-QPYBK</td>\n",
       "      <td>2019-10-01</td>\n",
       "      <td>2019-12-01 00:00:00</td>\n",
       "      <td>Month-to-month</td>\n",
       "      <td>Yes</td>\n",
       "      <td>Mailed check</td>\n",
       "      <td>53.85</td>\n",
       "      <td>108.15</td>\n",
       "    </tr>\n",
       "    <tr>\n",
       "      <td>3</td>\n",
       "      <td>7795-CFOCW</td>\n",
       "      <td>2016-05-01</td>\n",
       "      <td>No</td>\n",
       "      <td>One year</td>\n",
       "      <td>No</td>\n",
       "      <td>Bank transfer (automatic)</td>\n",
       "      <td>42.30</td>\n",
       "      <td>1840.75</td>\n",
       "    </tr>\n",
       "    <tr>\n",
       "      <td>4</td>\n",
       "      <td>9237-HQITU</td>\n",
       "      <td>2019-09-01</td>\n",
       "      <td>2019-11-01 00:00:00</td>\n",
       "      <td>Month-to-month</td>\n",
       "      <td>Yes</td>\n",
       "      <td>Electronic check</td>\n",
       "      <td>70.70</td>\n",
       "      <td>151.65</td>\n",
       "    </tr>\n",
       "    <tr>\n",
       "      <td>...</td>\n",
       "      <td>...</td>\n",
       "      <td>...</td>\n",
       "      <td>...</td>\n",
       "      <td>...</td>\n",
       "      <td>...</td>\n",
       "      <td>...</td>\n",
       "      <td>...</td>\n",
       "      <td>...</td>\n",
       "    </tr>\n",
       "    <tr>\n",
       "      <td>7038</td>\n",
       "      <td>6840-RESVB</td>\n",
       "      <td>2018-02-01</td>\n",
       "      <td>No</td>\n",
       "      <td>One year</td>\n",
       "      <td>Yes</td>\n",
       "      <td>Mailed check</td>\n",
       "      <td>84.80</td>\n",
       "      <td>1990.5</td>\n",
       "    </tr>\n",
       "    <tr>\n",
       "      <td>7039</td>\n",
       "      <td>2234-XADUH</td>\n",
       "      <td>2014-02-01</td>\n",
       "      <td>No</td>\n",
       "      <td>One year</td>\n",
       "      <td>Yes</td>\n",
       "      <td>Credit card (automatic)</td>\n",
       "      <td>103.20</td>\n",
       "      <td>7362.9</td>\n",
       "    </tr>\n",
       "    <tr>\n",
       "      <td>7040</td>\n",
       "      <td>4801-JZAZL</td>\n",
       "      <td>2019-03-01</td>\n",
       "      <td>No</td>\n",
       "      <td>Month-to-month</td>\n",
       "      <td>Yes</td>\n",
       "      <td>Electronic check</td>\n",
       "      <td>29.60</td>\n",
       "      <td>346.45</td>\n",
       "    </tr>\n",
       "    <tr>\n",
       "      <td>7041</td>\n",
       "      <td>8361-LTMKD</td>\n",
       "      <td>2019-07-01</td>\n",
       "      <td>2019-11-01 00:00:00</td>\n",
       "      <td>Month-to-month</td>\n",
       "      <td>Yes</td>\n",
       "      <td>Mailed check</td>\n",
       "      <td>74.40</td>\n",
       "      <td>306.6</td>\n",
       "    </tr>\n",
       "    <tr>\n",
       "      <td>7042</td>\n",
       "      <td>3186-AJIEK</td>\n",
       "      <td>2014-08-01</td>\n",
       "      <td>No</td>\n",
       "      <td>Two year</td>\n",
       "      <td>Yes</td>\n",
       "      <td>Bank transfer (automatic)</td>\n",
       "      <td>105.65</td>\n",
       "      <td>6844.5</td>\n",
       "    </tr>\n",
       "  </tbody>\n",
       "</table>\n",
       "<p>7043 rows × 8 columns</p>\n",
       "</div>"
      ],
      "text/plain": [
       "      customerID   BeginDate              EndDate            Type  \\\n",
       "0     7590-VHVEG  2020-01-01                   No  Month-to-month   \n",
       "1     5575-GNVDE  2017-04-01                   No        One year   \n",
       "2     3668-QPYBK  2019-10-01  2019-12-01 00:00:00  Month-to-month   \n",
       "3     7795-CFOCW  2016-05-01                   No        One year   \n",
       "4     9237-HQITU  2019-09-01  2019-11-01 00:00:00  Month-to-month   \n",
       "...          ...         ...                  ...             ...   \n",
       "7038  6840-RESVB  2018-02-01                   No        One year   \n",
       "7039  2234-XADUH  2014-02-01                   No        One year   \n",
       "7040  4801-JZAZL  2019-03-01                   No  Month-to-month   \n",
       "7041  8361-LTMKD  2019-07-01  2019-11-01 00:00:00  Month-to-month   \n",
       "7042  3186-AJIEK  2014-08-01                   No        Two year   \n",
       "\n",
       "     PaperlessBilling              PaymentMethod  MonthlyCharges TotalCharges  \n",
       "0                 Yes           Electronic check           29.85        29.85  \n",
       "1                  No               Mailed check           56.95       1889.5  \n",
       "2                 Yes               Mailed check           53.85       108.15  \n",
       "3                  No  Bank transfer (automatic)           42.30      1840.75  \n",
       "4                 Yes           Electronic check           70.70       151.65  \n",
       "...               ...                        ...             ...          ...  \n",
       "7038              Yes               Mailed check           84.80       1990.5  \n",
       "7039              Yes    Credit card (automatic)          103.20       7362.9  \n",
       "7040              Yes           Electronic check           29.60       346.45  \n",
       "7041              Yes               Mailed check           74.40        306.6  \n",
       "7042              Yes  Bank transfer (automatic)          105.65       6844.5  \n",
       "\n",
       "[7043 rows x 8 columns]"
      ]
     },
     "metadata": {},
     "output_type": "display_data"
    }
   ],
   "source": [
    "display(contract)"
   ]
  },
  {
   "cell_type": "code",
   "execution_count": 8,
   "metadata": {},
   "outputs": [
    {
     "name": "stdout",
     "output_type": "stream",
     "text": [
      "<class 'pandas.core.frame.DataFrame'>\n",
      "RangeIndex: 7043 entries, 0 to 7042\n",
      "Data columns (total 8 columns):\n",
      "customer_id          7043 non-null object\n",
      "begin_date           7043 non-null object\n",
      "end_date             7043 non-null object\n",
      "type                 7043 non-null object\n",
      "paperless_billing    7043 non-null object\n",
      "payment_method       7043 non-null object\n",
      "monthly_charges      7043 non-null float64\n",
      "total_charges        7043 non-null object\n",
      "dtypes: float64(1), object(7)\n",
      "memory usage: 440.3+ KB\n"
     ]
    }
   ],
   "source": [
    "contract.rename(columns={\"customerID\": \"customer_id\", \"BeginDate\": \"begin_date\", \"EndDate\": \"end_date\",\\\n",
    "                         \"Type\":\"type\", \"PaperlessBilling\":\"paperless_billing\", \"PaymentMethod\":\"paperless_billing\",\\\n",
    "                        \"PaymentMethod\":\"payment_method\",\"MonthlyCharges\":\"monthly_charges\",\"TotalCharges\":\"total_charges\"},\\\n",
    "               inplace=True)\n",
    "\n",
    "contract.info()"
   ]
  },
  {
   "cell_type": "code",
   "execution_count": 9,
   "metadata": {},
   "outputs": [
    {
     "name": "stdout",
     "output_type": "stream",
     "text": [
      "contract NaNs: 0\n",
      "contract duplicates: 0\n"
     ]
    }
   ],
   "source": [
    "#Checking for NaNs in contract.\n",
    "print('contract NaNs:', contract.isna().sum().sum())\n",
    "#Checking for duplicates in contract.\n",
    "print('contract duplicates:', contract.duplicated().sum())"
   ]
  },
  {
   "cell_type": "code",
   "execution_count": 10,
   "metadata": {},
   "outputs": [
    {
     "name": "stdout",
     "output_type": "stream",
     "text": [
      "The columns in the dataset contract.csv are: Index(['customer_id', 'begin_date', 'end_date', 'type', 'paperless_billing',\n",
      "       'payment_method', 'monthly_charges', 'total_charges'],\n",
      "      dtype='object')\n",
      "\n",
      "The types of the columns in the dataset contract.csv are:\n",
      "customer_id           object\n",
      "begin_date            object\n",
      "end_date              object\n",
      "type                  object\n",
      "paperless_billing     object\n",
      "payment_method        object\n",
      "monthly_charges      float64\n",
      "total_charges         object\n",
      "dtype: object\n",
      "\n",
      "The describe method of the dataset contract.csv is:\n",
      "\n",
      "       monthly_charges\n",
      "count      7043.000000\n",
      "mean         64.761692\n",
      "std          30.090047\n",
      "min          18.250000\n",
      "25%          35.500000\n",
      "50%          70.350000\n",
      "75%          89.850000\n",
      "max         118.750000\n"
     ]
    }
   ],
   "source": [
    "# Further information on contract df\n",
    "print('The columns in the dataset contract.csv are:', contract.columns)\n",
    "print('')\n",
    "print('The types of the columns in the dataset contract.csv are:')\n",
    "print(contract.dtypes)\n",
    "print('')\n",
    "print('The describe method of the dataset contract.csv is:')\n",
    "print('')\n",
    "print(contract.describe())"
   ]
  },
  {
   "cell_type": "code",
   "execution_count": 11,
   "metadata": {},
   "outputs": [],
   "source": [
    "#Changing begin_date type.\n",
    "contract.begin_date = pd.to_datetime(contract.begin_date)"
   ]
  },
  {
   "cell_type": "code",
   "execution_count": 12,
   "metadata": {},
   "outputs": [],
   "source": [
    "#Transforming in total_charges column all the empty values (\" \") to zeros.\n",
    "contract.loc[contract.total_charges == \" \" , 'total_charges'] = 0.00"
   ]
  },
  {
   "cell_type": "code",
   "execution_count": 13,
   "metadata": {},
   "outputs": [],
   "source": [
    "#Changing total_charges type to floating points.\n",
    "contract.total_charges = pd.to_numeric(contract.total_charges, downcast='float')\n",
    "contract.monthly_charges = contract.monthly_charges.astype('float64')\n",
    "contract.total_charges = contract.total_charges.astype('float64').round(2)"
   ]
  },
  {
   "cell_type": "code",
   "execution_count": 14,
   "metadata": {},
   "outputs": [
    {
     "name": "stdout",
     "output_type": "stream",
     "text": [
      "total_charges mean 2279.7343035638223\n",
      "total_charges median 1394.55\n"
     ]
    }
   ],
   "source": [
    "print('total_charges mean', contract.total_charges.mean())\n",
    "print('total_charges median', contract.total_charges.median())"
   ]
  },
  {
   "cell_type": "markdown",
   "metadata": {},
   "source": [
    "### Clients df Preprocessing"
   ]
  },
  {
   "cell_type": "code",
   "execution_count": 15,
   "metadata": {},
   "outputs": [
    {
     "data": {
      "text/html": [
       "<div>\n",
       "<style scoped>\n",
       "    .dataframe tbody tr th:only-of-type {\n",
       "        vertical-align: middle;\n",
       "    }\n",
       "\n",
       "    .dataframe tbody tr th {\n",
       "        vertical-align: top;\n",
       "    }\n",
       "\n",
       "    .dataframe thead th {\n",
       "        text-align: right;\n",
       "    }\n",
       "</style>\n",
       "<table border=\"1\" class=\"dataframe\">\n",
       "  <thead>\n",
       "    <tr style=\"text-align: right;\">\n",
       "      <th></th>\n",
       "      <th>customerID</th>\n",
       "      <th>gender</th>\n",
       "      <th>SeniorCitizen</th>\n",
       "      <th>Partner</th>\n",
       "      <th>Dependents</th>\n",
       "    </tr>\n",
       "  </thead>\n",
       "  <tbody>\n",
       "    <tr>\n",
       "      <td>0</td>\n",
       "      <td>7590-VHVEG</td>\n",
       "      <td>Female</td>\n",
       "      <td>0</td>\n",
       "      <td>Yes</td>\n",
       "      <td>No</td>\n",
       "    </tr>\n",
       "    <tr>\n",
       "      <td>1</td>\n",
       "      <td>5575-GNVDE</td>\n",
       "      <td>Male</td>\n",
       "      <td>0</td>\n",
       "      <td>No</td>\n",
       "      <td>No</td>\n",
       "    </tr>\n",
       "    <tr>\n",
       "      <td>2</td>\n",
       "      <td>3668-QPYBK</td>\n",
       "      <td>Male</td>\n",
       "      <td>0</td>\n",
       "      <td>No</td>\n",
       "      <td>No</td>\n",
       "    </tr>\n",
       "    <tr>\n",
       "      <td>3</td>\n",
       "      <td>7795-CFOCW</td>\n",
       "      <td>Male</td>\n",
       "      <td>0</td>\n",
       "      <td>No</td>\n",
       "      <td>No</td>\n",
       "    </tr>\n",
       "    <tr>\n",
       "      <td>4</td>\n",
       "      <td>9237-HQITU</td>\n",
       "      <td>Female</td>\n",
       "      <td>0</td>\n",
       "      <td>No</td>\n",
       "      <td>No</td>\n",
       "    </tr>\n",
       "    <tr>\n",
       "      <td>...</td>\n",
       "      <td>...</td>\n",
       "      <td>...</td>\n",
       "      <td>...</td>\n",
       "      <td>...</td>\n",
       "      <td>...</td>\n",
       "    </tr>\n",
       "    <tr>\n",
       "      <td>7038</td>\n",
       "      <td>6840-RESVB</td>\n",
       "      <td>Male</td>\n",
       "      <td>0</td>\n",
       "      <td>Yes</td>\n",
       "      <td>Yes</td>\n",
       "    </tr>\n",
       "    <tr>\n",
       "      <td>7039</td>\n",
       "      <td>2234-XADUH</td>\n",
       "      <td>Female</td>\n",
       "      <td>0</td>\n",
       "      <td>Yes</td>\n",
       "      <td>Yes</td>\n",
       "    </tr>\n",
       "    <tr>\n",
       "      <td>7040</td>\n",
       "      <td>4801-JZAZL</td>\n",
       "      <td>Female</td>\n",
       "      <td>0</td>\n",
       "      <td>Yes</td>\n",
       "      <td>Yes</td>\n",
       "    </tr>\n",
       "    <tr>\n",
       "      <td>7041</td>\n",
       "      <td>8361-LTMKD</td>\n",
       "      <td>Male</td>\n",
       "      <td>1</td>\n",
       "      <td>Yes</td>\n",
       "      <td>No</td>\n",
       "    </tr>\n",
       "    <tr>\n",
       "      <td>7042</td>\n",
       "      <td>3186-AJIEK</td>\n",
       "      <td>Male</td>\n",
       "      <td>0</td>\n",
       "      <td>No</td>\n",
       "      <td>No</td>\n",
       "    </tr>\n",
       "  </tbody>\n",
       "</table>\n",
       "<p>7043 rows × 5 columns</p>\n",
       "</div>"
      ],
      "text/plain": [
       "      customerID  gender  SeniorCitizen Partner Dependents\n",
       "0     7590-VHVEG  Female              0     Yes         No\n",
       "1     5575-GNVDE    Male              0      No         No\n",
       "2     3668-QPYBK    Male              0      No         No\n",
       "3     7795-CFOCW    Male              0      No         No\n",
       "4     9237-HQITU  Female              0      No         No\n",
       "...          ...     ...            ...     ...        ...\n",
       "7038  6840-RESVB    Male              0     Yes        Yes\n",
       "7039  2234-XADUH  Female              0     Yes        Yes\n",
       "7040  4801-JZAZL  Female              0     Yes        Yes\n",
       "7041  8361-LTMKD    Male              1     Yes         No\n",
       "7042  3186-AJIEK    Male              0      No         No\n",
       "\n",
       "[7043 rows x 5 columns]"
      ]
     },
     "metadata": {},
     "output_type": "display_data"
    }
   ],
   "source": [
    "display(clients)"
   ]
  },
  {
   "cell_type": "code",
   "execution_count": 16,
   "metadata": {},
   "outputs": [
    {
     "name": "stdout",
     "output_type": "stream",
     "text": [
      "<class 'pandas.core.frame.DataFrame'>\n",
      "RangeIndex: 7043 entries, 0 to 7042\n",
      "Data columns (total 5 columns):\n",
      "customer_id       7043 non-null object\n",
      "gender            7043 non-null object\n",
      "senior_citizen    7043 non-null int64\n",
      "partner           7043 non-null object\n",
      "dependents        7043 non-null object\n",
      "dtypes: int64(1), object(4)\n",
      "memory usage: 275.2+ KB\n"
     ]
    }
   ],
   "source": [
    "clients.rename(columns={\"customerID\": \"customer_id\",\"SeniorCitizen\":\"senior_citizen\", \"Partner\":\"partner\",\\\n",
    "                       \"Dependents\":\"dependents\"}, inplace=True)\n",
    "clients.info()"
   ]
  },
  {
   "cell_type": "code",
   "execution_count": 17,
   "metadata": {},
   "outputs": [
    {
     "name": "stdout",
     "output_type": "stream",
     "text": [
      "clients NaNs: 0\n",
      "clients duplicates: 0\n"
     ]
    }
   ],
   "source": [
    "#Checking for NaNs in clients.\n",
    "print('clients NaNs:', clients.isna().sum().sum())\n",
    "#Checking for duplicates in clients.\n",
    "print('clients duplicates:', clients.duplicated().sum())"
   ]
  },
  {
   "cell_type": "code",
   "execution_count": 18,
   "metadata": {},
   "outputs": [
    {
     "name": "stdout",
     "output_type": "stream",
     "text": [
      "Male      3555\n",
      "Female    3488\n",
      "Name: gender, dtype: int64\n",
      "\n",
      "Male      0.504756\n",
      "Female    0.495244\n",
      "Name: gender, dtype: float64\n"
     ]
    }
   ],
   "source": [
    "#Analyzing gender column.\n",
    "print(clients.gender.value_counts())\n",
    "print()\n",
    "print(clients.gender.value_counts(normalize=True))"
   ]
  },
  {
   "cell_type": "code",
   "execution_count": 19,
   "metadata": {},
   "outputs": [
    {
     "name": "stdout",
     "output_type": "stream",
     "text": [
      "0    5901\n",
      "1    1142\n",
      "Name: senior_citizen, dtype: int64\n",
      "\n",
      "0    0.837853\n",
      "1    0.162147\n",
      "Name: senior_citizen, dtype: float64\n"
     ]
    }
   ],
   "source": [
    "#Analyzing senior_citizen column.\n",
    "print(clients.senior_citizen.value_counts())\n",
    "print()\n",
    "print(clients.senior_citizen.value_counts(normalize=True))"
   ]
  },
  {
   "cell_type": "code",
   "execution_count": 20,
   "metadata": {},
   "outputs": [
    {
     "name": "stdout",
     "output_type": "stream",
     "text": [
      "No     3641\n",
      "Yes    3402\n",
      "Name: partner, dtype: int64\n",
      "\n",
      "No     0.516967\n",
      "Yes    0.483033\n",
      "Name: partner, dtype: float64\n"
     ]
    }
   ],
   "source": [
    "#Analyzing partner column.\n",
    "print(clients.partner.value_counts())\n",
    "print()\n",
    "print(clients.partner.value_counts(normalize=True))"
   ]
  },
  {
   "cell_type": "code",
   "execution_count": 21,
   "metadata": {},
   "outputs": [
    {
     "name": "stdout",
     "output_type": "stream",
     "text": [
      "No     4933\n",
      "Yes    2110\n",
      "Name: dependents, dtype: int64\n",
      "\n",
      "No     0.700412\n",
      "Yes    0.299588\n",
      "Name: dependents, dtype: float64\n"
     ]
    }
   ],
   "source": [
    "#Analyzing dependents column.\n",
    "print(clients.dependents.value_counts())\n",
    "print()\n",
    "print(clients.dependents.value_counts(normalize=True))"
   ]
  },
  {
   "cell_type": "markdown",
   "metadata": {},
   "source": [
    "### Internet df preprocessing"
   ]
  },
  {
   "cell_type": "code",
   "execution_count": 22,
   "metadata": {},
   "outputs": [
    {
     "data": {
      "text/html": [
       "<div>\n",
       "<style scoped>\n",
       "    .dataframe tbody tr th:only-of-type {\n",
       "        vertical-align: middle;\n",
       "    }\n",
       "\n",
       "    .dataframe tbody tr th {\n",
       "        vertical-align: top;\n",
       "    }\n",
       "\n",
       "    .dataframe thead th {\n",
       "        text-align: right;\n",
       "    }\n",
       "</style>\n",
       "<table border=\"1\" class=\"dataframe\">\n",
       "  <thead>\n",
       "    <tr style=\"text-align: right;\">\n",
       "      <th></th>\n",
       "      <th>customerID</th>\n",
       "      <th>InternetService</th>\n",
       "      <th>OnlineSecurity</th>\n",
       "      <th>OnlineBackup</th>\n",
       "      <th>DeviceProtection</th>\n",
       "      <th>TechSupport</th>\n",
       "      <th>StreamingTV</th>\n",
       "      <th>StreamingMovies</th>\n",
       "    </tr>\n",
       "  </thead>\n",
       "  <tbody>\n",
       "    <tr>\n",
       "      <td>0</td>\n",
       "      <td>7590-VHVEG</td>\n",
       "      <td>DSL</td>\n",
       "      <td>No</td>\n",
       "      <td>Yes</td>\n",
       "      <td>No</td>\n",
       "      <td>No</td>\n",
       "      <td>No</td>\n",
       "      <td>No</td>\n",
       "    </tr>\n",
       "    <tr>\n",
       "      <td>1</td>\n",
       "      <td>5575-GNVDE</td>\n",
       "      <td>DSL</td>\n",
       "      <td>Yes</td>\n",
       "      <td>No</td>\n",
       "      <td>Yes</td>\n",
       "      <td>No</td>\n",
       "      <td>No</td>\n",
       "      <td>No</td>\n",
       "    </tr>\n",
       "    <tr>\n",
       "      <td>2</td>\n",
       "      <td>3668-QPYBK</td>\n",
       "      <td>DSL</td>\n",
       "      <td>Yes</td>\n",
       "      <td>Yes</td>\n",
       "      <td>No</td>\n",
       "      <td>No</td>\n",
       "      <td>No</td>\n",
       "      <td>No</td>\n",
       "    </tr>\n",
       "    <tr>\n",
       "      <td>3</td>\n",
       "      <td>7795-CFOCW</td>\n",
       "      <td>DSL</td>\n",
       "      <td>Yes</td>\n",
       "      <td>No</td>\n",
       "      <td>Yes</td>\n",
       "      <td>Yes</td>\n",
       "      <td>No</td>\n",
       "      <td>No</td>\n",
       "    </tr>\n",
       "    <tr>\n",
       "      <td>4</td>\n",
       "      <td>9237-HQITU</td>\n",
       "      <td>Fiber optic</td>\n",
       "      <td>No</td>\n",
       "      <td>No</td>\n",
       "      <td>No</td>\n",
       "      <td>No</td>\n",
       "      <td>No</td>\n",
       "      <td>No</td>\n",
       "    </tr>\n",
       "    <tr>\n",
       "      <td>...</td>\n",
       "      <td>...</td>\n",
       "      <td>...</td>\n",
       "      <td>...</td>\n",
       "      <td>...</td>\n",
       "      <td>...</td>\n",
       "      <td>...</td>\n",
       "      <td>...</td>\n",
       "      <td>...</td>\n",
       "    </tr>\n",
       "    <tr>\n",
       "      <td>5512</td>\n",
       "      <td>6840-RESVB</td>\n",
       "      <td>DSL</td>\n",
       "      <td>Yes</td>\n",
       "      <td>No</td>\n",
       "      <td>Yes</td>\n",
       "      <td>Yes</td>\n",
       "      <td>Yes</td>\n",
       "      <td>Yes</td>\n",
       "    </tr>\n",
       "    <tr>\n",
       "      <td>5513</td>\n",
       "      <td>2234-XADUH</td>\n",
       "      <td>Fiber optic</td>\n",
       "      <td>No</td>\n",
       "      <td>Yes</td>\n",
       "      <td>Yes</td>\n",
       "      <td>No</td>\n",
       "      <td>Yes</td>\n",
       "      <td>Yes</td>\n",
       "    </tr>\n",
       "    <tr>\n",
       "      <td>5514</td>\n",
       "      <td>4801-JZAZL</td>\n",
       "      <td>DSL</td>\n",
       "      <td>Yes</td>\n",
       "      <td>No</td>\n",
       "      <td>No</td>\n",
       "      <td>No</td>\n",
       "      <td>No</td>\n",
       "      <td>No</td>\n",
       "    </tr>\n",
       "    <tr>\n",
       "      <td>5515</td>\n",
       "      <td>8361-LTMKD</td>\n",
       "      <td>Fiber optic</td>\n",
       "      <td>No</td>\n",
       "      <td>No</td>\n",
       "      <td>No</td>\n",
       "      <td>No</td>\n",
       "      <td>No</td>\n",
       "      <td>No</td>\n",
       "    </tr>\n",
       "    <tr>\n",
       "      <td>5516</td>\n",
       "      <td>3186-AJIEK</td>\n",
       "      <td>Fiber optic</td>\n",
       "      <td>Yes</td>\n",
       "      <td>No</td>\n",
       "      <td>Yes</td>\n",
       "      <td>Yes</td>\n",
       "      <td>Yes</td>\n",
       "      <td>Yes</td>\n",
       "    </tr>\n",
       "  </tbody>\n",
       "</table>\n",
       "<p>5517 rows × 8 columns</p>\n",
       "</div>"
      ],
      "text/plain": [
       "      customerID InternetService OnlineSecurity OnlineBackup DeviceProtection  \\\n",
       "0     7590-VHVEG             DSL             No          Yes               No   \n",
       "1     5575-GNVDE             DSL            Yes           No              Yes   \n",
       "2     3668-QPYBK             DSL            Yes          Yes               No   \n",
       "3     7795-CFOCW             DSL            Yes           No              Yes   \n",
       "4     9237-HQITU     Fiber optic             No           No               No   \n",
       "...          ...             ...            ...          ...              ...   \n",
       "5512  6840-RESVB             DSL            Yes           No              Yes   \n",
       "5513  2234-XADUH     Fiber optic             No          Yes              Yes   \n",
       "5514  4801-JZAZL             DSL            Yes           No               No   \n",
       "5515  8361-LTMKD     Fiber optic             No           No               No   \n",
       "5516  3186-AJIEK     Fiber optic            Yes           No              Yes   \n",
       "\n",
       "     TechSupport StreamingTV StreamingMovies  \n",
       "0             No          No              No  \n",
       "1             No          No              No  \n",
       "2             No          No              No  \n",
       "3            Yes          No              No  \n",
       "4             No          No              No  \n",
       "...          ...         ...             ...  \n",
       "5512         Yes         Yes             Yes  \n",
       "5513          No         Yes             Yes  \n",
       "5514          No          No              No  \n",
       "5515          No          No              No  \n",
       "5516         Yes         Yes             Yes  \n",
       "\n",
       "[5517 rows x 8 columns]"
      ]
     },
     "metadata": {},
     "output_type": "display_data"
    }
   ],
   "source": [
    "display(internet)"
   ]
  },
  {
   "cell_type": "code",
   "execution_count": 23,
   "metadata": {},
   "outputs": [
    {
     "name": "stdout",
     "output_type": "stream",
     "text": [
      "<class 'pandas.core.frame.DataFrame'>\n",
      "RangeIndex: 5517 entries, 0 to 5516\n",
      "Data columns (total 8 columns):\n",
      "customer_id          5517 non-null object\n",
      "internet_service     5517 non-null object\n",
      "online_security      5517 non-null object\n",
      "online_backup        5517 non-null object\n",
      "device_protection    5517 non-null object\n",
      "tech_support         5517 non-null object\n",
      "streaming_tv         5517 non-null object\n",
      "streaming_movies     5517 non-null object\n",
      "dtypes: object(8)\n",
      "memory usage: 344.9+ KB\n"
     ]
    }
   ],
   "source": [
    "internet.rename(columns={\"customerID\": \"customer_id\", \"InternetService\":\"internet_service\",\"OnlineSecurity\":\"online_security\",\\\n",
    "                        \"OnlineBackup\":\"online_backup\",\"DeviceProtection\":\"device_protection\",\"TechSupport\":\"tech_support\",\\\n",
    "                        \"StreamingTV\":\"streaming_tv\",\"StreamingMovies\":\"streaming_movies\"}, inplace=True)\n",
    "internet.info()"
   ]
  },
  {
   "cell_type": "code",
   "execution_count": 24,
   "metadata": {},
   "outputs": [
    {
     "name": "stdout",
     "output_type": "stream",
     "text": [
      "internet NaNs: 0\n",
      "internet duplicates: 0\n"
     ]
    }
   ],
   "source": [
    "#Checking for NaNs in internet.\n",
    "print('internet NaNs:', internet.isna().sum().sum())\n",
    "#Checking for duplicates in internet.\n",
    "print('internet duplicates:', internet.duplicated().sum())"
   ]
  },
  {
   "cell_type": "code",
   "execution_count": 25,
   "metadata": {},
   "outputs": [
    {
     "name": "stdout",
     "output_type": "stream",
     "text": [
      "Fiber optic    3096\n",
      "DSL            2421\n",
      "Name: internet_service, dtype: int64\n",
      "\n",
      "Fiber optic    0.561175\n",
      "DSL            0.438825\n",
      "Name: internet_service, dtype: float64\n"
     ]
    }
   ],
   "source": [
    "#Analyzing internet_service column.\n",
    "print(internet.internet_service.value_counts())\n",
    "print()\n",
    "print(internet.internet_service.value_counts(normalize=True))"
   ]
  },
  {
   "cell_type": "code",
   "execution_count": 26,
   "metadata": {},
   "outputs": [
    {
     "name": "stdout",
     "output_type": "stream",
     "text": [
      "No     3498\n",
      "Yes    2019\n",
      "Name: online_security, dtype: int64\n",
      "\n",
      "No     0.63404\n",
      "Yes    0.36596\n",
      "Name: online_security, dtype: float64\n"
     ]
    }
   ],
   "source": [
    "#Analyzing online_security column.\n",
    "print(internet.online_security.value_counts())\n",
    "print()\n",
    "print(internet.online_security.value_counts(normalize=True))"
   ]
  },
  {
   "cell_type": "code",
   "execution_count": 27,
   "metadata": {},
   "outputs": [
    {
     "name": "stdout",
     "output_type": "stream",
     "text": [
      "No     3088\n",
      "Yes    2429\n",
      "Name: online_backup, dtype: int64\n",
      "\n",
      "No     0.559724\n",
      "Yes    0.440276\n",
      "Name: online_backup, dtype: float64\n"
     ]
    }
   ],
   "source": [
    "#Analyzing online_backup column.\n",
    "print(internet.online_backup.value_counts())\n",
    "print()\n",
    "print(internet.online_backup.value_counts(normalize=True))"
   ]
  },
  {
   "cell_type": "code",
   "execution_count": 28,
   "metadata": {},
   "outputs": [
    {
     "name": "stdout",
     "output_type": "stream",
     "text": [
      "No     3095\n",
      "Yes    2422\n",
      "Name: device_protection, dtype: int64\n",
      "\n",
      "No     0.560993\n",
      "Yes    0.439007\n",
      "Name: device_protection, dtype: float64\n"
     ]
    }
   ],
   "source": [
    "#Analyzing device_protection column.\n",
    "print(internet.device_protection.value_counts())\n",
    "print()\n",
    "print(internet.device_protection.value_counts(normalize=True))"
   ]
  },
  {
   "cell_type": "code",
   "execution_count": 29,
   "metadata": {},
   "outputs": [
    {
     "name": "stdout",
     "output_type": "stream",
     "text": [
      "No     3473\n",
      "Yes    2044\n",
      "Name: tech_support, dtype: int64\n",
      "\n",
      "No     0.629509\n",
      "Yes    0.370491\n",
      "Name: tech_support, dtype: float64\n"
     ]
    }
   ],
   "source": [
    "#Analyzing tech_support column.\n",
    "print(internet.tech_support.value_counts())\n",
    "print()\n",
    "print(internet.tech_support.value_counts(normalize=True))"
   ]
  },
  {
   "cell_type": "code",
   "execution_count": 30,
   "metadata": {},
   "outputs": [
    {
     "name": "stdout",
     "output_type": "stream",
     "text": [
      "No     2810\n",
      "Yes    2707\n",
      "Name: streaming_tv, dtype: int64\n",
      "\n",
      "No     0.509335\n",
      "Yes    0.490665\n",
      "Name: streaming_tv, dtype: float64\n"
     ]
    }
   ],
   "source": [
    "#Analyzing streaming_tv column.\n",
    "print(internet.streaming_tv.value_counts())\n",
    "print()\n",
    "print(internet.streaming_tv.value_counts(normalize=True))"
   ]
  },
  {
   "cell_type": "code",
   "execution_count": 31,
   "metadata": {},
   "outputs": [
    {
     "name": "stdout",
     "output_type": "stream",
     "text": [
      "No     2785\n",
      "Yes    2732\n",
      "Name: streaming_movies, dtype: int64\n",
      "\n",
      "No     0.504803\n",
      "Yes    0.495197\n",
      "Name: streaming_movies, dtype: float64\n"
     ]
    }
   ],
   "source": [
    "#Analyzing streaming_movies column.\n",
    "print(internet.streaming_movies.value_counts())\n",
    "print()\n",
    "print(internet.streaming_movies.value_counts(normalize=True))"
   ]
  },
  {
   "cell_type": "markdown",
   "metadata": {},
   "source": [
    "### Phone df preprocessing"
   ]
  },
  {
   "cell_type": "code",
   "execution_count": 32,
   "metadata": {},
   "outputs": [
    {
     "data": {
      "text/html": [
       "<div>\n",
       "<style scoped>\n",
       "    .dataframe tbody tr th:only-of-type {\n",
       "        vertical-align: middle;\n",
       "    }\n",
       "\n",
       "    .dataframe tbody tr th {\n",
       "        vertical-align: top;\n",
       "    }\n",
       "\n",
       "    .dataframe thead th {\n",
       "        text-align: right;\n",
       "    }\n",
       "</style>\n",
       "<table border=\"1\" class=\"dataframe\">\n",
       "  <thead>\n",
       "    <tr style=\"text-align: right;\">\n",
       "      <th></th>\n",
       "      <th>customerID</th>\n",
       "      <th>MultipleLines</th>\n",
       "    </tr>\n",
       "  </thead>\n",
       "  <tbody>\n",
       "    <tr>\n",
       "      <td>0</td>\n",
       "      <td>5575-GNVDE</td>\n",
       "      <td>No</td>\n",
       "    </tr>\n",
       "    <tr>\n",
       "      <td>1</td>\n",
       "      <td>3668-QPYBK</td>\n",
       "      <td>No</td>\n",
       "    </tr>\n",
       "    <tr>\n",
       "      <td>2</td>\n",
       "      <td>9237-HQITU</td>\n",
       "      <td>No</td>\n",
       "    </tr>\n",
       "    <tr>\n",
       "      <td>3</td>\n",
       "      <td>9305-CDSKC</td>\n",
       "      <td>Yes</td>\n",
       "    </tr>\n",
       "    <tr>\n",
       "      <td>4</td>\n",
       "      <td>1452-KIOVK</td>\n",
       "      <td>Yes</td>\n",
       "    </tr>\n",
       "    <tr>\n",
       "      <td>...</td>\n",
       "      <td>...</td>\n",
       "      <td>...</td>\n",
       "    </tr>\n",
       "    <tr>\n",
       "      <td>6356</td>\n",
       "      <td>2569-WGERO</td>\n",
       "      <td>No</td>\n",
       "    </tr>\n",
       "    <tr>\n",
       "      <td>6357</td>\n",
       "      <td>6840-RESVB</td>\n",
       "      <td>Yes</td>\n",
       "    </tr>\n",
       "    <tr>\n",
       "      <td>6358</td>\n",
       "      <td>2234-XADUH</td>\n",
       "      <td>Yes</td>\n",
       "    </tr>\n",
       "    <tr>\n",
       "      <td>6359</td>\n",
       "      <td>8361-LTMKD</td>\n",
       "      <td>Yes</td>\n",
       "    </tr>\n",
       "    <tr>\n",
       "      <td>6360</td>\n",
       "      <td>3186-AJIEK</td>\n",
       "      <td>No</td>\n",
       "    </tr>\n",
       "  </tbody>\n",
       "</table>\n",
       "<p>6361 rows × 2 columns</p>\n",
       "</div>"
      ],
      "text/plain": [
       "      customerID MultipleLines\n",
       "0     5575-GNVDE            No\n",
       "1     3668-QPYBK            No\n",
       "2     9237-HQITU            No\n",
       "3     9305-CDSKC           Yes\n",
       "4     1452-KIOVK           Yes\n",
       "...          ...           ...\n",
       "6356  2569-WGERO            No\n",
       "6357  6840-RESVB           Yes\n",
       "6358  2234-XADUH           Yes\n",
       "6359  8361-LTMKD           Yes\n",
       "6360  3186-AJIEK            No\n",
       "\n",
       "[6361 rows x 2 columns]"
      ]
     },
     "metadata": {},
     "output_type": "display_data"
    }
   ],
   "source": [
    "display(phone)"
   ]
  },
  {
   "cell_type": "code",
   "execution_count": 33,
   "metadata": {},
   "outputs": [
    {
     "name": "stdout",
     "output_type": "stream",
     "text": [
      "<class 'pandas.core.frame.DataFrame'>\n",
      "RangeIndex: 6361 entries, 0 to 6360\n",
      "Data columns (total 2 columns):\n",
      "customer_id       6361 non-null object\n",
      "multiple_lines    6361 non-null object\n",
      "dtypes: object(2)\n",
      "memory usage: 99.5+ KB\n"
     ]
    }
   ],
   "source": [
    "phone.rename(columns={\"customerID\": \"customer_id\", \"MultipleLines\":\"multiple_lines\"}, inplace=True)\n",
    "\n",
    "phone.info()"
   ]
  },
  {
   "cell_type": "code",
   "execution_count": 34,
   "metadata": {},
   "outputs": [
    {
     "name": "stdout",
     "output_type": "stream",
     "text": [
      "phone NaNs: 0\n",
      "phone duplicates: 0\n"
     ]
    }
   ],
   "source": [
    "#Checking for NaNs in phone.\n",
    "print('phone NaNs:', phone.isna().sum().sum())\n",
    "#Checking for duplicates in internet.\n",
    "print('phone duplicates:', phone.duplicated().sum())"
   ]
  },
  {
   "cell_type": "code",
   "execution_count": 35,
   "metadata": {},
   "outputs": [
    {
     "name": "stdout",
     "output_type": "stream",
     "text": [
      "No     3390\n",
      "Yes    2971\n",
      "Name: multiple_lines, dtype: int64\n",
      "\n",
      "No     0.532935\n",
      "Yes    0.467065\n",
      "Name: multiple_lines, dtype: float64\n"
     ]
    }
   ],
   "source": [
    "#Analyzing multiple_lines column.\n",
    "print(phone.multiple_lines.value_counts())\n",
    "print()\n",
    "print(phone.multiple_lines.value_counts(normalize=True))"
   ]
  },
  {
   "cell_type": "markdown",
   "metadata": {},
   "source": [
    "### Target preprocessing"
   ]
  },
  {
   "cell_type": "code",
   "execution_count": 36,
   "metadata": {},
   "outputs": [
    {
     "name": "stdout",
     "output_type": "stream",
     "text": [
      "No                     5174\n",
      "2019-11-01 00:00:00     485\n",
      "2019-12-01 00:00:00     466\n",
      "2020-01-01 00:00:00     460\n",
      "2019-10-01 00:00:00     458\n",
      "Name: end_date, dtype: int64\n"
     ]
    }
   ],
   "source": [
    "#Target analysis.\n",
    "print(contract.end_date.value_counts())"
   ]
  },
  {
   "cell_type": "code",
   "execution_count": 37,
   "metadata": {},
   "outputs": [
    {
     "name": "stdout",
     "output_type": "stream",
     "text": [
      "No                     0.734630\n",
      "2019-11-01 00:00:00    0.068863\n",
      "2019-12-01 00:00:00    0.066165\n",
      "2020-01-01 00:00:00    0.065313\n",
      "2019-10-01 00:00:00    0.065029\n",
      "Name: end_date, dtype: float64\n"
     ]
    }
   ],
   "source": [
    "#Target analysis.\n",
    "print(contract.end_date.value_counts(normalize=True))"
   ]
  },
  {
   "cell_type": "code",
   "execution_count": 38,
   "metadata": {},
   "outputs": [],
   "source": [
    "contract['target'] = np.where((contract['end_date'] != 'No'), 1, contract['end_date'])"
   ]
  },
  {
   "cell_type": "code",
   "execution_count": 39,
   "metadata": {},
   "outputs": [
    {
     "name": "stdout",
     "output_type": "stream",
     "text": [
      "0    5174\n",
      "1    1869\n",
      "Name: target, dtype: int64\n"
     ]
    }
   ],
   "source": [
    "contract['target'].replace('No', 0, inplace=True)\n",
    "print(contract.target.value_counts())"
   ]
  },
  {
   "cell_type": "code",
   "execution_count": 40,
   "metadata": {},
   "outputs": [],
   "source": [
    "contract['target'] = contract['target'].astype('int16')"
   ]
  },
  {
   "cell_type": "markdown",
   "metadata": {},
   "source": [
    "### Creating new features"
   ]
  },
  {
   "cell_type": "code",
   "execution_count": 41,
   "metadata": {},
   "outputs": [],
   "source": [
    "#Assigning 2020-02-01 00:00:00 where there's no in end_date column.\n",
    "contract['end_date'] = np.where((contract['end_date'] == 'No'), '2020-02-01 00:00:00', contract['end_date'])"
   ]
  },
  {
   "cell_type": "code",
   "execution_count": 42,
   "metadata": {},
   "outputs": [],
   "source": [
    "#Changing end_date type.\n",
    "contract.end_date = pd.to_datetime(contract.end_date)"
   ]
  },
  {
   "cell_type": "code",
   "execution_count": 43,
   "metadata": {},
   "outputs": [
    {
     "name": "stdout",
     "output_type": "stream",
     "text": [
      "2020-02-01    5174\n",
      "2019-11-01     485\n",
      "2019-12-01     466\n",
      "2020-01-01     460\n",
      "2019-10-01     458\n",
      "Name: end_date, dtype: int64\n"
     ]
    }
   ],
   "source": [
    "print(contract.end_date.value_counts())"
   ]
  },
  {
   "cell_type": "code",
   "execution_count": 44,
   "metadata": {},
   "outputs": [],
   "source": [
    "contract['days_with_company'] = contract.end_date - contract.begin_date"
   ]
  },
  {
   "cell_type": "code",
   "execution_count": 45,
   "metadata": {},
   "outputs": [],
   "source": [
    "#obtaining integers from time_delta Series.\n",
    "contract['days_with_company'] = (contract['days_with_company']).dt.days"
   ]
  },
  {
   "cell_type": "markdown",
   "metadata": {},
   "source": [
    "## DATA VISUALIZATION"
   ]
  },
  {
   "cell_type": "markdown",
   "metadata": {},
   "source": [
    "### Histograms"
   ]
  },
  {
   "cell_type": "code",
   "execution_count": 46,
   "metadata": {},
   "outputs": [],
   "source": [
    "sns.set_style('darkgrid')"
   ]
  },
  {
   "cell_type": "markdown",
   "metadata": {},
   "source": [
    "#### Monthly charge visualization"
   ]
  },
  {
   "cell_type": "code",
   "execution_count": 47,
   "metadata": {},
   "outputs": [
    {
     "data": {
      "image/png": "[encoded data removed]",
      "text/plain": [
       "<Figure size 864x576 with 1 Axes>"
      ]
     },
     "metadata": {},
     "output_type": "display_data"
    }
   ],
   "source": [
    "# Monthly Charges visualization.\n",
    "plt.figure(figsize=(12,8))\n",
    "sns.histplot(x='monthly_charges', data=contract, kde=True, hue='target')\n",
    "plt.xlabel('Monthly Charges')\n",
    "plt.show()"
   ]
  },
  {
   "cell_type": "markdown",
   "metadata": {},
   "source": [
    "- Monthly charges histogram per target.\n",
    "\n",
    "I wanted to visualize the values in the monthly charges column. I decided to do this visualization taking in account the model target. As we can see from the graph: there's is almost a normalized distribution for both category, except for the only abnormal peak from 20 to 30 for the people who doesn't churned the company. I expected something like because the majority of people with a phone/internet plan are just willing to pay the normal monthly bill price without requiring any kind of extras."
   ]
  },
  {
   "cell_type": "code",
   "execution_count": 48,
   "metadata": {},
   "outputs": [
    {
     "data": {
      "image/png": "[encoded data removed]",
      "text/plain": [
       "<Figure size 864x576 with 1 Axes>"
      ]
     },
     "metadata": {},
     "output_type": "display_data"
    }
   ],
   "source": [
    "# Monthly Charges visualization.\n",
    "plt.figure(figsize=(12,8))\n",
    "sns.histplot(x='monthly_charges', data=contract, kde=True, hue='target', element='poly')\n",
    "plt.xlabel('Monthly Charges')\n",
    "plt.show()"
   ]
  },
  {
   "cell_type": "markdown",
   "metadata": {},
   "source": [
    "- Monthly charges histogram per target. Polygonal.\n",
    "\n",
    "I wanted to plot the same graph as before in polygonal form, the reason is that polygonal graph doesn't use bins and uses instead a regression line. This way we can get even a better understanding of the real values throughout the entire curve."
   ]
  },
  {
   "cell_type": "markdown",
   "metadata": {},
   "source": [
    "#### Total charges visualization"
   ]
  },
  {
   "cell_type": "code",
   "execution_count": 49,
   "metadata": {},
   "outputs": [
    {
     "data": {
      "image/png": "[encoded data removed]",
      "text/plain": [
       "<Figure size 864x576 with 1 Axes>"
      ]
     },
     "metadata": {},
     "output_type": "display_data"
    }
   ],
   "source": [
    "# Total Charges Visualization\n",
    "plt.figure(figsize=(12,8))\n",
    "sns.histplot(x='total_charges', data=contract, kde=True, hue='target')\n",
    "plt.xlabel('Total Charges')\n",
    "plt.show()"
   ]
  },
  {
   "cell_type": "markdown",
   "metadata": {},
   "source": [
    "- Total charges visualization. Complete Histogram.\n",
    "\n",
    "This time we analyze and take in consideration the total_charges column always for both targer. As expected the peak in the beginning is still there and our histogram is strongly right skewed. Having a really wide range, this histogram doesn't allow us to get a significant understanding of the values."
   ]
  },
  {
   "cell_type": "code",
   "execution_count": 50,
   "metadata": {},
   "outputs": [
    {
     "data": {
      "image/png": "[encoded data removed]",
      "text/plain": [
       "<Figure size 2160x432 with 3 Axes>"
      ]
     },
     "metadata": {},
     "output_type": "display_data"
    }
   ],
   "source": [
    "#Dividing the total_charges column in total_charges < 200, btw 200 and 2000 and > 2000 to get a better visualization of graphs.\n",
    "total_charges_200 = contract.query('total_charges < 200')\n",
    "total_charges_2000 = contract.query('total_charges > 200 and total_charges < 2000') \n",
    "total_charges_over = contract.query('total_charges > 2000')\n",
    "\n",
    "plt.figure(figsize=(30,6)) # specifying figure size\n",
    "ax1 = plt.subplot(1,3,1)\n",
    "sns.histplot(data=total_charges_200, x='total_charges', ax = ax1, hue='target')\n",
    "plt.xlabel('Total Charges')\n",
    "ax2 = plt.subplot(1,3,2)\n",
    "sns.histplot(data=total_charges_2000, x='total_charges', ax = ax2, hue='target', alpha=0.7)\n",
    "plt.xlabel('Total Charges')\n",
    "ax3 = plt.subplot(1,3,3)\n",
    "sns.histplot(data=total_charges_over, x='total_charges', ax = ax3, hue='target', alpha=0.7)\n",
    "plt.xlabel('Total Charges')\n",
    "plt.show()"
   ]
  },
  {
   "cell_type": "markdown",
   "metadata": {},
   "source": [
    "- Total charges visualization. Subplots (Ranges = [0:200], [200:2000], [2000:+])\n",
    "\n",
    "I decided to divide the previous graph in three subplots, the range I took in consideration are:\\\n",
    "1)from 0 to 200\\\n",
    "2)from 200 to 2000\\\n",
    "3)fromm 2000 to 8684.8 (max value)\n",
    "\n",
    "From those graphs we can see that the distribution for each graph is almost everywhere normalized even if still slightly right-skewed.\n",
    "\n",
    "<span style=\"color:red\">\n",
    "The only anomalies detected is a really high peak for people who churned indentified among 70 and 80 in the first graph. A way to understand this anomalies in a better way, could be a further analysis on those people trying to understand the services they have benefited from, to understand possible reasorn for the churn. (Probably they thought that the quality/price of their services was too expansive).</span>"
   ]
  },
  {
   "cell_type": "markdown",
   "metadata": {},
   "source": [
    "#### Days with company visualization."
   ]
  },
  {
   "cell_type": "code",
   "execution_count": 51,
   "metadata": {},
   "outputs": [
    {
     "data": {
      "image/png": "[encoded data removed]",
      "text/plain": [
       "<Figure size 864x576 with 1 Axes>"
      ]
     },
     "metadata": {},
     "output_type": "display_data"
    }
   ],
   "source": [
    "#Visualizing histograms of days_with_company column.\n",
    "plt.figure(figsize=(12,8))\n",
    "sns.histplot(x='days_with_company', data=contract, kde=True, hue='target')\n",
    "plt.xlabel('Days with company')\n",
    "plt.show()"
   ]
  },
  {
   "cell_type": "markdown",
   "metadata": {},
   "source": [
    "- Days with company visualization. Histogram.\n",
    "\n",
    "This graph shows how many days people stayed with the company highlightin people who left and who don't. My starting thoughts were confirmed from the graph people who left used to stay few time with the company, instead many people who doesn't churned are already loyal customers."
   ]
  },
  {
   "cell_type": "markdown",
   "metadata": {},
   "source": [
    "#### Target visualization"
   ]
  },
  {
   "cell_type": "code",
   "execution_count": 52,
   "metadata": {},
   "outputs": [
    {
     "data": {
      "image/png": "[encoded data removed]",
      "text/plain": [
       "<Figure size 288x288 with 1 Axes>"
      ]
     },
     "metadata": {},
     "output_type": "display_data"
    },
    {
     "name": "stdout",
     "output_type": "stream",
     "text": [
      "\n",
      "Target class imbalance:\n",
      "0    0.73463\n",
      "1    0.26537\n",
      "Name: target, dtype: float64\n"
     ]
    }
   ],
   "source": [
    "#Visualizing our Target.\n",
    "plt.figure(figsize=(4,4))\n",
    "sns.histplot(x='target', data=contract, color='green', alpha=.5)\n",
    "plt.xlabel('Target')\n",
    "plt.show()\n",
    "print()\n",
    "print('Target class imbalance:')\n",
    "print(contract.target.value_counts(normalize=True))"
   ]
  },
  {
   "cell_type": "markdown",
   "metadata": {},
   "source": [
    "- Target visualization\n",
    "\n",
    "In this graph we get a better understanding of our target and with the normalized value count of the column we get a good understanding of the class imbalance. The ratio we obtain is 3:1. Gonna upsample the target = 1."
   ]
  },
  {
   "cell_type": "markdown",
   "metadata": {},
   "source": [
    "### Boxplots"
   ]
  },
  {
   "cell_type": "markdown",
   "metadata": {},
   "source": [
    "#### Monthly charges boxplots"
   ]
  },
  {
   "cell_type": "code",
   "execution_count": 53,
   "metadata": {},
   "outputs": [
    {
     "data": {
      "image/png": "[encoded data removed]",
      "text/plain": [
       "<Figure size 432x288 with 1 Axes>"
      ]
     },
     "metadata": {},
     "output_type": "display_data"
    }
   ],
   "source": [
    "#target monthly_charges boxplot\n",
    "sns.boxplot(x ='target', y='monthly_charges', data=contract, hue='target')\n",
    "plt.ylabel('Monthly Charges')\n",
    "plt.title('Outliers in monthly charges')\n",
    "plt.show() "
   ]
  },
  {
   "cell_type": "markdown",
   "metadata": {},
   "source": [
    "- Monthly charges per target boxplot\n",
    "\n",
    "In those boxplots we can appreciate the distribution of values and understand 25% quartile, median and 75% quartile of both categories. As we can easely see from the graph the people who churned were used to spend in median significantly more then who is still will our company. Probably there's a problem in our extra services. "
   ]
  },
  {
   "cell_type": "code",
   "execution_count": 54,
   "metadata": {},
   "outputs": [
    {
     "name": "stdout",
     "output_type": "stream",
     "text": [
      "Outliers in monthly charges:  0\n"
     ]
    },
    {
     "data": {
      "image/png": "[encoded data removed]",
      "text/plain": [
       "<Figure size 432x288 with 1 Axes>"
      ]
     },
     "metadata": {},
     "output_type": "display_data"
    }
   ],
   "source": [
    "#monthly_charges boxplot.\n",
    "monthly_boxplot = plt.boxplot(contract['monthly_charges'].values)\n",
    "outliers = list(monthly_boxplot['fliers'][0].get_data()[1])\n",
    "print('Outliers in monthly charges: ', len(outliers)) "
   ]
  },
  {
   "cell_type": "markdown",
   "metadata": {},
   "source": [
    "- Monthly charges boxplot\n",
    "\n",
    "In this plot we see the entire monthly_charges column. And calculate the outliers within it. There're none. "
   ]
  },
  {
   "cell_type": "markdown",
   "metadata": {},
   "source": [
    "#### Total charges boxplots"
   ]
  },
  {
   "cell_type": "code",
   "execution_count": 55,
   "metadata": {},
   "outputs": [
    {
     "data": {
      "image/png": "[encoded data removed]",
      "text/plain": [
       "<Figure size 432x288 with 1 Axes>"
      ]
     },
     "metadata": {},
     "output_type": "display_data"
    }
   ],
   "source": [
    "#target total_charges boxplot.\n",
    "boxplot = sns.boxplot(x = 'target', y='total_charges', data=contract, hue='target')\n",
    "plt.ylabel('Total Charges')\n",
    "plt.title('Outliers in total charges')\n",
    "plt.show() "
   ]
  },
  {
   "cell_type": "markdown",
   "metadata": {},
   "source": [
    "- Total charges per target boxplot.\n",
    "\n",
    "In those boxplots we analyze total_charges column for both targets. This time the median is higher for people who doesn't left, this is a confirm of my thoughts, being more time with the company they tend to charge more on a long time period.\n",
    "\n",
    "We can see that for target = 1 in this column, the upper whisker is set to almost 6000, for this reason whe find outliers in this plot. Being the upper whisker of 0 target on 8000, I don't expect to find outliers in the boxplot that contain both category."
   ]
  },
  {
   "cell_type": "code",
   "execution_count": 56,
   "metadata": {},
   "outputs": [
    {
     "name": "stdout",
     "output_type": "stream",
     "text": [
      "Outliers in total charges:  0\n"
     ]
    },
    {
     "data": {
      "image/png": "[encoded data removed]",
      "text/plain": [
       "<Figure size 432x288 with 1 Axes>"
      ]
     },
     "metadata": {},
     "output_type": "display_data"
    }
   ],
   "source": [
    "#total_charges boxplot\n",
    "boxplot = plt.boxplot(contract['total_charges'].values)\n",
    "outliers = list(boxplot['fliers'][0].get_data()[1])\n",
    "print('Outliers in total charges: ', len(outliers)) "
   ]
  },
  {
   "cell_type": "markdown",
   "metadata": {},
   "source": [
    "- Total charges boxplot\n",
    "\n",
    "Our toughts were confirmed, no outliers found the median is setted much more near the median of target 0 then 1."
   ]
  },
  {
   "cell_type": "markdown",
   "metadata": {},
   "source": [
    "## Merging dataframes and Encoding the features."
   ]
  },
  {
   "cell_type": "code",
   "execution_count": 57,
   "metadata": {},
   "outputs": [],
   "source": [
    "df = contract.merge(internet, on = 'customer_id', how='outer')\n",
    "df = df.merge(phone, on = 'customer_id', how='outer')\n",
    "df = df.merge(clients, on='customer_id', how='outer')"
   ]
  },
  {
   "cell_type": "code",
   "execution_count": 58,
   "metadata": {},
   "outputs": [
    {
     "data": {
      "text/html": [
       "<div>\n",
       "<style scoped>\n",
       "    .dataframe tbody tr th:only-of-type {\n",
       "        vertical-align: middle;\n",
       "    }\n",
       "\n",
       "    .dataframe tbody tr th {\n",
       "        vertical-align: top;\n",
       "    }\n",
       "\n",
       "    .dataframe thead th {\n",
       "        text-align: right;\n",
       "    }\n",
       "</style>\n",
       "<table border=\"1\" class=\"dataframe\">\n",
       "  <thead>\n",
       "    <tr style=\"text-align: right;\">\n",
       "      <th></th>\n",
       "      <th>customer_id</th>\n",
       "      <th>begin_date</th>\n",
       "      <th>end_date</th>\n",
       "      <th>type</th>\n",
       "      <th>paperless_billing</th>\n",
       "      <th>payment_method</th>\n",
       "      <th>monthly_charges</th>\n",
       "      <th>total_charges</th>\n",
       "      <th>target</th>\n",
       "      <th>days_with_company</th>\n",
       "      <th>...</th>\n",
       "      <th>online_backup</th>\n",
       "      <th>device_protection</th>\n",
       "      <th>tech_support</th>\n",
       "      <th>streaming_tv</th>\n",
       "      <th>streaming_movies</th>\n",
       "      <th>multiple_lines</th>\n",
       "      <th>gender</th>\n",
       "      <th>senior_citizen</th>\n",
       "      <th>partner</th>\n",
       "      <th>dependents</th>\n",
       "    </tr>\n",
       "  </thead>\n",
       "  <tbody>\n",
       "    <tr>\n",
       "      <td>0</td>\n",
       "      <td>7590-VHVEG</td>\n",
       "      <td>2020-01-01</td>\n",
       "      <td>2020-02-01</td>\n",
       "      <td>Month-to-month</td>\n",
       "      <td>Yes</td>\n",
       "      <td>Electronic check</td>\n",
       "      <td>29.85</td>\n",
       "      <td>29.85</td>\n",
       "      <td>0</td>\n",
       "      <td>31</td>\n",
       "      <td>...</td>\n",
       "      <td>Yes</td>\n",
       "      <td>No</td>\n",
       "      <td>No</td>\n",
       "      <td>No</td>\n",
       "      <td>No</td>\n",
       "      <td>NaN</td>\n",
       "      <td>Female</td>\n",
       "      <td>0</td>\n",
       "      <td>Yes</td>\n",
       "      <td>No</td>\n",
       "    </tr>\n",
       "    <tr>\n",
       "      <td>1</td>\n",
       "      <td>5575-GNVDE</td>\n",
       "      <td>2017-04-01</td>\n",
       "      <td>2020-02-01</td>\n",
       "      <td>One year</td>\n",
       "      <td>No</td>\n",
       "      <td>Mailed check</td>\n",
       "      <td>56.95</td>\n",
       "      <td>1889.50</td>\n",
       "      <td>0</td>\n",
       "      <td>1036</td>\n",
       "      <td>...</td>\n",
       "      <td>No</td>\n",
       "      <td>Yes</td>\n",
       "      <td>No</td>\n",
       "      <td>No</td>\n",
       "      <td>No</td>\n",
       "      <td>No</td>\n",
       "      <td>Male</td>\n",
       "      <td>0</td>\n",
       "      <td>No</td>\n",
       "      <td>No</td>\n",
       "    </tr>\n",
       "    <tr>\n",
       "      <td>2</td>\n",
       "      <td>3668-QPYBK</td>\n",
       "      <td>2019-10-01</td>\n",
       "      <td>2019-12-01</td>\n",
       "      <td>Month-to-month</td>\n",
       "      <td>Yes</td>\n",
       "      <td>Mailed check</td>\n",
       "      <td>53.85</td>\n",
       "      <td>108.15</td>\n",
       "      <td>1</td>\n",
       "      <td>61</td>\n",
       "      <td>...</td>\n",
       "      <td>Yes</td>\n",
       "      <td>No</td>\n",
       "      <td>No</td>\n",
       "      <td>No</td>\n",
       "      <td>No</td>\n",
       "      <td>No</td>\n",
       "      <td>Male</td>\n",
       "      <td>0</td>\n",
       "      <td>No</td>\n",
       "      <td>No</td>\n",
       "    </tr>\n",
       "    <tr>\n",
       "      <td>3</td>\n",
       "      <td>7795-CFOCW</td>\n",
       "      <td>2016-05-01</td>\n",
       "      <td>2020-02-01</td>\n",
       "      <td>One year</td>\n",
       "      <td>No</td>\n",
       "      <td>Bank transfer (automatic)</td>\n",
       "      <td>42.30</td>\n",
       "      <td>1840.75</td>\n",
       "      <td>0</td>\n",
       "      <td>1371</td>\n",
       "      <td>...</td>\n",
       "      <td>No</td>\n",
       "      <td>Yes</td>\n",
       "      <td>Yes</td>\n",
       "      <td>No</td>\n",
       "      <td>No</td>\n",
       "      <td>NaN</td>\n",
       "      <td>Male</td>\n",
       "      <td>0</td>\n",
       "      <td>No</td>\n",
       "      <td>No</td>\n",
       "    </tr>\n",
       "    <tr>\n",
       "      <td>4</td>\n",
       "      <td>9237-HQITU</td>\n",
       "      <td>2019-09-01</td>\n",
       "      <td>2019-11-01</td>\n",
       "      <td>Month-to-month</td>\n",
       "      <td>Yes</td>\n",
       "      <td>Electronic check</td>\n",
       "      <td>70.70</td>\n",
       "      <td>151.65</td>\n",
       "      <td>1</td>\n",
       "      <td>61</td>\n",
       "      <td>...</td>\n",
       "      <td>No</td>\n",
       "      <td>No</td>\n",
       "      <td>No</td>\n",
       "      <td>No</td>\n",
       "      <td>No</td>\n",
       "      <td>No</td>\n",
       "      <td>Female</td>\n",
       "      <td>0</td>\n",
       "      <td>No</td>\n",
       "      <td>No</td>\n",
       "    </tr>\n",
       "    <tr>\n",
       "      <td>...</td>\n",
       "      <td>...</td>\n",
       "      <td>...</td>\n",
       "      <td>...</td>\n",
       "      <td>...</td>\n",
       "      <td>...</td>\n",
       "      <td>...</td>\n",
       "      <td>...</td>\n",
       "      <td>...</td>\n",
       "      <td>...</td>\n",
       "      <td>...</td>\n",
       "      <td>...</td>\n",
       "      <td>...</td>\n",
       "      <td>...</td>\n",
       "      <td>...</td>\n",
       "      <td>...</td>\n",
       "      <td>...</td>\n",
       "      <td>...</td>\n",
       "      <td>...</td>\n",
       "      <td>...</td>\n",
       "      <td>...</td>\n",
       "      <td>...</td>\n",
       "    </tr>\n",
       "    <tr>\n",
       "      <td>7038</td>\n",
       "      <td>6840-RESVB</td>\n",
       "      <td>2018-02-01</td>\n",
       "      <td>2020-02-01</td>\n",
       "      <td>One year</td>\n",
       "      <td>Yes</td>\n",
       "      <td>Mailed check</td>\n",
       "      <td>84.80</td>\n",
       "      <td>1990.50</td>\n",
       "      <td>0</td>\n",
       "      <td>730</td>\n",
       "      <td>...</td>\n",
       "      <td>No</td>\n",
       "      <td>Yes</td>\n",
       "      <td>Yes</td>\n",
       "      <td>Yes</td>\n",
       "      <td>Yes</td>\n",
       "      <td>Yes</td>\n",
       "      <td>Male</td>\n",
       "      <td>0</td>\n",
       "      <td>Yes</td>\n",
       "      <td>Yes</td>\n",
       "    </tr>\n",
       "    <tr>\n",
       "      <td>7039</td>\n",
       "      <td>2234-XADUH</td>\n",
       "      <td>2014-02-01</td>\n",
       "      <td>2020-02-01</td>\n",
       "      <td>One year</td>\n",
       "      <td>Yes</td>\n",
       "      <td>Credit card (automatic)</td>\n",
       "      <td>103.20</td>\n",
       "      <td>7362.90</td>\n",
       "      <td>0</td>\n",
       "      <td>2191</td>\n",
       "      <td>...</td>\n",
       "      <td>Yes</td>\n",
       "      <td>Yes</td>\n",
       "      <td>No</td>\n",
       "      <td>Yes</td>\n",
       "      <td>Yes</td>\n",
       "      <td>Yes</td>\n",
       "      <td>Female</td>\n",
       "      <td>0</td>\n",
       "      <td>Yes</td>\n",
       "      <td>Yes</td>\n",
       "    </tr>\n",
       "    <tr>\n",
       "      <td>7040</td>\n",
       "      <td>4801-JZAZL</td>\n",
       "      <td>2019-03-01</td>\n",
       "      <td>2020-02-01</td>\n",
       "      <td>Month-to-month</td>\n",
       "      <td>Yes</td>\n",
       "      <td>Electronic check</td>\n",
       "      <td>29.60</td>\n",
       "      <td>346.45</td>\n",
       "      <td>0</td>\n",
       "      <td>337</td>\n",
       "      <td>...</td>\n",
       "      <td>No</td>\n",
       "      <td>No</td>\n",
       "      <td>No</td>\n",
       "      <td>No</td>\n",
       "      <td>No</td>\n",
       "      <td>NaN</td>\n",
       "      <td>Female</td>\n",
       "      <td>0</td>\n",
       "      <td>Yes</td>\n",
       "      <td>Yes</td>\n",
       "    </tr>\n",
       "    <tr>\n",
       "      <td>7041</td>\n",
       "      <td>8361-LTMKD</td>\n",
       "      <td>2019-07-01</td>\n",
       "      <td>2019-11-01</td>\n",
       "      <td>Month-to-month</td>\n",
       "      <td>Yes</td>\n",
       "      <td>Mailed check</td>\n",
       "      <td>74.40</td>\n",
       "      <td>306.60</td>\n",
       "      <td>1</td>\n",
       "      <td>123</td>\n",
       "      <td>...</td>\n",
       "      <td>No</td>\n",
       "      <td>No</td>\n",
       "      <td>No</td>\n",
       "      <td>No</td>\n",
       "      <td>No</td>\n",
       "      <td>Yes</td>\n",
       "      <td>Male</td>\n",
       "      <td>1</td>\n",
       "      <td>Yes</td>\n",
       "      <td>No</td>\n",
       "    </tr>\n",
       "    <tr>\n",
       "      <td>7042</td>\n",
       "      <td>3186-AJIEK</td>\n",
       "      <td>2014-08-01</td>\n",
       "      <td>2020-02-01</td>\n",
       "      <td>Two year</td>\n",
       "      <td>Yes</td>\n",
       "      <td>Bank transfer (automatic)</td>\n",
       "      <td>105.65</td>\n",
       "      <td>6844.50</td>\n",
       "      <td>0</td>\n",
       "      <td>2010</td>\n",
       "      <td>...</td>\n",
       "      <td>No</td>\n",
       "      <td>Yes</td>\n",
       "      <td>Yes</td>\n",
       "      <td>Yes</td>\n",
       "      <td>Yes</td>\n",
       "      <td>No</td>\n",
       "      <td>Male</td>\n",
       "      <td>0</td>\n",
       "      <td>No</td>\n",
       "      <td>No</td>\n",
       "    </tr>\n",
       "  </tbody>\n",
       "</table>\n",
       "<p>7043 rows × 22 columns</p>\n",
       "</div>"
      ],
      "text/plain": [
       "     customer_id begin_date   end_date            type paperless_billing  \\\n",
       "0     7590-VHVEG 2020-01-01 2020-02-01  Month-to-month               Yes   \n",
       "1     5575-GNVDE 2017-04-01 2020-02-01        One year                No   \n",
       "2     3668-QPYBK 2019-10-01 2019-12-01  Month-to-month               Yes   \n",
       "3     7795-CFOCW 2016-05-01 2020-02-01        One year                No   \n",
       "4     9237-HQITU 2019-09-01 2019-11-01  Month-to-month               Yes   \n",
       "...          ...        ...        ...             ...               ...   \n",
       "7038  6840-RESVB 2018-02-01 2020-02-01        One year               Yes   \n",
       "7039  2234-XADUH 2014-02-01 2020-02-01        One year               Yes   \n",
       "7040  4801-JZAZL 2019-03-01 2020-02-01  Month-to-month               Yes   \n",
       "7041  8361-LTMKD 2019-07-01 2019-11-01  Month-to-month               Yes   \n",
       "7042  3186-AJIEK 2014-08-01 2020-02-01        Two year               Yes   \n",
       "\n",
       "                 payment_method  monthly_charges  total_charges  target  \\\n",
       "0              Electronic check            29.85          29.85       0   \n",
       "1                  Mailed check            56.95        1889.50       0   \n",
       "2                  Mailed check            53.85         108.15       1   \n",
       "3     Bank transfer (automatic)            42.30        1840.75       0   \n",
       "4              Electronic check            70.70         151.65       1   \n",
       "...                         ...              ...            ...     ...   \n",
       "7038               Mailed check            84.80        1990.50       0   \n",
       "7039    Credit card (automatic)           103.20        7362.90       0   \n",
       "7040           Electronic check            29.60         346.45       0   \n",
       "7041               Mailed check            74.40         306.60       1   \n",
       "7042  Bank transfer (automatic)           105.65        6844.50       0   \n",
       "\n",
       "      days_with_company  ... online_backup device_protection tech_support  \\\n",
       "0                    31  ...           Yes                No           No   \n",
       "1                  1036  ...            No               Yes           No   \n",
       "2                    61  ...           Yes                No           No   \n",
       "3                  1371  ...            No               Yes          Yes   \n",
       "4                    61  ...            No                No           No   \n",
       "...                 ...  ...           ...               ...          ...   \n",
       "7038                730  ...            No               Yes          Yes   \n",
       "7039               2191  ...           Yes               Yes           No   \n",
       "7040                337  ...            No                No           No   \n",
       "7041                123  ...            No                No           No   \n",
       "7042               2010  ...            No               Yes          Yes   \n",
       "\n",
       "     streaming_tv streaming_movies multiple_lines  gender senior_citizen  \\\n",
       "0              No               No            NaN  Female              0   \n",
       "1              No               No             No    Male              0   \n",
       "2              No               No             No    Male              0   \n",
       "3              No               No            NaN    Male              0   \n",
       "4              No               No             No  Female              0   \n",
       "...           ...              ...            ...     ...            ...   \n",
       "7038          Yes              Yes            Yes    Male              0   \n",
       "7039          Yes              Yes            Yes  Female              0   \n",
       "7040           No               No            NaN  Female              0   \n",
       "7041           No               No            Yes    Male              1   \n",
       "7042          Yes              Yes             No    Male              0   \n",
       "\n",
       "     partner  dependents  \n",
       "0        Yes          No  \n",
       "1         No          No  \n",
       "2         No          No  \n",
       "3         No          No  \n",
       "4         No          No  \n",
       "...      ...         ...  \n",
       "7038     Yes         Yes  \n",
       "7039     Yes         Yes  \n",
       "7040     Yes         Yes  \n",
       "7041     Yes          No  \n",
       "7042      No          No  \n",
       "\n",
       "[7043 rows x 22 columns]"
      ]
     },
     "metadata": {},
     "output_type": "display_data"
    }
   ],
   "source": [
    "display(df)"
   ]
  },
  {
   "cell_type": "code",
   "execution_count": 59,
   "metadata": {},
   "outputs": [
    {
     "name": "stdout",
     "output_type": "stream",
     "text": [
      "1    6361\n",
      "0     682\n",
      "Name: has_phone, dtype: int64\n"
     ]
    }
   ],
   "source": [
    "#Creating has_phone feature.\n",
    "df['has_phone'] = np.where((df['multiple_lines'] == 'No'), 1, np.nan)\n",
    "df.loc[df['multiple_lines'] == 'Yes', 'has_phone'] = 1\n",
    "df.has_phone = df['has_phone'].replace(np.nan, 0)\n",
    "df.has_phone = df.has_phone.astype('int16')\n",
    "print(df['has_phone'].value_counts(dropna=False))"
   ]
  },
  {
   "cell_type": "code",
   "execution_count": 60,
   "metadata": {},
   "outputs": [
    {
     "name": "stdout",
     "output_type": "stream",
     "text": [
      "1    5517\n",
      "0    1526\n",
      "Name: has_internet, dtype: int64\n"
     ]
    }
   ],
   "source": [
    "#Creating has_internet feature.\n",
    "df['has_internet'] = np.where((df['device_protection'] == 'No'), 1, np.nan)\n",
    "df.loc[df['device_protection'] == 'Yes', 'has_internet'] = 1\n",
    "df.has_internet = df['has_internet'].replace(np.nan, 0)\n",
    "df.has_internet = df.has_internet.astype('int16')\n",
    "print(df['has_internet'].value_counts(dropna=False))"
   ]
  },
  {
   "cell_type": "code",
   "execution_count": 61,
   "metadata": {},
   "outputs": [],
   "source": [
    "#Encoding the dataset\n",
    "original = df\n",
    "df = df.drop(['customer_id','begin_date','end_date','monthly_charges','total_charges','days_with_company'], axis=1)\n",
    "df = df.astype(str).apply(LabelEncoder().fit_transform)"
   ]
  },
  {
   "cell_type": "code",
   "execution_count": 62,
   "metadata": {},
   "outputs": [],
   "source": [
    "#Re-adding dropped columns.\n",
    "df['begin_date'] = original['begin_date']\n",
    "df['end_date'] = original['end_date']\n",
    "df['monthly_charges'] = original['monthly_charges']\n",
    "df['total_charges'] = original['total_charges']\n",
    "df['days_with_company'] = original['days_with_company']"
   ]
  },
  {
   "cell_type": "code",
   "execution_count": 63,
   "metadata": {},
   "outputs": [],
   "source": [
    "df = df.set_index(original['customer_id'])"
   ]
  },
  {
   "cell_type": "code",
   "execution_count": 64,
   "metadata": {},
   "outputs": [
    {
     "data": {
      "text/html": [
       "<div>\n",
       "<style scoped>\n",
       "    .dataframe tbody tr th:only-of-type {\n",
       "        vertical-align: middle;\n",
       "    }\n",
       "\n",
       "    .dataframe tbody tr th {\n",
       "        vertical-align: top;\n",
       "    }\n",
       "\n",
       "    .dataframe thead th {\n",
       "        text-align: right;\n",
       "    }\n",
       "</style>\n",
       "<table border=\"1\" class=\"dataframe\">\n",
       "  <thead>\n",
       "    <tr style=\"text-align: right;\">\n",
       "      <th></th>\n",
       "      <th>type</th>\n",
       "      <th>paperless_billing</th>\n",
       "      <th>payment_method</th>\n",
       "      <th>target</th>\n",
       "      <th>internet_service</th>\n",
       "      <th>online_security</th>\n",
       "      <th>online_backup</th>\n",
       "      <th>device_protection</th>\n",
       "      <th>tech_support</th>\n",
       "      <th>streaming_tv</th>\n",
       "      <th>...</th>\n",
       "      <th>senior_citizen</th>\n",
       "      <th>partner</th>\n",
       "      <th>dependents</th>\n",
       "      <th>has_phone</th>\n",
       "      <th>has_internet</th>\n",
       "      <th>begin_date</th>\n",
       "      <th>end_date</th>\n",
       "      <th>monthly_charges</th>\n",
       "      <th>total_charges</th>\n",
       "      <th>days_with_company</th>\n",
       "    </tr>\n",
       "    <tr>\n",
       "      <th>customer_id</th>\n",
       "      <th></th>\n",
       "      <th></th>\n",
       "      <th></th>\n",
       "      <th></th>\n",
       "      <th></th>\n",
       "      <th></th>\n",
       "      <th></th>\n",
       "      <th></th>\n",
       "      <th></th>\n",
       "      <th></th>\n",
       "      <th></th>\n",
       "      <th></th>\n",
       "      <th></th>\n",
       "      <th></th>\n",
       "      <th></th>\n",
       "      <th></th>\n",
       "      <th></th>\n",
       "      <th></th>\n",
       "      <th></th>\n",
       "      <th></th>\n",
       "      <th></th>\n",
       "    </tr>\n",
       "  </thead>\n",
       "  <tbody>\n",
       "    <tr>\n",
       "      <td>7590-VHVEG</td>\n",
       "      <td>0</td>\n",
       "      <td>1</td>\n",
       "      <td>2</td>\n",
       "      <td>0</td>\n",
       "      <td>0</td>\n",
       "      <td>0</td>\n",
       "      <td>1</td>\n",
       "      <td>0</td>\n",
       "      <td>0</td>\n",
       "      <td>0</td>\n",
       "      <td>...</td>\n",
       "      <td>0</td>\n",
       "      <td>1</td>\n",
       "      <td>0</td>\n",
       "      <td>0</td>\n",
       "      <td>1</td>\n",
       "      <td>2020-01-01</td>\n",
       "      <td>2020-02-01</td>\n",
       "      <td>29.85</td>\n",
       "      <td>29.85</td>\n",
       "      <td>31</td>\n",
       "    </tr>\n",
       "    <tr>\n",
       "      <td>5575-GNVDE</td>\n",
       "      <td>1</td>\n",
       "      <td>0</td>\n",
       "      <td>3</td>\n",
       "      <td>0</td>\n",
       "      <td>0</td>\n",
       "      <td>1</td>\n",
       "      <td>0</td>\n",
       "      <td>1</td>\n",
       "      <td>0</td>\n",
       "      <td>0</td>\n",
       "      <td>...</td>\n",
       "      <td>0</td>\n",
       "      <td>0</td>\n",
       "      <td>0</td>\n",
       "      <td>1</td>\n",
       "      <td>1</td>\n",
       "      <td>2017-04-01</td>\n",
       "      <td>2020-02-01</td>\n",
       "      <td>56.95</td>\n",
       "      <td>1889.50</td>\n",
       "      <td>1036</td>\n",
       "    </tr>\n",
       "    <tr>\n",
       "      <td>3668-QPYBK</td>\n",
       "      <td>0</td>\n",
       "      <td>1</td>\n",
       "      <td>3</td>\n",
       "      <td>1</td>\n",
       "      <td>0</td>\n",
       "      <td>1</td>\n",
       "      <td>1</td>\n",
       "      <td>0</td>\n",
       "      <td>0</td>\n",
       "      <td>0</td>\n",
       "      <td>...</td>\n",
       "      <td>0</td>\n",
       "      <td>0</td>\n",
       "      <td>0</td>\n",
       "      <td>1</td>\n",
       "      <td>1</td>\n",
       "      <td>2019-10-01</td>\n",
       "      <td>2019-12-01</td>\n",
       "      <td>53.85</td>\n",
       "      <td>108.15</td>\n",
       "      <td>61</td>\n",
       "    </tr>\n",
       "    <tr>\n",
       "      <td>7795-CFOCW</td>\n",
       "      <td>1</td>\n",
       "      <td>0</td>\n",
       "      <td>0</td>\n",
       "      <td>0</td>\n",
       "      <td>0</td>\n",
       "      <td>1</td>\n",
       "      <td>0</td>\n",
       "      <td>1</td>\n",
       "      <td>1</td>\n",
       "      <td>0</td>\n",
       "      <td>...</td>\n",
       "      <td>0</td>\n",
       "      <td>0</td>\n",
       "      <td>0</td>\n",
       "      <td>0</td>\n",
       "      <td>1</td>\n",
       "      <td>2016-05-01</td>\n",
       "      <td>2020-02-01</td>\n",
       "      <td>42.30</td>\n",
       "      <td>1840.75</td>\n",
       "      <td>1371</td>\n",
       "    </tr>\n",
       "    <tr>\n",
       "      <td>9237-HQITU</td>\n",
       "      <td>0</td>\n",
       "      <td>1</td>\n",
       "      <td>2</td>\n",
       "      <td>1</td>\n",
       "      <td>1</td>\n",
       "      <td>0</td>\n",
       "      <td>0</td>\n",
       "      <td>0</td>\n",
       "      <td>0</td>\n",
       "      <td>0</td>\n",
       "      <td>...</td>\n",
       "      <td>0</td>\n",
       "      <td>0</td>\n",
       "      <td>0</td>\n",
       "      <td>1</td>\n",
       "      <td>1</td>\n",
       "      <td>2019-09-01</td>\n",
       "      <td>2019-11-01</td>\n",
       "      <td>70.70</td>\n",
       "      <td>151.65</td>\n",
       "      <td>61</td>\n",
       "    </tr>\n",
       "    <tr>\n",
       "      <td>...</td>\n",
       "      <td>...</td>\n",
       "      <td>...</td>\n",
       "      <td>...</td>\n",
       "      <td>...</td>\n",
       "      <td>...</td>\n",
       "      <td>...</td>\n",
       "      <td>...</td>\n",
       "      <td>...</td>\n",
       "      <td>...</td>\n",
       "      <td>...</td>\n",
       "      <td>...</td>\n",
       "      <td>...</td>\n",
       "      <td>...</td>\n",
       "      <td>...</td>\n",
       "      <td>...</td>\n",
       "      <td>...</td>\n",
       "      <td>...</td>\n",
       "      <td>...</td>\n",
       "      <td>...</td>\n",
       "      <td>...</td>\n",
       "      <td>...</td>\n",
       "    </tr>\n",
       "    <tr>\n",
       "      <td>6840-RESVB</td>\n",
       "      <td>1</td>\n",
       "      <td>1</td>\n",
       "      <td>3</td>\n",
       "      <td>0</td>\n",
       "      <td>0</td>\n",
       "      <td>1</td>\n",
       "      <td>0</td>\n",
       "      <td>1</td>\n",
       "      <td>1</td>\n",
       "      <td>1</td>\n",
       "      <td>...</td>\n",
       "      <td>0</td>\n",
       "      <td>1</td>\n",
       "      <td>1</td>\n",
       "      <td>1</td>\n",
       "      <td>1</td>\n",
       "      <td>2018-02-01</td>\n",
       "      <td>2020-02-01</td>\n",
       "      <td>84.80</td>\n",
       "      <td>1990.50</td>\n",
       "      <td>730</td>\n",
       "    </tr>\n",
       "    <tr>\n",
       "      <td>2234-XADUH</td>\n",
       "      <td>1</td>\n",
       "      <td>1</td>\n",
       "      <td>1</td>\n",
       "      <td>0</td>\n",
       "      <td>1</td>\n",
       "      <td>0</td>\n",
       "      <td>1</td>\n",
       "      <td>1</td>\n",
       "      <td>0</td>\n",
       "      <td>1</td>\n",
       "      <td>...</td>\n",
       "      <td>0</td>\n",
       "      <td>1</td>\n",
       "      <td>1</td>\n",
       "      <td>1</td>\n",
       "      <td>1</td>\n",
       "      <td>2014-02-01</td>\n",
       "      <td>2020-02-01</td>\n",
       "      <td>103.20</td>\n",
       "      <td>7362.90</td>\n",
       "      <td>2191</td>\n",
       "    </tr>\n",
       "    <tr>\n",
       "      <td>4801-JZAZL</td>\n",
       "      <td>0</td>\n",
       "      <td>1</td>\n",
       "      <td>2</td>\n",
       "      <td>0</td>\n",
       "      <td>0</td>\n",
       "      <td>1</td>\n",
       "      <td>0</td>\n",
       "      <td>0</td>\n",
       "      <td>0</td>\n",
       "      <td>0</td>\n",
       "      <td>...</td>\n",
       "      <td>0</td>\n",
       "      <td>1</td>\n",
       "      <td>1</td>\n",
       "      <td>0</td>\n",
       "      <td>1</td>\n",
       "      <td>2019-03-01</td>\n",
       "      <td>2020-02-01</td>\n",
       "      <td>29.60</td>\n",
       "      <td>346.45</td>\n",
       "      <td>337</td>\n",
       "    </tr>\n",
       "    <tr>\n",
       "      <td>8361-LTMKD</td>\n",
       "      <td>0</td>\n",
       "      <td>1</td>\n",
       "      <td>3</td>\n",
       "      <td>1</td>\n",
       "      <td>1</td>\n",
       "      <td>0</td>\n",
       "      <td>0</td>\n",
       "      <td>0</td>\n",
       "      <td>0</td>\n",
       "      <td>0</td>\n",
       "      <td>...</td>\n",
       "      <td>1</td>\n",
       "      <td>1</td>\n",
       "      <td>0</td>\n",
       "      <td>1</td>\n",
       "      <td>1</td>\n",
       "      <td>2019-07-01</td>\n",
       "      <td>2019-11-01</td>\n",
       "      <td>74.40</td>\n",
       "      <td>306.60</td>\n",
       "      <td>123</td>\n",
       "    </tr>\n",
       "    <tr>\n",
       "      <td>3186-AJIEK</td>\n",
       "      <td>2</td>\n",
       "      <td>1</td>\n",
       "      <td>0</td>\n",
       "      <td>0</td>\n",
       "      <td>1</td>\n",
       "      <td>1</td>\n",
       "      <td>0</td>\n",
       "      <td>1</td>\n",
       "      <td>1</td>\n",
       "      <td>1</td>\n",
       "      <td>...</td>\n",
       "      <td>0</td>\n",
       "      <td>0</td>\n",
       "      <td>0</td>\n",
       "      <td>1</td>\n",
       "      <td>1</td>\n",
       "      <td>2014-08-01</td>\n",
       "      <td>2020-02-01</td>\n",
       "      <td>105.65</td>\n",
       "      <td>6844.50</td>\n",
       "      <td>2010</td>\n",
       "    </tr>\n",
       "  </tbody>\n",
       "</table>\n",
       "<p>7043 rows × 23 columns</p>\n",
       "</div>"
      ],
      "text/plain": [
       "             type  paperless_billing  payment_method  target  \\\n",
       "customer_id                                                    \n",
       "7590-VHVEG      0                  1               2       0   \n",
       "5575-GNVDE      1                  0               3       0   \n",
       "3668-QPYBK      0                  1               3       1   \n",
       "7795-CFOCW      1                  0               0       0   \n",
       "9237-HQITU      0                  1               2       1   \n",
       "...           ...                ...             ...     ...   \n",
       "6840-RESVB      1                  1               3       0   \n",
       "2234-XADUH      1                  1               1       0   \n",
       "4801-JZAZL      0                  1               2       0   \n",
       "8361-LTMKD      0                  1               3       1   \n",
       "3186-AJIEK      2                  1               0       0   \n",
       "\n",
       "             internet_service  online_security  online_backup  \\\n",
       "customer_id                                                     \n",
       "7590-VHVEG                  0                0              1   \n",
       "5575-GNVDE                  0                1              0   \n",
       "3668-QPYBK                  0                1              1   \n",
       "7795-CFOCW                  0                1              0   \n",
       "9237-HQITU                  1                0              0   \n",
       "...                       ...              ...            ...   \n",
       "6840-RESVB                  0                1              0   \n",
       "2234-XADUH                  1                0              1   \n",
       "4801-JZAZL                  0                1              0   \n",
       "8361-LTMKD                  1                0              0   \n",
       "3186-AJIEK                  1                1              0   \n",
       "\n",
       "             device_protection  tech_support  streaming_tv  ...  \\\n",
       "customer_id                                                 ...   \n",
       "7590-VHVEG                   0             0             0  ...   \n",
       "5575-GNVDE                   1             0             0  ...   \n",
       "3668-QPYBK                   0             0             0  ...   \n",
       "7795-CFOCW                   1             1             0  ...   \n",
       "9237-HQITU                   0             0             0  ...   \n",
       "...                        ...           ...           ...  ...   \n",
       "6840-RESVB                   1             1             1  ...   \n",
       "2234-XADUH                   1             0             1  ...   \n",
       "4801-JZAZL                   0             0             0  ...   \n",
       "8361-LTMKD                   0             0             0  ...   \n",
       "3186-AJIEK                   1             1             1  ...   \n",
       "\n",
       "             senior_citizen  partner  dependents  has_phone  has_internet  \\\n",
       "customer_id                                                                 \n",
       "7590-VHVEG                0        1           0          0             1   \n",
       "5575-GNVDE                0        0           0          1             1   \n",
       "3668-QPYBK                0        0           0          1             1   \n",
       "7795-CFOCW                0        0           0          0             1   \n",
       "9237-HQITU                0        0           0          1             1   \n",
       "...                     ...      ...         ...        ...           ...   \n",
       "6840-RESVB                0        1           1          1             1   \n",
       "2234-XADUH                0        1           1          1             1   \n",
       "4801-JZAZL                0        1           1          0             1   \n",
       "8361-LTMKD                1        1           0          1             1   \n",
       "3186-AJIEK                0        0           0          1             1   \n",
       "\n",
       "             begin_date   end_date  monthly_charges total_charges  \\\n",
       "customer_id                                                         \n",
       "7590-VHVEG   2020-01-01 2020-02-01            29.85         29.85   \n",
       "5575-GNVDE   2017-04-01 2020-02-01            56.95       1889.50   \n",
       "3668-QPYBK   2019-10-01 2019-12-01            53.85        108.15   \n",
       "7795-CFOCW   2016-05-01 2020-02-01            42.30       1840.75   \n",
       "9237-HQITU   2019-09-01 2019-11-01            70.70        151.65   \n",
       "...                 ...        ...              ...           ...   \n",
       "6840-RESVB   2018-02-01 2020-02-01            84.80       1990.50   \n",
       "2234-XADUH   2014-02-01 2020-02-01           103.20       7362.90   \n",
       "4801-JZAZL   2019-03-01 2020-02-01            29.60        346.45   \n",
       "8361-LTMKD   2019-07-01 2019-11-01            74.40        306.60   \n",
       "3186-AJIEK   2014-08-01 2020-02-01           105.65       6844.50   \n",
       "\n",
       "            days_with_company  \n",
       "customer_id                    \n",
       "7590-VHVEG                 31  \n",
       "5575-GNVDE               1036  \n",
       "3668-QPYBK                 61  \n",
       "7795-CFOCW               1371  \n",
       "9237-HQITU                 61  \n",
       "...                       ...  \n",
       "6840-RESVB                730  \n",
       "2234-XADUH               2191  \n",
       "4801-JZAZL                337  \n",
       "8361-LTMKD                123  \n",
       "3186-AJIEK               2010  \n",
       "\n",
       "[7043 rows x 23 columns]"
      ]
     },
     "metadata": {},
     "output_type": "display_data"
    },
    {
     "name": "stdout",
     "output_type": "stream",
     "text": [
      "0    5174\n",
      "1    1869\n",
      "Name: target, dtype: int64\n"
     ]
    }
   ],
   "source": [
    "display(df)\n",
    "print(df.target.value_counts())"
   ]
  },
  {
   "cell_type": "code",
   "execution_count": 65,
   "metadata": {},
   "outputs": [
    {
     "name": "stdout",
     "output_type": "stream",
     "text": [
      "The number of non-exited customers is: 5174\n",
      "\n",
      "The number of exited customers is: 1869\n",
      "\n",
      "The percentage of non-exited customers is: 73.4630129206304 %\n",
      "\n",
      "The percentage of exited customers is: 26.536987079369588 %\n",
      "\n"
     ]
    }
   ],
   "source": [
    "#Examinate the interested target column.\n",
    "print('The number of non-exited customers is:', df.target.loc[df.target == 0].count())\n",
    "print()\n",
    "print('The number of exited customers is:', df.target.loc[df.target == 1].count())\n",
    "print()\n",
    "print('The percentage of non-exited customers is:', (len(df.target.loc[df.target == 0])/len(df.target)*100),'%')\n",
    "print()\n",
    "print('The percentage of exited customers is:', (len(df.target.loc[df.target == 1])/len(df.target)*100),'%')\n",
    "print()"
   ]
  },
  {
   "cell_type": "markdown",
   "metadata": {},
   "source": [
    "I merged the dataframes in one, getting as well columns for people who used internet and who used phone."
   ]
  },
  {
   "cell_type": "markdown",
   "metadata": {},
   "source": [
    "## Cross validation and model training"
   ]
  },
  {
   "cell_type": "code",
   "execution_count": 66,
   "metadata": {},
   "outputs": [],
   "source": [
    "#Assigning features and target for the model construction.\n",
    "features = df.drop(['begin_date','end_date', 'target'], axis=1)\n",
    "target = df['target']\n",
    "\n",
    "#Train test split.\n",
    "features_train, features_test, target_train, target_test = train_test_split(features, target, test_size=0.25, random_state=0)"
   ]
  },
  {
   "cell_type": "code",
   "execution_count": 67,
   "metadata": {},
   "outputs": [
    {
     "data": {
      "text/plain": [
       "((8094, 20), (8094,))"
      ]
     },
     "execution_count": 67,
     "metadata": {},
     "output_type": "execute_result"
    }
   ],
   "source": [
    "#Balancing dataset. Upsampling to handle the imbalance.\n",
    "def upsample(features, target, repeat):\n",
    "    features_zeros = features[target == 0]\n",
    "    features_ones = features[target == 1]\n",
    "    target_zeros = target[target == 0]\n",
    "    target_ones = target[target == 1]\n",
    "\n",
    "    features_upsampled = pd.concat([features_zeros] + ([features_ones] * repeat))\n",
    "    target_upsampled = pd.concat([target_zeros] + ([target_ones] * repeat))\n",
    "\n",
    "    features_upsampled, target_upsampled = shuffle(\n",
    "        features_upsampled, target_upsampled, random_state=0\n",
    "    )\n",
    "\n",
    "    return features_upsampled, target_upsampled\n",
    "\n",
    "\n",
    "features_upsampled, target_upsampled = upsample(\n",
    "    features_train, target_train, 3\n",
    ")\n",
    "\n",
    "features_upsampled.shape, (target_upsampled.shape)"
   ]
  },
  {
   "cell_type": "code",
   "execution_count": 68,
   "metadata": {},
   "outputs": [
    {
     "data": {
      "text/plain": [
       "((5282, 20), (5282,))"
      ]
     },
     "execution_count": 68,
     "metadata": {},
     "output_type": "execute_result"
    }
   ],
   "source": [
    "features_train.shape , target_train.shape"
   ]
  },
  {
   "cell_type": "code",
   "execution_count": 69,
   "metadata": {},
   "outputs": [
    {
     "data": {
      "text/plain": [
       "0    1298\n",
       "1     463\n",
       "Name: target, dtype: int64"
      ]
     },
     "execution_count": 69,
     "metadata": {},
     "output_type": "execute_result"
    }
   ],
   "source": [
    "target_test.value_counts()"
   ]
  },
  {
   "cell_type": "code",
   "execution_count": 70,
   "metadata": {},
   "outputs": [
    {
     "name": "stdout",
     "output_type": "stream",
     "text": [
      "The number of non-exited customers is: 3876\n",
      "\n",
      "The number of exited customers is: 4218\n",
      "\n",
      "The percentage of non-exited customers is: 47.88732394366197 %\n",
      "\n",
      "The percentage of exited customers is: 52.112676056338024 %\n",
      "\n"
     ]
    }
   ],
   "source": [
    "#Examinate the interested target column.\n",
    "print('The number of non-exited customers is:', target_upsampled.loc[target_upsampled == 0].count())\n",
    "print()\n",
    "print('The number of exited customers is:', target_upsampled.loc[target_upsampled == 1].count())\n",
    "print()\n",
    "print('The percentage of non-exited customers is:', (len(target_upsampled.loc[target_upsampled == 0])/len(target_upsampled)*100),'%')\n",
    "print()\n",
    "print('The percentage of exited customers is:', (len(target_upsampled.loc[target_upsampled == 1])/len(target_upsampled)*100),'%')\n",
    "print()"
   ]
  },
  {
   "cell_type": "code",
   "execution_count": 71,
   "metadata": {},
   "outputs": [],
   "source": [
    "#Creating pipelines.\n",
    "pipe_rfc = Pipeline([('scaler0', StandardScaler()),\n",
    "                    ('RandomForestClassifier', RandomForestClassifier(n_estimators=100))])\n",
    "\n",
    "pipe_log_reg = Pipeline([('scaler1', StandardScaler()),\n",
    "                       ('LogisticRegression(Dummy)', LogisticRegression(solver='lbfgs'))])\n",
    "\n",
    "pipe_lgbm =  Pipeline([('scaler2', StandardScaler()),\n",
    "                       ('LGBMClassifier', LGBMClassifier())])\n",
    "\n",
    "imba_pipeline = make_pipeline(SMOTE(random_state=0), RandomForestClassifier(n_estimators=100))"
   ]
  },
  {
   "cell_type": "code",
   "execution_count": 72,
   "metadata": {},
   "outputs": [],
   "source": [
    "#Creating list of pipelines.\n",
    "pipelines = [pipe_rfc, pipe_log_reg, pipe_lgbm]\n",
    "#Creating a dictionary of pipelines.\n",
    "pipe_dict = {pipe_rfc:'RandomForestClassifier', pipe_log_reg:'LogisticRegression', pipe_lgbm: 'LGBMClassifier'}"
   ]
  },
  {
   "cell_type": "code",
   "execution_count": 73,
   "metadata": {},
   "outputs": [
    {
     "name": "stdout",
     "output_type": "stream",
     "text": [
      "RandomForestClassifier\n",
      "[0.85746093 0.85826584 0.83107106 0.83477442 0.84902078]\n",
      "LogisticRegression\n",
      "[0.8594008  0.8506566  0.84013776 0.83262542 0.85816554]\n",
      "LGBMClassifier\n",
      "[0.89756072 0.88770533 0.87509126 0.87792217 0.87695557]\n"
     ]
    }
   ],
   "source": [
    "for pipe in pipelines:\n",
    "    print(pipe_dict[pipe])\n",
    "    print(cross_val_score(pipe, features_train, target_train, scoring = 'roc_auc', cv=5))"
   ]
  },
  {
   "cell_type": "code",
   "execution_count": 74,
   "metadata": {},
   "outputs": [
    {
     "name": "stdout",
     "output_type": "stream",
     "text": [
      "LGBMClassifier(n_estimators=200)\n",
      "0.8829142052884024\n"
     ]
    }
   ],
   "source": [
    "#Creating a parameters dictionary for LGBMRegressor possible hyperparameters values.\n",
    "parameters = {'learning_rate': (0.09, 0.12, 0.1, 0.275),\n",
    "              'n_estimators': (150, 110, 130, 70, 200), \n",
    "              } \n",
    "\n",
    "#Creating a grid model.\n",
    "LGBM_grid = GridSearchCV(LGBMClassifier(), param_grid=parameters, scoring='roc_auc', cv=3) \n",
    "LGBM_grid_model = LGBM_grid.fit(features_train, target_train)\n",
    "print(LGBM_grid_model.best_estimator_)\n",
    "print(LGBM_grid_model.best_score_)"
   ]
  },
  {
   "cell_type": "code",
   "execution_count": 75,
   "metadata": {},
   "outputs": [],
   "source": [
    "features_train_smote, features_test_smote, target_train_smote, target_test_smote = train_test_split(features, target, test_size=0.25, random_state=0)"
   ]
  },
  {
   "cell_type": "code",
   "execution_count": 76,
   "metadata": {},
   "outputs": [
    {
     "name": "stdout",
     "output_type": "stream",
     "text": [
      "SMOTE RandomForestClassifier\n",
      "[0.85034808 0.84818348 0.82599931 0.82478016 0.84030307]\n"
     ]
    }
   ],
   "source": [
    "print('SMOTE RandomForestClassifier')\n",
    "print(cross_val_score(imba_pipeline, features_train_smote, target_train_smote, scoring = 'roc_auc', cv=5))"
   ]
  },
  {
   "cell_type": "code",
   "execution_count": 77,
   "metadata": {},
   "outputs": [
    {
     "name": "stdout",
     "output_type": "stream",
     "text": [
      "Accuracy Test: 0.851\n",
      "Accuracy Train: 0.964\n",
      "\n",
      "AUC: 0.89183142698353\n"
     ]
    }
   ],
   "source": [
    "#Testing the models. - Upsampled model testing\n",
    "pipe_lgbm =  Pipeline([('scaler2', StandardScaler()),\n",
    "                       ('LGBMClassifier', LGBMClassifier(learning_rate=0.125, n_estimators=150))])\n",
    "\n",
    "pipe_lgbm.fit(features_train, target_train) \n",
    "predictions = pipe_lgbm.predict(features_test) \n",
    "        \n",
    "print(f'Accuracy Test: {pipe_lgbm.score(features_test, target_test):.3f}')\n",
    "print(f'Accuracy Train: {pipe_lgbm.score(features_train, target_train):.3f}')\n",
    "print()\n",
    "#auc_roc = roc_auc_score(target_test, predictions)\n",
    "#print('ROC_AUC:', auc_roc)\n",
    "false_positive_rate, true_positive_rate, thresholds = roc_curve(target_test, pipe_lgbm.predict_proba(features_test)[:,1])\n",
    "print('AUC:', auc(false_positive_rate, true_positive_rate))"
   ]
  },
  {
   "cell_type": "code",
   "execution_count": 78,
   "metadata": {},
   "outputs": [
    {
     "name": "stdout",
     "output_type": "stream",
     "text": [
      "0:\tlearn: 0.6153191\ttotal: 50.6ms\tremaining: 1m 15s\n",
      "500:\tlearn: 0.1669297\ttotal: 8.78s\tremaining: 17.5s\n",
      "1000:\tlearn: 0.1034549\ttotal: 23.2s\tremaining: 11.6s\n",
      "1499:\tlearn: 0.0710739\ttotal: 38.6s\tremaining: 0us\n",
      "Accuracy Test: 0.872\n",
      "Accuracy Train: 0.990\n",
      "\n",
      "AUC: 0.9137891156688975\n"
     ]
    }
   ],
   "source": [
    "#Testing the models. - Upsampled model testing\n",
    "pipe_cat =  Pipeline([('scaler2', StandardScaler()),\n",
    "                       ('LGBMClassifier', CatBoostClassifier(max_depth = 5, learning_rate=0.120, n_estimators=1500, \\\n",
    "                                                             verbose=500, random_state=0))])\n",
    "\n",
    "pipe_cat.fit(features_train, target_train) \n",
    "predictions = pipe_cat.predict(features_test) \n",
    "\n",
    "print(f'Accuracy Test: {pipe_cat.score(features_test, target_test):.3f}')\n",
    "print(f'Accuracy Train: {pipe_cat.score(features_train, target_train):.3f}')\n",
    "print()\n",
    "\n",
    "#auc_roc = roc_auc_score(target_test, predictions)\n",
    "#print('ROC_AUC', auc_roc)\n",
    "false_positive_rate, true_positive_rate, thresholds = roc_curve(target_test, pipe_cat.predict_proba(features_test)[:,1])\n",
    "print('AUC:', auc(false_positive_rate, true_positive_rate))"
   ]
  },
  {
   "cell_type": "code",
   "execution_count": 79,
   "metadata": {},
   "outputs": [
    {
     "data": {
      "image/png": "[encoded data removed]",
      "text/plain": [
       "<Figure size 720x288 with 1 Axes>"
      ]
     },
     "metadata": {},
     "output_type": "display_data"
    }
   ],
   "source": [
    "#ROC curve - Upsampled model.\n",
    "probabilities = pipe_cat.predict_proba(features_test)\n",
    "probabilities_one = probabilities[:, 1]\n",
    "\n",
    "fpr, tpr, thresholds = roc_curve(target_test, probabilities_one) \n",
    "\n",
    "sns.set_style('white')\n",
    "plt.figure(figsize=(10,4))\n",
    "plt.plot(fpr, tpr)\n",
    "plt.plot([0, 1], [0, 1], linestyle='--')\n",
    "plt.xlim([0.0, 1.0])\n",
    "plt.ylim([0.0, 1.0])\n",
    "plt.xlabel('False Positive Rate', fontsize=12)\n",
    "plt.ylabel('True Positive Rate', fontsize=12)\n",
    "plt.title('ROC Curve - Upsampled model', fontsize=16)\n",
    "plt.show()"
   ]
  },
  {
   "cell_type": "code",
   "execution_count": 80,
   "metadata": {},
   "outputs": [
    {
     "name": "stdout",
     "output_type": "stream",
     "text": [
      "Confusion Matrice - Upsampled model.\n",
      "\n",
      "[[1221   77]\n",
      " [ 148  315]]\n",
      "\n",
      "True positive: 315\n",
      "False positive: 148\n",
      "False negative: 77\n",
      "True negative: 1221\n",
      "\n",
      "Exact results= 1536\n",
      "Wrong results= 225\n"
     ]
    }
   ],
   "source": [
    "#Creating a confusion matrice upsampled model.\n",
    "print('Confusion Matrice - Upsampled model.')\n",
    "print()\n",
    "cm = confusion_matrix(target_test, predictions)\n",
    "print(cm)\n",
    "print()\n",
    "#Extracting TruePositive, FalsePositive, FalseNegative and TrueNegative from our confusion matrice.\n",
    "tn, fn, fp, tp = confusion_matrix(target_test, predictions).ravel()\n",
    "print('True positive:', tp)\n",
    "print('False positive:', fp)\n",
    "print('False negative:', fn)\n",
    "print('True negative:', tn)\n",
    "print()\n",
    "exact = tp + tn\n",
    "wrong = fp + fn\n",
    "print('Exact results=',exact)\n",
    "print('Wrong results=',wrong)"
   ]
  },
  {
   "cell_type": "code",
   "execution_count": 81,
   "metadata": {},
   "outputs": [
    {
     "name": "stdout",
     "output_type": "stream",
     "text": [
      "Classification report - Upsampled model: \n",
      "               precision    recall  f1-score   support\n",
      "\n",
      "           0       0.89      0.94      0.92      1298\n",
      "           1       0.80      0.68      0.74       463\n",
      "\n",
      "    accuracy                           0.87      1761\n",
      "   macro avg       0.85      0.81      0.83      1761\n",
      "weighted avg       0.87      0.87      0.87      1761\n",
      "\n"
     ]
    }
   ],
   "source": [
    "#Classification report. Upsampled model\n",
    "report= classification_report(target_test, predictions)\n",
    "print('Classification report - Upsampled model: \\n', report)"
   ]
  },
  {
   "cell_type": "markdown",
   "metadata": {},
   "source": [
    "Defined features and targets, applied upsample on the training set. Obtaining this way an almost balanced target with :\n",
    "- The percentage of non-exited customers is: 47.88732394366197 %\n",
    "- The percentage of exited customers is: 52.112676056338024 %\n",
    "\n",
    "Created basic pipelines for cross validation on training set. Decided to use LGBMClassifier.\n",
    "\n",
    "With LGBMClassifier instance I was able to accomplish AUC_ROC: 89,18%\n",
    "I decided to use a CatBoostClassifier, tuning it locally. I was able with this classifier to go even further obtaining a score of 91,37%. \n",
    "\n",
    "This score allow me to get above 0.88 and obtain 6SP, maximum provided. The model looks like is working in a good way and provides good results."
   ]
  },
  {
   "cell_type": "markdown",
   "metadata": {},
   "source": [
    "# Solution Report\n",
    "- I tried to follow the schedule of main project, additional tasks and review. Trying to do my best to reach the fixed goals. I did my best facing every step with critical thinking, analyzing all the possible option in depth. I didn't skipped any step.\n",
    "- I have done basically two mistake while developing this project: the first brought the data to leakage (it was about upsampling, I performed it on the entire dataset instead of doing that only on the trainig set), the second mistake was about metric calculation, solved quite soon with not that many difficulties. \n",
    "- During the preprocessing, after a meticulous analysis I decided to create a column to store how many days each customer stayed with the company. After merging dataframes I created two more features (has_phone and has_internet) to be honest those columns didn't improved substantially the model but I thought was still a good idea to leave them. As for the Encoding I decided to use a LabelEncoder instance. \n",
    "- Solved the class imbalance upsampling target 1. As features I included all the columns in the final dataset except for begin_date and end_date, replaced by days_with_company and our target. Customer_id column was used as index for the dataset. Tried cross validation with different model, I choose two main models: LGBMClassifier and CatBoostClassifier, created pipelines with StandardScaler as scaler and the right hyperparameters tuned in (after checking them on GridSearchCV), the two choosen models are:\n",
    "\n",
    "        pipe_lgbm =  Pipeline([('scaler2', StandardScaler()),\n",
    "                       ('LGBMClassifier', LGBMClassifier(learning_rate=0.125, n_estimators=150))])\n",
    "\n",
    "        pipe_cat =  Pipeline([('scaler2', StandardScaler()),\n",
    "                       ('LGBMClassifier', CatBoostClassifier(max_depth = 5, learning_rate=0.120, n_estimators=1500, \\\n",
    "                                                             verbose=500, random_state=0))])\n",
    "\n",
    "- The LGBM pipeline obtained 0.8918 and CatBoost pipeline wich obtained 0.9137. Both of those model were enough to accomplish a rate >0.88(6SP). I decided to leave them both since the speedness of LGBM is way better then Cat, that instead takes long time to be fitted.\n",
    "\n",
    "LGBM Auc Test: 0.891   || CatBoost Auc Test: 0.913\n",
    "\n",
    "Being accuracy the additional metric I want to include it in the report as well\n",
    "\n",
    "LGBM Accuracy Test: 0.851, Accuracy Train: 0.964   || CatBoost Accuracy Test: 0.872, Accuracy Train: 0.990"
   ]
  }
 ],
 "metadata": {
  "ExecuteTimeLog": [
   {
    "duration": 1651,
    "start_time": "2021-08-03T11:26:58.616Z"
   },
   {
    "duration": 27,
    "start_time": "2021-08-03T11:27:13.056Z"
   },
   {
    "duration": 655,
    "start_time": "2021-08-03T11:27:22.034Z"
   },
   {
    "duration": 28,
    "start_time": "2021-08-03T11:27:30.425Z"
   },
   {
    "duration": 27,
    "start_time": "2021-08-03T11:27:38.399Z"
   },
   {
    "duration": 12,
    "start_time": "2021-08-03T11:27:43.685Z"
   },
   {
    "duration": 476,
    "start_time": "2021-08-03T11:30:37.831Z"
   },
   {
    "duration": 23,
    "start_time": "2021-08-03T11:30:57.697Z"
   },
   {
    "duration": 20,
    "start_time": "2021-08-03T11:31:31.114Z"
   },
   {
    "duration": 12,
    "start_time": "2021-08-03T11:33:43.059Z"
   },
   {
    "duration": 9,
    "start_time": "2021-08-03T11:37:59.456Z"
   },
   {
    "duration": 11,
    "start_time": "2021-08-03T11:38:11.386Z"
   },
   {
    "duration": 8,
    "start_time": "2021-08-03T11:38:23.970Z"
   },
   {
    "duration": 116,
    "start_time": "2021-08-03T11:52:35.241Z"
   },
   {
    "duration": 29,
    "start_time": "2021-08-03T11:53:45.419Z"
   },
   {
    "duration": 14,
    "start_time": "2021-08-03T11:54:07.748Z"
   },
   {
    "duration": 15,
    "start_time": "2021-08-03T11:54:18.439Z"
   },
   {
    "duration": 14,
    "start_time": "2021-08-03T11:54:58.344Z"
   },
   {
    "duration": 118,
    "start_time": "2021-08-03T11:55:02.534Z"
   },
   {
    "duration": 23,
    "start_time": "2021-08-03T11:55:03.024Z"
   },
   {
    "duration": 16,
    "start_time": "2021-08-03T11:55:04.192Z"
   },
   {
    "duration": 5,
    "start_time": "2021-08-03T11:56:48.932Z"
   },
   {
    "duration": 10,
    "start_time": "2021-08-03T11:56:49.668Z"
   },
   {
    "duration": 12,
    "start_time": "2021-08-03T11:56:59.134Z"
   },
   {
    "duration": 6,
    "start_time": "2021-08-03T11:59:37.931Z"
   },
   {
    "duration": 12,
    "start_time": "2021-08-03T11:59:45.174Z"
   },
   {
    "duration": 131,
    "start_time": "2021-08-03T12:00:56.728Z"
   },
   {
    "duration": 9,
    "start_time": "2021-08-03T12:01:05.976Z"
   },
   {
    "duration": 406,
    "start_time": "2021-08-03T12:03:38.123Z"
   },
   {
    "duration": 393,
    "start_time": "2021-08-03T12:03:39.923Z"
   },
   {
    "duration": 8,
    "start_time": "2021-08-03T12:03:46.278Z"
   },
   {
    "duration": 9,
    "start_time": "2021-08-03T12:03:53.142Z"
   },
   {
    "duration": 444,
    "start_time": "2021-08-03T12:11:51.954Z"
   },
   {
    "duration": 383,
    "start_time": "2021-08-03T12:12:03.586Z"
   },
   {
    "duration": 543,
    "start_time": "2021-08-03T12:12:12.481Z"
   },
   {
    "duration": 28,
    "start_time": "2021-08-03T12:12:37.125Z"
   },
   {
    "duration": 18,
    "start_time": "2021-08-03T12:12:44.846Z"
   },
   {
    "duration": 35,
    "start_time": "2021-08-03T12:13:00.399Z"
   },
   {
    "duration": 25,
    "start_time": "2021-08-03T12:13:37.722Z"
   },
   {
    "duration": 33,
    "start_time": "2021-08-03T12:14:26.612Z"
   },
   {
    "duration": 381,
    "start_time": "2021-08-03T12:15:29.841Z"
   },
   {
    "duration": 30,
    "start_time": "2021-08-03T12:15:40.396Z"
   },
   {
    "duration": 2718,
    "start_time": "2021-08-03T13:16:44.073Z"
   },
   {
    "duration": 6,
    "start_time": "2021-08-03T13:17:23.765Z"
   },
   {
    "duration": 645,
    "start_time": "2021-08-03T13:17:47.756Z"
   },
   {
    "duration": 605,
    "start_time": "2021-08-03T13:18:25.928Z"
   },
   {
    "duration": 235,
    "start_time": "2021-08-03T13:22:21.845Z"
   },
   {
    "duration": 127,
    "start_time": "2021-08-03T13:22:25.662Z"
   },
   {
    "duration": 659,
    "start_time": "2021-08-03T13:22:29.727Z"
   },
   {
    "duration": 20,
    "start_time": "2021-08-03T13:23:27.486Z"
   },
   {
    "duration": 370,
    "start_time": "2021-08-03T13:23:58.972Z"
   },
   {
    "duration": 346,
    "start_time": "2021-08-03T13:24:10.533Z"
   },
   {
    "duration": 107,
    "start_time": "2021-08-03T13:24:18.031Z"
   },
   {
    "duration": 21,
    "start_time": "2021-08-03T13:24:18.567Z"
   },
   {
    "duration": 14,
    "start_time": "2021-08-03T13:24:18.751Z"
   },
   {
    "duration": 18,
    "start_time": "2021-08-03T13:24:19.487Z"
   },
   {
    "duration": 20,
    "start_time": "2021-08-03T13:24:20.200Z"
   },
   {
    "duration": 7,
    "start_time": "2021-08-03T13:24:20.647Z"
   },
   {
    "duration": 9,
    "start_time": "2021-08-03T13:24:21.528Z"
   },
   {
    "duration": 5,
    "start_time": "2021-08-03T13:25:08.405Z"
   },
   {
    "duration": 33,
    "start_time": "2021-08-03T13:26:14.481Z"
   },
   {
    "duration": 8,
    "start_time": "2021-08-03T13:26:46.134Z"
   },
   {
    "duration": 6,
    "start_time": "2021-08-03T13:27:01.135Z"
   },
   {
    "duration": 6,
    "start_time": "2021-08-03T13:27:22.863Z"
   },
   {
    "duration": 6,
    "start_time": "2021-08-03T13:28:00.578Z"
   },
   {
    "duration": 3,
    "start_time": "2021-08-03T13:29:28.524Z"
   },
   {
    "duration": 8,
    "start_time": "2021-08-03T13:30:28.385Z"
   },
   {
    "duration": 12,
    "start_time": "2021-08-03T13:30:28.444Z"
   },
   {
    "duration": 1772,
    "start_time": "2021-08-03T13:30:42.248Z"
   },
   {
    "duration": 29,
    "start_time": "2021-08-03T13:30:44.023Z"
   },
   {
    "duration": 14,
    "start_time": "2021-08-03T13:30:44.056Z"
   },
   {
    "duration": 48,
    "start_time": "2021-08-03T13:30:44.073Z"
   },
   {
    "duration": 30,
    "start_time": "2021-08-03T13:30:44.124Z"
   },
   {
    "duration": 10,
    "start_time": "2021-08-03T13:30:44.157Z"
   },
   {
    "duration": 38,
    "start_time": "2021-08-03T13:30:44.169Z"
   },
   {
    "duration": 36,
    "start_time": "2021-08-03T13:30:44.211Z"
   },
   {
    "duration": 25,
    "start_time": "2021-08-03T13:30:44.251Z"
   },
   {
    "duration": 22,
    "start_time": "2021-08-03T13:30:44.367Z"
   },
   {
    "duration": 30,
    "start_time": "2021-08-03T13:30:51.784Z"
   },
   {
    "duration": 547,
    "start_time": "2021-08-03T13:31:57.630Z"
   },
   {
    "duration": 10194,
    "start_time": "2021-08-03T13:32:13.972Z"
   },
   {
    "duration": 11228,
    "start_time": "2021-08-03T13:32:37.971Z"
   },
   {
    "duration": 1708,
    "start_time": "2021-08-03T13:33:13.292Z"
   },
   {
    "duration": 28,
    "start_time": "2021-08-03T13:33:15.003Z"
   },
   {
    "duration": 20,
    "start_time": "2021-08-03T13:33:15.034Z"
   },
   {
    "duration": 56,
    "start_time": "2021-08-03T13:33:15.057Z"
   },
   {
    "duration": 37,
    "start_time": "2021-08-03T13:33:15.117Z"
   },
   {
    "duration": 46,
    "start_time": "2021-08-03T13:33:15.158Z"
   },
   {
    "duration": 13,
    "start_time": "2021-08-03T13:33:15.208Z"
   },
   {
    "duration": 16,
    "start_time": "2021-08-03T13:33:15.301Z"
   },
   {
    "duration": 10,
    "start_time": "2021-08-03T13:33:15.836Z"
   },
   {
    "duration": 30,
    "start_time": "2021-08-03T13:33:21.796Z"
   },
   {
    "duration": 1631,
    "start_time": "2021-08-03T13:40:51.012Z"
   },
   {
    "duration": 27,
    "start_time": "2021-08-03T13:40:52.646Z"
   },
   {
    "duration": 17,
    "start_time": "2021-08-03T13:40:52.676Z"
   },
   {
    "duration": 18,
    "start_time": "2021-08-03T13:40:53.770Z"
   },
   {
    "duration": 30,
    "start_time": "2021-08-03T13:40:55.154Z"
   },
   {
    "duration": 11,
    "start_time": "2021-08-03T13:40:56.218Z"
   },
   {
    "duration": 13,
    "start_time": "2021-08-03T13:40:56.817Z"
   },
   {
    "duration": 12,
    "start_time": "2021-08-03T13:40:58.291Z"
   },
   {
    "duration": 7,
    "start_time": "2021-08-03T13:41:01.042Z"
   },
   {
    "duration": 28,
    "start_time": "2021-08-03T13:41:06.291Z"
   },
   {
    "duration": 13,
    "start_time": "2021-08-03T13:41:14.362Z"
   },
   {
    "duration": 16,
    "start_time": "2021-08-03T13:42:17.291Z"
   },
   {
    "duration": 16,
    "start_time": "2021-08-03T13:42:27.586Z"
   },
   {
    "duration": 512,
    "start_time": "2021-08-03T13:43:03.644Z"
   },
   {
    "duration": 11,
    "start_time": "2021-08-03T13:43:08.590Z"
   },
   {
    "duration": 11,
    "start_time": "2021-08-03T13:43:17.725Z"
   },
   {
    "duration": 10,
    "start_time": "2021-08-03T13:44:31.673Z"
   },
   {
    "duration": 11,
    "start_time": "2021-08-03T13:45:08.889Z"
   },
   {
    "duration": 11,
    "start_time": "2021-08-03T13:45:42.841Z"
   },
   {
    "duration": 22,
    "start_time": "2021-08-03T13:46:16.958Z"
   },
   {
    "duration": 14,
    "start_time": "2021-08-03T13:46:22.850Z"
   },
   {
    "duration": 14,
    "start_time": "2021-08-03T13:47:14.892Z"
   },
   {
    "duration": 17,
    "start_time": "2021-08-03T13:47:46.652Z"
   },
   {
    "duration": 15,
    "start_time": "2021-08-03T13:48:17.812Z"
   },
   {
    "duration": 11,
    "start_time": "2021-08-03T13:49:28.887Z"
   },
   {
    "duration": 11,
    "start_time": "2021-08-03T13:49:29.262Z"
   },
   {
    "duration": 11,
    "start_time": "2021-08-03T13:49:29.475Z"
   },
   {
    "duration": 19,
    "start_time": "2021-08-03T13:49:29.706Z"
   },
   {
    "duration": 17,
    "start_time": "2021-08-03T13:49:31.514Z"
   },
   {
    "duration": 21,
    "start_time": "2021-08-03T13:50:00.608Z"
   },
   {
    "duration": 11,
    "start_time": "2021-08-03T13:50:01.454Z"
   },
   {
    "duration": 10,
    "start_time": "2021-08-03T13:50:11.673Z"
   },
   {
    "duration": 15,
    "start_time": "2021-08-03T13:50:11.906Z"
   },
   {
    "duration": 10,
    "start_time": "2021-08-03T13:50:42.553Z"
   },
   {
    "duration": 10,
    "start_time": "2021-08-03T13:51:04.898Z"
   },
   {
    "duration": 11,
    "start_time": "2021-08-03T13:51:05.081Z"
   },
   {
    "duration": 18,
    "start_time": "2021-08-03T13:51:36.693Z"
   },
   {
    "duration": 11,
    "start_time": "2021-08-03T13:52:49.473Z"
   },
   {
    "duration": 131,
    "start_time": "2021-08-03T15:55:11.845Z"
   },
   {
    "duration": 168,
    "start_time": "2021-08-03T15:55:16.181Z"
   },
   {
    "duration": 11,
    "start_time": "2021-08-03T15:55:23.260Z"
   },
   {
    "duration": 1672,
    "start_time": "2021-08-03T16:02:59.493Z"
   },
   {
    "duration": 1616,
    "start_time": "2021-08-03T16:03:16.372Z"
   },
   {
    "duration": 125,
    "start_time": "2021-08-03T16:04:06.493Z"
   },
   {
    "duration": 5320,
    "start_time": "2021-08-03T16:04:32.416Z"
   },
   {
    "duration": 1636,
    "start_time": "2021-08-03T16:04:47.359Z"
   },
   {
    "duration": 36,
    "start_time": "2021-08-03T16:04:48.997Z"
   },
   {
    "duration": 14,
    "start_time": "2021-08-03T16:04:49.036Z"
   },
   {
    "duration": 47,
    "start_time": "2021-08-03T16:04:49.053Z"
   },
   {
    "duration": 32,
    "start_time": "2021-08-03T16:04:49.103Z"
   },
   {
    "duration": 9,
    "start_time": "2021-08-03T16:04:49.138Z"
   },
   {
    "duration": 12,
    "start_time": "2021-08-03T16:04:49.149Z"
   },
   {
    "duration": 40,
    "start_time": "2021-08-03T16:04:49.164Z"
   },
   {
    "duration": 10,
    "start_time": "2021-08-03T16:04:49.207Z"
   },
   {
    "duration": 27,
    "start_time": "2021-08-03T16:04:49.221Z"
   },
   {
    "duration": 11,
    "start_time": "2021-08-03T16:04:49.250Z"
   },
   {
    "duration": 14,
    "start_time": "2021-08-03T16:04:49.321Z"
   },
   {
    "duration": 13,
    "start_time": "2021-08-03T16:04:49.458Z"
   },
   {
    "duration": 31,
    "start_time": "2021-08-03T16:04:49.602Z"
   },
   {
    "duration": 9,
    "start_time": "2021-08-03T16:04:49.754Z"
   },
   {
    "duration": 15,
    "start_time": "2021-08-03T16:04:49.889Z"
   },
   {
    "duration": 11,
    "start_time": "2021-08-03T16:04:50.034Z"
   },
   {
    "duration": 22,
    "start_time": "2021-08-03T16:04:50.329Z"
   },
   {
    "duration": 19,
    "start_time": "2021-08-03T16:04:50.490Z"
   },
   {
    "duration": 15,
    "start_time": "2021-08-03T16:04:51.073Z"
   },
   {
    "duration": 15,
    "start_time": "2021-08-03T16:04:51.210Z"
   },
   {
    "duration": 11,
    "start_time": "2021-08-03T16:04:51.345Z"
   },
   {
    "duration": 11,
    "start_time": "2021-08-03T16:04:51.474Z"
   },
   {
    "duration": 17,
    "start_time": "2021-08-03T16:04:51.595Z"
   },
   {
    "duration": 11,
    "start_time": "2021-08-03T16:04:51.737Z"
   },
   {
    "duration": 10,
    "start_time": "2021-08-03T16:04:51.883Z"
   },
   {
    "duration": 12,
    "start_time": "2021-08-03T16:04:52.056Z"
   },
   {
    "duration": 21,
    "start_time": "2021-08-03T16:04:52.314Z"
   },
   {
    "duration": 14,
    "start_time": "2021-08-03T16:04:52.505Z"
   },
   {
    "duration": 11,
    "start_time": "2021-08-03T16:04:52.676Z"
   },
   {
    "duration": 14,
    "start_time": "2021-08-03T16:04:53.218Z"
   },
   {
    "duration": 8,
    "start_time": "2021-08-03T16:04:53.529Z"
   },
   {
    "duration": 9,
    "start_time": "2021-08-03T16:04:53.848Z"
   },
   {
    "duration": 4,
    "start_time": "2021-08-03T16:05:58.848Z"
   },
   {
    "duration": 610,
    "start_time": "2021-08-03T16:06:32.241Z"
   },
   {
    "duration": 686,
    "start_time": "2021-08-03T16:07:06.468Z"
   },
   {
    "duration": 720,
    "start_time": "2021-08-03T16:07:12.437Z"
   },
   {
    "duration": 665,
    "start_time": "2021-08-03T16:07:21.524Z"
   },
   {
    "duration": 641,
    "start_time": "2021-08-03T16:08:10.813Z"
   },
   {
    "duration": 784,
    "start_time": "2021-08-03T16:08:20.712Z"
   },
   {
    "duration": 517,
    "start_time": "2021-08-03T16:09:33.510Z"
   },
   {
    "duration": 417,
    "start_time": "2021-08-03T16:09:50.425Z"
   },
   {
    "duration": 410,
    "start_time": "2021-08-03T16:10:30.697Z"
   },
   {
    "duration": 1188,
    "start_time": "2021-08-03T16:10:42.990Z"
   },
   {
    "duration": 937,
    "start_time": "2021-08-03T16:11:20.739Z"
   },
   {
    "duration": 965,
    "start_time": "2021-08-03T16:35:00.761Z"
   },
   {
    "duration": 1000,
    "start_time": "2021-08-03T16:35:42.970Z"
   },
   {
    "duration": 1078,
    "start_time": "2021-08-03T16:36:30.522Z"
   },
   {
    "duration": 786,
    "start_time": "2021-08-03T16:44:13.841Z"
   },
   {
    "duration": 1086,
    "start_time": "2021-08-03T16:44:22.888Z"
   },
   {
    "duration": 788,
    "start_time": "2021-08-03T16:44:42.653Z"
   },
   {
    "duration": 638,
    "start_time": "2021-08-03T16:45:03.416Z"
   },
   {
    "duration": 776,
    "start_time": "2021-08-03T16:45:13.234Z"
   },
   {
    "duration": 1193,
    "start_time": "2021-08-03T16:46:50.364Z"
   },
   {
    "duration": 1338,
    "start_time": "2021-08-03T16:46:56.087Z"
   },
   {
    "duration": 1074,
    "start_time": "2021-08-03T16:47:02.349Z"
   },
   {
    "duration": 1167,
    "start_time": "2021-08-03T16:47:12.616Z"
   },
   {
    "duration": 1052,
    "start_time": "2021-08-03T16:47:58.763Z"
   },
   {
    "duration": 1329,
    "start_time": "2021-08-03T16:48:04.211Z"
   },
   {
    "duration": 1299,
    "start_time": "2021-08-03T16:48:12.317Z"
   },
   {
    "duration": 1186,
    "start_time": "2021-08-03T16:48:30.625Z"
   },
   {
    "duration": 1291,
    "start_time": "2021-08-03T16:48:42.569Z"
   },
   {
    "duration": 1101,
    "start_time": "2021-08-03T16:48:48.691Z"
   },
   {
    "duration": 1118,
    "start_time": "2021-08-03T16:48:54.364Z"
   },
   {
    "duration": 1162,
    "start_time": "2021-08-03T16:49:16.223Z"
   },
   {
    "duration": 1110,
    "start_time": "2021-08-03T16:49:38.128Z"
   },
   {
    "duration": 1252,
    "start_time": "2021-08-03T16:50:00.122Z"
   },
   {
    "duration": 1173,
    "start_time": "2021-08-03T16:50:57.401Z"
   },
   {
    "duration": 1718,
    "start_time": "2021-08-03T16:53:06.183Z"
   },
   {
    "duration": 1774,
    "start_time": "2021-08-03T16:53:30.867Z"
   },
   {
    "duration": 1664,
    "start_time": "2021-08-03T16:53:34.863Z"
   },
   {
    "duration": 1795,
    "start_time": "2021-08-03T16:54:02.563Z"
   },
   {
    "duration": 1739,
    "start_time": "2021-08-03T16:54:11.968Z"
   },
   {
    "duration": 1702,
    "start_time": "2021-08-03T16:54:20.566Z"
   },
   {
    "duration": 1745,
    "start_time": "2021-08-03T16:54:24.872Z"
   },
   {
    "duration": 2078,
    "start_time": "2021-08-03T16:54:56.347Z"
   },
   {
    "duration": 1663,
    "start_time": "2021-08-03T16:55:01.965Z"
   },
   {
    "duration": 1635,
    "start_time": "2021-08-03T16:55:42.357Z"
   },
   {
    "duration": 1805,
    "start_time": "2021-08-03T16:55:49.833Z"
   },
   {
    "duration": 1747,
    "start_time": "2021-08-03T16:55:56.710Z"
   },
   {
    "duration": 1642,
    "start_time": "2021-08-03T16:56:04.051Z"
   },
   {
    "duration": 1678,
    "start_time": "2021-08-03T16:56:23.501Z"
   },
   {
    "duration": 1727,
    "start_time": "2021-08-03T16:56:33.268Z"
   },
   {
    "duration": 1597,
    "start_time": "2021-08-03T16:57:16.610Z"
   },
   {
    "duration": 1802,
    "start_time": "2021-08-03T16:57:29.714Z"
   },
   {
    "duration": 2083,
    "start_time": "2021-08-03T16:58:11.155Z"
   },
   {
    "duration": 1688,
    "start_time": "2021-08-03T16:58:38.034Z"
   },
   {
    "duration": 7,
    "start_time": "2021-08-03T17:11:03.847Z"
   },
   {
    "duration": 9,
    "start_time": "2021-08-03T17:11:07.827Z"
   },
   {
    "duration": 10,
    "start_time": "2021-08-03T17:11:10.676Z"
   },
   {
    "duration": 8,
    "start_time": "2021-08-03T17:11:15.524Z"
   },
   {
    "duration": 8,
    "start_time": "2021-08-03T17:11:18.922Z"
   },
   {
    "duration": 9,
    "start_time": "2021-08-03T17:11:20.122Z"
   },
   {
    "duration": 1582,
    "start_time": "2021-08-03T17:11:31.286Z"
   },
   {
    "duration": 28,
    "start_time": "2021-08-03T17:11:32.871Z"
   },
   {
    "duration": 16,
    "start_time": "2021-08-03T17:11:32.903Z"
   },
   {
    "duration": 19,
    "start_time": "2021-08-03T17:11:32.923Z"
   },
   {
    "duration": 61,
    "start_time": "2021-08-03T17:11:32.945Z"
   },
   {
    "duration": 8,
    "start_time": "2021-08-03T17:11:33.009Z"
   },
   {
    "duration": 11,
    "start_time": "2021-08-03T17:11:33.020Z"
   },
   {
    "duration": 15,
    "start_time": "2021-08-03T17:11:33.034Z"
   },
   {
    "duration": 13,
    "start_time": "2021-08-03T17:11:33.051Z"
   },
   {
    "duration": 40,
    "start_time": "2021-08-03T17:11:33.066Z"
   },
   {
    "duration": 18,
    "start_time": "2021-08-03T17:11:33.110Z"
   },
   {
    "duration": 13,
    "start_time": "2021-08-03T17:11:33.247Z"
   },
   {
    "duration": 14,
    "start_time": "2021-08-03T17:11:33.349Z"
   },
   {
    "duration": 18,
    "start_time": "2021-08-03T17:11:33.504Z"
   },
   {
    "duration": 11,
    "start_time": "2021-08-03T17:11:33.674Z"
   },
   {
    "duration": 11,
    "start_time": "2021-08-03T17:11:33.830Z"
   },
   {
    "duration": 11,
    "start_time": "2021-08-03T17:11:34.031Z"
   },
   {
    "duration": 21,
    "start_time": "2021-08-03T17:11:34.261Z"
   },
   {
    "duration": 14,
    "start_time": "2021-08-03T17:11:34.422Z"
   },
   {
    "duration": 15,
    "start_time": "2021-08-03T17:11:34.581Z"
   },
   {
    "duration": 11,
    "start_time": "2021-08-03T17:11:34.734Z"
   },
   {
    "duration": 11,
    "start_time": "2021-08-03T17:11:34.878Z"
   },
   {
    "duration": 12,
    "start_time": "2021-08-03T17:11:35.031Z"
   },
   {
    "duration": 11,
    "start_time": "2021-08-03T17:11:35.176Z"
   },
   {
    "duration": 11,
    "start_time": "2021-08-03T17:11:35.326Z"
   },
   {
    "duration": 10,
    "start_time": "2021-08-03T17:11:35.479Z"
   },
   {
    "duration": 12,
    "start_time": "2021-08-03T17:11:35.638Z"
   },
   {
    "duration": 14,
    "start_time": "2021-08-03T17:11:35.941Z"
   },
   {
    "duration": 10,
    "start_time": "2021-08-03T17:11:36.103Z"
   },
   {
    "duration": 12,
    "start_time": "2021-08-03T17:11:36.255Z"
   },
   {
    "duration": 11,
    "start_time": "2021-08-03T17:11:36.414Z"
   },
   {
    "duration": 7,
    "start_time": "2021-08-03T17:11:36.718Z"
   },
   {
    "duration": 8,
    "start_time": "2021-08-03T17:11:36.863Z"
   },
   {
    "duration": 5,
    "start_time": "2021-08-03T17:11:37.000Z"
   },
   {
    "duration": 4,
    "start_time": "2021-08-03T17:11:37.301Z"
   },
   {
    "duration": 876,
    "start_time": "2021-08-03T17:11:37.446Z"
   },
   {
    "duration": 684,
    "start_time": "2021-08-03T17:11:38.325Z"
   },
   {
    "duration": 917,
    "start_time": "2021-08-03T17:11:39.013Z"
   },
   {
    "duration": 1718,
    "start_time": "2021-08-03T17:11:39.933Z"
   },
   {
    "duration": 361,
    "start_time": "2021-08-03T17:12:42.685Z"
   },
   {
    "duration": 237,
    "start_time": "2021-08-03T17:12:51.966Z"
   },
   {
    "duration": 219,
    "start_time": "2021-08-03T17:13:13.460Z"
   },
   {
    "duration": 240,
    "start_time": "2021-08-03T17:13:30.302Z"
   },
   {
    "duration": 230,
    "start_time": "2021-08-03T17:13:33.474Z"
   },
   {
    "duration": 220,
    "start_time": "2021-08-03T17:14:08.472Z"
   },
   {
    "duration": 228,
    "start_time": "2021-08-03T17:17:56.774Z"
   },
   {
    "duration": 235,
    "start_time": "2021-08-03T17:18:31.028Z"
   },
   {
    "duration": 1626,
    "start_time": "2021-08-03T17:18:42.847Z"
   },
   {
    "duration": 1884,
    "start_time": "2021-08-03T17:18:51.466Z"
   },
   {
    "duration": 1586,
    "start_time": "2021-08-03T17:18:59.583Z"
   },
   {
    "duration": 1716,
    "start_time": "2021-08-03T17:19:05.450Z"
   },
   {
    "duration": 1687,
    "start_time": "2021-08-03T17:19:16.034Z"
   },
   {
    "duration": 1637,
    "start_time": "2021-08-03T17:19:25.248Z"
   },
   {
    "duration": 1636,
    "start_time": "2021-08-03T17:19:34.507Z"
   },
   {
    "duration": 1613,
    "start_time": "2021-08-03T17:19:53.890Z"
   },
   {
    "duration": 1825,
    "start_time": "2021-08-03T17:20:00.885Z"
   },
   {
    "duration": 5901,
    "start_time": "2021-08-06T13:15:08.130Z"
   },
   {
    "duration": 1680,
    "start_time": "2021-08-06T13:15:16.563Z"
   },
   {
    "duration": 27,
    "start_time": "2021-08-06T13:15:19.527Z"
   },
   {
    "duration": 15,
    "start_time": "2021-08-06T13:15:20.336Z"
   },
   {
    "duration": 19,
    "start_time": "2021-08-06T13:15:22.633Z"
   },
   {
    "duration": 22,
    "start_time": "2021-08-06T13:15:29.106Z"
   },
   {
    "duration": 9,
    "start_time": "2021-08-06T13:15:30.365Z"
   },
   {
    "duration": 7,
    "start_time": "2021-08-06T13:15:42.298Z"
   },
   {
    "duration": 10,
    "start_time": "2021-08-06T13:15:44.933Z"
   },
   {
    "duration": 6,
    "start_time": "2021-08-06T13:15:45.341Z"
   },
   {
    "duration": 17,
    "start_time": "2021-08-06T13:15:53.710Z"
   },
   {
    "duration": 10,
    "start_time": "2021-08-06T13:15:54.268Z"
   },
   {
    "duration": 12,
    "start_time": "2021-08-06T13:15:59.522Z"
   },
   {
    "duration": 14,
    "start_time": "2021-08-06T13:16:01.872Z"
   },
   {
    "duration": 17,
    "start_time": "2021-08-06T13:16:04.177Z"
   },
   {
    "duration": 9,
    "start_time": "2021-08-06T13:16:53.583Z"
   },
   {
    "duration": 10,
    "start_time": "2021-08-06T13:16:55.390Z"
   },
   {
    "duration": 11,
    "start_time": "2021-08-06T13:16:58.170Z"
   },
   {
    "duration": 20,
    "start_time": "2021-08-06T13:16:59.821Z"
   },
   {
    "duration": 14,
    "start_time": "2021-08-06T13:17:00.223Z"
   },
   {
    "duration": 15,
    "start_time": "2021-08-06T13:17:00.573Z"
   },
   {
    "duration": 11,
    "start_time": "2021-08-06T13:17:00.813Z"
   },
   {
    "duration": 10,
    "start_time": "2021-08-06T13:17:01.070Z"
   },
   {
    "duration": 11,
    "start_time": "2021-08-06T13:17:01.374Z"
   },
   {
    "duration": 10,
    "start_time": "2021-08-06T13:17:01.730Z"
   },
   {
    "duration": 10,
    "start_time": "2021-08-06T13:17:02.016Z"
   },
   {
    "duration": 12,
    "start_time": "2021-08-06T13:17:02.437Z"
   },
   {
    "duration": 12,
    "start_time": "2021-08-06T13:17:04.182Z"
   },
   {
    "duration": 17,
    "start_time": "2021-08-06T13:17:06.392Z"
   },
   {
    "duration": 10,
    "start_time": "2021-08-06T13:17:10.579Z"
   },
   {
    "duration": 16,
    "start_time": "2021-08-06T13:17:11.096Z"
   },
   {
    "duration": 12,
    "start_time": "2021-08-06T13:17:12.234Z"
   },
   {
    "duration": 6,
    "start_time": "2021-08-06T13:17:14.403Z"
   },
   {
    "duration": 8,
    "start_time": "2021-08-06T13:17:16.749Z"
   },
   {
    "duration": 5,
    "start_time": "2021-08-06T13:17:20.486Z"
   },
   {
    "duration": 4,
    "start_time": "2021-08-06T13:17:20.853Z"
   },
   {
    "duration": 873,
    "start_time": "2021-08-06T13:17:22.158Z"
   },
   {
    "duration": 705,
    "start_time": "2021-08-06T13:17:23.034Z"
   },
   {
    "duration": 933,
    "start_time": "2021-08-06T13:17:23.742Z"
   },
   {
    "duration": 1703,
    "start_time": "2021-08-06T13:17:24.678Z"
   },
   {
    "duration": 226,
    "start_time": "2021-08-06T13:17:36.935Z"
   },
   {
    "duration": 499,
    "start_time": "2021-08-06T13:36:53.056Z"
   },
   {
    "duration": 1533,
    "start_time": "2021-08-06T13:37:10.616Z"
   },
   {
    "duration": 35,
    "start_time": "2021-08-06T13:37:12.152Z"
   },
   {
    "duration": 14,
    "start_time": "2021-08-06T13:37:12.191Z"
   },
   {
    "duration": 34,
    "start_time": "2021-08-06T13:37:12.208Z"
   },
   {
    "duration": 19,
    "start_time": "2021-08-06T13:37:12.245Z"
   },
   {
    "duration": 7,
    "start_time": "2021-08-06T13:37:12.267Z"
   },
   {
    "duration": 7,
    "start_time": "2021-08-06T13:37:12.300Z"
   },
   {
    "duration": 19,
    "start_time": "2021-08-06T13:37:12.310Z"
   },
   {
    "duration": 6,
    "start_time": "2021-08-06T13:37:12.504Z"
   },
   {
    "duration": 19,
    "start_time": "2021-08-06T13:37:13.632Z"
   },
   {
    "duration": 10,
    "start_time": "2021-08-06T13:37:14.480Z"
   },
   {
    "duration": 13,
    "start_time": "2021-08-06T13:37:14.833Z"
   },
   {
    "duration": 12,
    "start_time": "2021-08-06T13:37:16.961Z"
   },
   {
    "duration": 16,
    "start_time": "2021-08-06T13:37:16.975Z"
   },
   {
    "duration": 15,
    "start_time": "2021-08-06T13:37:16.994Z"
   },
   {
    "duration": 23,
    "start_time": "2021-08-06T13:37:17.011Z"
   },
   {
    "duration": 20,
    "start_time": "2021-08-06T13:37:18.209Z"
   },
   {
    "duration": 13,
    "start_time": "2021-08-06T13:37:18.456Z"
   },
   {
    "duration": 26,
    "start_time": "2021-08-06T13:37:24.953Z"
   },
   {
    "duration": 7,
    "start_time": "2021-08-06T13:37:31.561Z"
   },
   {
    "duration": 33,
    "start_time": "2021-08-06T13:37:35.673Z"
   },
   {
    "duration": 7,
    "start_time": "2021-08-06T13:37:57.898Z"
   },
   {
    "duration": 7,
    "start_time": "2021-08-06T13:37:59.945Z"
   },
   {
    "duration": 23,
    "start_time": "2021-08-06T13:38:04.811Z"
   },
   {
    "duration": 14,
    "start_time": "2021-08-06T13:38:38.106Z"
   },
   {
    "duration": 12,
    "start_time": "2021-08-06T13:38:38.283Z"
   },
   {
    "duration": 11,
    "start_time": "2021-08-06T13:38:38.421Z"
   },
   {
    "duration": 11,
    "start_time": "2021-08-06T13:38:38.559Z"
   },
   {
    "duration": 11,
    "start_time": "2021-08-06T13:38:38.721Z"
   },
   {
    "duration": 10,
    "start_time": "2021-08-06T13:38:39.011Z"
   },
   {
    "duration": 11,
    "start_time": "2021-08-06T13:38:39.170Z"
   },
   {
    "duration": 11,
    "start_time": "2021-08-06T13:38:39.299Z"
   },
   {
    "duration": 12,
    "start_time": "2021-08-06T13:38:39.562Z"
   },
   {
    "duration": 10,
    "start_time": "2021-08-06T13:38:39.810Z"
   },
   {
    "duration": 10,
    "start_time": "2021-08-06T13:38:40.341Z"
   },
   {
    "duration": 12,
    "start_time": "2021-08-06T13:38:40.506Z"
   },
   {
    "duration": 8,
    "start_time": "2021-08-06T13:38:41.338Z"
   },
   {
    "duration": 8,
    "start_time": "2021-08-06T13:38:41.468Z"
   },
   {
    "duration": 6,
    "start_time": "2021-08-06T13:38:41.611Z"
   },
   {
    "duration": 3649,
    "start_time": "2021-08-06T13:41:00.979Z"
   },
   {
    "duration": 1583,
    "start_time": "2021-08-06T13:41:05.342Z"
   },
   {
    "duration": 28,
    "start_time": "2021-08-06T13:41:06.928Z"
   },
   {
    "duration": 20,
    "start_time": "2021-08-06T13:41:06.960Z"
   },
   {
    "duration": 31,
    "start_time": "2021-08-06T13:41:06.984Z"
   },
   {
    "duration": 20,
    "start_time": "2021-08-06T13:41:07.017Z"
   },
   {
    "duration": 7,
    "start_time": "2021-08-06T13:41:07.039Z"
   },
   {
    "duration": 10,
    "start_time": "2021-08-06T13:41:07.048Z"
   },
   {
    "duration": 47,
    "start_time": "2021-08-06T13:41:07.061Z"
   },
   {
    "duration": 10,
    "start_time": "2021-08-06T13:41:07.110Z"
   },
   {
    "duration": 20,
    "start_time": "2021-08-06T13:41:07.122Z"
   },
   {
    "duration": 11,
    "start_time": "2021-08-06T13:41:07.145Z"
   },
   {
    "duration": 17,
    "start_time": "2021-08-06T13:41:07.220Z"
   },
   {
    "duration": 12,
    "start_time": "2021-08-06T13:41:07.380Z"
   },
   {
    "duration": 10,
    "start_time": "2021-08-06T13:41:07.512Z"
   },
   {
    "duration": 11,
    "start_time": "2021-08-06T13:41:07.678Z"
   },
   {
    "duration": 11,
    "start_time": "2021-08-06T13:41:07.829Z"
   },
   {
    "duration": 20,
    "start_time": "2021-08-06T13:41:08.164Z"
   },
   {
    "duration": 13,
    "start_time": "2021-08-06T13:41:08.325Z"
   },
   {
    "duration": 14,
    "start_time": "2021-08-06T13:41:08.501Z"
   },
   {
    "duration": 12,
    "start_time": "2021-08-06T13:41:08.740Z"
   },
   {
    "duration": 11,
    "start_time": "2021-08-06T13:41:09.052Z"
   },
   {
    "duration": 12,
    "start_time": "2021-08-06T13:41:09.197Z"
   },
   {
    "duration": 10,
    "start_time": "2021-08-06T13:41:09.349Z"
   },
   {
    "duration": 11,
    "start_time": "2021-08-06T13:41:09.509Z"
   },
   {
    "duration": 12,
    "start_time": "2021-08-06T13:41:09.668Z"
   },
   {
    "duration": 11,
    "start_time": "2021-08-06T13:41:09.964Z"
   },
   {
    "duration": 12,
    "start_time": "2021-08-06T13:41:11.005Z"
   },
   {
    "duration": 13,
    "start_time": "2021-08-06T13:41:11.382Z"
   },
   {
    "duration": 11,
    "start_time": "2021-08-06T13:41:12.133Z"
   },
   {
    "duration": 11,
    "start_time": "2021-08-06T13:41:12.270Z"
   },
   {
    "duration": 8,
    "start_time": "2021-08-06T13:41:12.597Z"
   },
   {
    "duration": 8,
    "start_time": "2021-08-06T13:41:12.764Z"
   },
   {
    "duration": 6,
    "start_time": "2021-08-06T13:41:12.918Z"
   },
   {
    "duration": 11,
    "start_time": "2021-08-06T13:41:13.076Z"
   },
   {
    "duration": 5,
    "start_time": "2021-08-06T13:41:13.236Z"
   },
   {
    "duration": 5,
    "start_time": "2021-08-06T13:41:13.613Z"
   },
   {
    "duration": 9,
    "start_time": "2021-08-06T13:41:14.364Z"
   },
   {
    "duration": 7,
    "start_time": "2021-08-06T13:41:14.549Z"
   },
   {
    "duration": 7,
    "start_time": "2021-08-06T13:41:15.038Z"
   },
   {
    "duration": 27,
    "start_time": "2021-08-06T13:41:15.220Z"
   },
   {
    "duration": 4,
    "start_time": "2021-08-06T13:41:27.006Z"
   },
   {
    "duration": 894,
    "start_time": "2021-08-06T13:41:27.189Z"
   },
   {
    "duration": 702,
    "start_time": "2021-08-06T13:41:28.085Z"
   },
   {
    "duration": 902,
    "start_time": "2021-08-06T13:41:28.801Z"
   },
   {
    "duration": 1756,
    "start_time": "2021-08-06T13:41:29.706Z"
   },
   {
    "duration": 676,
    "start_time": "2021-08-06T13:41:31.465Z"
   },
   {
    "duration": 771,
    "start_time": "2021-08-06T13:41:34.286Z"
   },
   {
    "duration": 639,
    "start_time": "2021-08-06T13:41:42.022Z"
   },
   {
    "duration": 781,
    "start_time": "2021-08-06T13:41:52.310Z"
   },
   {
    "duration": 428,
    "start_time": "2021-08-06T13:42:05.638Z"
   },
   {
    "duration": 467,
    "start_time": "2021-08-06T13:42:12.022Z"
   },
   {
    "duration": 1327,
    "start_time": "2021-08-06T13:44:17.219Z"
   },
   {
    "duration": 11,
    "start_time": "2021-08-06T13:44:42.887Z"
   },
   {
    "duration": 7,
    "start_time": "2021-08-06T13:45:34.733Z"
   },
   {
    "duration": 28,
    "start_time": "2021-08-06T13:45:36.451Z"
   },
   {
    "duration": 6,
    "start_time": "2021-08-06T13:45:52.264Z"
   },
   {
    "duration": 25,
    "start_time": "2021-08-06T13:45:53.876Z"
   },
   {
    "duration": 5,
    "start_time": "2021-08-06T13:46:26.365Z"
   },
   {
    "duration": 27,
    "start_time": "2021-08-06T13:46:28.426Z"
   },
   {
    "duration": 9,
    "start_time": "2021-08-06T13:46:33.772Z"
   },
   {
    "duration": 26,
    "start_time": "2021-08-06T13:46:36.812Z"
   },
   {
    "duration": 123,
    "start_time": "2021-08-06T13:48:10.454Z"
   },
   {
    "duration": 374,
    "start_time": "2021-08-06T13:48:17.533Z"
   },
   {
    "duration": 359,
    "start_time": "2021-08-06T13:49:17.296Z"
   },
   {
    "duration": 414,
    "start_time": "2021-08-06T13:49:34.339Z"
   },
   {
    "duration": 386,
    "start_time": "2021-08-06T13:50:22.122Z"
   },
   {
    "duration": 5,
    "start_time": "2021-08-06T13:51:33.582Z"
   },
   {
    "duration": 26,
    "start_time": "2021-08-06T13:51:35.054Z"
   },
   {
    "duration": 6,
    "start_time": "2021-08-06T13:51:46.025Z"
   },
   {
    "duration": 12,
    "start_time": "2021-08-06T13:52:10.378Z"
   },
   {
    "duration": 6,
    "start_time": "2021-08-06T13:52:18.292Z"
   },
   {
    "duration": 12,
    "start_time": "2021-08-06T13:52:18.916Z"
   },
   {
    "duration": 745,
    "start_time": "2021-08-06T13:52:49.295Z"
   },
   {
    "duration": 497,
    "start_time": "2021-08-06T14:17:12.749Z"
   },
   {
    "duration": 423,
    "start_time": "2021-08-06T14:27:39.549Z"
   },
   {
    "duration": 473,
    "start_time": "2021-08-06T14:27:44.990Z"
   },
   {
    "duration": 440,
    "start_time": "2021-08-06T14:27:53.850Z"
   },
   {
    "duration": 213,
    "start_time": "2021-08-06T14:31:52.265Z"
   },
   {
    "duration": 5,
    "start_time": "2021-08-06T14:31:52.495Z"
   },
   {
    "duration": 221,
    "start_time": "2021-08-06T14:32:05.397Z"
   },
   {
    "duration": 238,
    "start_time": "2021-08-06T14:32:48.834Z"
   },
   {
    "duration": 226,
    "start_time": "2021-08-06T14:32:59.592Z"
   },
   {
    "duration": 228,
    "start_time": "2021-08-06T14:33:03.183Z"
   },
   {
    "duration": 216,
    "start_time": "2021-08-06T14:33:06.504Z"
   },
   {
    "duration": 5,
    "start_time": "2021-08-06T14:33:18.151Z"
   },
   {
    "duration": 210,
    "start_time": "2021-08-06T14:33:54.177Z"
   },
   {
    "duration": 647,
    "start_time": "2021-08-06T14:35:14.146Z"
   },
   {
    "duration": 5,
    "start_time": "2021-08-06T14:35:20.804Z"
   },
   {
    "duration": 5,
    "start_time": "2021-08-06T14:35:36.341Z"
   },
   {
    "duration": 384,
    "start_time": "2021-08-06T14:38:27.829Z"
   },
   {
    "duration": 397,
    "start_time": "2021-08-06T14:38:51.229Z"
   },
   {
    "duration": 306,
    "start_time": "2021-08-06T14:39:10.781Z"
   },
   {
    "duration": 295,
    "start_time": "2021-08-06T14:39:56.795Z"
   },
   {
    "duration": 366,
    "start_time": "2021-08-06T14:40:03.497Z"
   },
   {
    "duration": 571,
    "start_time": "2021-08-06T14:40:13.338Z"
   },
   {
    "duration": 362,
    "start_time": "2021-08-06T14:40:18.048Z"
   },
   {
    "duration": 226,
    "start_time": "2021-08-06T14:40:58.823Z"
   },
   {
    "duration": 222,
    "start_time": "2021-08-06T14:41:22.234Z"
   },
   {
    "duration": 240,
    "start_time": "2021-08-06T14:42:27.204Z"
   },
   {
    "duration": 228,
    "start_time": "2021-08-06T14:42:53.839Z"
   },
   {
    "duration": 206,
    "start_time": "2021-08-06T14:43:02.744Z"
   },
   {
    "duration": 223,
    "start_time": "2021-08-06T14:43:11.233Z"
   },
   {
    "duration": 1311,
    "start_time": "2021-08-06T15:11:35.293Z"
   },
   {
    "duration": 1078,
    "start_time": "2021-08-06T15:11:49.500Z"
   },
   {
    "duration": 741,
    "start_time": "2021-08-06T15:12:04.926Z"
   },
   {
    "duration": 1840,
    "start_time": "2021-08-06T15:15:18.528Z"
   },
   {
    "duration": 1750,
    "start_time": "2021-08-06T15:15:49.353Z"
   },
   {
    "duration": 2015,
    "start_time": "2021-08-06T15:15:57.606Z"
   },
   {
    "duration": 7,
    "start_time": "2021-08-06T15:25:29.988Z"
   },
   {
    "duration": 164,
    "start_time": "2021-08-06T17:40:19.805Z"
   },
   {
    "duration": 464,
    "start_time": "2021-08-06T17:41:05.640Z"
   },
   {
    "duration": 124,
    "start_time": "2021-08-06T17:41:57.224Z"
   },
   {
    "duration": 112,
    "start_time": "2021-08-06T17:44:14.727Z"
   },
   {
    "duration": 231,
    "start_time": "2021-08-06T17:46:18.457Z"
   },
   {
    "duration": 129,
    "start_time": "2021-08-06T17:46:47.858Z"
   },
   {
    "duration": 297,
    "start_time": "2021-08-07T11:47:28.460Z"
   },
   {
    "duration": 3537,
    "start_time": "2021-08-07T11:47:38.902Z"
   },
   {
    "duration": 2424,
    "start_time": "2021-08-07T11:47:49.934Z"
   },
   {
    "duration": 1155,
    "start_time": "2021-08-07T11:47:52.361Z"
   },
   {
    "duration": 16,
    "start_time": "2021-08-07T11:47:53.519Z"
   },
   {
    "duration": 11,
    "start_time": "2021-08-07T11:47:53.537Z"
   },
   {
    "duration": 11,
    "start_time": "2021-08-07T11:47:53.550Z"
   },
   {
    "duration": 13,
    "start_time": "2021-08-07T11:47:53.562Z"
   },
   {
    "duration": 5,
    "start_time": "2021-08-07T11:47:53.577Z"
   },
   {
    "duration": 7,
    "start_time": "2021-08-07T11:47:53.584Z"
   },
   {
    "duration": 8,
    "start_time": "2021-08-07T11:47:53.593Z"
   },
   {
    "duration": 6,
    "start_time": "2021-08-07T11:47:53.602Z"
   },
   {
    "duration": 39,
    "start_time": "2021-08-07T11:47:53.610Z"
   },
   {
    "duration": 7,
    "start_time": "2021-08-07T11:47:53.651Z"
   },
   {
    "duration": 8,
    "start_time": "2021-08-07T11:47:53.660Z"
   },
   {
    "duration": 7,
    "start_time": "2021-08-07T11:47:53.670Z"
   },
   {
    "duration": 5,
    "start_time": "2021-08-07T11:47:53.679Z"
   },
   {
    "duration": 8,
    "start_time": "2021-08-07T11:47:53.686Z"
   },
   {
    "duration": 49,
    "start_time": "2021-08-07T11:47:53.695Z"
   },
   {
    "duration": 13,
    "start_time": "2021-08-07T11:47:53.746Z"
   },
   {
    "duration": 9,
    "start_time": "2021-08-07T11:47:53.761Z"
   },
   {
    "duration": 10,
    "start_time": "2021-08-07T11:47:53.772Z"
   },
   {
    "duration": 7,
    "start_time": "2021-08-07T11:47:53.784Z"
   },
   {
    "duration": 9,
    "start_time": "2021-08-07T11:47:53.793Z"
   },
   {
    "duration": 41,
    "start_time": "2021-08-07T11:47:53.805Z"
   },
   {
    "duration": 12,
    "start_time": "2021-08-07T11:47:53.848Z"
   },
   {
    "duration": 7,
    "start_time": "2021-08-07T11:47:53.959Z"
   },
   {
    "duration": 7,
    "start_time": "2021-08-07T11:47:54.101Z"
   },
   {
    "duration": 8,
    "start_time": "2021-08-07T11:47:54.262Z"
   },
   {
    "duration": 8,
    "start_time": "2021-08-07T11:47:54.558Z"
   },
   {
    "duration": 6,
    "start_time": "2021-08-07T11:47:54.720Z"
   },
   {
    "duration": 7,
    "start_time": "2021-08-07T11:47:54.847Z"
   },
   {
    "duration": 7,
    "start_time": "2021-08-07T11:47:55.000Z"
   },
   {
    "duration": 5,
    "start_time": "2021-08-07T11:47:55.294Z"
   },
   {
    "duration": 5,
    "start_time": "2021-08-07T11:47:55.462Z"
   },
   {
    "duration": 5,
    "start_time": "2021-08-07T11:47:55.600Z"
   },
   {
    "duration": 7,
    "start_time": "2021-08-07T11:47:55.734Z"
   },
   {
    "duration": 4,
    "start_time": "2021-08-07T11:47:55.880Z"
   },
   {
    "duration": 4,
    "start_time": "2021-08-07T11:47:56.182Z"
   },
   {
    "duration": 6,
    "start_time": "2021-08-07T11:47:56.326Z"
   },
   {
    "duration": 5,
    "start_time": "2021-08-07T11:47:56.463Z"
   },
   {
    "duration": 4,
    "start_time": "2021-08-07T11:47:56.640Z"
   },
   {
    "duration": 3,
    "start_time": "2021-08-07T11:47:56.767Z"
   },
   {
    "duration": 3,
    "start_time": "2021-08-07T11:47:57.222Z"
   },
   {
    "duration": 417,
    "start_time": "2021-08-07T11:47:57.711Z"
   },
   {
    "duration": 378,
    "start_time": "2021-08-07T11:47:58.130Z"
   },
   {
    "duration": 433,
    "start_time": "2021-08-07T11:47:59.200Z"
   },
   {
    "duration": 1167,
    "start_time": "2021-08-07T11:47:59.635Z"
   },
   {
    "duration": 551,
    "start_time": "2021-08-07T11:48:00.804Z"
   },
   {
    "duration": 255,
    "start_time": "2021-08-07T11:48:01.356Z"
   },
   {
    "duration": 182,
    "start_time": "2021-08-07T11:48:01.612Z"
   },
   {
    "duration": 144,
    "start_time": "2021-08-07T11:48:01.796Z"
   },
   {
    "duration": 181,
    "start_time": "2021-08-07T11:48:01.942Z"
   },
   {
    "duration": 139,
    "start_time": "2021-08-07T11:48:02.125Z"
   },
   {
    "duration": 12,
    "start_time": "2021-08-07T11:48:03.975Z"
   },
   {
    "duration": 22,
    "start_time": "2021-08-07T11:48:09.294Z"
   },
   {
    "duration": 18,
    "start_time": "2021-08-07T11:48:35.387Z"
   },
   {
    "duration": 23,
    "start_time": "2021-08-07T11:48:38.075Z"
   },
   {
    "duration": 24,
    "start_time": "2021-08-07T11:49:15.054Z"
   },
   {
    "duration": 35,
    "start_time": "2021-08-07T11:49:17.437Z"
   },
   {
    "duration": 5,
    "start_time": "2021-08-07T11:53:28.619Z"
   },
   {
    "duration": 331,
    "start_time": "2021-08-07T11:56:20.018Z"
   },
   {
    "duration": 1083,
    "start_time": "2021-08-07T11:57:14.776Z"
   },
   {
    "duration": 86,
    "start_time": "2021-08-07T11:57:15.861Z"
   },
   {
    "duration": 16,
    "start_time": "2021-08-07T11:57:15.949Z"
   },
   {
    "duration": 18,
    "start_time": "2021-08-07T11:57:15.967Z"
   },
   {
    "duration": 20,
    "start_time": "2021-08-07T11:57:15.987Z"
   },
   {
    "duration": 20,
    "start_time": "2021-08-07T11:57:16.008Z"
   },
   {
    "duration": 10,
    "start_time": "2021-08-07T11:57:16.030Z"
   },
   {
    "duration": 4,
    "start_time": "2021-08-07T11:57:16.043Z"
   },
   {
    "duration": 7,
    "start_time": "2021-08-07T11:57:16.096Z"
   },
   {
    "duration": 6,
    "start_time": "2021-08-07T11:57:16.216Z"
   },
   {
    "duration": 12,
    "start_time": "2021-08-07T11:57:16.487Z"
   },
   {
    "duration": 9,
    "start_time": "2021-08-07T11:57:16.639Z"
   },
   {
    "duration": 10,
    "start_time": "2021-08-07T11:57:16.779Z"
   },
   {
    "duration": 13,
    "start_time": "2021-08-07T11:57:16.909Z"
   },
   {
    "duration": 7,
    "start_time": "2021-08-07T11:57:17.046Z"
   },
   {
    "duration": 8,
    "start_time": "2021-08-07T11:57:17.186Z"
   },
   {
    "duration": 7,
    "start_time": "2021-08-07T11:57:17.332Z"
   },
   {
    "duration": 12,
    "start_time": "2021-08-07T11:57:17.622Z"
   },
   {
    "duration": 9,
    "start_time": "2021-08-07T11:57:17.762Z"
   },
   {
    "duration": 9,
    "start_time": "2021-08-07T11:57:17.891Z"
   },
   {
    "duration": 8,
    "start_time": "2021-08-07T11:57:18.028Z"
   },
   {
    "duration": 8,
    "start_time": "2021-08-07T11:57:18.163Z"
   },
   {
    "duration": 7,
    "start_time": "2021-08-07T11:57:18.312Z"
   },
   {
    "duration": 7,
    "start_time": "2021-08-07T11:57:18.465Z"
   },
   {
    "duration": 7,
    "start_time": "2021-08-07T11:57:18.603Z"
   },
   {
    "duration": 7,
    "start_time": "2021-08-07T11:57:18.738Z"
   },
   {
    "duration": 7,
    "start_time": "2021-08-07T11:57:18.880Z"
   },
   {
    "duration": 8,
    "start_time": "2021-08-07T11:57:19.160Z"
   },
   {
    "duration": 7,
    "start_time": "2021-08-07T11:57:19.304Z"
   },
   {
    "duration": 7,
    "start_time": "2021-08-07T11:57:19.456Z"
   },
   {
    "duration": 7,
    "start_time": "2021-08-07T11:57:19.593Z"
   },
   {
    "duration": 5,
    "start_time": "2021-08-07T11:57:19.864Z"
   },
   {
    "duration": 6,
    "start_time": "2021-08-07T11:57:20.009Z"
   },
   {
    "duration": 5,
    "start_time": "2021-08-07T11:57:20.168Z"
   },
   {
    "duration": 6,
    "start_time": "2021-08-07T11:57:20.281Z"
   },
   {
    "duration": 4,
    "start_time": "2021-08-07T11:57:20.431Z"
   },
   {
    "duration": 4,
    "start_time": "2021-08-07T11:57:20.738Z"
   },
   {
    "duration": 5,
    "start_time": "2021-08-07T11:57:20.880Z"
   },
   {
    "duration": 5,
    "start_time": "2021-08-07T11:57:21.032Z"
   },
   {
    "duration": 5,
    "start_time": "2021-08-07T11:57:21.170Z"
   },
   {
    "duration": 4,
    "start_time": "2021-08-07T11:57:21.312Z"
   },
   {
    "duration": 3,
    "start_time": "2021-08-07T11:57:21.776Z"
   },
   {
    "duration": 423,
    "start_time": "2021-08-07T11:57:22.088Z"
   },
   {
    "duration": 364,
    "start_time": "2021-08-07T11:57:22.513Z"
   },
   {
    "duration": 441,
    "start_time": "2021-08-07T11:57:22.879Z"
   },
   {
    "duration": 1124,
    "start_time": "2021-08-07T11:57:23.322Z"
   },
   {
    "duration": 420,
    "start_time": "2021-08-07T11:57:24.448Z"
   },
   {
    "duration": 247,
    "start_time": "2021-08-07T11:57:24.870Z"
   },
   {
    "duration": 186,
    "start_time": "2021-08-07T11:57:25.119Z"
   },
   {
    "duration": 134,
    "start_time": "2021-08-07T11:57:25.307Z"
   },
   {
    "duration": 171,
    "start_time": "2021-08-07T11:57:25.546Z"
   },
   {
    "duration": 126,
    "start_time": "2021-08-07T11:57:25.863Z"
   },
   {
    "duration": 25,
    "start_time": "2021-08-07T11:57:26.504Z"
   },
   {
    "duration": 33,
    "start_time": "2021-08-07T11:57:26.672Z"
   },
   {
    "duration": 329,
    "start_time": "2021-08-07T11:57:26.817Z"
   },
   {
    "duration": -170,
    "start_time": "2021-08-07T11:57:27.318Z"
   },
   {
    "duration": 6,
    "start_time": "2021-08-07T11:57:57.659Z"
   },
   {
    "duration": 6,
    "start_time": "2021-08-07T11:58:04.866Z"
   },
   {
    "duration": 6,
    "start_time": "2021-08-07T11:59:07.054Z"
   },
   {
    "duration": 6,
    "start_time": "2021-08-07T11:59:11.649Z"
   },
   {
    "duration": 424,
    "start_time": "2021-08-07T12:05:29.371Z"
   },
   {
    "duration": 25,
    "start_time": "2021-08-07T12:05:47.728Z"
   },
   {
    "duration": 32,
    "start_time": "2021-08-07T12:05:48.357Z"
   },
   {
    "duration": 9,
    "start_time": "2021-08-07T12:08:00.457Z"
   },
   {
    "duration": 276,
    "start_time": "2021-08-07T12:08:02.027Z"
   },
   {
    "duration": 265,
    "start_time": "2021-08-07T12:08:29.946Z"
   },
   {
    "duration": 291,
    "start_time": "2021-08-07T12:09:00.073Z"
   },
   {
    "duration": 1038,
    "start_time": "2021-08-07T12:10:44.089Z"
   },
   {
    "duration": 398,
    "start_time": "2021-08-07T12:11:57.461Z"
   },
   {
    "duration": 23,
    "start_time": "2021-08-07T12:12:12.282Z"
   },
   {
    "duration": 34,
    "start_time": "2021-08-07T12:12:14.398Z"
   },
   {
    "duration": 87,
    "start_time": "2021-08-07T12:13:59.886Z"
   },
   {
    "duration": 13,
    "start_time": "2021-08-07T12:14:18.999Z"
   },
   {
    "duration": 24,
    "start_time": "2021-08-07T12:14:23.407Z"
   },
   {
    "duration": 33,
    "start_time": "2021-08-07T12:14:24.140Z"
   },
   {
    "duration": 301,
    "start_time": "2021-08-07T12:14:56.607Z"
   },
   {
    "duration": 78,
    "start_time": "2021-08-07T12:15:10.948Z"
   },
   {
    "duration": 3,
    "start_time": "2021-08-07T12:16:49.921Z"
   },
   {
    "duration": 15,
    "start_time": "2021-08-07T12:17:03.218Z"
   },
   {
    "duration": 23,
    "start_time": "2021-08-07T12:19:08.865Z"
   },
   {
    "duration": 34,
    "start_time": "2021-08-07T12:19:10.015Z"
   },
   {
    "duration": 80,
    "start_time": "2021-08-07T12:19:11.358Z"
   },
   {
    "duration": 8,
    "start_time": "2021-08-07T12:19:13.017Z"
   },
   {
    "duration": 25,
    "start_time": "2021-08-07T12:19:14.798Z"
   },
   {
    "duration": 24,
    "start_time": "2021-08-07T12:19:59.699Z"
   },
   {
    "duration": 5,
    "start_time": "2021-08-07T12:20:07.114Z"
   },
   {
    "duration": 24,
    "start_time": "2021-08-07T12:20:16.417Z"
   },
   {
    "duration": 24,
    "start_time": "2021-08-07T12:21:04.792Z"
   },
   {
    "duration": 32,
    "start_time": "2021-08-07T12:21:05.163Z"
   },
   {
    "duration": 81,
    "start_time": "2021-08-07T12:21:05.434Z"
   },
   {
    "duration": 15,
    "start_time": "2021-08-07T12:21:05.785Z"
   },
   {
    "duration": 6445,
    "start_time": "2021-08-07T12:21:06.184Z"
   },
   {
    "duration": -139,
    "start_time": "2021-08-07T12:21:12.769Z"
   },
   {
    "duration": 21,
    "start_time": "2021-08-07T12:21:17.092Z"
   },
   {
    "duration": 24,
    "start_time": "2021-08-07T12:21:40.530Z"
   },
   {
    "duration": 36,
    "start_time": "2021-08-07T12:21:41.306Z"
   },
   {
    "duration": 80,
    "start_time": "2021-08-07T12:21:49.252Z"
   },
   {
    "duration": 7,
    "start_time": "2021-08-07T12:21:50.139Z"
   },
   {
    "duration": 5,
    "start_time": "2021-08-07T12:21:57.907Z"
   },
   {
    "duration": 22,
    "start_time": "2021-08-07T12:21:59.694Z"
   },
   {
    "duration": 22,
    "start_time": "2021-08-07T12:23:25.661Z"
   },
   {
    "duration": 32,
    "start_time": "2021-08-07T12:23:26.452Z"
   },
   {
    "duration": 72,
    "start_time": "2021-08-07T12:23:26.966Z"
   },
   {
    "duration": 7,
    "start_time": "2021-08-07T12:23:28.653Z"
   },
   {
    "duration": 6,
    "start_time": "2021-08-07T12:23:30.003Z"
   },
   {
    "duration": 26,
    "start_time": "2021-08-07T12:23:30.644Z"
   },
   {
    "duration": 24,
    "start_time": "2021-08-07T12:23:45.211Z"
   },
   {
    "duration": 8,
    "start_time": "2021-08-07T12:23:51.073Z"
   },
   {
    "duration": 32,
    "start_time": "2021-08-07T12:25:20.808Z"
   },
   {
    "duration": 262,
    "start_time": "2021-08-07T12:26:35.292Z"
   },
   {
    "duration": 5,
    "start_time": "2021-08-07T12:26:48.068Z"
   },
   {
    "duration": 62,
    "start_time": "2021-08-07T12:28:12.655Z"
   },
   {
    "duration": 6,
    "start_time": "2021-08-07T12:28:53.514Z"
   },
   {
    "duration": 7,
    "start_time": "2021-08-07T12:29:09.155Z"
   },
   {
    "duration": 4,
    "start_time": "2021-08-07T12:31:23.042Z"
   },
   {
    "duration": 261,
    "start_time": "2021-08-07T12:32:56.448Z"
   },
   {
    "duration": 3,
    "start_time": "2021-08-07T12:33:06.288Z"
   },
   {
    "duration": 6,
    "start_time": "2021-08-07T12:35:12.142Z"
   },
   {
    "duration": 252,
    "start_time": "2021-08-07T12:35:16.764Z"
   },
   {
    "duration": 242,
    "start_time": "2021-08-07T12:35:25.211Z"
   },
   {
    "duration": 245,
    "start_time": "2021-08-07T12:35:39.397Z"
   },
   {
    "duration": 229,
    "start_time": "2021-08-07T12:35:52.553Z"
   },
   {
    "duration": 4,
    "start_time": "2021-08-07T12:36:06.296Z"
   },
   {
    "duration": 274,
    "start_time": "2021-08-07T12:36:27.226Z"
   },
   {
    "duration": 39,
    "start_time": "2021-08-07T13:16:41.931Z"
   },
   {
    "duration": 9,
    "start_time": "2021-08-07T13:16:51.837Z"
   },
   {
    "duration": 30,
    "start_time": "2021-08-07T13:16:56.356Z"
   },
   {
    "duration": 30,
    "start_time": "2021-08-07T13:17:10.374Z"
   },
   {
    "duration": 6,
    "start_time": "2021-08-07T13:19:19.592Z"
   },
   {
    "duration": 23,
    "start_time": "2021-08-07T13:19:28.200Z"
   },
   {
    "duration": 326,
    "start_time": "2021-08-07T13:19:28.544Z"
   },
   {
    "duration": 289,
    "start_time": "2021-08-07T13:19:52.476Z"
   },
   {
    "duration": 23,
    "start_time": "2021-08-07T13:19:56.626Z"
   },
   {
    "duration": 73,
    "start_time": "2021-08-07T13:19:58.027Z"
   },
   {
    "duration": 6,
    "start_time": "2021-08-07T13:19:59.407Z"
   },
   {
    "duration": 5,
    "start_time": "2021-08-07T13:19:59.627Z"
   },
   {
    "duration": 33,
    "start_time": "2021-08-07T13:19:59.787Z"
   },
   {
    "duration": 4,
    "start_time": "2021-08-07T13:20:00.088Z"
   },
   {
    "duration": 6,
    "start_time": "2021-08-07T13:20:00.269Z"
   },
   {
    "duration": 4,
    "start_time": "2021-08-07T13:20:00.590Z"
   },
   {
    "duration": 3,
    "start_time": "2021-08-07T13:20:02.439Z"
   },
   {
    "duration": 87958,
    "start_time": "2021-08-07T13:20:04.055Z"
   },
   {
    "duration": 15119,
    "start_time": "2021-08-07T13:21:33.858Z"
   },
   {
    "duration": 5,
    "start_time": "2021-08-07T13:21:50.162Z"
   },
   {
    "duration": 3,
    "start_time": "2021-08-07T13:21:50.755Z"
   },
   {
    "duration": 101173,
    "start_time": "2021-08-07T13:21:51.173Z"
   },
   {
    "duration": 289,
    "start_time": "2021-08-07T13:25:15.753Z"
   },
   {
    "duration": 5,
    "start_time": "2021-08-07T13:25:20.895Z"
   },
   {
    "duration": 90023,
    "start_time": "2021-08-07T13:25:23.729Z"
   },
   {
    "duration": 10,
    "start_time": "2021-08-07T13:27:55.387Z"
   },
   {
    "duration": 437,
    "start_time": "2021-08-07T13:28:16.273Z"
   },
   {
    "duration": 604,
    "start_time": "2021-08-07T13:30:40.853Z"
   },
   {
    "duration": 425,
    "start_time": "2021-08-07T13:30:54.412Z"
   },
   {
    "duration": 411,
    "start_time": "2021-08-07T13:31:05.069Z"
   },
   {
    "duration": 480,
    "start_time": "2021-08-07T13:32:19.746Z"
   },
   {
    "duration": 448,
    "start_time": "2021-08-07T13:32:31.063Z"
   },
   {
    "duration": 473,
    "start_time": "2021-08-07T13:32:39.952Z"
   },
   {
    "duration": 422,
    "start_time": "2021-08-07T13:33:41.431Z"
   },
   {
    "duration": 1185,
    "start_time": "2021-08-07T13:34:20.932Z"
   },
   {
    "duration": 89,
    "start_time": "2021-08-07T13:34:22.119Z"
   },
   {
    "duration": 16,
    "start_time": "2021-08-07T13:34:22.210Z"
   },
   {
    "duration": 9,
    "start_time": "2021-08-07T13:34:22.228Z"
   },
   {
    "duration": 12,
    "start_time": "2021-08-07T13:34:22.238Z"
   },
   {
    "duration": 12,
    "start_time": "2021-08-07T13:34:22.251Z"
   },
   {
    "duration": 5,
    "start_time": "2021-08-07T13:34:22.264Z"
   },
   {
    "duration": 5,
    "start_time": "2021-08-07T13:34:22.282Z"
   },
   {
    "duration": 8,
    "start_time": "2021-08-07T13:34:22.456Z"
   },
   {
    "duration": 6,
    "start_time": "2021-08-07T13:34:22.621Z"
   },
   {
    "duration": 11,
    "start_time": "2021-08-07T13:34:22.947Z"
   },
   {
    "duration": 9,
    "start_time": "2021-08-07T13:34:23.115Z"
   },
   {
    "duration": 9,
    "start_time": "2021-08-07T13:34:23.270Z"
   },
   {
    "duration": 12,
    "start_time": "2021-08-07T13:34:23.434Z"
   },
   {
    "duration": 7,
    "start_time": "2021-08-07T13:34:23.595Z"
   },
   {
    "duration": 8,
    "start_time": "2021-08-07T13:34:23.755Z"
   },
   {
    "duration": 8,
    "start_time": "2021-08-07T13:34:23.906Z"
   },
   {
    "duration": 12,
    "start_time": "2021-08-07T13:34:24.227Z"
   },
   {
    "duration": 8,
    "start_time": "2021-08-07T13:34:24.381Z"
   },
   {
    "duration": 9,
    "start_time": "2021-08-07T13:34:24.531Z"
   },
   {
    "duration": 7,
    "start_time": "2021-08-07T13:34:24.699Z"
   },
   {
    "duration": 7,
    "start_time": "2021-08-07T13:34:24.875Z"
   },
   {
    "duration": 7,
    "start_time": "2021-08-07T13:34:25.051Z"
   },
   {
    "duration": 7,
    "start_time": "2021-08-07T13:34:25.243Z"
   },
   {
    "duration": 7,
    "start_time": "2021-08-07T13:34:25.402Z"
   },
   {
    "duration": 7,
    "start_time": "2021-08-07T13:34:25.588Z"
   },
   {
    "duration": 8,
    "start_time": "2021-08-07T13:34:25.747Z"
   },
   {
    "duration": 8,
    "start_time": "2021-08-07T13:34:26.363Z"
   },
   {
    "duration": 7,
    "start_time": "2021-08-07T13:34:26.531Z"
   },
   {
    "duration": 7,
    "start_time": "2021-08-07T13:34:26.683Z"
   },
   {
    "duration": 8,
    "start_time": "2021-08-07T13:34:26.851Z"
   },
   {
    "duration": 5,
    "start_time": "2021-08-07T13:34:27.195Z"
   },
   {
    "duration": 6,
    "start_time": "2021-08-07T13:34:27.350Z"
   },
   {
    "duration": 5,
    "start_time": "2021-08-07T13:34:27.523Z"
   },
   {
    "duration": 7,
    "start_time": "2021-08-07T13:34:27.691Z"
   },
   {
    "duration": 3,
    "start_time": "2021-08-07T13:34:27.867Z"
   },
   {
    "duration": 4,
    "start_time": "2021-08-07T13:34:28.218Z"
   },
   {
    "duration": 6,
    "start_time": "2021-08-07T13:34:28.390Z"
   },
   {
    "duration": 5,
    "start_time": "2021-08-07T13:34:28.540Z"
   },
   {
    "duration": 5,
    "start_time": "2021-08-07T13:34:28.700Z"
   },
   {
    "duration": 4,
    "start_time": "2021-08-07T13:34:28.875Z"
   },
   {
    "duration": 3,
    "start_time": "2021-08-07T13:34:29.372Z"
   },
   {
    "duration": 425,
    "start_time": "2021-08-07T13:34:29.723Z"
   },
   {
    "duration": 355,
    "start_time": "2021-08-07T13:34:30.445Z"
   },
   {
    "duration": 487,
    "start_time": "2021-08-07T13:34:30.955Z"
   },
   {
    "duration": 1077,
    "start_time": "2021-08-07T13:34:31.444Z"
   },
   {
    "duration": 425,
    "start_time": "2021-08-07T13:34:32.523Z"
   },
   {
    "duration": 239,
    "start_time": "2021-08-07T13:34:32.950Z"
   },
   {
    "duration": 184,
    "start_time": "2021-08-07T13:34:33.191Z"
   },
   {
    "duration": 138,
    "start_time": "2021-08-07T13:34:33.377Z"
   },
   {
    "duration": 228,
    "start_time": "2021-08-07T13:34:33.755Z"
   },
   {
    "duration": 127,
    "start_time": "2021-08-07T13:34:34.261Z"
   },
   {
    "duration": 25,
    "start_time": "2021-08-07T13:34:35.123Z"
   },
   {
    "duration": 148,
    "start_time": "2021-08-07T13:34:35.381Z"
   },
   {
    "duration": 7,
    "start_time": "2021-08-07T13:34:35.973Z"
   },
   {
    "duration": 5,
    "start_time": "2021-08-07T13:34:36.620Z"
   },
   {
    "duration": 33,
    "start_time": "2021-08-07T13:34:37.132Z"
   },
   {
    "duration": 10,
    "start_time": "2021-08-07T13:34:37.564Z"
   },
   {
    "duration": 5,
    "start_time": "2021-08-07T13:34:39.035Z"
   },
   {
    "duration": 7,
    "start_time": "2021-08-07T13:34:40.245Z"
   },
   {
    "duration": 512,
    "start_time": "2021-08-07T13:34:40.774Z"
   },
   {
    "duration": 250,
    "start_time": "2021-08-07T13:36:22.276Z"
   },
   {
    "duration": 4,
    "start_time": "2021-08-07T13:36:25.870Z"
   },
   {
    "duration": 4,
    "start_time": "2021-08-07T13:36:32.311Z"
   },
   {
    "duration": 4,
    "start_time": "2021-08-07T13:36:40.715Z"
   },
   {
    "duration": 3,
    "start_time": "2021-08-07T13:36:45.228Z"
   },
   {
    "duration": 15,
    "start_time": "2021-08-07T13:38:38.726Z"
   },
   {
    "duration": 4,
    "start_time": "2021-08-07T13:39:05.513Z"
   },
   {
    "duration": 4,
    "start_time": "2021-08-07T13:39:23.416Z"
   },
   {
    "duration": 21,
    "start_time": "2021-08-07T13:39:34.201Z"
   },
   {
    "duration": 17,
    "start_time": "2021-08-07T13:39:44.502Z"
   },
   {
    "duration": 275,
    "start_time": "2021-08-07T13:40:57.577Z"
   },
   {
    "duration": 5,
    "start_time": "2021-08-07T13:41:04.399Z"
   },
   {
    "duration": 6,
    "start_time": "2021-08-07T13:41:25.013Z"
   },
   {
    "duration": 249,
    "start_time": "2021-08-07T13:41:55.363Z"
   },
   {
    "duration": 4,
    "start_time": "2021-08-07T13:41:57.830Z"
   },
   {
    "duration": 3,
    "start_time": "2021-08-07T13:41:58.394Z"
   },
   {
    "duration": -346,
    "start_time": "2021-08-07T13:42:30.371Z"
   },
   {
    "duration": -353,
    "start_time": "2021-08-07T13:42:30.380Z"
   },
   {
    "duration": -360,
    "start_time": "2021-08-07T13:42:30.387Z"
   },
   {
    "duration": -363,
    "start_time": "2021-08-07T13:42:30.391Z"
   },
   {
    "duration": 4,
    "start_time": "2021-08-07T13:42:32.562Z"
   },
   {
    "duration": 3,
    "start_time": "2021-08-07T13:42:32.701Z"
   },
   {
    "duration": 12910,
    "start_time": "2021-08-07T13:42:32.911Z"
   },
   {
    "duration": -342,
    "start_time": "2021-08-07T13:42:46.165Z"
   },
   {
    "duration": 4,
    "start_time": "2021-08-07T13:42:51.528Z"
   },
   {
    "duration": 3,
    "start_time": "2021-08-07T13:42:51.792Z"
   },
   {
    "duration": 48667,
    "start_time": "2021-08-07T13:42:51.978Z"
   },
   {
    "duration": 249,
    "start_time": "2021-08-07T13:47:19.847Z"
   },
   {
    "duration": 477,
    "start_time": "2021-08-07T13:48:42.117Z"
   },
   {
    "duration": 249,
    "start_time": "2021-08-07T13:48:54.792Z"
   },
   {
    "duration": 255,
    "start_time": "2021-08-07T13:48:58.533Z"
   },
   {
    "duration": 254,
    "start_time": "2021-08-07T13:48:59.954Z"
   },
   {
    "duration": 275,
    "start_time": "2021-08-07T13:49:29.396Z"
   },
   {
    "duration": 272,
    "start_time": "2021-08-07T13:51:24.228Z"
   },
   {
    "duration": 250,
    "start_time": "2021-08-07T13:51:34.745Z"
   },
   {
    "duration": 265,
    "start_time": "2021-08-07T13:52:10.588Z"
   },
   {
    "duration": 258,
    "start_time": "2021-08-07T13:52:22.173Z"
   },
   {
    "duration": 227,
    "start_time": "2021-08-07T13:53:05.041Z"
   },
   {
    "duration": 224,
    "start_time": "2021-08-07T13:53:36.496Z"
   },
   {
    "duration": 74,
    "start_time": "2021-08-07T13:55:52.592Z"
   },
   {
    "duration": 81,
    "start_time": "2021-08-07T13:56:03.377Z"
   },
   {
    "duration": 289,
    "start_time": "2021-08-07T13:56:22.620Z"
   },
   {
    "duration": 6,
    "start_time": "2021-08-07T13:56:58.561Z"
   },
   {
    "duration": 248,
    "start_time": "2021-08-07T13:57:02.427Z"
   },
   {
    "duration": 10,
    "start_time": "2021-08-07T13:57:10.091Z"
   },
   {
    "duration": 8,
    "start_time": "2021-08-07T13:57:55.787Z"
   },
   {
    "duration": 9,
    "start_time": "2021-08-07T14:07:05.380Z"
   },
   {
    "duration": 1643,
    "start_time": "2021-08-07T15:10:34.205Z"
   },
   {
    "duration": 258,
    "start_time": "2021-08-07T15:10:41.768Z"
   },
   {
    "duration": 37,
    "start_time": "2021-08-07T15:10:48.130Z"
   },
   {
    "duration": 2477,
    "start_time": "2021-08-07T15:10:53.134Z"
   },
   {
    "duration": 1205,
    "start_time": "2021-08-07T15:11:07.118Z"
   },
   {
    "duration": 88,
    "start_time": "2021-08-07T15:11:08.325Z"
   },
   {
    "duration": 17,
    "start_time": "2021-08-07T15:11:08.416Z"
   },
   {
    "duration": 11,
    "start_time": "2021-08-07T15:11:08.435Z"
   },
   {
    "duration": 11,
    "start_time": "2021-08-07T15:11:08.448Z"
   },
   {
    "duration": 13,
    "start_time": "2021-08-07T15:11:08.460Z"
   },
   {
    "duration": 10,
    "start_time": "2021-08-07T15:11:08.474Z"
   },
   {
    "duration": 5,
    "start_time": "2021-08-07T15:11:08.486Z"
   },
   {
    "duration": 10,
    "start_time": "2021-08-07T15:11:08.492Z"
   },
   {
    "duration": 5,
    "start_time": "2021-08-07T15:11:08.532Z"
   },
   {
    "duration": 11,
    "start_time": "2021-08-07T15:11:08.796Z"
   },
   {
    "duration": 9,
    "start_time": "2021-08-07T15:11:08.947Z"
   },
   {
    "duration": 10,
    "start_time": "2021-08-07T15:11:09.075Z"
   },
   {
    "duration": 13,
    "start_time": "2021-08-07T15:11:09.219Z"
   },
   {
    "duration": 7,
    "start_time": "2021-08-07T15:11:09.352Z"
   },
   {
    "duration": 8,
    "start_time": "2021-08-07T15:11:09.491Z"
   },
   {
    "duration": 7,
    "start_time": "2021-08-07T15:11:09.628Z"
   },
   {
    "duration": 12,
    "start_time": "2021-08-07T15:11:09.899Z"
   },
   {
    "duration": 9,
    "start_time": "2021-08-07T15:11:10.037Z"
   },
   {
    "duration": 10,
    "start_time": "2021-08-07T15:11:10.172Z"
   },
   {
    "duration": 7,
    "start_time": "2021-08-07T15:11:10.300Z"
   },
   {
    "duration": 8,
    "start_time": "2021-08-07T15:11:10.387Z"
   },
   {
    "duration": 7,
    "start_time": "2021-08-07T15:11:10.451Z"
   },
   {
    "duration": 8,
    "start_time": "2021-08-07T15:11:10.547Z"
   },
   {
    "duration": 7,
    "start_time": "2021-08-07T15:11:10.596Z"
   },
   {
    "duration": 7,
    "start_time": "2021-08-07T15:11:10.684Z"
   },
   {
    "duration": 7,
    "start_time": "2021-08-07T15:11:10.731Z"
   },
   {
    "duration": 9,
    "start_time": "2021-08-07T15:11:11.004Z"
   },
   {
    "duration": 8,
    "start_time": "2021-08-07T15:11:11.137Z"
   },
   {
    "duration": 9,
    "start_time": "2021-08-07T15:11:11.293Z"
   },
   {
    "duration": 8,
    "start_time": "2021-08-07T15:11:11.436Z"
   },
   {
    "duration": 6,
    "start_time": "2021-08-07T15:11:11.723Z"
   },
   {
    "duration": 6,
    "start_time": "2021-08-07T15:11:11.819Z"
   },
   {
    "duration": 5,
    "start_time": "2021-08-07T15:11:11.867Z"
   },
   {
    "duration": 8,
    "start_time": "2021-08-07T15:11:12.019Z"
   },
   {
    "duration": 4,
    "start_time": "2021-08-07T15:11:12.155Z"
   },
   {
    "duration": 4,
    "start_time": "2021-08-07T15:11:12.443Z"
   },
   {
    "duration": 7,
    "start_time": "2021-08-07T15:11:12.579Z"
   },
   {
    "duration": 6,
    "start_time": "2021-08-07T15:11:12.722Z"
   },
   {
    "duration": 6,
    "start_time": "2021-08-07T15:11:12.995Z"
   },
   {
    "duration": 4,
    "start_time": "2021-08-07T15:11:13.083Z"
   },
   {
    "duration": 3,
    "start_time": "2021-08-07T15:11:13.372Z"
   },
   {
    "duration": 428,
    "start_time": "2021-08-07T15:11:13.525Z"
   },
   {
    "duration": 364,
    "start_time": "2021-08-07T15:11:13.955Z"
   },
   {
    "duration": 501,
    "start_time": "2021-08-07T15:11:14.321Z"
   },
   {
    "duration": 1074,
    "start_time": "2021-08-07T15:11:14.824Z"
   },
   {
    "duration": 429,
    "start_time": "2021-08-07T15:11:15.900Z"
   },
   {
    "duration": 251,
    "start_time": "2021-08-07T15:11:16.331Z"
   },
   {
    "duration": 183,
    "start_time": "2021-08-07T15:11:16.584Z"
   },
   {
    "duration": 144,
    "start_time": "2021-08-07T15:11:16.768Z"
   },
   {
    "duration": 179,
    "start_time": "2021-08-07T15:11:16.914Z"
   },
   {
    "duration": 142,
    "start_time": "2021-08-07T15:11:17.095Z"
   },
   {
    "duration": 22,
    "start_time": "2021-08-07T15:11:17.660Z"
   },
   {
    "duration": 141,
    "start_time": "2021-08-07T15:11:17.828Z"
   },
   {
    "duration": 6,
    "start_time": "2021-08-07T15:11:17.971Z"
   },
   {
    "duration": 5,
    "start_time": "2021-08-07T15:11:18.133Z"
   },
   {
    "duration": 31,
    "start_time": "2021-08-07T15:11:18.283Z"
   },
   {
    "duration": 9,
    "start_time": "2021-08-07T15:11:18.436Z"
   },
   {
    "duration": 4,
    "start_time": "2021-08-07T15:11:18.755Z"
   },
   {
    "duration": 6,
    "start_time": "2021-08-07T15:11:18.949Z"
   },
   {
    "duration": 356,
    "start_time": "2021-08-07T15:12:12.967Z"
   },
   {
    "duration": 3841,
    "start_time": "2021-08-07T15:13:44.362Z"
   },
   {
    "duration": 297,
    "start_time": "2021-08-07T15:14:16.546Z"
   },
   {
    "duration": 503,
    "start_time": "2021-08-07T15:14:25.147Z"
   },
   {
    "duration": 1111,
    "start_time": "2021-08-07T15:16:03.737Z"
   },
   {
    "duration": 1281,
    "start_time": "2021-08-07T15:16:12.144Z"
   },
   {
    "duration": 2835,
    "start_time": "2021-08-07T15:16:15.789Z"
   },
   {
    "duration": 7261,
    "start_time": "2021-08-07T15:16:44.149Z"
   },
   {
    "duration": 1544,
    "start_time": "2021-08-07T15:17:01.037Z"
   },
   {
    "duration": 566,
    "start_time": "2021-08-07T15:17:20.161Z"
   },
   {
    "duration": 92,
    "start_time": "2021-08-07T15:17:23.680Z"
   },
   {
    "duration": 807,
    "start_time": "2021-08-07T15:17:23.975Z"
   },
   {
    "duration": 762,
    "start_time": "2021-08-07T15:17:24.784Z"
   },
   {
    "duration": 115,
    "start_time": "2021-08-07T15:17:25.549Z"
   },
   {
    "duration": 12,
    "start_time": "2021-08-07T15:17:25.666Z"
   },
   {
    "duration": 6,
    "start_time": "2021-08-07T15:17:25.679Z"
   },
   {
    "duration": 5,
    "start_time": "2021-08-07T15:17:25.686Z"
   },
   {
    "duration": 9,
    "start_time": "2021-08-07T15:17:25.692Z"
   },
   {
    "duration": 8,
    "start_time": "2021-08-07T15:17:25.703Z"
   },
   {
    "duration": 12,
    "start_time": "2021-08-07T15:17:25.712Z"
   },
   {
    "duration": 29,
    "start_time": "2021-08-07T15:17:25.725Z"
   },
   {
    "duration": 11,
    "start_time": "2021-08-07T15:17:25.757Z"
   },
   {
    "duration": 13,
    "start_time": "2021-08-07T15:17:25.770Z"
   },
   {
    "duration": 7,
    "start_time": "2021-08-07T15:17:25.785Z"
   },
   {
    "duration": 7,
    "start_time": "2021-08-07T15:17:25.925Z"
   },
   {
    "duration": 7,
    "start_time": "2021-08-07T15:17:26.071Z"
   },
   {
    "duration": 12,
    "start_time": "2021-08-07T15:17:26.382Z"
   },
   {
    "duration": 9,
    "start_time": "2021-08-07T15:17:26.462Z"
   },
   {
    "duration": 10,
    "start_time": "2021-08-07T15:17:26.611Z"
   },
   {
    "duration": 7,
    "start_time": "2021-08-07T15:17:26.731Z"
   },
   {
    "duration": 8,
    "start_time": "2021-08-07T15:17:26.857Z"
   },
   {
    "duration": 7,
    "start_time": "2021-08-07T15:17:27.001Z"
   },
   {
    "duration": 7,
    "start_time": "2021-08-07T15:17:27.169Z"
   },
   {
    "duration": 7,
    "start_time": "2021-08-07T15:17:27.295Z"
   },
   {
    "duration": 8,
    "start_time": "2021-08-07T15:17:27.422Z"
   },
   {
    "duration": 8,
    "start_time": "2021-08-07T15:17:27.565Z"
   },
   {
    "duration": 16,
    "start_time": "2021-08-07T15:17:27.845Z"
   },
   {
    "duration": 7,
    "start_time": "2021-08-07T15:17:28.027Z"
   },
   {
    "duration": 6,
    "start_time": "2021-08-07T15:17:28.165Z"
   },
   {
    "duration": 7,
    "start_time": "2021-08-07T15:17:28.311Z"
   },
   {
    "duration": 6,
    "start_time": "2021-08-07T15:17:28.592Z"
   },
   {
    "duration": 6,
    "start_time": "2021-08-07T15:17:28.752Z"
   },
   {
    "duration": 6,
    "start_time": "2021-08-07T15:17:28.904Z"
   },
   {
    "duration": 10,
    "start_time": "2021-08-07T15:17:29.042Z"
   },
   {
    "duration": 3,
    "start_time": "2021-08-07T15:17:29.184Z"
   },
   {
    "duration": 3,
    "start_time": "2021-08-07T15:17:29.468Z"
   },
   {
    "duration": 6,
    "start_time": "2021-08-07T15:17:29.630Z"
   },
   {
    "duration": 6,
    "start_time": "2021-08-07T15:17:29.781Z"
   },
   {
    "duration": 5,
    "start_time": "2021-08-07T15:17:29.925Z"
   },
   {
    "duration": 4,
    "start_time": "2021-08-07T15:17:30.061Z"
   },
   {
    "duration": 3,
    "start_time": "2021-08-07T15:17:30.506Z"
   },
   {
    "duration": 511,
    "start_time": "2021-08-07T15:17:30.809Z"
   },
   {
    "duration": 383,
    "start_time": "2021-08-07T15:17:31.322Z"
   },
   {
    "duration": 473,
    "start_time": "2021-08-07T15:17:31.707Z"
   },
   {
    "duration": 1151,
    "start_time": "2021-08-07T15:17:32.182Z"
   },
   {
    "duration": 459,
    "start_time": "2021-08-07T15:17:33.335Z"
   },
   {
    "duration": 262,
    "start_time": "2021-08-07T15:17:33.796Z"
   },
   {
    "duration": 200,
    "start_time": "2021-08-07T15:17:34.060Z"
   },
   {
    "duration": 148,
    "start_time": "2021-08-07T15:17:34.262Z"
   },
   {
    "duration": 278,
    "start_time": "2021-08-07T15:17:34.413Z"
   },
   {
    "duration": 134,
    "start_time": "2021-08-07T15:17:34.694Z"
   },
   {
    "duration": 23,
    "start_time": "2021-08-07T15:17:35.096Z"
   },
   {
    "duration": 86,
    "start_time": "2021-08-07T15:17:35.392Z"
   },
   {
    "duration": 6,
    "start_time": "2021-08-07T15:17:35.556Z"
   },
   {
    "duration": 5,
    "start_time": "2021-08-07T15:17:35.889Z"
   },
   {
    "duration": 393,
    "start_time": "2021-08-07T15:18:43.430Z"
   },
   {
    "duration": 26,
    "start_time": "2021-08-07T15:19:13.627Z"
   },
   {
    "duration": 10,
    "start_time": "2021-08-07T15:19:21.454Z"
   },
   {
    "duration": 4,
    "start_time": "2021-08-07T15:19:22.951Z"
   },
   {
    "duration": 3275,
    "start_time": "2021-08-07T15:19:32.584Z"
   },
   {
    "duration": 7,
    "start_time": "2021-08-07T15:19:40.302Z"
   },
   {
    "duration": 3,
    "start_time": "2021-08-07T15:19:43.225Z"
   },
   {
    "duration": 20,
    "start_time": "2021-08-07T15:19:45.424Z"
   },
   {
    "duration": 5,
    "start_time": "2021-08-07T15:19:46.646Z"
   },
   {
    "duration": 9,
    "start_time": "2021-08-07T15:19:47.719Z"
   },
   {
    "duration": 17,
    "start_time": "2021-08-07T15:19:53.081Z"
   },
   {
    "duration": 6,
    "start_time": "2021-08-07T15:19:54.232Z"
   },
   {
    "duration": 402,
    "start_time": "2021-08-07T15:19:59.201Z"
   },
   {
    "duration": 7,
    "start_time": "2021-08-07T15:19:59.868Z"
   },
   {
    "duration": 17,
    "start_time": "2021-08-07T15:20:03.457Z"
   },
   {
    "duration": 5,
    "start_time": "2021-08-07T15:20:04.528Z"
   },
   {
    "duration": 10,
    "start_time": "2021-08-07T15:20:04.932Z"
   },
   {
    "duration": 4,
    "start_time": "2021-08-07T15:20:07.404Z"
   },
   {
    "duration": 3,
    "start_time": "2021-08-07T15:20:09.644Z"
   },
   {
    "duration": 30744,
    "start_time": "2021-08-07T15:20:12.420Z"
   },
   {
    "duration": 3250,
    "start_time": "2021-08-07T15:20:56.316Z"
   },
   {
    "duration": 83,
    "start_time": "2021-08-07T15:21:13.156Z"
   },
   {
    "duration": 3479,
    "start_time": "2021-08-07T15:21:16.946Z"
   },
   {
    "duration": 3219,
    "start_time": "2021-08-07T15:21:27.036Z"
   },
   {
    "duration": 5,
    "start_time": "2021-08-07T15:21:31.929Z"
   },
   {
    "duration": 4,
    "start_time": "2021-08-07T15:21:32.488Z"
   },
   {
    "duration": 476,
    "start_time": "2021-08-07T15:21:33.081Z"
   },
   {
    "duration": 1663,
    "start_time": "2021-08-07T15:23:07.904Z"
   },
   {
    "duration": 86,
    "start_time": "2021-08-07T15:23:09.569Z"
   },
   {
    "duration": 15,
    "start_time": "2021-08-07T15:23:09.657Z"
   },
   {
    "duration": 9,
    "start_time": "2021-08-07T15:23:09.674Z"
   },
   {
    "duration": 13,
    "start_time": "2021-08-07T15:23:09.684Z"
   },
   {
    "duration": 12,
    "start_time": "2021-08-07T15:23:09.698Z"
   },
   {
    "duration": 5,
    "start_time": "2021-08-07T15:23:09.712Z"
   },
   {
    "duration": 27,
    "start_time": "2021-08-07T15:23:09.719Z"
   },
   {
    "duration": 16,
    "start_time": "2021-08-07T15:23:09.747Z"
   },
   {
    "duration": 7,
    "start_time": "2021-08-07T15:23:09.765Z"
   },
   {
    "duration": 11,
    "start_time": "2021-08-07T15:23:09.811Z"
   },
   {
    "duration": 8,
    "start_time": "2021-08-07T15:23:09.945Z"
   },
   {
    "duration": 9,
    "start_time": "2021-08-07T15:23:10.086Z"
   },
   {
    "duration": 8,
    "start_time": "2021-08-07T15:23:10.222Z"
   },
   {
    "duration": 6,
    "start_time": "2021-08-07T15:23:10.365Z"
   },
   {
    "duration": 7,
    "start_time": "2021-08-07T15:23:10.502Z"
   },
   {
    "duration": 7,
    "start_time": "2021-08-07T15:23:10.646Z"
   },
   {
    "duration": 13,
    "start_time": "2021-08-07T15:23:10.917Z"
   },
   {
    "duration": 9,
    "start_time": "2021-08-07T15:23:11.081Z"
   },
   {
    "duration": 9,
    "start_time": "2021-08-07T15:23:11.219Z"
   },
   {
    "duration": 7,
    "start_time": "2021-08-07T15:23:11.359Z"
   },
   {
    "duration": 7,
    "start_time": "2021-08-07T15:23:11.517Z"
   },
   {
    "duration": 8,
    "start_time": "2021-08-07T15:23:11.661Z"
   },
   {
    "duration": 7,
    "start_time": "2021-08-07T15:23:11.814Z"
   },
   {
    "duration": 8,
    "start_time": "2021-08-07T15:23:11.981Z"
   },
   {
    "duration": 7,
    "start_time": "2021-08-07T15:23:12.118Z"
   },
   {
    "duration": 8,
    "start_time": "2021-08-07T15:23:12.271Z"
   },
   {
    "duration": 8,
    "start_time": "2021-08-07T15:23:12.565Z"
   },
   {
    "duration": 7,
    "start_time": "2021-08-07T15:23:12.717Z"
   },
   {
    "duration": 7,
    "start_time": "2021-08-07T15:23:12.870Z"
   },
   {
    "duration": 7,
    "start_time": "2021-08-07T15:23:13.030Z"
   },
   {
    "duration": 5,
    "start_time": "2021-08-07T15:23:13.334Z"
   },
   {
    "duration": 6,
    "start_time": "2021-08-07T15:23:13.470Z"
   },
   {
    "duration": 5,
    "start_time": "2021-08-07T15:23:13.614Z"
   },
   {
    "duration": 8,
    "start_time": "2021-08-07T15:23:13.742Z"
   },
   {
    "duration": 4,
    "start_time": "2021-08-07T15:23:13.893Z"
   },
   {
    "duration": 4,
    "start_time": "2021-08-07T15:23:14.213Z"
   },
   {
    "duration": 7,
    "start_time": "2021-08-07T15:23:14.365Z"
   },
   {
    "duration": 5,
    "start_time": "2021-08-07T15:23:14.526Z"
   },
   {
    "duration": 5,
    "start_time": "2021-08-07T15:23:14.677Z"
   },
   {
    "duration": 4,
    "start_time": "2021-08-07T15:23:14.822Z"
   },
   {
    "duration": 3,
    "start_time": "2021-08-07T15:23:15.285Z"
   },
   {
    "duration": 481,
    "start_time": "2021-08-07T15:23:15.605Z"
   },
   {
    "duration": 371,
    "start_time": "2021-08-07T15:23:16.088Z"
   },
   {
    "duration": 436,
    "start_time": "2021-08-07T15:23:16.461Z"
   },
   {
    "duration": 1073,
    "start_time": "2021-08-07T15:23:16.899Z"
   },
   {
    "duration": 425,
    "start_time": "2021-08-07T15:23:17.974Z"
   },
   {
    "duration": 257,
    "start_time": "2021-08-07T15:23:18.401Z"
   },
   {
    "duration": 191,
    "start_time": "2021-08-07T15:23:18.660Z"
   },
   {
    "duration": 144,
    "start_time": "2021-08-07T15:23:18.852Z"
   },
   {
    "duration": 240,
    "start_time": "2021-08-07T15:23:19.261Z"
   },
   {
    "duration": 126,
    "start_time": "2021-08-07T15:23:19.584Z"
   },
   {
    "duration": 23,
    "start_time": "2021-08-07T15:23:20.246Z"
   },
   {
    "duration": 77,
    "start_time": "2021-08-07T15:23:20.406Z"
   },
   {
    "duration": 7,
    "start_time": "2021-08-07T15:23:20.566Z"
   },
   {
    "duration": 4,
    "start_time": "2021-08-07T15:23:20.726Z"
   },
   {
    "duration": 27,
    "start_time": "2021-08-07T15:23:20.877Z"
   },
   {
    "duration": 10,
    "start_time": "2021-08-07T15:23:21.047Z"
   },
   {
    "duration": 343,
    "start_time": "2021-08-07T15:23:21.863Z"
   },
   {
    "duration": 65,
    "start_time": "2021-08-07T15:23:22.143Z"
   },
   {
    "duration": 20,
    "start_time": "2021-08-07T15:23:58.592Z"
   },
   {
    "duration": 7,
    "start_time": "2021-08-07T15:24:01.631Z"
   },
   {
    "duration": 4,
    "start_time": "2021-08-07T15:24:02.727Z"
   },
   {
    "duration": 3263,
    "start_time": "2021-08-07T15:24:12.906Z"
   },
   {
    "duration": 24,
    "start_time": "2021-08-07T15:24:52.417Z"
   },
   {
    "duration": 76,
    "start_time": "2021-08-07T15:24:52.736Z"
   },
   {
    "duration": 7,
    "start_time": "2021-08-07T15:24:52.937Z"
   },
   {
    "duration": 5,
    "start_time": "2021-08-07T15:24:53.120Z"
   },
   {
    "duration": 29,
    "start_time": "2021-08-07T15:24:53.356Z"
   },
   {
    "duration": 10,
    "start_time": "2021-08-07T15:24:53.633Z"
   },
   {
    "duration": 21,
    "start_time": "2021-08-07T15:24:54.425Z"
   },
   {
    "duration": 7,
    "start_time": "2021-08-07T15:24:55.026Z"
   },
   {
    "duration": 2148,
    "start_time": "2021-08-07T15:24:55.969Z"
   },
   {
    "duration": 4,
    "start_time": "2021-08-07T15:24:58.855Z"
   },
   {
    "duration": 8,
    "start_time": "2021-08-07T15:25:15.502Z"
   },
   {
    "duration": 3876,
    "start_time": "2021-08-07T15:25:16.198Z"
   },
   {
    "duration": 3,
    "start_time": "2021-08-07T15:25:20.076Z"
   },
   {
    "duration": 6,
    "start_time": "2021-08-07T15:25:21.256Z"
   },
   {
    "duration": 9,
    "start_time": "2021-08-07T15:25:22.923Z"
   },
   {
    "duration": 8,
    "start_time": "2021-08-07T15:25:26.393Z"
   },
   {
    "duration": 2,
    "start_time": "2021-08-07T15:25:26.711Z"
   },
   {
    "duration": 5948,
    "start_time": "2021-08-07T15:25:27.024Z"
   },
   {
    "duration": -114,
    "start_time": "2021-08-07T15:25:33.088Z"
   },
   {
    "duration": 5,
    "start_time": "2021-08-07T15:25:56.614Z"
   },
   {
    "duration": 22,
    "start_time": "2021-08-07T15:27:04.707Z"
   },
   {
    "duration": 71,
    "start_time": "2021-08-07T15:27:04.860Z"
   },
   {
    "duration": 6,
    "start_time": "2021-08-07T15:27:05.140Z"
   },
   {
    "duration": 5,
    "start_time": "2021-08-07T15:27:05.299Z"
   },
   {
    "duration": 27,
    "start_time": "2021-08-07T15:27:05.452Z"
   },
   {
    "duration": 11,
    "start_time": "2021-08-07T15:27:05.612Z"
   },
   {
    "duration": 18,
    "start_time": "2021-08-07T15:27:06.357Z"
   },
   {
    "duration": 8,
    "start_time": "2021-08-07T15:27:08.084Z"
   },
   {
    "duration": 257,
    "start_time": "2021-08-07T15:27:17.941Z"
   },
   {
    "duration": 9,
    "start_time": "2021-08-07T15:27:22.768Z"
   },
   {
    "duration": 4,
    "start_time": "2021-08-07T15:27:35.932Z"
   },
   {
    "duration": 5,
    "start_time": "2021-08-07T15:27:40.346Z"
   },
   {
    "duration": 7,
    "start_time": "2021-08-07T15:27:58.233Z"
   },
   {
    "duration": 10,
    "start_time": "2021-08-07T15:28:15.076Z"
   },
   {
    "duration": 9,
    "start_time": "2021-08-07T15:29:55.903Z"
   },
   {
    "duration": 10,
    "start_time": "2021-08-07T15:29:56.737Z"
   },
   {
    "duration": 4822,
    "start_time": "2021-08-07T15:29:57.618Z"
   },
   {
    "duration": 4,
    "start_time": "2021-08-07T15:30:03.151Z"
   },
   {
    "duration": 4,
    "start_time": "2021-08-07T15:30:03.987Z"
   },
   {
    "duration": 7,
    "start_time": "2021-08-07T15:30:06.889Z"
   },
   {
    "duration": 10,
    "start_time": "2021-08-07T15:30:07.625Z"
   },
   {
    "duration": 5,
    "start_time": "2021-08-07T15:30:08.752Z"
   },
   {
    "duration": 3,
    "start_time": "2021-08-07T15:30:11.209Z"
   },
   {
    "duration": 11685,
    "start_time": "2021-08-07T15:30:11.673Z"
   },
   {
    "duration": 19,
    "start_time": "2021-08-07T15:31:36.140Z"
   },
   {
    "duration": 8,
    "start_time": "2021-08-07T15:31:36.938Z"
   },
   {
    "duration": 9,
    "start_time": "2021-08-07T15:31:37.642Z"
   },
   {
    "duration": 4460,
    "start_time": "2021-08-07T15:31:38.337Z"
   },
   {
    "duration": 3,
    "start_time": "2021-08-07T15:31:42.799Z"
   },
   {
    "duration": 4,
    "start_time": "2021-08-07T15:31:43.458Z"
   },
   {
    "duration": 5,
    "start_time": "2021-08-07T15:31:45.771Z"
   },
   {
    "duration": 10,
    "start_time": "2021-08-07T15:31:46.874Z"
   },
   {
    "duration": 4,
    "start_time": "2021-08-07T15:31:47.827Z"
   },
   {
    "duration": 3,
    "start_time": "2021-08-07T15:31:48.842Z"
   },
   {
    "duration": 4665,
    "start_time": "2021-08-07T15:31:49.347Z"
   },
   {
    "duration": 24,
    "start_time": "2021-08-07T15:33:09.884Z"
   },
   {
    "duration": 79,
    "start_time": "2021-08-07T15:33:10.365Z"
   },
   {
    "duration": 8,
    "start_time": "2021-08-07T15:33:10.788Z"
   },
   {
    "duration": 5,
    "start_time": "2021-08-07T15:33:11.228Z"
   },
   {
    "duration": 28,
    "start_time": "2021-08-07T15:33:12.011Z"
   },
   {
    "duration": 11,
    "start_time": "2021-08-07T15:33:17.630Z"
   },
   {
    "duration": 24,
    "start_time": "2021-08-07T15:34:32.663Z"
   },
   {
    "duration": 49,
    "start_time": "2021-08-07T15:34:33.397Z"
   },
   {
    "duration": 7,
    "start_time": "2021-08-07T15:34:34.950Z"
   },
   {
    "duration": 5,
    "start_time": "2021-08-07T15:34:35.341Z"
   },
   {
    "duration": 25,
    "start_time": "2021-08-07T15:34:35.992Z"
   },
   {
    "duration": 10,
    "start_time": "2021-08-07T15:34:40.344Z"
   },
   {
    "duration": 2,
    "start_time": "2021-08-07T15:34:41.038Z"
   },
   {
    "duration": 18,
    "start_time": "2021-08-07T15:34:43.807Z"
   },
   {
    "duration": 8,
    "start_time": "2021-08-07T15:34:45.150Z"
   },
   {
    "duration": 6,
    "start_time": "2021-08-07T15:34:45.926Z"
   },
   {
    "duration": 5,
    "start_time": "2021-08-07T15:34:46.749Z"
   },
   {
    "duration": 5,
    "start_time": "2021-08-07T15:34:47.102Z"
   },
   {
    "duration": 10,
    "start_time": "2021-08-07T15:34:47.990Z"
   },
   {
    "duration": 5,
    "start_time": "2021-08-07T15:34:51.319Z"
   },
   {
    "duration": 3,
    "start_time": "2021-08-07T15:34:51.470Z"
   },
   {
    "duration": 45587,
    "start_time": "2021-08-07T15:34:51.656Z"
   },
   {
    "duration": 4,
    "start_time": "2021-08-07T15:36:00.936Z"
   },
   {
    "duration": 3,
    "start_time": "2021-08-07T15:36:01.530Z"
   },
   {
    "duration": 7199,
    "start_time": "2021-08-07T15:36:02.049Z"
   },
   {
    "duration": 428,
    "start_time": "2021-08-07T15:36:18.580Z"
   },
   {
    "duration": 269,
    "start_time": "2021-08-07T15:36:19.010Z"
   },
   {
    "duration": 119,
    "start_time": "2021-08-07T15:36:19.303Z"
   },
   {
    "duration": 11,
    "start_time": "2021-08-07T15:36:19.841Z"
   },
   {
    "duration": 10,
    "start_time": "2021-08-07T15:36:20.560Z"
   },
   {
    "duration": 244,
    "start_time": "2021-08-07T15:39:54.510Z"
   },
   {
    "duration": 6,
    "start_time": "2021-08-07T15:41:31.259Z"
   },
   {
    "duration": 5,
    "start_time": "2021-08-07T15:41:35.836Z"
   },
   {
    "duration": 19,
    "start_time": "2021-08-07T15:42:55.783Z"
   },
   {
    "duration": 7,
    "start_time": "2021-08-07T15:42:55.931Z"
   },
   {
    "duration": 4,
    "start_time": "2021-08-07T15:42:56.098Z"
   },
   {
    "duration": 5,
    "start_time": "2021-08-07T15:42:56.273Z"
   },
   {
    "duration": 11,
    "start_time": "2021-08-07T15:42:56.434Z"
   },
   {
    "duration": 254,
    "start_time": "2021-08-07T15:42:56.610Z"
   },
   {
    "duration": 3,
    "start_time": "2021-08-07T15:42:57.090Z"
   },
   {
    "duration": 1983,
    "start_time": "2021-08-07T15:42:57.585Z"
   },
   {
    "duration": 538,
    "start_time": "2021-08-07T15:43:48.420Z"
   },
   {
    "duration": 605,
    "start_time": "2021-08-07T15:44:09.471Z"
   },
   {
    "duration": 243,
    "start_time": "2021-08-07T15:44:16.979Z"
   },
   {
    "duration": 256,
    "start_time": "2021-08-07T15:44:24.144Z"
   },
   {
    "duration": 252,
    "start_time": "2021-08-07T15:44:31.690Z"
   },
   {
    "duration": 4078,
    "start_time": "2021-08-07T15:45:04.514Z"
   },
   {
    "duration": 1654,
    "start_time": "2021-08-07T15:45:28.772Z"
   },
   {
    "duration": 88,
    "start_time": "2021-08-07T15:45:32.403Z"
   },
   {
    "duration": 17,
    "start_time": "2021-08-07T15:45:32.727Z"
   },
   {
    "duration": 10,
    "start_time": "2021-08-07T15:45:32.867Z"
   },
   {
    "duration": 12,
    "start_time": "2021-08-07T15:45:33.017Z"
   },
   {
    "duration": 13,
    "start_time": "2021-08-07T15:45:33.174Z"
   },
   {
    "duration": 6,
    "start_time": "2021-08-07T15:45:33.323Z"
   },
   {
    "duration": 6,
    "start_time": "2021-08-07T15:45:33.449Z"
   },
   {
    "duration": 8,
    "start_time": "2021-08-07T15:45:33.583Z"
   },
   {
    "duration": 5,
    "start_time": "2021-08-07T15:45:33.700Z"
   },
   {
    "duration": 12,
    "start_time": "2021-08-07T15:45:33.964Z"
   },
   {
    "duration": 8,
    "start_time": "2021-08-07T15:45:34.108Z"
   },
   {
    "duration": 11,
    "start_time": "2021-08-07T15:45:34.249Z"
   },
   {
    "duration": 13,
    "start_time": "2021-08-07T15:45:34.384Z"
   },
   {
    "duration": 10,
    "start_time": "2021-08-07T15:45:34.513Z"
   },
   {
    "duration": 10,
    "start_time": "2021-08-07T15:45:34.652Z"
   },
   {
    "duration": 11,
    "start_time": "2021-08-07T15:45:34.778Z"
   },
   {
    "duration": 13,
    "start_time": "2021-08-07T15:45:35.122Z"
   },
   {
    "duration": 9,
    "start_time": "2021-08-07T15:45:35.266Z"
   },
   {
    "duration": 10,
    "start_time": "2021-08-07T15:45:35.409Z"
   },
   {
    "duration": 7,
    "start_time": "2021-08-07T15:45:35.557Z"
   },
   {
    "duration": 7,
    "start_time": "2021-08-07T15:45:35.713Z"
   },
   {
    "duration": 7,
    "start_time": "2021-08-07T15:45:35.874Z"
   },
   {
    "duration": 8,
    "start_time": "2021-08-07T15:45:36.025Z"
   },
   {
    "duration": 6,
    "start_time": "2021-08-07T15:45:36.173Z"
   },
   {
    "duration": 8,
    "start_time": "2021-08-07T15:45:36.351Z"
   },
   {
    "duration": 7,
    "start_time": "2021-08-07T15:45:36.498Z"
   },
   {
    "duration": 8,
    "start_time": "2021-08-07T15:45:36.784Z"
   },
   {
    "duration": 7,
    "start_time": "2021-08-07T15:45:36.925Z"
   },
   {
    "duration": 8,
    "start_time": "2021-08-07T15:45:37.083Z"
   },
   {
    "duration": 7,
    "start_time": "2021-08-07T15:45:37.222Z"
   },
   {
    "duration": 5,
    "start_time": "2021-08-07T15:45:37.485Z"
   },
   {
    "duration": 5,
    "start_time": "2021-08-07T15:45:37.614Z"
   },
   {
    "duration": 4,
    "start_time": "2021-08-07T15:45:37.738Z"
   },
   {
    "duration": 7,
    "start_time": "2021-08-07T15:45:37.875Z"
   },
   {
    "duration": 4,
    "start_time": "2021-08-07T15:45:38.006Z"
   },
   {
    "duration": 4,
    "start_time": "2021-08-07T15:45:38.285Z"
   },
   {
    "duration": 5,
    "start_time": "2021-08-07T15:45:38.437Z"
   },
   {
    "duration": 5,
    "start_time": "2021-08-07T15:45:38.558Z"
   },
   {
    "duration": 4,
    "start_time": "2021-08-07T15:45:38.694Z"
   },
   {
    "duration": 4,
    "start_time": "2021-08-07T15:45:38.853Z"
   },
   {
    "duration": 3,
    "start_time": "2021-08-07T15:45:40.100Z"
   },
   {
    "duration": 492,
    "start_time": "2021-08-07T15:45:40.365Z"
   },
   {
    "duration": 368,
    "start_time": "2021-08-07T15:45:40.859Z"
   },
   {
    "duration": 451,
    "start_time": "2021-08-07T15:45:41.229Z"
   },
   {
    "duration": 1100,
    "start_time": "2021-08-07T15:45:41.682Z"
   },
   {
    "duration": 442,
    "start_time": "2021-08-07T15:45:42.784Z"
   },
   {
    "duration": 259,
    "start_time": "2021-08-07T15:45:43.228Z"
   },
   {
    "duration": 186,
    "start_time": "2021-08-07T15:45:43.489Z"
   },
   {
    "duration": 152,
    "start_time": "2021-08-07T15:45:43.677Z"
   },
   {
    "duration": 268,
    "start_time": "2021-08-07T15:45:43.831Z"
   },
   {
    "duration": 145,
    "start_time": "2021-08-07T15:45:44.101Z"
   },
   {
    "duration": 25,
    "start_time": "2021-08-07T15:45:44.382Z"
   },
   {
    "duration": 55,
    "start_time": "2021-08-07T15:45:44.530Z"
   },
   {
    "duration": 6,
    "start_time": "2021-08-07T15:45:44.678Z"
   },
   {
    "duration": 5,
    "start_time": "2021-08-07T15:45:44.823Z"
   },
   {
    "duration": 23,
    "start_time": "2021-08-07T15:45:44.974Z"
   },
   {
    "duration": 9,
    "start_time": "2021-08-07T15:45:45.133Z"
   },
   {
    "duration": 21,
    "start_time": "2021-08-07T15:45:45.430Z"
   },
   {
    "duration": 8,
    "start_time": "2021-08-07T15:45:45.577Z"
   },
   {
    "duration": 5,
    "start_time": "2021-08-07T15:45:45.736Z"
   },
   {
    "duration": 5,
    "start_time": "2021-08-07T15:45:45.883Z"
   },
   {
    "duration": 11,
    "start_time": "2021-08-07T15:45:46.435Z"
   },
   {
    "duration": 396,
    "start_time": "2021-08-07T15:45:46.775Z"
   },
   {
    "duration": 76,
    "start_time": "2021-08-07T15:45:47.097Z"
   },
   {
    "duration": 279,
    "start_time": "2021-08-07T15:45:47.375Z"
   },
   {
    "duration": 423,
    "start_time": "2021-08-07T15:45:47.665Z"
   },
   {
    "duration": 291,
    "start_time": "2021-08-07T15:46:00.189Z"
   },
   {
    "duration": 279,
    "start_time": "2021-08-07T15:46:11.693Z"
   },
   {
    "duration": 7,
    "start_time": "2021-08-07T15:47:42.296Z"
   },
   {
    "duration": 4,
    "start_time": "2021-08-07T15:47:50.193Z"
   },
   {
    "duration": 3,
    "start_time": "2021-08-07T15:47:54.262Z"
   },
   {
    "duration": 1904,
    "start_time": "2021-08-07T15:47:55.150Z"
   },
   {
    "duration": 4,
    "start_time": "2021-08-07T15:48:11.873Z"
   },
   {
    "duration": 1870,
    "start_time": "2021-08-07T15:48:14.272Z"
   },
   {
    "duration": 9932,
    "start_time": "2021-08-07T15:48:27.211Z"
   },
   {
    "duration": 252,
    "start_time": "2021-08-07T15:48:45.551Z"
   },
   {
    "duration": 4,
    "start_time": "2021-08-07T15:50:27.950Z"
   },
   {
    "duration": 3788,
    "start_time": "2021-08-07T15:50:30.148Z"
   },
   {
    "duration": 13,
    "start_time": "2021-08-07T15:51:28.900Z"
   },
   {
    "duration": 5007,
    "start_time": "2021-08-07T15:51:29.644Z"
   },
   {
    "duration": 709,
    "start_time": "2021-08-07T15:51:36.004Z"
   },
   {
    "duration": 448,
    "start_time": "2021-08-07T15:51:37.277Z"
   },
   {
    "duration": 187,
    "start_time": "2021-08-07T15:51:37.763Z"
   },
   {
    "duration": 18,
    "start_time": "2021-08-07T15:51:38.613Z"
   },
   {
    "duration": 16,
    "start_time": "2021-08-07T15:51:39.427Z"
   },
   {
    "duration": 2184,
    "start_time": "2021-08-07T15:59:14.308Z"
   },
   {
    "duration": 2085,
    "start_time": "2021-08-07T15:59:16.494Z"
   },
   {
    "duration": 2518,
    "start_time": "2021-08-07T15:59:18.581Z"
   },
   {
    "duration": 1258,
    "start_time": "2021-08-07T15:59:21.101Z"
   },
   {
    "duration": 546,
    "start_time": "2021-08-07T15:59:22.360Z"
   },
   {
    "duration": 88,
    "start_time": "2021-08-07T15:59:22.907Z"
   },
   {
    "duration": 16,
    "start_time": "2021-08-07T15:59:22.997Z"
   },
   {
    "duration": 27,
    "start_time": "2021-08-07T15:59:23.016Z"
   },
   {
    "duration": 34,
    "start_time": "2021-08-07T15:59:23.046Z"
   },
   {
    "duration": 23,
    "start_time": "2021-08-07T15:59:23.082Z"
   },
   {
    "duration": 30,
    "start_time": "2021-08-07T15:59:23.107Z"
   },
   {
    "duration": 29,
    "start_time": "2021-08-07T15:59:23.138Z"
   },
   {
    "duration": 28,
    "start_time": "2021-08-07T15:59:23.168Z"
   },
   {
    "duration": 20,
    "start_time": "2021-08-07T15:59:23.197Z"
   },
   {
    "duration": 21,
    "start_time": "2021-08-07T15:59:23.218Z"
   },
   {
    "duration": 22,
    "start_time": "2021-08-07T15:59:23.240Z"
   },
   {
    "duration": 23,
    "start_time": "2021-08-07T15:59:23.264Z"
   },
   {
    "duration": 21,
    "start_time": "2021-08-07T15:59:23.288Z"
   },
   {
    "duration": 70,
    "start_time": "2021-08-07T15:59:23.311Z"
   },
   {
    "duration": 15,
    "start_time": "2021-08-07T15:59:23.383Z"
   },
   {
    "duration": 30,
    "start_time": "2021-08-07T15:59:23.399Z"
   },
   {
    "duration": 29,
    "start_time": "2021-08-07T15:59:23.431Z"
   },
   {
    "duration": 24,
    "start_time": "2021-08-07T15:59:23.464Z"
   },
   {
    "duration": 33,
    "start_time": "2021-08-07T15:59:23.490Z"
   },
   {
    "duration": 23,
    "start_time": "2021-08-07T15:59:23.525Z"
   },
   {
    "duration": 18,
    "start_time": "2021-08-07T15:59:23.550Z"
   },
   {
    "duration": 25,
    "start_time": "2021-08-07T15:59:23.569Z"
   },
   {
    "duration": 16,
    "start_time": "2021-08-07T15:59:23.595Z"
   },
   {
    "duration": 25,
    "start_time": "2021-08-07T15:59:23.612Z"
   },
   {
    "duration": 23,
    "start_time": "2021-08-07T15:59:23.639Z"
   },
   {
    "duration": 26,
    "start_time": "2021-08-07T15:59:23.664Z"
   },
   {
    "duration": 31,
    "start_time": "2021-08-07T15:59:23.692Z"
   },
   {
    "duration": 27,
    "start_time": "2021-08-07T15:59:23.725Z"
   },
   {
    "duration": 37,
    "start_time": "2021-08-07T15:59:23.754Z"
   },
   {
    "duration": 25,
    "start_time": "2021-08-07T15:59:23.792Z"
   },
   {
    "duration": 30,
    "start_time": "2021-08-07T15:59:23.819Z"
   },
   {
    "duration": 26,
    "start_time": "2021-08-07T15:59:23.851Z"
   },
   {
    "duration": 24,
    "start_time": "2021-08-07T15:59:23.879Z"
   },
   {
    "duration": 18,
    "start_time": "2021-08-07T15:59:23.904Z"
   },
   {
    "duration": 15,
    "start_time": "2021-08-07T15:59:23.923Z"
   },
   {
    "duration": 20,
    "start_time": "2021-08-07T15:59:23.940Z"
   },
   {
    "duration": 30,
    "start_time": "2021-08-07T15:59:23.961Z"
   },
   {
    "duration": 15,
    "start_time": "2021-08-07T15:59:23.992Z"
   },
   {
    "duration": 16,
    "start_time": "2021-08-07T15:59:24.009Z"
   },
   {
    "duration": 14,
    "start_time": "2021-08-07T15:59:24.027Z"
   },
   {
    "duration": 13,
    "start_time": "2021-08-07T15:59:24.042Z"
   },
   {
    "duration": 428,
    "start_time": "2021-08-07T15:59:24.056Z"
   },
   {
    "duration": 364,
    "start_time": "2021-08-07T15:59:24.486Z"
   },
   {
    "duration": 438,
    "start_time": "2021-08-07T15:59:24.852Z"
   },
   {
    "duration": 1081,
    "start_time": "2021-08-07T15:59:25.292Z"
   },
   {
    "duration": 425,
    "start_time": "2021-08-07T15:59:26.375Z"
   },
   {
    "duration": 252,
    "start_time": "2021-08-07T15:59:26.802Z"
   },
   {
    "duration": 189,
    "start_time": "2021-08-07T15:59:27.056Z"
   },
   {
    "duration": 228,
    "start_time": "2021-08-07T15:59:27.247Z"
   },
   {
    "duration": 178,
    "start_time": "2021-08-07T15:59:27.477Z"
   },
   {
    "duration": 131,
    "start_time": "2021-08-07T15:59:27.656Z"
   },
   {
    "duration": 22,
    "start_time": "2021-08-07T15:59:27.789Z"
   },
   {
    "duration": 63,
    "start_time": "2021-08-07T15:59:27.812Z"
   },
   {
    "duration": 5,
    "start_time": "2021-08-07T15:59:27.877Z"
   },
   {
    "duration": 7,
    "start_time": "2021-08-07T15:59:27.884Z"
   },
   {
    "duration": 23,
    "start_time": "2021-08-07T15:59:27.892Z"
   },
   {
    "duration": 26,
    "start_time": "2021-08-07T15:59:27.916Z"
   },
   {
    "duration": 23,
    "start_time": "2021-08-07T15:59:27.943Z"
   },
   {
    "duration": 6,
    "start_time": "2021-08-07T15:59:27.967Z"
   },
   {
    "duration": 5,
    "start_time": "2021-08-07T15:59:27.975Z"
   },
   {
    "duration": 6,
    "start_time": "2021-08-07T15:59:27.981Z"
   },
   {
    "duration": 9,
    "start_time": "2021-08-07T15:59:27.988Z"
   },
   {
    "duration": 3,
    "start_time": "2021-08-07T15:59:28.002Z"
   },
   {
    "duration": 7,
    "start_time": "2021-08-07T15:59:28.007Z"
   },
   {
    "duration": 5600,
    "start_time": "2021-08-07T15:59:28.041Z"
   },
   {
    "duration": 8,
    "start_time": "2021-08-07T15:59:33.643Z"
   },
   {
    "duration": 3660,
    "start_time": "2021-08-07T15:59:33.652Z"
   },
   {
    "duration": 430,
    "start_time": "2021-08-07T15:59:37.314Z"
   },
   {
    "duration": 262,
    "start_time": "2021-08-07T15:59:37.746Z"
   },
   {
    "duration": 124,
    "start_time": "2021-08-07T15:59:38.010Z"
   },
   {
    "duration": 13,
    "start_time": "2021-08-07T15:59:38.136Z"
   },
   {
    "duration": 13,
    "start_time": "2021-08-07T15:59:38.151Z"
   },
   {
    "duration": 353,
    "start_time": "2021-08-07T15:59:38.166Z"
   },
   {
    "duration": 94,
    "start_time": "2021-08-07T15:59:38.427Z"
   },
   {
    "duration": 91,
    "start_time": "2021-08-07T15:59:38.431Z"
   },
   {
    "duration": 88,
    "start_time": "2021-08-07T15:59:38.435Z"
   },
   {
    "duration": 246,
    "start_time": "2021-08-07T16:03:46.804Z"
   },
   {
    "duration": 9194,
    "start_time": "2021-08-08T13:00:33.575Z"
   },
   {
    "duration": 7708,
    "start_time": "2021-08-08T13:00:42.771Z"
   },
   {
    "duration": 2972,
    "start_time": "2021-08-08T13:00:50.482Z"
   },
   {
    "duration": 1067,
    "start_time": "2021-08-08T13:00:53.457Z"
   },
   {
    "duration": 2193,
    "start_time": "2021-08-08T13:01:03.313Z"
   },
   {
    "duration": 2037,
    "start_time": "2021-08-08T13:01:05.508Z"
   },
   {
    "duration": 2320,
    "start_time": "2021-08-08T13:01:07.548Z"
   },
   {
    "duration": 1069,
    "start_time": "2021-08-08T13:01:09.870Z"
   },
   {
    "duration": 554,
    "start_time": "2021-08-08T13:01:10.941Z"
   },
   {
    "duration": 88,
    "start_time": "2021-08-08T13:01:11.496Z"
   },
   {
    "duration": 16,
    "start_time": "2021-08-08T13:01:11.585Z"
   },
   {
    "duration": 9,
    "start_time": "2021-08-08T13:01:11.603Z"
   },
   {
    "duration": 11,
    "start_time": "2021-08-08T13:01:11.614Z"
   },
   {
    "duration": 11,
    "start_time": "2021-08-08T13:01:11.627Z"
   },
   {
    "duration": 10,
    "start_time": "2021-08-08T13:01:11.639Z"
   },
   {
    "duration": 9,
    "start_time": "2021-08-08T13:01:11.650Z"
   },
   {
    "duration": 9,
    "start_time": "2021-08-08T13:01:11.661Z"
   },
   {
    "duration": 6,
    "start_time": "2021-08-08T13:01:11.671Z"
   },
   {
    "duration": 11,
    "start_time": "2021-08-08T13:01:11.678Z"
   },
   {
    "duration": 9,
    "start_time": "2021-08-08T13:01:11.690Z"
   },
   {
    "duration": 8,
    "start_time": "2021-08-08T13:01:11.701Z"
   },
   {
    "duration": 34,
    "start_time": "2021-08-08T13:01:11.710Z"
   },
   {
    "duration": 61,
    "start_time": "2021-08-08T13:01:11.746Z"
   },
   {
    "duration": 8,
    "start_time": "2021-08-08T13:01:11.809Z"
   },
   {
    "duration": 27,
    "start_time": "2021-08-08T13:01:11.819Z"
   },
   {
    "duration": 13,
    "start_time": "2021-08-08T13:01:11.848Z"
   },
   {
    "duration": 8,
    "start_time": "2021-08-08T13:01:11.865Z"
   },
   {
    "duration": 10,
    "start_time": "2021-08-08T13:01:11.875Z"
   },
   {
    "duration": 7,
    "start_time": "2021-08-08T13:01:11.886Z"
   },
   {
    "duration": 7,
    "start_time": "2021-08-08T13:01:11.894Z"
   },
   {
    "duration": 43,
    "start_time": "2021-08-08T13:01:11.902Z"
   },
   {
    "duration": 8,
    "start_time": "2021-08-08T13:01:11.946Z"
   },
   {
    "duration": 10,
    "start_time": "2021-08-08T13:01:11.955Z"
   },
   {
    "duration": 8,
    "start_time": "2021-08-08T13:01:11.967Z"
   },
   {
    "duration": 9,
    "start_time": "2021-08-08T13:01:11.977Z"
   },
   {
    "duration": 8,
    "start_time": "2021-08-08T13:01:11.987Z"
   },
   {
    "duration": 7,
    "start_time": "2021-08-08T13:01:11.997Z"
   },
   {
    "duration": 8,
    "start_time": "2021-08-08T13:01:12.041Z"
   },
   {
    "duration": 7,
    "start_time": "2021-08-08T13:01:12.051Z"
   },
   {
    "duration": 6,
    "start_time": "2021-08-08T13:01:12.060Z"
   },
   {
    "duration": 7,
    "start_time": "2021-08-08T13:01:12.068Z"
   },
   {
    "duration": 5,
    "start_time": "2021-08-08T13:01:12.077Z"
   },
   {
    "duration": 15,
    "start_time": "2021-08-08T13:01:12.084Z"
   },
   {
    "duration": 4,
    "start_time": "2021-08-08T13:01:12.101Z"
   },
   {
    "duration": 5,
    "start_time": "2021-08-08T13:01:12.107Z"
   },
   {
    "duration": 5,
    "start_time": "2021-08-08T13:01:12.141Z"
   },
   {
    "duration": 4,
    "start_time": "2021-08-08T13:01:12.147Z"
   },
   {
    "duration": 5,
    "start_time": "2021-08-08T13:01:12.153Z"
   },
   {
    "duration": 5,
    "start_time": "2021-08-08T13:01:12.159Z"
   },
   {
    "duration": 4,
    "start_time": "2021-08-08T13:01:12.165Z"
   },
   {
    "duration": 450,
    "start_time": "2021-08-08T13:01:12.170Z"
   },
   {
    "duration": 366,
    "start_time": "2021-08-08T13:01:12.621Z"
   },
   {
    "duration": 443,
    "start_time": "2021-08-08T13:01:12.989Z"
   },
   {
    "duration": 1091,
    "start_time": "2021-08-08T13:01:13.434Z"
   },
   {
    "duration": 424,
    "start_time": "2021-08-08T13:01:14.527Z"
   },
   {
    "duration": 252,
    "start_time": "2021-08-08T13:01:14.953Z"
   },
   {
    "duration": 191,
    "start_time": "2021-08-08T13:01:15.206Z"
   },
   {
    "duration": 218,
    "start_time": "2021-08-08T13:01:15.399Z"
   },
   {
    "duration": 181,
    "start_time": "2021-08-08T13:01:15.619Z"
   },
   {
    "duration": 140,
    "start_time": "2021-08-08T13:01:15.802Z"
   },
   {
    "duration": 24,
    "start_time": "2021-08-08T13:01:15.944Z"
   },
   {
    "duration": 49,
    "start_time": "2021-08-08T13:01:15.970Z"
   },
   {
    "duration": 25,
    "start_time": "2021-08-08T13:01:16.020Z"
   },
   {
    "duration": 12,
    "start_time": "2021-08-08T13:01:16.047Z"
   },
   {
    "duration": 25,
    "start_time": "2021-08-08T13:01:16.061Z"
   },
   {
    "duration": 10,
    "start_time": "2021-08-08T13:01:16.087Z"
   },
   {
    "duration": 43,
    "start_time": "2021-08-08T13:01:16.099Z"
   },
   {
    "duration": 7,
    "start_time": "2021-08-08T13:01:16.144Z"
   },
   {
    "duration": 5,
    "start_time": "2021-08-08T13:01:16.153Z"
   },
   {
    "duration": 7,
    "start_time": "2021-08-08T13:01:16.160Z"
   },
   {
    "duration": 10,
    "start_time": "2021-08-08T13:01:16.168Z"
   },
   {
    "duration": 3,
    "start_time": "2021-08-08T13:01:16.182Z"
   },
   {
    "duration": 6,
    "start_time": "2021-08-08T13:01:16.187Z"
   },
   {
    "duration": 10055,
    "start_time": "2021-08-08T13:01:16.195Z"
   },
   {
    "duration": 8,
    "start_time": "2021-08-08T13:01:26.251Z"
   },
   {
    "duration": 5237,
    "start_time": "2021-08-08T13:01:26.261Z"
   },
   {
    "duration": 877,
    "start_time": "2021-08-08T13:01:31.499Z"
   },
   {
    "duration": 294,
    "start_time": "2021-08-08T13:01:32.378Z"
   },
   {
    "duration": 247,
    "start_time": "2021-08-08T13:01:32.673Z"
   },
   {
    "duration": 18,
    "start_time": "2021-08-08T13:01:32.922Z"
   },
   {
    "duration": 10,
    "start_time": "2021-08-08T13:01:32.942Z"
   },
   {
    "duration": 2103,
    "start_time": "2021-08-08T13:03:59.215Z"
   },
   {
    "duration": 2181,
    "start_time": "2021-08-08T13:04:01.320Z"
   },
   {
    "duration": 2664,
    "start_time": "2021-08-08T13:04:03.503Z"
   },
   {
    "duration": 1070,
    "start_time": "2021-08-08T13:04:06.170Z"
   },
   {
    "duration": 546,
    "start_time": "2021-08-08T13:04:07.242Z"
   },
   {
    "duration": 87,
    "start_time": "2021-08-08T13:04:07.790Z"
   },
   {
    "duration": 16,
    "start_time": "2021-08-08T13:04:07.879Z"
   },
   {
    "duration": 10,
    "start_time": "2021-08-08T13:04:07.897Z"
   },
   {
    "duration": 11,
    "start_time": "2021-08-08T13:04:07.909Z"
   },
   {
    "duration": 19,
    "start_time": "2021-08-08T13:04:07.922Z"
   },
   {
    "duration": 6,
    "start_time": "2021-08-08T13:04:07.942Z"
   },
   {
    "duration": 8,
    "start_time": "2021-08-08T13:04:07.949Z"
   },
   {
    "duration": 8,
    "start_time": "2021-08-08T13:04:07.959Z"
   },
   {
    "duration": 9,
    "start_time": "2021-08-08T13:04:07.968Z"
   },
   {
    "duration": 11,
    "start_time": "2021-08-08T13:04:07.978Z"
   },
   {
    "duration": 9,
    "start_time": "2021-08-08T13:04:07.991Z"
   },
   {
    "duration": 17,
    "start_time": "2021-08-08T13:04:08.002Z"
   },
   {
    "duration": 25,
    "start_time": "2021-08-08T13:04:08.020Z"
   },
   {
    "duration": 62,
    "start_time": "2021-08-08T13:04:08.046Z"
   },
   {
    "duration": 15,
    "start_time": "2021-08-08T13:04:08.109Z"
   },
   {
    "duration": 18,
    "start_time": "2021-08-08T13:04:08.126Z"
   },
   {
    "duration": 13,
    "start_time": "2021-08-08T13:04:08.145Z"
   },
   {
    "duration": 9,
    "start_time": "2021-08-08T13:04:08.162Z"
   },
   {
    "duration": 10,
    "start_time": "2021-08-08T13:04:08.174Z"
   },
   {
    "duration": 12,
    "start_time": "2021-08-08T13:04:08.186Z"
   },
   {
    "duration": 15,
    "start_time": "2021-08-08T13:04:08.200Z"
   },
   {
    "duration": 28,
    "start_time": "2021-08-08T13:04:08.217Z"
   },
   {
    "duration": 11,
    "start_time": "2021-08-08T13:04:08.246Z"
   },
   {
    "duration": 18,
    "start_time": "2021-08-08T13:04:08.259Z"
   },
   {
    "duration": 13,
    "start_time": "2021-08-08T13:04:08.279Z"
   },
   {
    "duration": 14,
    "start_time": "2021-08-08T13:04:08.294Z"
   },
   {
    "duration": 15,
    "start_time": "2021-08-08T13:04:08.309Z"
   },
   {
    "duration": 11,
    "start_time": "2021-08-08T13:04:08.326Z"
   },
   {
    "duration": 16,
    "start_time": "2021-08-08T13:04:08.338Z"
   },
   {
    "duration": 8,
    "start_time": "2021-08-08T13:04:08.356Z"
   },
   {
    "duration": 15,
    "start_time": "2021-08-08T13:04:08.365Z"
   },
   {
    "duration": 11,
    "start_time": "2021-08-08T13:04:08.382Z"
   },
   {
    "duration": 5,
    "start_time": "2021-08-08T13:04:08.395Z"
   },
   {
    "duration": 13,
    "start_time": "2021-08-08T13:04:08.402Z"
   },
   {
    "duration": 4,
    "start_time": "2021-08-08T13:04:08.416Z"
   },
   {
    "duration": 7,
    "start_time": "2021-08-08T13:04:08.422Z"
   },
   {
    "duration": 7,
    "start_time": "2021-08-08T13:04:08.431Z"
   },
   {
    "duration": 13,
    "start_time": "2021-08-08T13:04:08.439Z"
   },
   {
    "duration": 6,
    "start_time": "2021-08-08T13:04:08.454Z"
   },
   {
    "duration": 4,
    "start_time": "2021-08-08T13:04:08.461Z"
   },
   {
    "duration": 4,
    "start_time": "2021-08-08T13:04:08.467Z"
   },
   {
    "duration": 444,
    "start_time": "2021-08-08T13:04:08.472Z"
   },
   {
    "duration": 379,
    "start_time": "2021-08-08T13:04:08.918Z"
   },
   {
    "duration": 433,
    "start_time": "2021-08-08T13:04:09.298Z"
   },
   {
    "duration": 1067,
    "start_time": "2021-08-08T13:04:09.732Z"
   },
   {
    "duration": 423,
    "start_time": "2021-08-08T13:04:10.801Z"
   },
   {
    "duration": 245,
    "start_time": "2021-08-08T13:04:11.226Z"
   },
   {
    "duration": 183,
    "start_time": "2021-08-08T13:04:11.472Z"
   },
   {
    "duration": 210,
    "start_time": "2021-08-08T13:04:11.656Z"
   },
   {
    "duration": 178,
    "start_time": "2021-08-08T13:04:11.867Z"
   },
   {
    "duration": 137,
    "start_time": "2021-08-08T13:04:12.047Z"
   },
   {
    "duration": 25,
    "start_time": "2021-08-08T13:04:12.186Z"
   },
   {
    "duration": 65,
    "start_time": "2021-08-08T13:04:12.213Z"
   },
   {
    "duration": 7,
    "start_time": "2021-08-08T13:04:12.280Z"
   },
   {
    "duration": 9,
    "start_time": "2021-08-08T13:04:12.289Z"
   },
   {
    "duration": 23,
    "start_time": "2021-08-08T13:04:12.299Z"
   },
   {
    "duration": 23,
    "start_time": "2021-08-08T13:04:12.324Z"
   },
   {
    "duration": 19,
    "start_time": "2021-08-08T13:04:12.349Z"
   },
   {
    "duration": 6,
    "start_time": "2021-08-08T13:04:12.370Z"
   },
   {
    "duration": 5,
    "start_time": "2021-08-08T13:04:12.378Z"
   },
   {
    "duration": 7,
    "start_time": "2021-08-08T13:04:12.384Z"
   },
   {
    "duration": 16,
    "start_time": "2021-08-08T13:04:12.392Z"
   },
   {
    "duration": 4,
    "start_time": "2021-08-08T13:04:12.441Z"
   },
   {
    "duration": 7,
    "start_time": "2021-08-08T13:04:12.447Z"
   },
   {
    "duration": 10298,
    "start_time": "2021-08-08T13:04:12.456Z"
   },
   {
    "duration": 90,
    "start_time": "2021-08-08T13:04:22.756Z"
   },
   {
    "duration": 5355,
    "start_time": "2021-08-08T13:04:22.848Z"
   },
   {
    "duration": 931,
    "start_time": "2021-08-08T13:04:28.205Z"
   },
   {
    "duration": 340,
    "start_time": "2021-08-08T13:04:29.140Z"
   },
   {
    "duration": 249,
    "start_time": "2021-08-08T13:04:29.482Z"
   },
   {
    "duration": 17,
    "start_time": "2021-08-08T13:04:29.732Z"
   },
   {
    "duration": 135,
    "start_time": "2021-08-08T13:04:29.750Z"
   },
   {
    "duration": 14027,
    "start_time": "2021-08-09T12:51:48.539Z"
   },
   {
    "duration": 22556,
    "start_time": "2021-08-09T12:52:02.570Z"
   },
   {
    "duration": 4225,
    "start_time": "2021-08-09T12:52:25.131Z"
   },
   {
    "duration": 1278,
    "start_time": "2021-08-09T12:52:29.359Z"
   },
   {
    "duration": 2164,
    "start_time": "2021-08-09T12:52:57.888Z"
   },
   {
    "duration": 1970,
    "start_time": "2021-08-09T12:53:00.247Z"
   },
   {
    "duration": 26,
    "start_time": "2021-08-09T12:53:02.219Z"
   },
   {
    "duration": 26,
    "start_time": "2021-08-09T12:53:02.248Z"
   },
   {
    "duration": 31,
    "start_time": "2021-08-09T12:53:02.277Z"
   },
   {
    "duration": 31,
    "start_time": "2021-08-09T12:53:02.311Z"
   },
   {
    "duration": 18,
    "start_time": "2021-08-09T12:53:02.344Z"
   },
   {
    "duration": 24,
    "start_time": "2021-08-09T12:53:02.364Z"
   },
   {
    "duration": 60,
    "start_time": "2021-08-09T12:53:02.391Z"
   },
   {
    "duration": 30,
    "start_time": "2021-08-09T12:53:02.454Z"
   },
   {
    "duration": 40,
    "start_time": "2021-08-09T12:53:02.486Z"
   },
   {
    "duration": 36,
    "start_time": "2021-08-09T12:53:02.528Z"
   },
   {
    "duration": 13,
    "start_time": "2021-08-09T12:53:02.628Z"
   },
   {
    "duration": 16,
    "start_time": "2021-08-09T12:53:02.792Z"
   },
   {
    "duration": 10,
    "start_time": "2021-08-09T12:53:02.950Z"
   },
   {
    "duration": 12,
    "start_time": "2021-08-09T12:53:03.118Z"
   },
   {
    "duration": 11,
    "start_time": "2021-08-09T12:53:03.294Z"
   },
   {
    "duration": 20,
    "start_time": "2021-08-09T12:53:03.630Z"
   },
   {
    "duration": 14,
    "start_time": "2021-08-09T12:53:03.793Z"
   },
   {
    "duration": 15,
    "start_time": "2021-08-09T12:53:04.102Z"
   },
   {
    "duration": 11,
    "start_time": "2021-08-09T12:53:04.263Z"
   },
   {
    "duration": 10,
    "start_time": "2021-08-09T12:53:04.446Z"
   },
   {
    "duration": 11,
    "start_time": "2021-08-09T12:53:04.607Z"
   },
   {
    "duration": 15,
    "start_time": "2021-08-09T12:53:04.806Z"
   },
   {
    "duration": 11,
    "start_time": "2021-08-09T12:53:04.973Z"
   },
   {
    "duration": 11,
    "start_time": "2021-08-09T12:53:05.141Z"
   },
   {
    "duration": 11,
    "start_time": "2021-08-09T12:53:05.320Z"
   },
   {
    "duration": 15,
    "start_time": "2021-08-09T12:53:05.694Z"
   },
   {
    "duration": 13,
    "start_time": "2021-08-09T12:53:05.863Z"
   },
   {
    "duration": 14,
    "start_time": "2021-08-09T12:53:06.031Z"
   },
   {
    "duration": 15,
    "start_time": "2021-08-09T12:53:06.215Z"
   },
   {
    "duration": 10,
    "start_time": "2021-08-09T12:53:06.560Z"
   },
   {
    "duration": 11,
    "start_time": "2021-08-09T12:53:06.735Z"
   },
   {
    "duration": 9,
    "start_time": "2021-08-09T12:53:06.910Z"
   },
   {
    "duration": 15,
    "start_time": "2021-08-09T12:53:07.070Z"
   },
   {
    "duration": 6,
    "start_time": "2021-08-09T12:53:07.255Z"
   },
   {
    "duration": 6,
    "start_time": "2021-08-09T12:53:07.902Z"
   },
   {
    "duration": 8,
    "start_time": "2021-08-09T12:53:08.240Z"
   },
   {
    "duration": 7,
    "start_time": "2021-08-09T12:53:08.414Z"
   },
   {
    "duration": 7,
    "start_time": "2021-08-09T12:53:08.583Z"
   },
   {
    "duration": 6,
    "start_time": "2021-08-09T12:53:08.744Z"
   },
   {
    "duration": 5,
    "start_time": "2021-08-09T12:53:09.432Z"
   },
   {
    "duration": 839,
    "start_time": "2021-08-09T12:53:09.944Z"
   },
   {
    "duration": 651,
    "start_time": "2021-08-09T12:53:10.785Z"
   },
   {
    "duration": 846,
    "start_time": "2021-08-09T12:53:11.743Z"
   },
   {
    "duration": 1975,
    "start_time": "2021-08-09T12:53:12.592Z"
   },
   {
    "duration": 776,
    "start_time": "2021-08-09T12:53:14.571Z"
   },
   {
    "duration": 443,
    "start_time": "2021-08-09T12:53:15.349Z"
   },
   {
    "duration": 317,
    "start_time": "2021-08-09T12:53:21.440Z"
   },
   {
    "duration": 236,
    "start_time": "2021-08-09T12:53:21.775Z"
   },
   {
    "duration": 385,
    "start_time": "2021-08-09T12:53:22.306Z"
   },
   {
    "duration": 241,
    "start_time": "2021-08-09T12:53:22.694Z"
   },
   {
    "duration": 41,
    "start_time": "2021-08-09T12:53:25.222Z"
   },
   {
    "duration": 84,
    "start_time": "2021-08-09T12:53:28.255Z"
   },
   {
    "duration": 9,
    "start_time": "2021-08-09T12:53:28.341Z"
   },
   {
    "duration": 6,
    "start_time": "2021-08-09T12:53:47.449Z"
   },
   {
    "duration": 48,
    "start_time": "2021-08-09T12:53:48.239Z"
   },
   {
    "duration": 16,
    "start_time": "2021-08-09T12:53:53.441Z"
   },
   {
    "duration": 11,
    "start_time": "2021-08-09T12:53:57.919Z"
   },
   {
    "duration": 26,
    "start_time": "2021-08-09T12:54:07.602Z"
   },
   {
    "duration": 6,
    "start_time": "2021-08-09T12:54:18.520Z"
   },
   {
    "duration": 10,
    "start_time": "2021-08-09T12:54:48.513Z"
   },
   {
    "duration": 25,
    "start_time": "2021-08-09T12:54:59.797Z"
   },
   {
    "duration": 5,
    "start_time": "2021-08-09T12:55:03.199Z"
   },
   {
    "duration": 10,
    "start_time": "2021-08-09T12:55:06.542Z"
   },
   {
    "duration": 15,
    "start_time": "2021-08-09T12:55:07.249Z"
   },
   {
    "duration": 7,
    "start_time": "2021-08-09T12:55:20.046Z"
   },
   {
    "duration": 4,
    "start_time": "2021-08-09T12:55:21.580Z"
   },
   {
    "duration": 10242,
    "start_time": "2021-08-09T12:55:23.350Z"
   },
   {
    "duration": -467,
    "start_time": "2021-08-09T12:55:34.062Z"
   },
   {
    "duration": 12639,
    "start_time": "2021-08-09T12:55:35.435Z"
   },
   {
    "duration": 10,
    "start_time": "2021-08-09T12:57:25.039Z"
   },
   {
    "duration": 7925,
    "start_time": "2021-08-09T12:57:26.069Z"
   },
   {
    "duration": 1632,
    "start_time": "2021-08-09T12:57:38.854Z"
   },
   {
    "duration": 730,
    "start_time": "2021-08-09T12:57:41.126Z"
   },
   {
    "duration": 322,
    "start_time": "2021-08-09T12:59:21.489Z"
   },
   {
    "duration": 273,
    "start_time": "2021-08-09T13:04:59.764Z"
   },
   {
    "duration": 2642492,
    "start_time": "2021-08-09T13:05:16.685Z"
   },
   {
    "duration": 3444,
    "start_time": "2021-08-09T14:05:27.418Z"
   },
   {
    "duration": 5986,
    "start_time": "2021-08-09T14:07:28.506Z"
   },
   {
    "duration": 6950,
    "start_time": "2021-08-09T14:07:48.888Z"
   },
   {
    "duration": 1737,
    "start_time": "2021-08-09T14:10:06.304Z"
   },
   {
    "duration": 47191,
    "start_time": "2021-08-09T14:10:59.046Z"
   },
   {
    "duration": 50,
    "start_time": "2021-08-09T14:20:24.508Z"
   },
   {
    "duration": 274,
    "start_time": "2021-08-09T14:20:28.911Z"
   },
   {
    "duration": 330,
    "start_time": "2021-08-09T14:21:13.676Z"
   },
   {
    "duration": 299,
    "start_time": "2021-08-09T14:22:01.924Z"
   },
   {
    "duration": 287,
    "start_time": "2021-08-09T14:22:35.689Z"
   },
   {
    "duration": 305,
    "start_time": "2021-08-09T14:23:01.317Z"
   },
   {
    "duration": 11,
    "start_time": "2021-08-09T14:25:08.677Z"
   },
   {
    "duration": 26,
    "start_time": "2021-08-09T14:25:12.032Z"
   },
   {
    "duration": 6,
    "start_time": "2021-08-09T14:25:13.751Z"
   },
   {
    "duration": 9,
    "start_time": "2021-08-09T14:25:17.255Z"
   },
   {
    "duration": 16,
    "start_time": "2021-08-09T14:25:18.007Z"
   },
   {
    "duration": 296,
    "start_time": "2021-08-09T14:25:24.102Z"
   },
   {
    "duration": 310,
    "start_time": "2021-08-09T14:26:21.363Z"
   },
   {
    "duration": 273,
    "start_time": "2021-08-09T14:29:25.557Z"
   },
   {
    "duration": 278,
    "start_time": "2021-08-09T14:29:35.712Z"
   },
   {
    "duration": 371,
    "start_time": "2021-08-09T14:30:01.925Z"
   },
   {
    "duration": 2260,
    "start_time": "2021-08-09T14:30:59.376Z"
   },
   {
    "duration": 245,
    "start_time": "2021-08-09T14:32:05.389Z"
   },
   {
    "duration": 314,
    "start_time": "2021-08-09T14:32:48.387Z"
   },
   {
    "duration": 10006,
    "start_time": "2021-08-09T14:33:12.396Z"
   },
   {
    "duration": 58893,
    "start_time": "2021-08-09T14:34:01.571Z"
   },
   {
    "duration": 25527,
    "start_time": "2021-08-09T14:35:12.452Z"
   },
   {
    "duration": 171935,
    "start_time": "2021-08-09T14:35:40.851Z"
   },
   {
    "duration": 10851,
    "start_time": "2021-08-09T14:38:56.677Z"
   },
   {
    "duration": 203259,
    "start_time": "2021-08-09T14:39:09.622Z"
   },
   {
    "duration": 85,
    "start_time": "2021-08-09T14:44:44.780Z"
   },
   {
    "duration": 16273,
    "start_time": "2021-08-09T14:44:45.891Z"
   },
   {
    "duration": 268,
    "start_time": "2021-08-09T14:45:19.496Z"
   },
   {
    "duration": 14962,
    "start_time": "2021-08-09T14:45:26.112Z"
   },
   {
    "duration": 32464,
    "start_time": "2021-08-09T14:46:08.468Z"
   },
   {
    "duration": 35626,
    "start_time": "2021-08-09T14:46:47.742Z"
   },
   {
    "duration": 16813,
    "start_time": "2021-08-09T14:47:34.661Z"
   },
   {
    "duration": 94,
    "start_time": "2021-08-09T14:49:07.691Z"
   },
   {
    "duration": 30527,
    "start_time": "2021-08-09T14:49:13.452Z"
   },
   {
    "duration": 69185,
    "start_time": "2021-08-09T14:50:00.580Z"
   },
   {
    "duration": 7097,
    "start_time": "2021-08-09T14:54:21.149Z"
   },
   {
    "duration": 17291,
    "start_time": "2021-08-09T14:55:19.445Z"
   },
   {
    "duration": 7019,
    "start_time": "2021-08-09T14:55:38.150Z"
   },
   {
    "duration": 205,
    "start_time": "2021-08-09T14:56:18.769Z"
   },
   {
    "duration": 8114,
    "start_time": "2021-08-09T14:58:45.990Z"
   },
   {
    "duration": 75288,
    "start_time": "2021-08-09T14:59:05.184Z"
   },
   {
    "duration": 239,
    "start_time": "2021-08-09T15:03:27.286Z"
   },
   {
    "duration": 2466,
    "start_time": "2021-08-09T15:03:51.508Z"
   },
   {
    "duration": 209686,
    "start_time": "2021-08-09T15:04:34.579Z"
   },
   {
    "duration": 1112,
    "start_time": "2021-08-09T15:14:28.455Z"
   },
   {
    "duration": 80,
    "start_time": "2021-08-09T15:15:35.203Z"
   },
   {
    "duration": 87,
    "start_time": "2021-08-09T15:15:47.859Z"
   },
   {
    "duration": 1171,
    "start_time": "2021-08-09T15:15:59.000Z"
   },
   {
    "duration": 1005,
    "start_time": "2021-08-09T15:16:40.263Z"
   },
   {
    "duration": 2161,
    "start_time": "2021-08-09T15:17:03.517Z"
   },
   {
    "duration": 8,
    "start_time": "2021-08-09T15:17:17.936Z"
   },
   {
    "duration": 8,
    "start_time": "2021-08-09T15:17:29.210Z"
   },
   {
    "duration": 9,
    "start_time": "2021-08-09T15:17:40.450Z"
   },
   {
    "duration": 8,
    "start_time": "2021-08-09T15:18:10.563Z"
   },
   {
    "duration": 9,
    "start_time": "2021-08-09T15:18:23.261Z"
   },
   {
    "duration": 12,
    "start_time": "2021-08-09T15:18:48.615Z"
   },
   {
    "duration": 13,
    "start_time": "2021-08-09T15:19:37.322Z"
   },
   {
    "duration": 114,
    "start_time": "2021-08-09T15:19:37.528Z"
   },
   {
    "duration": 33,
    "start_time": "2021-08-09T15:19:37.841Z"
   },
   {
    "duration": 19,
    "start_time": "2021-08-09T15:19:38.011Z"
   },
   {
    "duration": 25,
    "start_time": "2021-08-09T15:19:38.166Z"
   },
   {
    "duration": 2207,
    "start_time": "2021-08-09T15:19:48.160Z"
   },
   {
    "duration": 119,
    "start_time": "2021-08-09T15:19:50.371Z"
   },
   {
    "duration": 39,
    "start_time": "2021-08-09T15:19:50.494Z"
   },
   {
    "duration": 30,
    "start_time": "2021-08-09T15:19:50.537Z"
   },
   {
    "duration": 24,
    "start_time": "2021-08-09T15:19:50.571Z"
   },
   {
    "duration": 21,
    "start_time": "2021-08-09T15:19:50.597Z"
   },
   {
    "duration": 42,
    "start_time": "2021-08-09T15:19:50.621Z"
   },
   {
    "duration": 10,
    "start_time": "2021-08-09T15:19:50.671Z"
   },
   {
    "duration": 15,
    "start_time": "2021-08-09T15:19:50.684Z"
   },
   {
    "duration": 25,
    "start_time": "2021-08-09T15:19:50.701Z"
   },
   {
    "duration": 16,
    "start_time": "2021-08-09T15:19:50.729Z"
   },
   {
    "duration": 15,
    "start_time": "2021-08-09T15:19:50.762Z"
   },
   {
    "duration": 15,
    "start_time": "2021-08-09T15:19:50.781Z"
   },
   {
    "duration": 13,
    "start_time": "2021-08-09T15:19:50.798Z"
   },
   {
    "duration": 56,
    "start_time": "2021-08-09T15:19:50.813Z"
   },
   {
    "duration": 13,
    "start_time": "2021-08-09T15:19:50.873Z"
   },
   {
    "duration": 15,
    "start_time": "2021-08-09T15:19:50.889Z"
   },
   {
    "duration": 19,
    "start_time": "2021-08-09T15:19:50.907Z"
   },
   {
    "duration": 53,
    "start_time": "2021-08-09T15:19:50.928Z"
   },
   {
    "duration": 16,
    "start_time": "2021-08-09T15:19:51.114Z"
   },
   {
    "duration": 11,
    "start_time": "2021-08-09T15:19:51.510Z"
   },
   {
    "duration": 10,
    "start_time": "2021-08-09T15:19:51.677Z"
   },
   {
    "duration": 10,
    "start_time": "2021-08-09T15:19:51.837Z"
   },
   {
    "duration": 11,
    "start_time": "2021-08-09T15:19:51.998Z"
   },
   {
    "duration": 14,
    "start_time": "2021-08-09T15:19:52.158Z"
   },
   {
    "duration": 11,
    "start_time": "2021-08-09T15:19:52.319Z"
   },
   {
    "duration": 12,
    "start_time": "2021-08-09T15:19:52.493Z"
   },
   {
    "duration": 14,
    "start_time": "2021-08-09T15:19:52.829Z"
   },
   {
    "duration": 10,
    "start_time": "2021-08-09T15:19:53.003Z"
   },
   {
    "duration": 20,
    "start_time": "2021-08-09T15:19:53.173Z"
   },
   {
    "duration": 12,
    "start_time": "2021-08-09T15:19:53.350Z"
   },
   {
    "duration": 10,
    "start_time": "2021-08-09T15:19:53.686Z"
   },
   {
    "duration": 10,
    "start_time": "2021-08-09T15:19:53.870Z"
   },
   {
    "duration": 9,
    "start_time": "2021-08-09T15:19:54.046Z"
   },
   {
    "duration": 16,
    "start_time": "2021-08-09T15:19:54.214Z"
   },
   {
    "duration": 6,
    "start_time": "2021-08-09T15:19:54.397Z"
   },
   {
    "duration": 7,
    "start_time": "2021-08-09T15:19:54.736Z"
   },
   {
    "duration": 11,
    "start_time": "2021-08-09T15:19:54.902Z"
   },
   {
    "duration": 10,
    "start_time": "2021-08-09T15:19:55.055Z"
   },
   {
    "duration": 8,
    "start_time": "2021-08-09T15:19:55.262Z"
   },
   {
    "duration": 8,
    "start_time": "2021-08-09T15:19:55.567Z"
   },
   {
    "duration": 3,
    "start_time": "2021-08-09T15:19:56.094Z"
   },
   {
    "duration": 945,
    "start_time": "2021-08-09T15:19:56.421Z"
   },
   {
    "duration": 794,
    "start_time": "2021-08-09T15:19:57.368Z"
   },
   {
    "duration": 958,
    "start_time": "2021-08-09T15:19:58.166Z"
   },
   {
    "duration": 2140,
    "start_time": "2021-08-09T15:19:59.127Z"
   },
   {
    "duration": 833,
    "start_time": "2021-08-09T15:20:01.271Z"
   },
   {
    "duration": 504,
    "start_time": "2021-08-09T15:20:02.107Z"
   },
   {
    "duration": 357,
    "start_time": "2021-08-09T15:20:02.615Z"
   },
   {
    "duration": 289,
    "start_time": "2021-08-09T15:20:02.975Z"
   },
   {
    "duration": 443,
    "start_time": "2021-08-09T15:20:03.268Z"
   },
   {
    "duration": 263,
    "start_time": "2021-08-09T15:20:03.713Z"
   },
   {
    "duration": 49,
    "start_time": "2021-08-09T15:20:03.979Z"
   },
   {
    "duration": 81,
    "start_time": "2021-08-09T15:20:34.095Z"
   },
   {
    "duration": 9,
    "start_time": "2021-08-09T15:20:35.521Z"
   },
   {
    "duration": 8,
    "start_time": "2021-08-09T15:20:36.678Z"
   },
   {
    "duration": 41,
    "start_time": "2021-08-09T15:20:37.543Z"
   },
   {
    "duration": 39,
    "start_time": "2021-08-09T15:21:04.361Z"
   },
   {
    "duration": 56,
    "start_time": "2021-08-09T15:21:11.535Z"
   },
   {
    "duration": 11,
    "start_time": "2021-08-09T15:21:30.907Z"
   },
   {
    "duration": 9,
    "start_time": "2021-08-09T15:21:49.507Z"
   },
   {
    "duration": 7,
    "start_time": "2021-08-09T15:21:54.618Z"
   },
   {
    "duration": 9,
    "start_time": "2021-08-09T15:22:16.713Z"
   },
   {
    "duration": 414,
    "start_time": "2021-08-09T15:22:55.541Z"
   },
   {
    "duration": 42,
    "start_time": "2021-08-09T15:23:26.443Z"
   },
   {
    "duration": 66,
    "start_time": "2021-08-09T15:23:27.388Z"
   },
   {
    "duration": 13,
    "start_time": "2021-08-09T15:23:27.883Z"
   },
   {
    "duration": 17,
    "start_time": "2021-08-09T15:23:38.762Z"
   },
   {
    "duration": 7,
    "start_time": "2021-08-09T15:23:40.004Z"
   },
   {
    "duration": 8,
    "start_time": "2021-08-09T15:23:40.281Z"
   },
   {
    "duration": 43,
    "start_time": "2021-08-09T15:23:55.707Z"
   },
   {
    "duration": 58,
    "start_time": "2021-08-09T15:23:56.763Z"
   },
   {
    "duration": 16,
    "start_time": "2021-08-09T15:23:57.652Z"
   },
   {
    "duration": 7,
    "start_time": "2021-08-09T15:23:58.084Z"
   },
   {
    "duration": 10,
    "start_time": "2021-08-09T15:23:58.923Z"
   },
   {
    "duration": 89,
    "start_time": "2021-08-09T15:24:00.117Z"
   },
   {
    "duration": 57,
    "start_time": "2021-08-09T15:24:08.933Z"
   },
   {
    "duration": 68,
    "start_time": "2021-08-09T15:24:10.124Z"
   },
   {
    "duration": 15,
    "start_time": "2021-08-09T15:24:11.004Z"
   },
   {
    "duration": 12,
    "start_time": "2021-08-09T15:24:29.689Z"
   },
   {
    "duration": 7,
    "start_time": "2021-08-09T15:24:32.638Z"
   },
   {
    "duration": 8,
    "start_time": "2021-08-09T15:24:33.294Z"
   },
   {
    "duration": 42,
    "start_time": "2021-08-09T15:25:14.373Z"
   },
   {
    "duration": 58,
    "start_time": "2021-08-09T15:25:15.254Z"
   },
   {
    "duration": 6363,
    "start_time": "2021-08-09T15:26:08.631Z"
   },
   {
    "duration": 9,
    "start_time": "2021-08-09T15:28:23.596Z"
   },
   {
    "duration": 7,
    "start_time": "2021-08-09T15:28:26.387Z"
   },
   {
    "duration": 9,
    "start_time": "2021-08-09T15:28:27.608Z"
   },
   {
    "duration": 10,
    "start_time": "2021-08-09T15:28:47.458Z"
   },
   {
    "duration": 8,
    "start_time": "2021-08-09T15:28:56.914Z"
   },
   {
    "duration": 41,
    "start_time": "2021-08-09T15:29:00.655Z"
   },
   {
    "duration": 58,
    "start_time": "2021-08-09T15:29:01.518Z"
   },
   {
    "duration": 9,
    "start_time": "2021-08-09T15:29:02.247Z"
   },
   {
    "duration": 9,
    "start_time": "2021-08-09T15:29:03.021Z"
   },
   {
    "duration": 8,
    "start_time": "2021-08-09T15:29:04.517Z"
   },
   {
    "duration": 8,
    "start_time": "2021-08-09T15:29:43.476Z"
   },
   {
    "duration": 9,
    "start_time": "2021-08-09T15:29:45.004Z"
   },
   {
    "duration": 9,
    "start_time": "2021-08-09T15:29:45.926Z"
   },
   {
    "duration": 8,
    "start_time": "2021-08-09T15:29:47.506Z"
   },
   {
    "duration": 40,
    "start_time": "2021-08-09T15:30:12.553Z"
   },
   {
    "duration": 54,
    "start_time": "2021-08-09T15:30:13.236Z"
   },
   {
    "duration": 7,
    "start_time": "2021-08-09T15:30:13.467Z"
   },
   {
    "duration": 9,
    "start_time": "2021-08-09T15:30:15.996Z"
   },
   {
    "duration": 8,
    "start_time": "2021-08-09T15:30:18.420Z"
   },
   {
    "duration": 15,
    "start_time": "2021-08-09T15:31:14.532Z"
   },
   {
    "duration": 9,
    "start_time": "2021-08-09T15:31:15.290Z"
   },
   {
    "duration": 8,
    "start_time": "2021-08-09T15:31:15.846Z"
   },
   {
    "duration": 40,
    "start_time": "2021-08-09T15:31:34.649Z"
   },
   {
    "duration": 58,
    "start_time": "2021-08-09T15:31:35.421Z"
   },
   {
    "duration": 1814,
    "start_time": "2021-08-09T15:31:36.129Z"
   },
   {
    "duration": 141,
    "start_time": "2021-08-09T15:31:37.805Z"
   },
   {
    "duration": 41,
    "start_time": "2021-08-09T15:32:17.967Z"
   },
   {
    "duration": 56,
    "start_time": "2021-08-09T15:32:18.663Z"
   },
   {
    "duration": 85,
    "start_time": "2021-08-09T15:32:19.542Z"
   },
   {
    "duration": 277,
    "start_time": "2021-08-09T15:32:25.896Z"
   },
   {
    "duration": 256,
    "start_time": "2021-08-09T15:32:39.277Z"
   },
   {
    "duration": 55,
    "start_time": "2021-08-09T15:32:45.960Z"
   },
   {
    "duration": 81,
    "start_time": "2021-08-09T15:32:46.561Z"
   },
   {
    "duration": 17,
    "start_time": "2021-08-09T15:32:46.735Z"
   },
   {
    "duration": 11,
    "start_time": "2021-08-09T15:32:47.392Z"
   },
   {
    "duration": 9,
    "start_time": "2021-08-09T15:32:53.153Z"
   },
   {
    "duration": 9,
    "start_time": "2021-08-09T15:33:58.313Z"
   },
   {
    "duration": 10,
    "start_time": "2021-08-09T15:34:04.166Z"
   },
   {
    "duration": 11,
    "start_time": "2021-08-09T15:34:21.963Z"
   },
   {
    "duration": 21,
    "start_time": "2021-08-09T15:36:17.499Z"
   },
   {
    "duration": 18,
    "start_time": "2021-08-09T15:36:24.197Z"
   },
   {
    "duration": 5,
    "start_time": "2021-08-09T15:37:50.655Z"
   },
   {
    "duration": 22,
    "start_time": "2021-08-09T15:37:56.991Z"
   },
   {
    "duration": 22,
    "start_time": "2021-08-09T15:37:57.158Z"
   },
   {
    "duration": 157,
    "start_time": "2021-08-09T15:38:14.534Z"
   },
   {
    "duration": 13,
    "start_time": "2021-08-09T15:38:15.775Z"
   },
   {
    "duration": 8,
    "start_time": "2021-08-09T15:38:18.878Z"
   },
   {
    "duration": 56,
    "start_time": "2021-08-09T15:38:20.717Z"
   },
   {
    "duration": 22,
    "start_time": "2021-08-09T15:38:45.558Z"
   },
   {
    "duration": 21,
    "start_time": "2021-08-09T15:38:54.359Z"
   },
   {
    "duration": 11,
    "start_time": "2021-08-09T15:38:57.431Z"
   },
   {
    "duration": 36,
    "start_time": "2021-08-09T15:38:58.257Z"
   },
   {
    "duration": 8,
    "start_time": "2021-08-09T15:38:58.832Z"
   },
   {
    "duration": 8,
    "start_time": "2021-08-09T15:39:00.327Z"
   },
   {
    "duration": 16,
    "start_time": "2021-08-09T15:39:01.600Z"
   },
   {
    "duration": 8,
    "start_time": "2021-08-09T15:39:03.080Z"
   },
   {
    "duration": 4,
    "start_time": "2021-08-09T15:39:05.760Z"
   },
   {
    "duration": 6114,
    "start_time": "2021-08-09T15:39:06.255Z"
   },
   {
    "duration": 68,
    "start_time": "2021-08-09T15:39:12.304Z"
   },
   {
    "duration": 13019,
    "start_time": "2021-08-09T15:39:14.649Z"
   },
   {
    "duration": 79483,
    "start_time": "2021-08-09T15:39:44.486Z"
   },
   {
    "duration": 1066,
    "start_time": "2021-08-09T15:41:19.907Z"
   },
   {
    "duration": 313,
    "start_time": "2021-08-09T15:41:33.428Z"
   },
   {
    "duration": 927,
    "start_time": "2021-08-09T15:41:47.851Z"
   },
   {
    "duration": 1048,
    "start_time": "2021-08-09T15:42:01.124Z"
   },
   {
    "duration": 31087,
    "start_time": "2021-08-09T15:42:38.888Z"
   },
   {
    "duration": 7,
    "start_time": "2021-08-09T15:47:47.715Z"
   },
   {
    "duration": 4,
    "start_time": "2021-08-09T15:48:18.231Z"
   },
   {
    "duration": 130839,
    "start_time": "2021-08-09T15:48:18.933Z"
   },
   {
    "duration": 7,
    "start_time": "2021-08-09T15:50:39.889Z"
   },
   {
    "duration": 4,
    "start_time": "2021-08-09T15:50:40.526Z"
   },
   {
    "duration": 60746,
    "start_time": "2021-08-09T15:50:41.193Z"
   },
   {
    "duration": 1878,
    "start_time": "2021-08-09T15:52:59.290Z"
   },
   {
    "duration": 1852,
    "start_time": "2021-08-09T15:53:09.466Z"
   },
   {
    "duration": 1408,
    "start_time": "2021-08-09T15:53:19.666Z"
   },
   {
    "duration": 2294,
    "start_time": "2021-08-09T15:53:25.496Z"
   },
   {
    "duration": 2510,
    "start_time": "2021-08-09T15:53:32.150Z"
   },
   {
    "duration": 252,
    "start_time": "2021-08-09T15:56:34.505Z"
   },
   {
    "duration": 8121,
    "start_time": "2021-08-09T15:56:40.958Z"
   },
   {
    "duration": 162161,
    "start_time": "2021-08-09T15:56:55.050Z"
   },
   {
    "duration": 42576,
    "start_time": "2021-08-09T16:00:06.695Z"
   },
   {
    "duration": 94,
    "start_time": "2021-08-09T16:01:38.176Z"
   },
   {
    "duration": 279,
    "start_time": "2021-08-09T16:02:25.346Z"
   },
   {
    "duration": 11092,
    "start_time": "2021-08-09T16:02:57.778Z"
   },
   {
    "duration": 9,
    "start_time": "2021-08-09T16:03:16.647Z"
   },
   {
    "duration": 253,
    "start_time": "2021-08-09T16:07:06.093Z"
   },
   {
    "duration": 10839,
    "start_time": "2021-08-09T16:08:31.351Z"
   },
   {
    "duration": 579429,
    "start_time": "2021-08-09T16:09:00.495Z"
   },
   {
    "duration": 158,
    "start_time": "2021-08-09T16:18:39.770Z"
   },
   {
    "duration": 129587,
    "start_time": "2021-08-09T16:18:41.482Z"
   },
   {
    "duration": 53168,
    "start_time": "2021-08-09T16:20:51.073Z"
   },
   {
    "duration": 63558,
    "start_time": "2021-08-09T16:21:56.300Z"
   },
   {
    "duration": 128775,
    "start_time": "2021-08-09T16:23:05.087Z"
   },
   {
    "duration": 2455,
    "start_time": "2021-08-09T16:25:26.913Z"
   },
   {
    "duration": 10,
    "start_time": "2021-08-09T16:25:30.629Z"
   },
   {
    "duration": 2077,
    "start_time": "2021-08-09T16:27:04.386Z"
   },
   {
    "duration": 7,
    "start_time": "2021-08-09T16:27:06.465Z"
   },
   {
    "duration": 2376,
    "start_time": "2021-08-09T16:27:11.487Z"
   },
   {
    "duration": 7,
    "start_time": "2021-08-09T16:27:13.865Z"
   },
   {
    "duration": 36035,
    "start_time": "2021-08-09T16:27:58.412Z"
   },
   {
    "duration": 121911,
    "start_time": "2021-08-09T16:28:36.759Z"
   },
   {
    "duration": 3514,
    "start_time": "2021-08-09T16:32:55.767Z"
   },
   {
    "duration": 78,
    "start_time": "2021-08-09T16:32:59.284Z"
   },
   {
    "duration": 336,
    "start_time": "2021-08-09T16:32:59.536Z"
   },
   {
    "duration": 361171,
    "start_time": "2021-08-09T16:34:29.494Z"
   },
   {
    "duration": 9,
    "start_time": "2021-08-09T16:43:03.105Z"
   },
   {
    "duration": 6419,
    "start_time": "2021-08-09T16:44:23.048Z"
   },
   {
    "duration": 7760,
    "start_time": "2021-08-09T16:44:29.469Z"
   },
   {
    "duration": 678,
    "start_time": "2021-08-09T16:44:41.177Z"
   },
   {
    "duration": 712,
    "start_time": "2021-08-09T16:44:47.268Z"
   },
   {
    "duration": 7571,
    "start_time": "2021-08-09T16:44:51.378Z"
   },
   {
    "duration": 18613,
    "start_time": "2021-08-09T16:45:21.075Z"
   },
   {
    "duration": 26421,
    "start_time": "2021-08-09T16:46:20.202Z"
   },
   {
    "duration": 26289,
    "start_time": "2021-08-09T16:47:19.080Z"
   },
   {
    "duration": 26267,
    "start_time": "2021-08-09T16:47:59.063Z"
   },
   {
    "duration": 29916,
    "start_time": "2021-08-09T16:48:55.593Z"
   },
   {
    "duration": 28299,
    "start_time": "2021-08-09T16:49:35.217Z"
   },
   {
    "duration": 3228,
    "start_time": "2021-08-09T17:17:36.225Z"
   },
   {
    "duration": 100,
    "start_time": "2021-08-09T17:17:39.456Z"
   },
   {
    "duration": 27,
    "start_time": "2021-08-09T17:17:39.559Z"
   },
   {
    "duration": 16,
    "start_time": "2021-08-09T17:17:39.589Z"
   },
   {
    "duration": 18,
    "start_time": "2021-08-09T17:17:39.608Z"
   },
   {
    "duration": 51,
    "start_time": "2021-08-09T17:17:39.629Z"
   },
   {
    "duration": 8,
    "start_time": "2021-08-09T17:17:39.683Z"
   },
   {
    "duration": 11,
    "start_time": "2021-08-09T17:17:39.696Z"
   },
   {
    "duration": 13,
    "start_time": "2021-08-09T17:17:39.710Z"
   },
   {
    "duration": 6,
    "start_time": "2021-08-09T17:17:39.762Z"
   },
   {
    "duration": 17,
    "start_time": "2021-08-09T17:17:39.771Z"
   },
   {
    "duration": 18,
    "start_time": "2021-08-09T17:17:39.790Z"
   },
   {
    "duration": 56,
    "start_time": "2021-08-09T17:17:39.811Z"
   },
   {
    "duration": 13,
    "start_time": "2021-08-09T17:17:39.870Z"
   },
   {
    "duration": 9,
    "start_time": "2021-08-09T17:17:39.886Z"
   },
   {
    "duration": 18,
    "start_time": "2021-08-09T17:17:39.897Z"
   },
   {
    "duration": 11,
    "start_time": "2021-08-09T17:17:39.962Z"
   },
   {
    "duration": 23,
    "start_time": "2021-08-09T17:17:39.975Z"
   },
   {
    "duration": 14,
    "start_time": "2021-08-09T17:17:40.001Z"
   },
   {
    "duration": 54,
    "start_time": "2021-08-09T17:17:40.017Z"
   },
   {
    "duration": 11,
    "start_time": "2021-08-09T17:17:40.073Z"
   },
   {
    "duration": 18,
    "start_time": "2021-08-09T17:17:40.087Z"
   },
   {
    "duration": 59,
    "start_time": "2021-08-09T17:17:40.110Z"
   },
   {
    "duration": 11,
    "start_time": "2021-08-09T17:17:40.174Z"
   },
   {
    "duration": 16,
    "start_time": "2021-08-09T17:17:40.188Z"
   },
   {
    "duration": 19,
    "start_time": "2021-08-09T17:17:40.207Z"
   },
   {
    "duration": 14,
    "start_time": "2021-08-09T17:17:40.264Z"
   },
   {
    "duration": 17,
    "start_time": "2021-08-09T17:17:40.903Z"
   },
   {
    "duration": 13,
    "start_time": "2021-08-09T17:17:41.078Z"
   },
   {
    "duration": 10,
    "start_time": "2021-08-09T17:17:41.235Z"
   },
   {
    "duration": 12,
    "start_time": "2021-08-09T17:17:41.386Z"
   },
   {
    "duration": 8,
    "start_time": "2021-08-09T17:17:41.702Z"
   },
   {
    "duration": 8,
    "start_time": "2021-08-09T17:17:41.863Z"
   },
   {
    "duration": 6,
    "start_time": "2021-08-09T17:17:42.073Z"
   },
   {
    "duration": 10,
    "start_time": "2021-08-09T17:17:42.620Z"
   },
   {
    "duration": 5,
    "start_time": "2021-08-09T17:17:42.747Z"
   },
   {
    "duration": 6,
    "start_time": "2021-08-09T17:17:44.835Z"
   },
   {
    "duration": 8,
    "start_time": "2021-08-09T17:17:44.969Z"
   },
   {
    "duration": 8,
    "start_time": "2021-08-09T17:17:45.119Z"
   },
   {
    "duration": 7,
    "start_time": "2021-08-09T17:17:45.367Z"
   },
   {
    "duration": 5,
    "start_time": "2021-08-09T17:17:45.535Z"
   },
   {
    "duration": 9,
    "start_time": "2021-08-09T17:17:46.183Z"
   },
   {
    "duration": 1238,
    "start_time": "2021-08-09T17:17:47.102Z"
   },
   {
    "duration": 642,
    "start_time": "2021-08-09T17:17:48.343Z"
   },
   {
    "duration": 797,
    "start_time": "2021-08-09T17:17:48.988Z"
   },
   {
    "duration": 1955,
    "start_time": "2021-08-09T17:17:49.787Z"
   },
   {
    "duration": 771,
    "start_time": "2021-08-09T17:17:51.744Z"
   },
   {
    "duration": 462,
    "start_time": "2021-08-09T17:17:52.517Z"
   },
   {
    "duration": 323,
    "start_time": "2021-08-09T17:17:52.982Z"
   },
   {
    "duration": 256,
    "start_time": "2021-08-09T17:17:53.308Z"
   },
   {
    "duration": 409,
    "start_time": "2021-08-09T17:17:53.566Z"
   },
   {
    "duration": 246,
    "start_time": "2021-08-09T17:17:53.978Z"
   },
   {
    "duration": 59,
    "start_time": "2021-08-09T17:17:54.227Z"
   },
   {
    "duration": 57,
    "start_time": "2021-08-09T17:17:54.288Z"
   },
   {
    "duration": 22,
    "start_time": "2021-08-09T17:17:54.363Z"
   },
   {
    "duration": 26,
    "start_time": "2021-08-09T17:17:54.388Z"
   },
   {
    "duration": 124,
    "start_time": "2021-08-09T17:17:54.417Z"
   },
   {
    "duration": 19,
    "start_time": "2021-08-09T17:17:54.543Z"
   },
   {
    "duration": 9,
    "start_time": "2021-08-09T17:17:54.566Z"
   },
   {
    "duration": 39,
    "start_time": "2021-08-09T17:17:55.207Z"
   },
   {
    "duration": 21,
    "start_time": "2021-08-09T17:17:55.295Z"
   },
   {
    "duration": 11,
    "start_time": "2021-08-09T17:17:55.615Z"
   },
   {
    "duration": 35,
    "start_time": "2021-08-09T17:17:58.206Z"
   },
   {
    "duration": 6,
    "start_time": "2021-08-09T17:17:58.244Z"
   },
   {
    "duration": 11,
    "start_time": "2021-08-09T17:17:59.735Z"
   },
   {
    "duration": 20,
    "start_time": "2021-08-09T17:18:03.552Z"
   },
   {
    "duration": 9,
    "start_time": "2021-08-09T17:18:05.065Z"
   },
   {
    "duration": 3758,
    "start_time": "2021-08-09T17:31:54.116Z"
   },
   {
    "duration": 101,
    "start_time": "2021-08-09T17:31:57.877Z"
   },
   {
    "duration": 28,
    "start_time": "2021-08-09T17:31:57.981Z"
   },
   {
    "duration": 15,
    "start_time": "2021-08-09T17:31:58.011Z"
   },
   {
    "duration": 47,
    "start_time": "2021-08-09T17:31:58.028Z"
   },
   {
    "duration": 21,
    "start_time": "2021-08-09T17:31:58.077Z"
   },
   {
    "duration": 8,
    "start_time": "2021-08-09T17:31:58.100Z"
   },
   {
    "duration": 8,
    "start_time": "2021-08-09T17:31:58.112Z"
   },
   {
    "duration": 47,
    "start_time": "2021-08-09T17:31:58.123Z"
   },
   {
    "duration": 11,
    "start_time": "2021-08-09T17:31:58.173Z"
   },
   {
    "duration": 31,
    "start_time": "2021-08-09T17:31:58.186Z"
   },
   {
    "duration": 17,
    "start_time": "2021-08-09T17:31:58.219Z"
   },
   {
    "duration": 34,
    "start_time": "2021-08-09T17:31:58.238Z"
   },
   {
    "duration": 12,
    "start_time": "2021-08-09T17:31:58.275Z"
   },
   {
    "duration": 11,
    "start_time": "2021-08-09T17:31:58.289Z"
   },
   {
    "duration": 10,
    "start_time": "2021-08-09T17:31:58.302Z"
   },
   {
    "duration": 53,
    "start_time": "2021-08-09T17:31:58.315Z"
   },
   {
    "duration": 28,
    "start_time": "2021-08-09T17:31:58.370Z"
   },
   {
    "duration": 17,
    "start_time": "2021-08-09T17:31:58.400Z"
   },
   {
    "duration": 46,
    "start_time": "2021-08-09T17:31:58.419Z"
   },
   {
    "duration": 11,
    "start_time": "2021-08-09T17:31:58.467Z"
   },
   {
    "duration": 12,
    "start_time": "2021-08-09T17:31:58.480Z"
   },
   {
    "duration": 13,
    "start_time": "2021-08-09T17:31:58.497Z"
   },
   {
    "duration": 50,
    "start_time": "2021-08-09T17:31:58.512Z"
   },
   {
    "duration": 10,
    "start_time": "2021-08-09T17:31:58.565Z"
   },
   {
    "duration": 13,
    "start_time": "2021-08-09T17:31:58.578Z"
   },
   {
    "duration": 11,
    "start_time": "2021-08-09T17:31:58.594Z"
   },
   {
    "duration": 55,
    "start_time": "2021-08-09T17:31:58.609Z"
   },
   {
    "duration": 10,
    "start_time": "2021-08-09T17:31:58.760Z"
   },
   {
    "duration": 9,
    "start_time": "2021-08-09T17:31:58.896Z"
   },
   {
    "duration": 12,
    "start_time": "2021-08-09T17:31:59.053Z"
   },
   {
    "duration": 8,
    "start_time": "2021-08-09T17:31:59.344Z"
   },
   {
    "duration": 9,
    "start_time": "2021-08-09T17:31:59.494Z"
   },
   {
    "duration": 7,
    "start_time": "2021-08-09T17:31:59.646Z"
   },
   {
    "duration": 10,
    "start_time": "2021-08-09T17:31:59.787Z"
   },
   {
    "duration": 5,
    "start_time": "2021-08-09T17:31:59.921Z"
   },
   {
    "duration": 7,
    "start_time": "2021-08-09T17:32:00.208Z"
   },
   {
    "duration": 8,
    "start_time": "2021-08-09T17:32:00.352Z"
   },
   {
    "duration": 9,
    "start_time": "2021-08-09T17:32:00.473Z"
   },
   {
    "duration": 6,
    "start_time": "2021-08-09T17:32:00.628Z"
   },
   {
    "duration": 6,
    "start_time": "2021-08-09T17:32:00.754Z"
   },
   {
    "duration": 4,
    "start_time": "2021-08-09T17:32:01.168Z"
   },
   {
    "duration": 877,
    "start_time": "2021-08-09T17:32:01.608Z"
   },
   {
    "duration": 666,
    "start_time": "2021-08-09T17:32:03.217Z"
   },
   {
    "duration": 837,
    "start_time": "2021-08-09T17:32:03.886Z"
   },
   {
    "duration": 2018,
    "start_time": "2021-08-09T17:32:04.726Z"
   },
   {
    "duration": 793,
    "start_time": "2021-08-09T17:32:06.747Z"
   },
   {
    "duration": 481,
    "start_time": "2021-08-09T17:32:07.543Z"
   },
   {
    "duration": 348,
    "start_time": "2021-08-09T17:32:08.028Z"
   },
   {
    "duration": 250,
    "start_time": "2021-08-09T17:32:08.378Z"
   },
   {
    "duration": 424,
    "start_time": "2021-08-09T17:32:08.630Z"
   },
   {
    "duration": 250,
    "start_time": "2021-08-09T17:32:09.056Z"
   },
   {
    "duration": 41,
    "start_time": "2021-08-09T17:32:10.336Z"
   },
   {
    "duration": 56,
    "start_time": "2021-08-09T17:32:11.680Z"
   },
   {
    "duration": 20,
    "start_time": "2021-08-09T17:32:12.233Z"
   },
   {
    "duration": 16,
    "start_time": "2021-08-09T17:32:12.777Z"
   },
   {
    "duration": 141,
    "start_time": "2021-08-09T17:32:13.145Z"
   },
   {
    "duration": 12,
    "start_time": "2021-08-09T17:32:13.554Z"
   },
   {
    "duration": 8,
    "start_time": "2021-08-09T17:32:15.050Z"
   },
   {
    "duration": 61,
    "start_time": "2021-08-09T17:32:15.281Z"
   },
   {
    "duration": 21,
    "start_time": "2021-08-09T17:32:16.278Z"
   },
   {
    "duration": 14,
    "start_time": "2021-08-09T17:32:17.249Z"
   },
   {
    "duration": 40,
    "start_time": "2021-08-09T17:32:17.411Z"
   },
   {
    "duration": 7,
    "start_time": "2021-08-09T17:32:17.592Z"
   },
   {
    "duration": 11,
    "start_time": "2021-08-09T17:32:18.890Z"
   },
   {
    "duration": 19,
    "start_time": "2021-08-09T17:32:19.238Z"
   },
   {
    "duration": 9,
    "start_time": "2021-08-09T17:32:19.458Z"
   },
   {
    "duration": 6,
    "start_time": "2021-08-09T17:32:19.810Z"
   },
   {
    "duration": 8162,
    "start_time": "2021-08-09T17:32:20.009Z"
   },
   {
    "duration": 183,
    "start_time": "2021-08-09T17:32:27.991Z"
   },
   {
    "duration": 182,
    "start_time": "2021-08-09T17:32:27.994Z"
   },
   {
    "duration": 182,
    "start_time": "2021-08-09T17:32:27.996Z"
   },
   {
    "duration": 2128,
    "start_time": "2021-08-09T17:32:34.746Z"
   },
   {
    "duration": 3266,
    "start_time": "2021-08-09T17:41:03.981Z"
   },
   {
    "duration": 99,
    "start_time": "2021-08-09T17:41:07.250Z"
   },
   {
    "duration": 26,
    "start_time": "2021-08-09T17:41:07.352Z"
   },
   {
    "duration": 17,
    "start_time": "2021-08-09T17:41:07.381Z"
   },
   {
    "duration": 17,
    "start_time": "2021-08-09T17:41:07.400Z"
   },
   {
    "duration": 43,
    "start_time": "2021-08-09T17:41:07.419Z"
   },
   {
    "duration": 14,
    "start_time": "2021-08-09T17:41:07.464Z"
   },
   {
    "duration": 9,
    "start_time": "2021-08-09T17:41:07.482Z"
   },
   {
    "duration": 15,
    "start_time": "2021-08-09T17:41:07.493Z"
   },
   {
    "duration": 8,
    "start_time": "2021-08-09T17:41:07.511Z"
   },
   {
    "duration": 50,
    "start_time": "2021-08-09T17:41:07.522Z"
   },
   {
    "duration": 13,
    "start_time": "2021-08-09T17:41:07.575Z"
   },
   {
    "duration": 15,
    "start_time": "2021-08-09T17:41:07.591Z"
   },
   {
    "duration": 23,
    "start_time": "2021-08-09T17:41:07.608Z"
   },
   {
    "duration": 37,
    "start_time": "2021-08-09T17:41:07.634Z"
   },
   {
    "duration": 12,
    "start_time": "2021-08-09T17:41:07.674Z"
   },
   {
    "duration": 15,
    "start_time": "2021-08-09T17:41:07.689Z"
   },
   {
    "duration": 65,
    "start_time": "2021-08-09T17:41:07.707Z"
   },
   {
    "duration": 18,
    "start_time": "2021-08-09T17:41:07.776Z"
   },
   {
    "duration": 36,
    "start_time": "2021-08-09T17:41:07.797Z"
   },
   {
    "duration": 12,
    "start_time": "2021-08-09T17:41:07.835Z"
   },
   {
    "duration": 10,
    "start_time": "2021-08-09T17:41:07.940Z"
   },
   {
    "duration": 11,
    "start_time": "2021-08-09T17:41:08.071Z"
   },
   {
    "duration": 10,
    "start_time": "2021-08-09T17:41:08.220Z"
   },
   {
    "duration": 10,
    "start_time": "2021-08-09T17:41:08.356Z"
   },
   {
    "duration": 11,
    "start_time": "2021-08-09T17:41:08.502Z"
   },
   {
    "duration": 12,
    "start_time": "2021-08-09T17:41:08.646Z"
   },
   {
    "duration": 14,
    "start_time": "2021-08-09T17:41:08.945Z"
   },
   {
    "duration": 10,
    "start_time": "2021-08-09T17:41:09.105Z"
   },
   {
    "duration": 11,
    "start_time": "2021-08-09T17:41:09.274Z"
   },
   {
    "duration": 12,
    "start_time": "2021-08-09T17:41:09.428Z"
   },
   {
    "duration": 8,
    "start_time": "2021-08-09T17:41:09.752Z"
   },
   {
    "duration": 9,
    "start_time": "2021-08-09T17:41:09.898Z"
   },
   {
    "duration": 6,
    "start_time": "2021-08-09T17:41:10.058Z"
   },
   {
    "duration": 10,
    "start_time": "2021-08-09T17:41:10.210Z"
   },
   {
    "duration": 6,
    "start_time": "2021-08-09T17:41:10.513Z"
   },
   {
    "duration": 7,
    "start_time": "2021-08-09T17:41:10.826Z"
   },
   {
    "duration": 10,
    "start_time": "2021-08-09T17:41:11.002Z"
   },
   {
    "duration": 8,
    "start_time": "2021-08-09T17:41:11.145Z"
   },
   {
    "duration": 8,
    "start_time": "2021-08-09T17:41:11.297Z"
   },
   {
    "duration": 6,
    "start_time": "2021-08-09T17:41:11.458Z"
   },
   {
    "duration": 4,
    "start_time": "2021-08-09T17:41:11.921Z"
   },
   {
    "duration": 883,
    "start_time": "2021-08-09T17:41:12.218Z"
   },
   {
    "duration": 677,
    "start_time": "2021-08-09T17:41:13.104Z"
   },
   {
    "duration": 805,
    "start_time": "2021-08-09T17:41:13.783Z"
   },
   {
    "duration": 1959,
    "start_time": "2021-08-09T17:41:14.591Z"
   },
   {
    "duration": 763,
    "start_time": "2021-08-09T17:41:16.561Z"
   },
   {
    "duration": 454,
    "start_time": "2021-08-09T17:41:17.327Z"
   },
   {
    "duration": 324,
    "start_time": "2021-08-09T17:41:17.784Z"
   },
   {
    "duration": 252,
    "start_time": "2021-08-09T17:41:18.110Z"
   },
   {
    "duration": 421,
    "start_time": "2021-08-09T17:41:18.364Z"
   },
   {
    "duration": 252,
    "start_time": "2021-08-09T17:41:18.787Z"
   },
   {
    "duration": 50,
    "start_time": "2021-08-09T17:41:19.041Z"
   },
   {
    "duration": 72,
    "start_time": "2021-08-09T17:41:19.094Z"
   },
   {
    "duration": 19,
    "start_time": "2021-08-09T17:41:19.169Z"
   },
   {
    "duration": 15,
    "start_time": "2021-08-09T17:41:19.190Z"
   },
   {
    "duration": 127,
    "start_time": "2021-08-09T17:41:19.208Z"
   },
   {
    "duration": 9,
    "start_time": "2021-08-09T17:41:19.338Z"
   },
   {
    "duration": 17,
    "start_time": "2021-08-09T17:41:19.349Z"
   },
   {
    "duration": 41,
    "start_time": "2021-08-09T17:41:19.368Z"
   },
   {
    "duration": 14,
    "start_time": "2021-08-09T17:41:19.412Z"
   },
   {
    "duration": 10,
    "start_time": "2021-08-09T17:41:19.573Z"
   },
   {
    "duration": 27,
    "start_time": "2021-08-09T17:41:20.956Z"
   },
   {
    "duration": 6,
    "start_time": "2021-08-09T17:41:21.185Z"
   },
   {
    "duration": 8,
    "start_time": "2021-08-09T17:41:21.651Z"
   },
   {
    "duration": 15,
    "start_time": "2021-08-09T17:41:22.938Z"
   },
   {
    "duration": 6,
    "start_time": "2021-08-09T17:41:24.627Z"
   },
   {
    "duration": 2115,
    "start_time": "2021-08-09T17:41:30.763Z"
   },
   {
    "duration": 137817,
    "start_time": "2021-08-09T17:41:32.881Z"
   },
   {
    "duration": 42461,
    "start_time": "2021-08-09T17:44:48.851Z"
   },
   {
    "duration": 12514,
    "start_time": "2021-08-09T17:46:05.213Z"
   },
   {
    "duration": 12242,
    "start_time": "2021-08-09T17:46:20.274Z"
   },
   {
    "duration": 8800,
    "start_time": "2021-08-09T17:46:37.776Z"
   },
   {
    "duration": 6815,
    "start_time": "2021-08-09T17:46:52.414Z"
   },
   {
    "duration": 27831,
    "start_time": "2021-08-09T17:47:11.750Z"
   },
   {
    "duration": 34922,
    "start_time": "2021-08-09T17:47:55.359Z"
   },
   {
    "duration": 22647,
    "start_time": "2021-08-09T17:48:39.864Z"
   },
   {
    "duration": 22802,
    "start_time": "2021-08-09T17:49:14.201Z"
   },
   {
    "duration": 22786,
    "start_time": "2021-08-09T17:49:45.559Z"
   },
   {
    "duration": 25190,
    "start_time": "2021-08-09T17:50:17.119Z"
   },
   {
    "duration": 10870,
    "start_time": "2021-08-09T17:50:46.166Z"
   },
   {
    "duration": 34141,
    "start_time": "2021-08-09T17:50:58.548Z"
   },
   {
    "duration": 26,
    "start_time": "2021-08-09T17:52:32.211Z"
   },
   {
    "duration": 16,
    "start_time": "2021-08-09T17:52:37.492Z"
   },
   {
    "duration": 6,
    "start_time": "2021-08-09T17:54:58.941Z"
   },
   {
    "duration": 4,
    "start_time": "2021-08-09T17:54:59.237Z"
   },
   {
    "duration": 12854,
    "start_time": "2021-08-09T17:55:00.420Z"
   },
   {
    "duration": 9,
    "start_time": "2021-08-09T17:55:20.037Z"
   },
   {
    "duration": 6156,
    "start_time": "2021-08-09T17:55:21.348Z"
   },
   {
    "duration": 1170,
    "start_time": "2021-08-09T17:55:27.508Z"
   },
   {
    "duration": 125531,
    "start_time": "2021-08-09T17:55:29.933Z"
   },
   {
    "duration": -1090,
    "start_time": "2021-08-09T17:57:36.557Z"
   },
   {
    "duration": 134791,
    "start_time": "2021-08-09T17:57:38.385Z"
   },
   {
    "duration": 32357,
    "start_time": "2021-08-09T17:59:53.178Z"
   },
   {
    "duration": 466,
    "start_time": "2021-08-09T18:00:25.539Z"
   },
   {
    "duration": 33729,
    "start_time": "2021-08-09T18:03:35.965Z"
   },
   {
    "duration": 34850,
    "start_time": "2021-08-09T18:04:20.980Z"
   },
   {
    "duration": 35551,
    "start_time": "2021-08-09T18:04:58.392Z"
   },
   {
    "duration": 34346,
    "start_time": "2021-08-09T18:05:58.147Z"
   },
   {
    "duration": 39443,
    "start_time": "2021-08-09T18:06:41.903Z"
   },
   {
    "duration": 32782,
    "start_time": "2021-08-09T18:08:21.488Z"
   },
   {
    "duration": 33957,
    "start_time": "2021-08-09T18:08:59.006Z"
   },
   {
    "duration": 1560,
    "start_time": "2021-08-10T12:28:49.208Z"
   },
   {
    "duration": 2020,
    "start_time": "2021-08-10T12:28:48.750Z"
   },
   {
    "duration": 2013,
    "start_time": "2021-08-10T12:28:48.758Z"
   },
   {
    "duration": 2004,
    "start_time": "2021-08-10T12:28:48.768Z"
   },
   {
    "duration": 1936,
    "start_time": "2021-08-10T12:28:48.837Z"
   },
   {
    "duration": 1909,
    "start_time": "2021-08-10T12:28:48.865Z"
   },
   {
    "duration": 1908,
    "start_time": "2021-08-10T12:28:48.867Z"
   },
   {
    "duration": 1908,
    "start_time": "2021-08-10T12:28:48.868Z"
   },
   {
    "duration": 288,
    "start_time": "2021-08-10T12:28:50.817Z"
   },
   {
    "duration": 1980,
    "start_time": "2021-08-10T12:28:49.127Z"
   },
   {
    "duration": 264,
    "start_time": "2021-08-10T12:28:51.271Z"
   },
   {
    "duration": 2012,
    "start_time": "2021-08-10T12:28:49.524Z"
   },
   {
    "duration": 256,
    "start_time": "2021-08-10T12:28:51.607Z"
   },
   {
    "duration": 2015,
    "start_time": "2021-08-10T12:28:49.851Z"
   },
   {
    "duration": 273,
    "start_time": "2021-08-10T12:28:51.912Z"
   },
   {
    "duration": 1981,
    "start_time": "2021-08-10T12:28:50.206Z"
   },
   {
    "duration": 251,
    "start_time": "2021-08-10T12:28:52.215Z"
   },
   {
    "duration": 305,
    "start_time": "2021-08-10T12:28:52.543Z"
   },
   {
    "duration": 8287,
    "start_time": "2021-08-10T12:29:02.567Z"
   },
   {
    "duration": 6862,
    "start_time": "2021-08-10T12:29:10.856Z"
   },
   {
    "duration": 3267,
    "start_time": "2021-08-10T12:29:17.720Z"
   },
   {
    "duration": 3,
    "start_time": "2021-08-10T12:29:20.990Z"
   },
   {
    "duration": 3,
    "start_time": "2021-08-10T12:29:27.773Z"
   },
   {
    "duration": 1069,
    "start_time": "2021-08-10T12:29:39.484Z"
   },
   {
    "duration": 573,
    "start_time": "2021-08-10T12:29:41.541Z"
   },
   {
    "duration": 87,
    "start_time": "2021-08-10T12:29:42.116Z"
   },
   {
    "duration": 16,
    "start_time": "2021-08-10T12:29:42.301Z"
   },
   {
    "duration": 10,
    "start_time": "2021-08-10T12:29:42.459Z"
   },
   {
    "duration": 12,
    "start_time": "2021-08-10T12:29:42.574Z"
   },
   {
    "duration": 14,
    "start_time": "2021-08-10T12:29:42.720Z"
   },
   {
    "duration": 5,
    "start_time": "2021-08-10T12:29:42.867Z"
   },
   {
    "duration": 6,
    "start_time": "2021-08-10T12:29:43.036Z"
   },
   {
    "duration": 8,
    "start_time": "2021-08-10T12:29:43.159Z"
   },
   {
    "duration": 5,
    "start_time": "2021-08-10T12:29:43.308Z"
   },
   {
    "duration": 10,
    "start_time": "2021-08-10T12:29:43.588Z"
   },
   {
    "duration": 9,
    "start_time": "2021-08-10T12:29:43.876Z"
   },
   {
    "duration": 10,
    "start_time": "2021-08-10T12:29:44.037Z"
   },
   {
    "duration": 13,
    "start_time": "2021-08-10T12:29:44.184Z"
   },
   {
    "duration": 7,
    "start_time": "2021-08-10T12:29:44.348Z"
   },
   {
    "duration": 8,
    "start_time": "2021-08-10T12:29:44.498Z"
   },
   {
    "duration": 8,
    "start_time": "2021-08-10T12:29:44.641Z"
   },
   {
    "duration": 11,
    "start_time": "2021-08-10T12:29:44.934Z"
   },
   {
    "duration": 9,
    "start_time": "2021-08-10T12:29:45.086Z"
   },
   {
    "duration": 10,
    "start_time": "2021-08-10T12:29:45.238Z"
   },
   {
    "duration": 8,
    "start_time": "2021-08-10T12:29:45.385Z"
   },
   {
    "duration": 8,
    "start_time": "2021-08-10T12:29:45.530Z"
   },
   {
    "duration": 7,
    "start_time": "2021-08-10T12:29:45.685Z"
   },
   {
    "duration": 8,
    "start_time": "2021-08-10T12:29:45.825Z"
   },
   {
    "duration": 8,
    "start_time": "2021-08-10T12:29:45.975Z"
   },
   {
    "duration": 7,
    "start_time": "2021-08-10T12:29:46.121Z"
   },
   {
    "duration": 7,
    "start_time": "2021-08-10T12:29:46.279Z"
   },
   {
    "duration": 8,
    "start_time": "2021-08-10T12:29:46.588Z"
   },
   {
    "duration": 7,
    "start_time": "2021-08-10T12:29:46.724Z"
   },
   {
    "duration": 6,
    "start_time": "2021-08-10T12:29:46.858Z"
   },
   {
    "duration": 7,
    "start_time": "2021-08-10T12:29:47.006Z"
   },
   {
    "duration": 991,
    "start_time": "2021-08-10T12:29:47.300Z"
   },
   {
    "duration": 1317,
    "start_time": "2021-08-10T12:29:48.293Z"
   },
   {
    "duration": 309,
    "start_time": "2021-08-10T12:29:49.613Z"
   },
   {
    "duration": 9,
    "start_time": "2021-08-10T12:29:49.924Z"
   },
   {
    "duration": 6,
    "start_time": "2021-08-10T12:29:49.934Z"
   },
   {
    "duration": 8,
    "start_time": "2021-08-10T12:29:49.942Z"
   },
   {
    "duration": 9,
    "start_time": "2021-08-10T12:29:49.951Z"
   },
   {
    "duration": 6,
    "start_time": "2021-08-10T12:29:49.962Z"
   },
   {
    "duration": 10,
    "start_time": "2021-08-10T12:29:49.969Z"
   },
   {
    "duration": 5,
    "start_time": "2021-08-10T12:29:49.980Z"
   },
   {
    "duration": 3,
    "start_time": "2021-08-10T12:29:49.987Z"
   },
   {
    "duration": 440,
    "start_time": "2021-08-10T12:29:49.992Z"
   },
   {
    "duration": 393,
    "start_time": "2021-08-10T12:29:50.434Z"
   },
   {
    "duration": 449,
    "start_time": "2021-08-10T12:29:50.829Z"
   },
   {
    "duration": 1123,
    "start_time": "2021-08-10T12:29:51.280Z"
   },
   {
    "duration": 455,
    "start_time": "2021-08-10T12:29:52.405Z"
   },
   {
    "duration": 271,
    "start_time": "2021-08-10T12:29:52.862Z"
   },
   {
    "duration": 28,
    "start_time": "2021-08-10T12:30:02.341Z"
   },
   {
    "duration": 37,
    "start_time": "2021-08-10T12:30:03.501Z"
   },
   {
    "duration": 12,
    "start_time": "2021-08-10T12:30:04.325Z"
   },
   {
    "duration": 11,
    "start_time": "2021-08-10T12:30:04.414Z"
   },
   {
    "duration": 59,
    "start_time": "2021-08-10T12:30:05.381Z"
   },
   {
    "duration": 6,
    "start_time": "2021-08-10T12:30:05.918Z"
   },
   {
    "duration": 5,
    "start_time": "2021-08-10T12:30:06.452Z"
   },
   {
    "duration": 23,
    "start_time": "2021-08-10T12:30:07.366Z"
   },
   {
    "duration": 10,
    "start_time": "2021-08-10T12:30:08.406Z"
   },
   {
    "duration": 8,
    "start_time": "2021-08-10T12:30:13.717Z"
   },
   {
    "duration": 21,
    "start_time": "2021-08-10T12:30:16.430Z"
   },
   {
    "duration": 4,
    "start_time": "2021-08-10T12:30:17.293Z"
   },
   {
    "duration": 5,
    "start_time": "2021-08-10T12:30:21.077Z"
   },
   {
    "duration": 10,
    "start_time": "2021-08-10T12:30:21.165Z"
   },
   {
    "duration": 4,
    "start_time": "2021-08-10T12:30:21.750Z"
   },
   {
    "duration": 27284,
    "start_time": "2021-08-10T12:30:34.638Z"
   },
   {
    "duration": 86,
    "start_time": "2021-08-10T12:33:43.774Z"
   },
   {
    "duration": 19564,
    "start_time": "2021-08-10T12:33:54.527Z"
   },
   {
    "duration": 26426,
    "start_time": "2021-08-10T12:34:20.004Z"
   },
   {
    "duration": 246,
    "start_time": "2021-08-10T12:35:16.677Z"
   },
   {
    "duration": 26903,
    "start_time": "2021-08-10T12:35:37.941Z"
   },
   {
    "duration": 25440,
    "start_time": "2021-08-10T12:37:57.673Z"
   },
   {
    "duration": 86,
    "start_time": "2021-08-10T12:40:30.681Z"
   },
   {
    "duration": 84,
    "start_time": "2021-08-10T12:41:13.054Z"
   },
   {
    "duration": 9,
    "start_time": "2021-08-10T12:41:31.830Z"
   },
   {
    "duration": 1448,
    "start_time": "2021-08-10T12:41:45.503Z"
   },
   {
    "duration": 32122,
    "start_time": "2021-08-10T12:41:46.953Z"
   },
   {
    "duration": 11,
    "start_time": "2021-08-10T12:42:19.077Z"
   },
   {
    "duration": 13,
    "start_time": "2021-08-10T12:42:36.197Z"
   },
   {
    "duration": 2162,
    "start_time": "2021-08-10T12:46:19.678Z"
   },
   {
    "duration": 26097,
    "start_time": "2021-08-10T12:47:10.710Z"
   },
   {
    "duration": 2193,
    "start_time": "2021-08-10T12:49:17.753Z"
   },
   {
    "duration": 2166,
    "start_time": "2021-08-10T12:49:19.948Z"
   },
   {
    "duration": 2423,
    "start_time": "2021-08-10T12:49:22.116Z"
   },
   {
    "duration": 1133,
    "start_time": "2021-08-10T12:49:24.541Z"
   },
   {
    "duration": 565,
    "start_time": "2021-08-10T12:49:25.676Z"
   },
   {
    "duration": 89,
    "start_time": "2021-08-10T12:49:26.243Z"
   },
   {
    "duration": 16,
    "start_time": "2021-08-10T12:49:26.333Z"
   },
   {
    "duration": 22,
    "start_time": "2021-08-10T12:49:26.351Z"
   },
   {
    "duration": 28,
    "start_time": "2021-08-10T12:49:26.376Z"
   },
   {
    "duration": 13,
    "start_time": "2021-08-10T12:49:26.406Z"
   },
   {
    "duration": 8,
    "start_time": "2021-08-10T12:49:26.421Z"
   },
   {
    "duration": 9,
    "start_time": "2021-08-10T12:49:26.430Z"
   },
   {
    "duration": 9,
    "start_time": "2021-08-10T12:49:26.440Z"
   },
   {
    "duration": 6,
    "start_time": "2021-08-10T12:49:26.451Z"
   },
   {
    "duration": 25,
    "start_time": "2021-08-10T12:49:26.458Z"
   },
   {
    "duration": 15,
    "start_time": "2021-08-10T12:49:26.485Z"
   },
   {
    "duration": 20,
    "start_time": "2021-08-10T12:49:26.502Z"
   },
   {
    "duration": 13,
    "start_time": "2021-08-10T12:49:26.524Z"
   },
   {
    "duration": 10,
    "start_time": "2021-08-10T12:49:26.538Z"
   },
   {
    "duration": 66,
    "start_time": "2021-08-10T12:49:26.550Z"
   },
   {
    "duration": 15,
    "start_time": "2021-08-10T12:49:26.617Z"
   },
   {
    "duration": 19,
    "start_time": "2021-08-10T12:49:26.633Z"
   },
   {
    "duration": 19,
    "start_time": "2021-08-10T12:49:26.654Z"
   },
   {
    "duration": 19,
    "start_time": "2021-08-10T12:49:26.674Z"
   },
   {
    "duration": 14,
    "start_time": "2021-08-10T12:49:26.695Z"
   },
   {
    "duration": 10,
    "start_time": "2021-08-10T12:49:26.711Z"
   },
   {
    "duration": 15,
    "start_time": "2021-08-10T12:49:26.725Z"
   },
   {
    "duration": 16,
    "start_time": "2021-08-10T12:49:26.742Z"
   },
   {
    "duration": 12,
    "start_time": "2021-08-10T12:49:26.759Z"
   },
   {
    "duration": 18,
    "start_time": "2021-08-10T12:49:26.773Z"
   },
   {
    "duration": 9,
    "start_time": "2021-08-10T12:49:26.793Z"
   },
   {
    "duration": 20,
    "start_time": "2021-08-10T12:49:26.804Z"
   },
   {
    "duration": 8,
    "start_time": "2021-08-10T12:49:26.825Z"
   },
   {
    "duration": 11,
    "start_time": "2021-08-10T12:49:26.835Z"
   },
   {
    "duration": 14,
    "start_time": "2021-08-10T12:49:26.848Z"
   },
   {
    "duration": 13,
    "start_time": "2021-08-10T12:49:26.863Z"
   },
   {
    "duration": 12,
    "start_time": "2021-08-10T12:49:26.878Z"
   },
   {
    "duration": 8,
    "start_time": "2021-08-10T12:49:26.891Z"
   },
   {
    "duration": 20,
    "start_time": "2021-08-10T12:49:26.901Z"
   },
   {
    "duration": 7,
    "start_time": "2021-08-10T12:49:26.922Z"
   },
   {
    "duration": 14,
    "start_time": "2021-08-10T12:49:26.931Z"
   },
   {
    "duration": 15,
    "start_time": "2021-08-10T12:49:26.946Z"
   },
   {
    "duration": 23,
    "start_time": "2021-08-10T12:49:26.963Z"
   },
   {
    "duration": 17,
    "start_time": "2021-08-10T12:49:26.988Z"
   },
   {
    "duration": 17,
    "start_time": "2021-08-10T12:49:27.006Z"
   },
   {
    "duration": 16,
    "start_time": "2021-08-10T12:49:27.024Z"
   },
   {
    "duration": 431,
    "start_time": "2021-08-10T12:49:27.042Z"
   },
   {
    "duration": 362,
    "start_time": "2021-08-10T12:49:27.474Z"
   },
   {
    "duration": 444,
    "start_time": "2021-08-10T12:49:27.841Z"
   },
   {
    "duration": 1067,
    "start_time": "2021-08-10T12:49:28.287Z"
   },
   {
    "duration": 424,
    "start_time": "2021-08-10T12:49:29.356Z"
   },
   {
    "duration": 254,
    "start_time": "2021-08-10T12:49:29.781Z"
   },
   {
    "duration": 186,
    "start_time": "2021-08-10T12:49:30.040Z"
   },
   {
    "duration": 233,
    "start_time": "2021-08-10T12:49:30.228Z"
   },
   {
    "duration": 181,
    "start_time": "2021-08-10T12:49:30.463Z"
   },
   {
    "duration": 138,
    "start_time": "2021-08-10T12:49:30.645Z"
   },
   {
    "duration": 23,
    "start_time": "2021-08-10T12:49:30.785Z"
   },
   {
    "duration": 48,
    "start_time": "2021-08-10T12:49:30.810Z"
   },
   {
    "duration": 12,
    "start_time": "2021-08-10T12:49:30.860Z"
   },
   {
    "duration": 23,
    "start_time": "2021-08-10T12:49:30.874Z"
   },
   {
    "duration": 75,
    "start_time": "2021-08-10T12:49:30.899Z"
   },
   {
    "duration": 8,
    "start_time": "2021-08-10T12:49:30.976Z"
   },
   {
    "duration": 20,
    "start_time": "2021-08-10T12:49:30.985Z"
   },
   {
    "duration": 42,
    "start_time": "2021-08-10T12:49:31.007Z"
   },
   {
    "duration": 9,
    "start_time": "2021-08-10T12:49:31.050Z"
   },
   {
    "duration": 20,
    "start_time": "2021-08-10T12:49:31.061Z"
   },
   {
    "duration": 25,
    "start_time": "2021-08-10T12:49:31.083Z"
   },
   {
    "duration": 4,
    "start_time": "2021-08-10T12:49:31.109Z"
   },
   {
    "duration": 14,
    "start_time": "2021-08-10T12:49:31.114Z"
   },
   {
    "duration": 15,
    "start_time": "2021-08-10T12:49:31.129Z"
   },
   {
    "duration": 10,
    "start_time": "2021-08-10T12:49:31.145Z"
   },
   {
    "duration": 18,
    "start_time": "2021-08-10T12:49:31.157Z"
   },
   {
    "duration": 9174,
    "start_time": "2021-08-10T12:49:31.177Z"
   },
   {
    "duration": 93588,
    "start_time": "2021-08-10T12:49:40.353Z"
   },
   {
    "duration": 6,
    "start_time": "2021-08-10T12:51:13.943Z"
   },
   {
    "duration": 3786,
    "start_time": "2021-08-10T12:51:13.951Z"
   },
   {
    "duration": 1917,
    "start_time": "2021-08-10T12:51:17.740Z"
   },
   {
    "duration": 41116,
    "start_time": "2021-08-10T12:51:19.659Z"
   },
   {
    "duration": 282,
    "start_time": "2021-08-10T12:52:00.776Z"
   },
   {
    "duration": 16,
    "start_time": "2021-08-10T12:52:01.060Z"
   },
   {
    "duration": 9,
    "start_time": "2021-08-10T12:52:01.081Z"
   }
  ],
  "kernelspec": {
   "display_name": "Python 3",
   "language": "python",
   "name": "python3"
  },
  "language_info": {
   "codemirror_mode": {
    "name": "ipython",
    "version": 3
   },
   "file_extension": ".py",
   "mimetype": "text/x-python",
   "name": "python",
   "nbconvert_exporter": "python",
   "pygments_lexer": "ipython3",
   "version": "3.7.8"
  },
  "toc": {
   "base_numbering": 1,
   "nav_menu": {},
   "number_sections": true,
   "sideBar": true,
   "skip_h1_title": true,
   "title_cell": "Table of Contents",
   "title_sidebar": "Contents",
   "toc_cell": false,
   "toc_position": {},
   "toc_section_display": true,
   "toc_window_display": false
  }
 },
 "nbformat": 4,
 "nbformat_minor": 2
}
